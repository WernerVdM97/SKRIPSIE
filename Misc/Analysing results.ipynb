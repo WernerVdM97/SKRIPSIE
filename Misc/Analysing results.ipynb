{
 "cells": [
  {
   "cell_type": "code",
   "execution_count": 1,
   "metadata": {},
   "outputs": [
    {
     "name": "stderr",
     "output_type": "stream",
     "text": [
      "/home/werner/.local/lib/python3.6/site-packages/tqdm/autonotebook/__init__.py:18: TqdmExperimentalWarning: Using `tqdm.autonotebook.tqdm` in notebook mode. Use `tqdm.tqdm` instead to force console mode (e.g. in jupyter console)\n",
      "  \" (e.g. in jupyter console)\", TqdmExperimentalWarning)\n"
     ]
    },
    {
     "name": "stdout",
     "output_type": "stream",
     "text": [
      "GeForce GTX 1060 6GB\n",
      "True\n"
     ]
    }
   ],
   "source": [
    "%matplotlib inline\n",
    "import matplotlib.pyplot as plt\n",
    "\n",
    "from tqdm import tqdm\n",
    "from tqdm.autonotebook import tqdm\n",
    "tqdm.pandas()\n",
    "\n",
    "import numpy as np\n",
    "import arpa\n",
    "\n",
    "#import pynlpl.lm.lm as pyn\n",
    "#import pynlpl.lm.srilm as pynLM\n",
    "\n",
    "import torch.nn as nn\n",
    "import torch\n",
    "\n",
    "device = torch.device(\"cuda:0\" if torch.cuda.is_available() else \"cpu\")\n",
    "print(torch.cuda.get_device_name(0))\n",
    "print(torch.cuda.is_available())"
   ]
  },
  {
   "cell_type": "markdown",
   "metadata": {},
   "source": [
    "# Load NNs"
   ]
  },
  {
   "cell_type": "code",
   "execution_count": 2,
   "metadata": {},
   "outputs": [
    {
     "name": "stdout",
     "output_type": "stream",
     "text": [
      "Net1(\n",
      "  (fc1): Linear(in_features=4, out_features=4, bias=True)\n",
      "  (fc3): Linear(in_features=4, out_features=3, bias=True)\n",
      "  (fc4): Linear(in_features=3, out_features=1, bias=True)\n",
      ")\n",
      "Net2(\n",
      "  (fc1): Linear(in_features=5, out_features=5, bias=True)\n",
      "  (fc2): Linear(in_features=5, out_features=4, bias=True)\n",
      "  (fc3): Linear(in_features=4, out_features=1, bias=True)\n",
      ")\n"
     ]
    }
   ],
   "source": [
    "class Net1(nn.Module):\n",
    "    def __init__(self):\n",
    "        super(Net1, self).__init__()\n",
    "        self.fc1 = nn.Linear(4, 4)\n",
    "        #self.fc2 = nn.Linear(4, 4)\n",
    "        self.fc3 = nn.Linear(4, 3)\n",
    "        self.fc4 = nn.Linear(3, 1)\n",
    "\n",
    "        \n",
    "        \n",
    "    def forward(self, x):\n",
    "        x = torch.sigmoid(self.fc1(x))\n",
    "        #x = torch.sigmoid(self.fc2(x))\n",
    "        x = torch.sigmoid(self.fc3(x)) \n",
    "        x = torch.sigmoid(self.fc4(x)) \n",
    "        return x\n",
    "    \n",
    "class Net2(nn.Module):\n",
    "    def __init__(self):\n",
    "        super(Net2, self).__init__()\n",
    "        self.fc1 = nn.Linear(5, 5)\n",
    "        self.fc2 = nn.Linear(5, 4)\n",
    "        self.fc3 = nn.Linear(4, 1)\n",
    "\n",
    "        \n",
    "    def forward(self, x):\n",
    "        x = torch.sigmoid(self.fc1(x))\n",
    "        x = torch.sigmoid(self.fc2(x))\n",
    "        x = torch.sigmoid(self.fc3(x)) \n",
    "        return x   \n",
    "\n",
    "net1 = Net1().cuda()\n",
    "net1.load_state_dict(torch.load('NN saves/4431_lr=0.03_MAE'))\n",
    "print(net1.eval())\n",
    "\n",
    "net2 = Net2().cuda()\n",
    "net2.load_state_dict(torch.load('NN saves/5541_NN'))\n",
    "print(net2.eval())"
   ]
  },
  {
   "cell_type": "code",
   "execution_count": 4,
   "metadata": {},
   "outputs": [
    {
     "name": "stdout",
     "output_type": "stream",
     "text": [
      "Custom prob: 0.048909347504377365\n",
      "MLE:tensor(0.0600, device='cuda:0')\n"
     ]
    }
   ],
   "source": [
    "#prefix - trigram - (n-1)-gram - (n-2)-gram - (pre-prefix)\n",
    "\n",
    "inpt = torch.tensor([[50, 3, 50, 1000, 1000]],device=device).float()\n",
    "inpt = 1/inpt\n",
    "out = float(net2(inpt))\n",
    "print('Custom prob: ' + str(out))\n",
    "print('MLE:' + str(inpt[0][0]/inpt[0][1]))"
   ]
  },
  {
   "cell_type": "code",
   "execution_count": 13,
   "metadata": {},
   "outputs": [
    {
     "data": {
      "image/png": "[encoded data removed]",
      "text/plain": [
       "<Figure size 432x288 with 1 Axes>"
      ]
     },
     "metadata": {
      "needs_background": "light"
     },
     "output_type": "display_data"
    }
   ],
   "source": [
    "#prefix - trigram - (n-1)-gram - (n-2)-gram - (pre-prefix)\n",
    "\n",
    "l =200\n",
    "\n",
    "outs = np.zeros(l)\n",
    "mle = np.zeros(l)\n",
    "x_axis = np.zeros(l)\n",
    "prc = np.zeros(l)\n",
    "\n",
    "for i in range(l):\n",
    "    x = i + 3\n",
    "    inpt = torch.tensor([[x , 2, x, 10000, 10000]],device=device).float()\n",
    "    mle[i] = inpt[0][1]/inpt[0][0]\n",
    "    inpt = 1/inpt\n",
    "    outs[i] = float(net2(inpt))\n",
    "    x_axis[i] = x\n",
    "    prc[i] = 100*(mle[i]-outs[i])/mle[i]\n",
    "\n",
    "plt.plot(x_axis, prc, c = 'green')\n",
    "plt.ylabel('Percentage Decrease')\n",
    "plt.xlabel('Prefix Count')\n",
    "plt.show()\n",
    "#plt.plot(x_axis, outs, c = 'blue')\n",
    "#plt.plot(x_axis, mle, c = 'red')\n",
    "#plt.show()"
   ]
  },
  {
   "cell_type": "code",
   "execution_count": 16,
   "metadata": {},
   "outputs": [
    {
     "data": {
      "image/png": "[encoded data removed]",
      "text/plain": [
       "<Figure size 432x288 with 1 Axes>"
      ]
     },
     "metadata": {
      "needs_background": "light"
     },
     "output_type": "display_data"
    },
    {
     "data": {
      "image/png": "[encoded data removed]",
      "text/plain": [
       "<Figure size 432x288 with 1 Axes>"
      ]
     },
     "metadata": {
      "needs_background": "light"
     },
     "output_type": "display_data"
    }
   ],
   "source": [
    "#prefix - trigram - (n-1)-gram - (n-2)-gram - (pre-prefix)\n",
    "\n",
    "l = 200\n",
    "\n",
    "outs = np.zeros(l)\n",
    "mle = np.zeros(l)\n",
    "x_axis = np.zeros(l)\n",
    "prc = np.zeros(l)\n",
    "\n",
    "for i in range(l):\n",
    "    x = i + 5\n",
    "    inpt = torch.tensor([[x , 4, 4, 10000, 10000]],device=device).float()\n",
    "    mle[i] = inpt[0][1]/inpt[0][0]\n",
    "    inpt = 1/inpt\n",
    "    outs[i] = float(net2(inpt))\n",
    "    x_axis[i] = x\n",
    "    prc[i] = 100*(mle[i]-outs[i])/mle[i]\n",
    "\n",
    "plt.plot(x_axis, prc, c = 'green')\n",
    "plt.ylabel('Decrease in Probability (%)')\n",
    "plt.xlabel('Prefix Count')\n",
    "plt.show()\n",
    "plt.plot(x_axis, outs, c = 'blue')\n",
    "plt.plot(x_axis, mle, c = 'red')\n",
    "plt.ylabel('Probability')\n",
    "plt.xlabel('Prefix Count')\n",
    "plt.show()"
   ]
  },
  {
   "cell_type": "code",
   "execution_count": 79,
   "metadata": {},
   "outputs": [
    {
     "data": {
      "image/png": "[encoded data removed]",
      "text/plain": [
       "<Figure size 432x288 with 1 Axes>"
      ]
     },
     "metadata": {
      "needs_background": "light"
     },
     "output_type": "display_data"
    }
   ],
   "source": [
    "#prefix - trigram - (n-1)-gram - (n-2)-gram - (pre-prefix)\n",
    "\n",
    "l = 26\n",
    "\n",
    "outs = np.zeros(l)\n",
    "mle = np.zeros(l)\n",
    "x_axis = np.zeros(l)\n",
    "\n",
    "for i in range(l):\n",
    "    x = i + 1\n",
    "    inpt = torch.tensor([[x*2 , x*1, x*2, 10000, 10000]],device=device).float()\n",
    "    mle[i] = inpt[0][1]/inpt[0][0]\n",
    "    inpt = 1/inpt\n",
    "    outs[i] = float(net2(inpt))\n",
    "    x_axis[i] = x\n",
    "\n",
    "\n",
    "plt.plot(x_axis, outs, c = 'red')\n",
    "plt.plot(x_axis, mle, c = 'blue')\n",
    "plt.show()"
   ]
  },
  {
   "cell_type": "code",
   "execution_count": 15,
   "metadata": {},
   "outputs": [
    {
     "name": "stdout",
     "output_type": "stream",
     "text": [
      "0.05444709681872111\n",
      "0.06492747792898154\n",
      "0.07229727970232312\n"
     ]
    },
    {
     "data": {
      "image/png": "[encoded data removed]",
      "text/plain": [
       "<Figure size 864x288 with 3 Axes>"
      ]
     },
     "metadata": {
      "needs_background": "light"
     },
     "output_type": "display_data"
    }
   ],
   "source": [
    "#prefix - trigram - (n-1)-gram - (n-2)-gram - (pre-prefix)\n",
    "\n",
    "fig, (ax2, ax3, ax1) = plt.subplots(1, 3,figsize=(12,4))\n",
    "\n",
    "#############################################################################################################\n",
    "l = 30\n",
    "\n",
    "outs = np.zeros(l)\n",
    "x_axis = np.zeros(l)\n",
    "\n",
    "for i in range(l):\n",
    "\n",
    "    x = 8 + i\n",
    "    inpt = torch.tensor([[8 ,4, 8, 1000, x]],device=device).float()\n",
    "    inpt = 1/inpt\n",
    "    outs[i] = float(net2(inpt))\n",
    "    x_axis[i] = x\n",
    "    \n",
    "print((outs[0]-outs[-1])/outs[0])\n",
    "\n",
    "ax2.set(xlabel = 'Pre-prefix Count $C(w_{1})$', ylabel='Probability')\n",
    "ax2.scatter(x_axis, outs, c = 'red')\n",
    "#ax2.set(xlim = [3,30], ylim = [0.62,0.9])\n",
    "ax2.set(ylim = [0.36,0.42])\n",
    "\n",
    "        \n",
    "#############################################################################################################\n",
    "l = 30\n",
    "outs = np.zeros(l)\n",
    "x_axis = np.zeros(l)\n",
    "\n",
    "for i in range(l):\n",
    "    x = 8 + i\n",
    "    inpt = torch.tensor([[8, 4, 8, x, 1000]],device=device).float()\n",
    "    inpt = 1/inpt\n",
    "    outs[i] = float(net2(inpt))\n",
    "    x_axis[i] = x\n",
    "\n",
    "print((outs[0]-outs[-1])/outs[0])\n",
    "\n",
    "ax3.set(xlabel = 'Unigram Count $C(w_{3})$')\n",
    "ax3.scatter(x_axis, outs, c = 'red')\n",
    "#ax3.set(xlim = [3,30], ylim = [0.62,0.9])\n",
    "ax3.set(ylim = [0.36,0.42])\n",
    "\n",
    "\n",
    "#############################################################################################################\n",
    "l = 26\n",
    "\n",
    "outs = np.zeros(l)\n",
    "x_axis = np.zeros(l)\n",
    "\n",
    "for i in range(l):\n",
    "    x = 4 + i\n",
    "    inpt = torch.tensor([[8 , 4, x, 1000, 1000]],device=device).float()\n",
    "    inpt = 1/inpt\n",
    "    outs[i] = float(net2(inpt))\n",
    "    x_axis[i] = x\n",
    "\n",
    "print((outs[-1]-outs[0])/outs[0])\n",
    "\n",
    "ax1.set(xlabel = 'Bigram Count $C(w_{2}w_{3})$')\n",
    "ax1.scatter(x_axis, outs, c = 'red')\n",
    "#ax1.set(xlim = [3,30], ylim = [0.60,0.9])\n",
    "ax1.set(ylim = [0.36,0.42])\n",
    "\n",
    "#############################################################################################################\n",
    "\n",
    "\n",
    "#plt.title('Output probability scaling the following inputs one at a time')\n",
    "#ax2.set(title ='Output probability scaling the following inputs one at a time')\n",
    "plt.tight_layout()\n",
    "plt.suptitle('NN Probability for a trigram with MLE = ' + str(float((inpt[0][0]/inpt[0][1]))))\n",
    "plt.subplots_adjust(top=0.88)\n",
    "plt.show()\n"
   ]
  },
  {
   "cell_type": "code",
   "execution_count": 17,
   "metadata": {},
   "outputs": [
    {
     "name": "stdout",
     "output_type": "stream",
     "text": [
      "0.4095257188239739\n",
      "0.007746443929870989\n",
      "0.00010430426919126173\n"
     ]
    },
    {
     "data": {
      "image/png": "[encoded data removed]",
      "text/plain": [
       "<Figure size 864x288 with 3 Axes>"
      ]
     },
     "metadata": {
      "needs_background": "light"
     },
     "output_type": "display_data"
    }
   ],
   "source": [
    "#prefix - trigram - (n-1)-gram - (n-2)-gram - (pre-prefix)\n",
    "\n",
    "fig, (ax2, ax3, ax1) = plt.subplots(1, 3,figsize=(12,4))\n",
    "l = 27\n",
    "\n",
    "outs = np.zeros(l)\n",
    "x_axis = np.zeros(l)\n",
    "\n",
    "for i in range(l):\n",
    "    x = 3 + i\n",
    "    inpt = torch.tensor([[50 , 3, x, 1000, 1000]],device=device).float()\n",
    "    inpt = 1/inpt\n",
    "    outs[i] = float(net2(inpt))\n",
    "    x_axis[i] = x\n",
    "\n",
    "print((outs[-1]-outs[0])/outs[0])\n",
    "\n",
    "ax1.set(xlabel = 'Bigram Count $C(w_{2}w_{3})$')\n",
    "ax1.scatter(x_axis, outs, c = 'red')\n",
    "#ax1.axis([1, 17, 0.024, 0.039])\n",
    "#ax1.set(xlim = [0,16] , ylim = [0.15,0.22])\n",
    "ax1.set(ylim = [0.02,0.06])\n",
    "\n",
    "#############################################################################################################\n",
    "l = 29\n",
    "\n",
    "outs = np.zeros(l)\n",
    "x_axis = np.zeros(l)\n",
    "\n",
    "for i in range(l):\n",
    "\n",
    "    x = 51 + i\n",
    "    inpt = torch.tensor([[50 , 3, 50, 1000, x]],device=device).float()\n",
    "    inpt = 1/inpt\n",
    "    outs[i] = float(net2(inpt))\n",
    "    x_axis[i] = x\n",
    "    \n",
    "print((outs[0]-outs[-1])/outs[-1])\n",
    "\n",
    "ax2.set(xlabel = 'Pre-prefix Count $C(w_{1})$', ylabel='Probability')\n",
    "ax2.scatter(x_axis, outs, c = 'red')\n",
    "#ax2.axis([1, 17, 0.03, 0.0475])\n",
    "#ax2.set(xlim = [0,16] , ylim = [0.15,0.22])\n",
    "ax2.set(ylim = [0.02,0.06])\n",
    "        \n",
    "#############################################################################################################\n",
    "l = 29\n",
    "outs = np.zeros(l)\n",
    "x_axis = np.zeros(l)\n",
    "\n",
    "for i in range(l):\n",
    "    x = 51 + i\n",
    "    inpt = torch.tensor([[50 , 3, 50, x, 1000]],device=device).float()\n",
    "    inpt = 1/inpt\n",
    "    outs[i] = float(net2(inpt))\n",
    "    x_axis[i] = x\n",
    "\n",
    "print((outs[-1]-outs[0])/outs[0])\n",
    "\n",
    "ax3.set(xlabel = 'Unigram Count $C(w_{3})$')\n",
    "ax3.scatter(x_axis, outs, c = 'red')\n",
    "#ax3.axis([0, 16, 0.018, 0.025])\n",
    "#ax3.set(xlim = [0,16] , ylim = [0.15,0.22])\n",
    "ax3.set(ylim = [0.02,0.06])\n",
    "\n",
    "#############################################################################################################\n",
    "\n",
    "#plt.title('Output probability scaling the following inputs one at a time')\n",
    "#ax2.set(title ='Output probability scaling the following inputs one at a time')\n",
    "plt.tight_layout()\n",
    "plt.suptitle('NN Probability for a trigram with MLE = 0.06')\n",
    "plt.subplots_adjust(top=0.88)\n",
    "plt.show()\n"
   ]
  },
  {
   "cell_type": "code",
   "execution_count": 12,
   "metadata": {},
   "outputs": [
    {
     "name": "stdout",
     "output_type": "stream",
     "text": [
      "0.21268354443803572\n"
     ]
    },
    {
     "data": {
      "text/plain": [
       "<matplotlib.collections.PathCollection at 0x7f19b8705780>"
      ]
     },
     "execution_count": 12,
     "metadata": {},
     "output_type": "execute_result"
    },
    {
     "data": {
      "image/png": "[encoded data removed]",
      "text/plain": [
       "<Figure size 432x288 with 1 Axes>"
      ]
     },
     "metadata": {
      "needs_background": "light"
     },
     "output_type": "display_data"
    }
   ],
   "source": [
    "l = 15\n",
    "\n",
    "outs = np.zeros(l)\n",
    "x_axis = np.zeros(l)\n",
    "\n",
    "for i in range(l):\n",
    "    #print(i)\n",
    "    x = 2 + i\n",
    "    #print(x)\n",
    "    inpt = torch.tensor([[10 , 2, x, 1000, 1000]],device=device).float()\n",
    "    inpt = 1/inpt\n",
    "    outs[i] = float(net2(inpt))\n",
    "    x_axis[i] = x\n",
    "\n",
    "#print(x_axis)\n",
    "#print(outs)\n",
    "\n",
    "print((outs[-1]-outs[0])/outs[0])\n",
    "plt.ylabel('Probability')\n",
    "plt.xlabel('Bigram Count')\n",
    "plt.scatter(x_axis, outs, c = 'red')\n",
    "#plt.axis([1, 17, 0.024, 0.039])\n",
    "#plt.show()"
   ]
  },
  {
   "cell_type": "code",
   "execution_count": 31,
   "metadata": {},
   "outputs": [
    {
     "name": "stdout",
     "output_type": "stream",
     "text": [
      "0.04984105733231088\n"
     ]
    },
    {
     "data": {
      "image/png": "[encoded data removed]",
      "text/plain": [
       "<Figure size 432x288 with 1 Axes>"
      ]
     },
     "metadata": {
      "needs_background": "light"
     },
     "output_type": "display_data"
    }
   ],
   "source": [
    "l = 15\n",
    "\n",
    "outs = np.zeros(l)\n",
    "x_axis = np.zeros(l)\n",
    "\n",
    "for i in range(l):\n",
    "\n",
    "    x = 4 + i\n",
    "    inpt = torch.tensor([[4 , 2, 3, 1000, x]],device=device).float()\n",
    "    inpt = 1/inpt\n",
    "    outs[i] = float(net2(inpt))\n",
    "    x_axis[i] = x\n",
    "    \n",
    "plt.ylabel('Probability')\n",
    "plt.xlabel('Pre-prefix Count')\n",
    "#plt.plot(x_axis,outs, 'red')\n",
    "\n",
    "print((outs[0]-outs[-1])/outs[-1])\n",
    "plt.scatter(x_axis, outs, c = 'red')\n",
    "#plt.axis([1, 17, 0.03, 0.0475])\n",
    "\n",
    "plt.show()"
   ]
  },
  {
   "cell_type": "code",
   "execution_count": 43,
   "metadata": {},
   "outputs": [
    {
     "name": "stdout",
     "output_type": "stream",
     "text": [
      "-0.269112450958216\n"
     ]
    },
    {
     "data": {
      "image/png": "[encoded data removed]",
      "text/plain": [
       "<Figure size 432x288 with 1 Axes>"
      ]
     },
     "metadata": {
      "needs_background": "light"
     },
     "output_type": "display_data"
    }
   ],
   "source": [
    "l = 15\n",
    "\n",
    "outs = np.zeros(l)\n",
    "x_axis = np.zeros(l)\n",
    "\n",
    "for i in range(l):\n",
    "    #print(i)\n",
    "    x = 1 + i\n",
    "    inpt = torch.tensor([[10 , 2, 2, x, 1000]],device=device).float()\n",
    "    inpt = 1/inpt\n",
    "    outs[i] = float(net2(inpt))\n",
    "    x_axis[i] = x\n",
    "    \n",
    "plt.ylabel('Probability')\n",
    "plt.xlabel('Unigram Count')\n",
    "#plt.plot(x_axis,outs, 'red')\n",
    "\n",
    "print((outs[-1]-outs[0])/outs[0])\n",
    "plt.scatter(x_axis, outs, c = 'red')\n",
    "#plt.axis([0, 16, 0.018, 0.025])\n",
    "\n",
    "plt.show()"
   ]
  },
  {
   "cell_type": "markdown",
   "metadata": {},
   "source": [
    "# Retrieve probs from LM"
   ]
  },
  {
   "cell_type": "code",
   "execution_count": 37,
   "metadata": {},
   "outputs": [],
   "source": [
    "#lm = arpa.loadf('../../rsc/nnLM-rn.arpa')[0]\n",
    "lm = arpa.loadf('../../rsc/smoothedLM.arpa')[0]\n"
   ]
  },
  {
   "cell_type": "markdown",
   "metadata": {},
   "source": [
    "# NN LM"
   ]
  },
  {
   "cell_type": "code",
   "execution_count": 36,
   "metadata": {},
   "outputs": [
    {
     "name": "stdout",
     "output_type": "stream",
     "text": [
      "Pnn(SHOW | THE, RESULTS) = 1.093e-02\n",
      "Pnn(SHOW | OUR, RESULTS) = 2.600e-02\n",
      "\n",
      "Pnn(HOW | RESULTS, SHOW) = 4.149e-03\n",
      "Pnn(AN | RESULTS, SHOW) = 1.532e-03\n",
      "Pnn(A | RESULTS, SHOW) = 3.300e-02\n"
     ]
    }
   ],
   "source": [
    "print('Pnn(SHOW | THE, RESULTS) = {:.3e}'.format(lm.p(\"THE RESULTS SHOW\")))\n",
    "print('Pnn(SHOW | OUR, RESULTS) = {:.3e}'.format(lm.p(\"OUR RESULTS SHOW\")))\n",
    "\n",
    "print('\\nPnn(HOW | RESULTS, SHOW) = {:.3e}'.format(lm.p(\"RESULTS SHOW HOW\")))\n",
    "print('Pnn(AN | RESULTS, SHOW) = {:.3e}'.format(lm.p(\"RESULTS SHOW AN\")))\n",
    "print('Pnn(A | RESULTS, SHOW) = {:.3e}'.format(lm.p(\"RESULTS SHOW A\")))\n"
   ]
  },
  {
   "cell_type": "markdown",
   "metadata": {},
   "source": [
    "#  Baseline LM"
   ]
  },
  {
   "cell_type": "code",
   "execution_count": 38,
   "metadata": {},
   "outputs": [
    {
     "name": "stdout",
     "output_type": "stream",
     "text": [
      "Pgt(SHOW | THE, RESULTS) = 1.093e-02\n",
      "Pgt(SHOW | OUR, RESULTS) = 2.707e-02\n",
      "\n",
      "Pgt(HOW | RESULTS, SHOW) = 3.842e-03\n",
      "Pgt(A| RESULTS, SHOW) = 4.237e-02\n",
      "Pgt(AN | RESULTS, SHOW) = 1.418e-03\n"
     ]
    }
   ],
   "source": [
    "print('Pgt(SHOW | THE, RESULTS) = {:.3e}'.format(lm.p(\"THE RESULTS SHOW\")))\n",
    "print('Pgt(SHOW | OUR, RESULTS) = {:.3e}'.format(lm.p(\"OUR RESULTS SHOW\")))\n",
    "\n",
    "\n",
    "print('\\nPgt(HOW | RESULTS, SHOW) = {:.3e}'.format(lm.p(\"RESULTS SHOW HOW\")))\n",
    "print('Pgt(A| RESULTS, SHOW) = {:.3e}'.format(lm.p(\"RESULTS SHOW A\")))\n",
    "print('Pgt(AN | RESULTS, SHOW) = {:.3e}'.format(lm.p(\"RESULTS SHOW AN\")))\n"
   ]
  },
  {
   "cell_type": "markdown",
   "metadata": {},
   "source": [
    "# NN LM"
   ]
  },
  {
   "cell_type": "code",
   "execution_count": 4,
   "metadata": {},
   "outputs": [
    {
     "name": "stdout",
     "output_type": "stream",
     "text": [
      "\n",
      "Unseen:\n",
      "Pnn(CONTENT | ARE, YOU) = 1.172e-06\n",
      "\n",
      "Seen:\n",
      "Pnn(HAPPY | ARE, YOU) = 2.697e-03\n"
     ]
    }
   ],
   "source": [
    "print('\\nUnseen:\\nPnn(CONTENT | ARE, YOU) = {:.3e}'.format(lm.p(\"ARE YOU CONTENT\")))\n",
    "print('\\nSeen:\\nPnn(HAPPY | ARE, YOU) = {:.3e}'.format(lm.p(\"ARE YOU HAPPY\")))\n"
   ]
  },
  {
   "cell_type": "markdown",
   "metadata": {},
   "source": [
    "#  Baseline LM"
   ]
  },
  {
   "cell_type": "code",
   "execution_count": 5,
   "metadata": {},
   "outputs": [
    {
     "name": "stdout",
     "output_type": "stream",
     "text": [
      "\n",
      "Unseen:\n",
      "Pgt(CONTENT | ARE, YOU) = 1.150e-06\n",
      "\n",
      "Seen:\n",
      "Pgt(HAPPY | ARE, YOU) = 2.697e-03\n"
     ]
    }
   ],
   "source": [
    "print('\\nUnseen:\\nPgt(CONTENT | ARE, YOU) = {:.3e}'.format(lm.p(\"ARE YOU CONTENT\")))\n",
    "print('\\nSeen:\\nPgt(HAPPY | ARE, YOU) = {:.3e}'.format(lm.p(\"ARE YOU HAPPY\")))\n"
   ]
  },
  {
   "cell_type": "markdown",
   "metadata": {},
   "source": [
    "# Back of trigram probs - NN LM"
   ]
  },
  {
   "cell_type": "code",
   "execution_count": 23,
   "metadata": {},
   "outputs": [
    {
     "name": "stdout",
     "output_type": "stream",
     "text": [
      "\n",
      "Unseen:\n",
      "Pnn(ARE | <s>, I) = 3.747e-04\n",
      "\n",
      "Seen:\n",
      "Pnn(AM | <s>, I) = 8.602e-02\n",
      "\n",
      "Unseen:\n",
      "Pnn(NEW | I, ARE) = 3.960e-04\n",
      "\n",
      "Seen:\n",
      "Pnn(NEW | I, AM) = 4.308e-04\n"
     ]
    }
   ],
   "source": [
    "print('\\nUnseen:\\nPnn(ARE | <s>, I) = {:.3e}'.format(lm.p(\"<s> I ARE\")))\n",
    "print('\\nSeen:\\nPnn(AM | <s>, I) = {:.3e}'.format(lm.p(\"<s> I AM\")))\n",
    "\n",
    "print('\\nUnseen:\\nPnn(NEW | I, ARE) = {:.3e}'.format(lm.p(\"I ARE NEW\")))\n",
    "print('\\nSeen:\\nPnn(NEW | I, AM) = {:.3e}'.format(lm.p(\"I AM NEW\")))\n"
   ]
  },
  {
   "cell_type": "markdown",
   "metadata": {},
   "source": [
    "# Back of trigram probs - Baseline LM"
   ]
  },
  {
   "cell_type": "code",
   "execution_count": 4,
   "metadata": {},
   "outputs": [
    {
     "name": "stdout",
     "output_type": "stream",
     "text": [
      "\n",
      "Unseen:\n",
      "Pgt(ARE | <s>, I) = 3.747e-04\n",
      "\n",
      "Seen:\n",
      "Pgt(AM | <s>, I) = 8.602e-02\n",
      "\n",
      "Unseen:\n",
      "Pgt(NEW | I, ARE) = 3.432e-04\n",
      "\n",
      "Seen:\n",
      "Pgt(NEW | I, AM) = 4.308e-04\n"
     ]
    }
   ],
   "source": [
    "print('\\nUnseen:\\nPgt(ARE | <s>, I) = {:.3e}'.format(lm.p(\"<s> I ARE\")))\n",
    "print('\\nSeen:\\nPgt(AM | <s>, I) = {:.3e}'.format(lm.p(\"<s> I AM\")))\n",
    "\n",
    "print('\\nUnseen:\\nPgt(NEW | I, ARE) = {:.3e}'.format(lm.p(\"I ARE NEW\")))\n",
    "print('\\nSeen:\\nPgt(NEW | I, AM) = {:.3e}'.format(lm.p(\"I AM NEW\")))"
   ]
  },
  {
   "cell_type": "markdown",
   "metadata": {},
   "source": [
    "# FIRST AID COURSE VS FIRST AID BOOK"
   ]
  },
  {
   "cell_type": "markdown",
   "metadata": {},
   "source": [
    "### Baseline LM probabilities"
   ]
  },
  {
   "cell_type": "code",
   "execution_count": 5,
   "metadata": {},
   "outputs": [
    {
     "name": "stdout",
     "output_type": "stream",
     "text": [
      "\n",
      "Seen:\n",
      "Pgt(BOOK | FIRST, AID) = 0.0060508028112207695\n",
      "\n",
      "Seen:\n",
      "Pgt(COURSE | FIRST, AID) = 0.011336134759718165\n"
     ]
    }
   ],
   "source": [
    "#r = 3,4\n",
    "print('\\nSeen:\\nPgt(BOOK | FIRST, AID) = ' + str(lm.p(\"FIRST AID BOOK\")))\n",
    "print('\\nSeen:\\nPgt(COURSE | FIRST, AID) = ' + str(lm.p(\"FIRST AID COURSE\")))\n"
   ]
  },
  {
   "cell_type": "code",
   "execution_count": 6,
   "metadata": {},
   "outputs": [
    {
     "name": "stdout",
     "output_type": "stream",
     "text": [
      "NN discounted prob: 0.001029077684506774\n",
      "Discounted prob from test set: 0.349529\n",
      "\n",
      "NN 'true' MLE: 0.0006252916064113379\n",
      "MLE from test set: 0.00014547570555717196\n"
     ]
    }
   ],
   "source": [
    "#prefix - trigram - (n-1)-gram - (n-2)-gram - (pre-prefix)\n",
    "\n",
    "#of lot of\n",
    "\n",
    "#4\n",
    "inpt = torch.tensor([[13748 , 2, 2, 140621]],device=device).float()\n",
    "inpt = 1/inpt\n",
    "out = float(net1(inpt))\n",
    "#print(float(out))\n",
    "\n",
    "print('NN discounted prob: ' + str(out))\n",
    "print('Discounted prob from test set: ' + str(0.699058*4/8))\n",
    "\n",
    "#5\n",
    "inpt = torch.tensor([[13748 , 2, 2, 140621,485140]],device=device).float()\n",
    "inpt = 1/inpt\n",
    "out = float(net2(inpt))\n",
    "#print(float(out))\n",
    "\n",
    "print('\\nNN \\'true\\' MLE: ' + str(out))\n",
    "print('MLE from test set: ' + str(2/13748))\n"
   ]
  },
  {
   "cell_type": "code",
   "execution_count": 7,
   "metadata": {},
   "outputs": [
    {
     "name": "stdout",
     "output_type": "stream",
     "text": [
      "NN discounted prob: 0.356179416179657\n",
      "Discounted prob from test set: 0.349529\n",
      "\n",
      "NN 'true' MLE: 0.39923760294914246\n",
      "MLE from test set: 0.5\n"
     ]
    }
   ],
   "source": [
    "#prefix - trigram - (n-1)-gram - (n-2)-gram - (pre-prefix)\n",
    "\n",
    "#of lot of\n",
    "\n",
    "#4\n",
    "inpt = torch.tensor([[13748 , 2, 2, 1233800]],device=device).float()\n",
    "inpt = 1/inpt\n",
    "out = float(net1(inpt))\n",
    "#print(float(out))\n",
    "\n",
    "print('NN discounted prob: ' + str(out))\n",
    "print('Discounted prob from test set: ' + str(0.699058*4/8))\n",
    "\n",
    "#5\n",
    "inpt = torch.tensor([[8 , 4, 10899, 1233800, 485140]],device=device).float()\n",
    "inpt = 1/inpt\n",
    "out = float(net2(inpt))\n",
    "#print(float(out))\n",
    "\n",
    "print('\\nNN \\'true\\' MLE: ' + str(out))\n",
    "print('MLE from test set: ' + str(4/8))\n"
   ]
  },
  {
   "cell_type": "markdown",
   "metadata": {},
   "source": [
    "# THAT WE YOU | TRUST (above threshold)"
   ]
  },
  {
   "cell_type": "markdown",
   "metadata": {},
   "source": [
    "### Baseline LM probabilities"
   ]
  },
  {
   "cell_type": "code",
   "execution_count": 3,
   "metadata": {},
   "outputs": [
    {
     "name": "stdout",
     "output_type": "stream",
     "text": [
      "\n",
      "Seen:\n",
      "Pgt(YOU | THAT, WE) = 7.482091242109651e-05\n",
      "\n",
      "Seen:\n",
      "Pgt(TRUST | THAT, WE) = 7.482091242109651e-05\n"
     ]
    }
   ],
   "source": [
    "#r = 4\n",
    "print('\\nSeen:\\nPgt(YOU | THAT, WE) = ' + str(lm.p(\"THAT WE YOU\")))\n",
    "print('\\nSeen:\\nPgt(TRUST | THAT, WE) = ' + str(lm.p(\"THAT WE TRUST\")))\n"
   ]
  },
  {
   "cell_type": "code",
   "execution_count": 7,
   "metadata": {},
   "outputs": [
    {
     "name": "stdout",
     "output_type": "stream",
     "text": [
      "NN discounted prob: 0.001029077684506774\n",
      "Discounted prob from test set: 7.482091940645912e-05\n",
      "\n",
      "NN 'true' MLE: 0.0006252916064113379\n",
      "MLE from test set: 0.00014547570555717196\n"
     ]
    }
   ],
   "source": [
    "#prefix - trigram - (n-1)-gram - (n-2)-gram - (pre-prefix)\n",
    "\n",
    "#THAT WE YOu\n",
    "\n",
    "#4\n",
    "inpt = torch.tensor([[13748 , 2, 2, 140621]],device=device).float()\n",
    "inpt = 1/inpt\n",
    "out = float(net1(inpt))\n",
    "#print(float(out))\n",
    "\n",
    "print('NN discounted prob: ' + str(out))\n",
    "print('Discounted prob from test set: ' + str(0.514319*2/13748))\n",
    "\n",
    "#5\n",
    "inpt = torch.tensor([[13748 , 2, 2, 140621,485140]],device=device).float()\n",
    "inpt = 1/inpt\n",
    "out = float(net2(inpt))\n",
    "#print(float(out))\n",
    "\n",
    "print('\\nNN \\'true\\' MLE: ' + str(out))\n",
    "print('MLE from test set: ' + str(2/13748))\n"
   ]
  },
  {
   "cell_type": "code",
   "execution_count": 8,
   "metadata": {},
   "outputs": [
    {
     "name": "stdout",
     "output_type": "stream",
     "text": [
      "NN discounted prob: 0.0010290865320712328\n",
      "Discounted prob from test set: 7.482091940645912e-05\n",
      "\n",
      "NN 'true' MLE: 0.39923784136772156\n",
      "MLE from test set: 0.00014547570555717196\n"
     ]
    }
   ],
   "source": [
    "#prefix - trigram - (n-1)-gram - (n-2)-gram - (pre-prefix)\n",
    "\n",
    "#THAT WE TRUST\n",
    "\n",
    "#4\n",
    "inpt = torch.tensor([[13748 , 2, 2, 1233800]],device=device).float()\n",
    "inpt = 1/inpt\n",
    "out = float(net1(inpt))\n",
    "#print(float(out))\n",
    "\n",
    "print('NN discounted prob: ' + str(out))\n",
    "print('Discounted prob from test set: ' + str(0.514319*2/13748))\n",
    "\n",
    "#5\n",
    "inpt = torch.tensor([[8 , 4, 10899, 1233800, 485140]],device=device).float()\n",
    "inpt = 1/inpt\n",
    "out = float(net2(inpt))\n",
    "#print(float(out))\n",
    "\n",
    "print('\\nNN \\'true\\' MLE: ' + str(out))\n",
    "print('MLE from test set: ' + str(2/13748))\n"
   ]
  },
  {
   "cell_type": "markdown",
   "metadata": {},
   "source": [
    "# OF LOT OF"
   ]
  },
  {
   "cell_type": "markdown",
   "metadata": {},
   "source": [
    "### Baseline LM probabilities"
   ]
  },
  {
   "cell_type": "code",
   "execution_count": 4,
   "metadata": {},
   "outputs": [
    {
     "name": "stdout",
     "output_type": "stream",
     "text": [
      "\n",
      "Seen:\n",
      "Pgt(OF | OF, LOT) = 0.3495290688391094\n"
     ]
    }
   ],
   "source": [
    "#r = 4\n",
    "print('\\nSeen:\\nPgt(OF | OF, LOT) = ' + str(lm.p(\"OF LOT OF\")))\n"
   ]
  },
  {
   "cell_type": "markdown",
   "metadata": {},
   "source": [
    "### nn LM probabilities"
   ]
  },
  {
   "cell_type": "code",
   "execution_count": 14,
   "metadata": {},
   "outputs": [
    {
     "name": "stdout",
     "output_type": "stream",
     "text": [
      "\n",
      "Seen:\n",
      "Pgt(OF | OF, LOT) = 0.2790902084194964\n"
     ]
    }
   ],
   "source": [
    "#r = 4\n",
    "print('\\nSeen:\\nPgt(OF | OF, LOT) = ' + str(lm.p(\"OF LOT OF\")))\n"
   ]
  },
  {
   "cell_type": "code",
   "execution_count": 7,
   "metadata": {},
   "outputs": [
    {
     "name": "stdout",
     "output_type": "stream",
     "text": [
      "NN discounted prob: 0.356179416179657\n",
      "Discounted prob from test set: 0.349529\n",
      "\n",
      "NN 'true' MLE: 0.39923760294914246\n",
      "MLE from test set: 0.5\n"
     ]
    }
   ],
   "source": [
    "#prefix - trigram - (n-1)-gram - (n-2)-gram - (pre-prefix)\n",
    " \n",
    "#of lot of\n",
    "\n",
    "#4\n",
    "inpt = torch.tensor([[8 , 4, 10899, 1233800]],device=device).float()\n",
    "inpt = 1/inpt\n",
    "out = float(net1(inpt))\n",
    "#print(float(out))\n",
    "\n",
    "print('NN discounted prob: ' + str(out))\n",
    "print('Discounted prob from test set: ' + str(0.699058*4/8))\n",
    "\n",
    "#5\n",
    "inpt = torch.tensor([[8 , 4, 10899, 1233800, 1233800]],device=device).float()\n",
    "inpt = 1/inpt\n",
    "out = float(net2(inpt))\n",
    "#print(float(out))\n",
    "\n",
    "print('\\nNN \\'true\\' MLE: ' + str(out))\n",
    "print('MLE from test set: ' + str(4/8))\n"
   ]
  },
  {
   "cell_type": "markdown",
   "metadata": {},
   "source": [
    "# < S > RECORDS WERE\n"
   ]
  },
  {
   "cell_type": "markdown",
   "metadata": {},
   "source": [
    "### Baseline LM probabilities"
   ]
  },
  {
   "cell_type": "code",
   "execution_count": 7,
   "metadata": {
    "scrolled": false
   },
   "outputs": [
    {
     "name": "stdout",
     "output_type": "stream",
     "text": [
      "\n",
      "Seen:\n",
      "Pgt(WERE | <S>, RECORDS) = 0.041894402415892346\n"
     ]
    }
   ],
   "source": [
    "#r = 3\n",
    "print('\\nSeen:\\nPgt(WERE | <S>, RECORDS) = ' + str(lm.p(\"<s> RECORDS WERE\")))\n"
   ]
  },
  {
   "cell_type": "markdown",
   "metadata": {},
   "source": [
    "### NN LM probabilities"
   ]
  },
  {
   "cell_type": "code",
   "execution_count": 15,
   "metadata": {},
   "outputs": [
    {
     "name": "stdout",
     "output_type": "stream",
     "text": [
      "\n",
      "Seen:\n",
      "Pgt(WERE | <S>, RECORDS) = 0.034175352281856454\n"
     ]
    }
   ],
   "source": [
    "#r = 3\n",
    "print('\\nSeen:\\nPgt(WERE | <S>, RECORDS) = ' + str(lm.p(\"<s> RECORDS WERE\")))\n"
   ]
  },
  {
   "cell_type": "code",
   "execution_count": 3,
   "metadata": {},
   "outputs": [
    {
     "name": "stdout",
     "output_type": "stream",
     "text": [
      "NN discounted prob: 0.042336732149124146\n",
      "Discounted prob from test set: 0.04189441304347826\n",
      "\n",
      "NN 'true' MLE: 0.05320101976394653\n",
      "MLE from test set: 0.06521739130434782\n"
     ]
    }
   ],
   "source": [
    "#prefix - trigram - (n-1)-gram - (n-2)-gram - (pre-prefix)\n",
    "#<s> RECORDS WERE\n",
    "\n",
    "#4\n",
    "inpt = torch.tensor([[46 , 3, 56, 169063]],device=device).float()\n",
    "inpt = 1/inpt\n",
    "out = float(net1(inpt))\n",
    "#print(float(out))\n",
    "\n",
    "print('NN discounted prob: ' + str(out))\n",
    "print('Discounted prob from test set: ' + str(0.642381*3/46))\n",
    "\n",
    "#5\n",
    "inpt = torch.tensor([[46 , 3, 56, 169063, 3041784]],device=device).float()\n",
    "inpt = 1/inpt\n",
    "out = float(net2(inpt))\n",
    "#print(float(out))\n",
    "\n",
    "print('\\nNN \\'true\\' MLE: ' + str(out))\n",
    "print('MLE from test set: ' + str(3/46))\n"
   ]
  },
  {
   "cell_type": "markdown",
   "metadata": {},
   "source": [
    "# FOR TOP END - FOR TOP EIGHT"
   ]
  },
  {
   "cell_type": "markdown",
   "metadata": {},
   "source": [
    "### Baseline LM probabilities"
   ]
  },
  {
   "cell_type": "code",
   "execution_count": 8,
   "metadata": {},
   "outputs": [
    {
     "name": "stdout",
     "output_type": "stream",
     "text": [
      "\n",
      "Seen:\n",
      "Pgt(END | FOR, TOP) = 0.017307486439031208\n",
      "Pgt(EIGHT | FOR, TOP) = 0.017307486439031208\n"
     ]
    }
   ],
   "source": [
    "#r = 6\n",
    "print('\\nSeen:\\nPgt(END | FOR, TOP) = ' + str(lm.p(\"FOR TOP END\")))\n",
    "print('Pgt(EIGHT | FOR, TOP) = ' + str(lm.p(\"FOR TOP EIGHT\")))\n"
   ]
  },
  {
   "cell_type": "code",
   "execution_count": 14,
   "metadata": {},
   "outputs": [
    {
     "name": "stdout",
     "output_type": "stream",
     "text": [
      "NN discounted prob: 0.013832397758960724\n",
      "Discounted prob from test set: 0.017307473684210525\n",
      "\n",
      "NN 'true' MLE: 0.015356296673417091\n",
      "MLE from test set: 0.021052631578947368\n"
     ]
    }
   ],
   "source": [
    "#prefix - trigram - (n-1)-gram - (n-2)-gram - (pre-prefix)\n",
    "\n",
    "#FOR TOP END\n",
    "\n",
    "#4\n",
    "inpt = torch.tensor([[285 , 6, 181, 25932]],device=device).float()\n",
    "inpt = 1/inpt\n",
    "out = float(net1(inpt))\n",
    "#print(float(out))\n",
    "\n",
    "print('NN discounted prob: ' + str(out))\n",
    "print('Discounted prob from test set: ' + str(0.822105*6/285))\n",
    "\n",
    "#5\n",
    "inpt = torch.tensor([[285 , 6, 181, 25932, 518703]],device=device).float()\n",
    "inpt = 1/inpt\n",
    "out = float(net2(inpt))\n",
    "#print(float(out))\n",
    "\n",
    "print('\\nNN \\'true\\' MLE: ' + str(out))\n",
    "print('MLE from test set: ' + str(6/285))\n"
   ]
  },
  {
   "cell_type": "code",
   "execution_count": 15,
   "metadata": {},
   "outputs": [
    {
     "name": "stdout",
     "output_type": "stream",
     "text": [
      "NN discounted prob: 0.01384296640753746\n",
      "Discounted prob from test set: 0.017307473684210525\n",
      "\n",
      "NN 'true' MLE: 0.01569429226219654\n",
      "MLE from test set: 0.021052631578947368\n"
     ]
    }
   ],
   "source": [
    "#prefix - trigram - (n-1)-gram - (n-2)-gram - (pre-prefix)\n",
    "\n",
    "#FOR TOP EIGHT \n",
    "\n",
    "#4\n",
    "inpt = torch.tensor([[285 , 6, 1077, 95973]],device=device).float()\n",
    "inpt = 1/inpt\n",
    "out = float(net1(inpt))\n",
    "#print(float(out))\n",
    "\n",
    "print('NN discounted prob: ' + str(out))\n",
    "print('Discounted prob from test set: ' + str( 0.822105*6/285))\n",
    "\n",
    "#5\n",
    "inpt = torch.tensor([[285 , 6, 1077, 95973, 518703]],device=device).float()\n",
    "inpt = 1/inpt\n",
    "out = float(net2(inpt))\n",
    "#print(float(out))\n",
    "\n",
    "print('\\nNN \\'true\\' MLE: ' + str(out))\n",
    "print('MLE from test set: ' + str(6/285))\n"
   ]
  },
  {
   "cell_type": "markdown",
   "metadata": {},
   "source": [
    "# JOBS FOR MONEY - VS JOBS FOR CASH"
   ]
  },
  {
   "cell_type": "markdown",
   "metadata": {},
   "source": [
    "### Baseline LM probabilities"
   ]
  },
  {
   "cell_type": "code",
   "execution_count": 6,
   "metadata": {},
   "outputs": [
    {
     "name": "stdout",
     "output_type": "stream",
     "text": [
      "Unseen during training, present in test:\n",
      "Pgt(POSTS | JOBS, FOR) = 5.6950009387085187e-05\n",
      "\n",
      "Seen:\n",
      "Pgt(MONEY | JOBS, FOR) = 0.0019743538911290324\n",
      "Pgt(CASH | JOBS, FOR) = 0.0019743538911290324\n"
     ]
    }
   ],
   "source": [
    "print('Unseen during training, present in test:\\nPgt(POSTS | JOBS, FOR) = ' + str(lm.p(\"JOBS FOR POSTS\")))\n",
    "print('\\nSeen:\\nPgt(MONEY | JOBS, FOR) = ' + str(lm.p(\"JOBS FOR MONEY\")))\n",
    "print('Pgt(CASH | JOBS, FOR) = ' + str(lm.p(\"JOBS FOR CASH\")))\n",
    "#r = 2\n"
   ]
  },
  {
   "cell_type": "code",
   "execution_count": 6,
   "metadata": {},
   "outputs": [
    {
     "name": "stdout",
     "output_type": "stream",
     "text": [
      "NN discounted prob: 0.0017973959911614656\n",
      "Discounted prob from test set: 0.001974353166986564\n",
      "\n",
      "NN 'true' MLE: 0.00404265196993947\n",
      "MLE from test set: 0.003838771593090211\n"
     ]
    }
   ],
   "source": [
    "#prefix - trigram - (n-1)-gram - (n-2)-gram - (pre-prefix)\n",
    "\n",
    "#jobs for cash\n",
    "\n",
    "#4\n",
    "inpt = torch.tensor([[521 , 2, 183, 6568]],device=device).float()\n",
    "inpt = 1/inpt\n",
    "out = float(net1(inpt))\n",
    "#print(float(out))\n",
    "\n",
    "print('NN discounted prob: ' + str(out))\n",
    "print('Discounted prob from test set: ' + str(0.514319*2/521))\n",
    "\n",
    "#5\n",
    "inpt = torch.tensor([[521 , 2, 183, 6568, 8975]],device=device).float()\n",
    "inpt = 1/inpt\n",
    "out = float(net2(inpt))\n",
    "#print(float(out))\n",
    "\n",
    "print('\\nNN \\'true\\' MLE: ' + str(out))\n",
    "print('MLE from test set: ' + str(2/521))\n"
   ]
  },
  {
   "cell_type": "code",
   "execution_count": 25,
   "metadata": {},
   "outputs": [
    {
     "name": "stdout",
     "output_type": "stream",
     "text": [
      "NN discounted prob: 0.0017989537445828319\n",
      "Discounted prob from test set: 0.001974353166986564\n",
      "\n",
      "NN 'true' MLE: 0.004089356865733862\n",
      "MLE from test set: 0.003838771593090211\n"
     ]
    }
   ],
   "source": [
    "#prefix - trigram - (n-1)-gram - (n-2)-gram - (pre-prefix)\n",
    "\n",
    "#jobs for money\n",
    "\n",
    "#4\n",
    "inpt = torch.tensor([[521 , 2, 771, 28811]],device=device).float()\n",
    "inpt = 1/inpt\n",
    "out = float(net1(inpt))\n",
    "#print(float(out))\n",
    "\n",
    "print('NN discounted prob: ' + str(out))\n",
    "print('Discounted prob from test set: ' + str(0.514319*2/521))\n",
    "\n",
    "#5\n",
    "inpt = torch.tensor([[521 , 2, 771, 28811, 8975]],device=device).float()\n",
    "inpt = 1/inpt\n",
    "out = float(net2(inpt))\n",
    "#print(float(out))\n",
    "\n",
    "print('\\nNN \\'true\\' MLE: ' + str(out))\n",
    "print('MLE from test set: ' + str(2/521))\n"
   ]
  },
  {
   "cell_type": "markdown",
   "metadata": {},
   "source": [
    "# NN results, taking training set inputs:"
   ]
  },
  {
   "cell_type": "code",
   "execution_count": null,
   "metadata": {},
   "outputs": [],
   "source": [
    "#TRIGRAM\n",
    "# JOBS FOR MONEY - 0\n",
    "# JOBS FOR POSTS - 2\n",
    "# JOBS FOR CASH - 1\n",
    "\n",
    "#PREFIX\n",
    "# JOBS FOR - 8\n",
    "\n",
    "#(N-1)-GRAM\n",
    "#FOR MONEY - 11\n",
    "#FOR CASH - 1\n",
    "#FOR POSTS - 2\n",
    "\n",
    "#(N-2)-GRAM\n",
    "# MONEY - 474\n",
    "# CASH - 125\n",
    "# POSTS - 83\n",
    "\n",
    "#PRE-PREFIX\n",
    "# JOBS - 147"
   ]
  },
  {
   "cell_type": "code",
   "execution_count": 23,
   "metadata": {},
   "outputs": [
    {
     "name": "stdout",
     "output_type": "stream",
     "text": [
      "NN discounted prob: 0.065711610019207\n",
      "Discounted prob from test set: 0.0375\n",
      "\n",
      "NN 'true' MLE: 0.15154613554477692\n",
      "MLE from test set: 0.125\n"
     ]
    }
   ],
   "source": [
    "#prefix - trigram - (n-1)-gram - (n-2)-gram - (pre-prefix)\n",
    "\n",
    "#jobs for posts\n",
    "inpt = torch.tensor([[8 , 1, 2 , 83 ]],device=device).float()\n",
    "inpt = 1/inpt\n",
    "out = float(net1(inpt))\n",
    "#print(float(out))\n",
    "\n",
    "print('NN discounted prob: ' + str(out))\n",
    "print('Discounted prob from test set: ' + str(0.3*1/8))\n",
    "\n",
    "\n",
    "\n",
    "inpt = torch.tensor([[8 , 1, 2 , 83 , 147]],device=device).float()\n",
    "inpt = 1/inpt\n",
    "out = float(net2(inpt))\n",
    "#print(float(out))\n",
    "\n",
    "print('\\nNN \\'true\\' MLE: ' + str(out))\n",
    "print('MLE from test set: ' + str(1/8))\n"
   ]
  },
  {
   "cell_type": "code",
   "execution_count": 17,
   "metadata": {},
   "outputs": [
    {
     "name": "stdout",
     "output_type": "stream",
     "text": [
      "NN discounted prob: 0.06568172574043274\n",
      "Discounted prob from test set: 0.0375\n",
      "\n",
      "NN 'true' MLE: 0.1473076343536377\n",
      "MLE from test set: 0.125\n"
     ]
    }
   ],
   "source": [
    "#prefix - trigram - (n-1)-gram - (n-2)-gram - pre-prefix\n",
    "\n",
    "#jobs for cash\n",
    "inpt = torch.tensor([[8 , 1, 1 , 125 ]],device=device).float()\n",
    "inpt = 1/inpt\n",
    "out = float(net1(inpt))\n",
    "#print(float(out))\n",
    "\n",
    "print('NN discounted prob: ' + str(out))\n",
    "print('Discounted prob from test set: ' + str(0.3*1/8))\n",
    "\n",
    "\n",
    "\n",
    "inpt = torch.tensor([[8 , 1, 1 , 125 , 147]],device=device).float()\n",
    "inpt = 1/inpt\n",
    "out = float(net2(inpt))\n",
    "#print(float(out))\n",
    "\n",
    "print('\\nNN \\'true\\' MLE: ' + str(out))\n",
    "print('MLE from test set: ' + str(1/8))\n"
   ]
  },
  {
   "cell_type": "code",
   "execution_count": 31,
   "metadata": {},
   "outputs": [
    {
     "name": "stdout",
     "output_type": "stream",
     "text": [
      "NN discounted prob: 6.656724167442007e-07\n",
      "Discounted prob from test set: 0.0\n",
      "\n",
      "NN 'true' MLE: 2.4396895241807215e-06\n",
      "MLE from test set: 0.0\n"
     ]
    }
   ],
   "source": [
    "#prefix - trigram - (n-1)-gram - (n-2)-gram - pre-prefix\n",
    "\n",
    "#jobs for money\n",
    "inpt = torch.tensor([[8, 0, 11 , 474 ]],device=device).float()\n",
    "inpt = 1/inpt\n",
    "out = float(net1(inpt))\n",
    "#print(float(out))\n",
    "\n",
    "print('NN discounted prob: ' + str(out))\n",
    "print('Discounted prob from test set: ' + str(0/8))\n",
    "\n",
    "\n",
    "\n",
    "inpt = torch.tensor([[8 , 0, 11 , 474 , 147]],device=device).float()\n",
    "inpt = 1/inpt\n",
    "out = float(net2(inpt))\n",
    "#print(float(out))\n",
    "\n",
    "print('\\nNN \\'true\\' MLE: ' + str(out))\n",
    "print('MLE from test set: ' + str(0/8))\n"
   ]
  },
  {
   "cell_type": "markdown",
   "metadata": {},
   "source": [
    "# Grabbing probs directly from ARPA"
   ]
  },
  {
   "cell_type": "code",
   "execution_count": 17,
   "metadata": {},
   "outputs": [
    {
     "data": {
      "application/vnd.jupyter.widget-view+json": {
       "model_id": "d1d131f2024c4f73a86a564f9de8309d"
      }
     },
     "metadata": {},
     "output_type": "display_data"
    },
    {
     "name": "stdout",
     "output_type": "stream",
     "text": [
      "['-3.936768', 'FOR POSTS', '-0.214438\\n']\n",
      "0.00011567300020419949\n",
      "['-1.236197', 'JOBS FOR', '-0.3077382\\n']\n",
      "0.05805010371421239\n",
      "['-2.704575', 'JOBS FOR CASH\\n']\n",
      "0.0019743538911290324\n",
      "['-2.704575', 'JOBS FOR MONEY\\n']\n",
      "0.0019743538911290324\n",
      "\n"
     ]
    }
   ],
   "source": [
    "file = '../../rsc/smoothedLM.arpa'\n",
    "first_read = open(file ,'r')\n",
    "\n",
    "num_lines = sum(1 for line in open(file,'r'))\n",
    "count = 0\n",
    "\n",
    "for i in range(0,6):\n",
    "    first_read.readline()\n",
    "\n",
    "for x in tqdm(first_read, total=num_lines):\n",
    "    if x[0] != '\\\\' and x != '\\n':\n",
    "\n",
    "        line = x.split('\\t')\n",
    "        ngram = line[1].split(' ')\n",
    "        tuple_size = len(ngram)\n",
    "        \n",
    "        if line[1] == 'JOBS FOR MONEY\\n':\n",
    "            print(line)\n",
    "            print(10**float(line[0]))\n",
    "            \n",
    "        if line[1] == 'JOBS FOR CASH\\n':\n",
    "            print(line)\n",
    "            print(10**float(line[0]))\n",
    "            \n",
    "        if line[1] == 'JOBS FOR POSTS\\n':\n",
    "            print(line)\n",
    "            print(10**float(line[0]))\n",
    "            \n",
    "        if line[1] == 'FOR POSTS':\n",
    "            print(line)\n",
    "            print(10**float(line[0]))\n",
    "            \n",
    "        if line[1] == 'JOBS FOR':\n",
    "            print(line)\n",
    "            print(10**float(line[0]))            \n"
   ]
  },
  {
   "cell_type": "markdown",
   "metadata": {},
   "source": [
    "# Counts, from training set:"
   ]
  },
  {
   "cell_type": "code",
   "execution_count": 11,
   "metadata": {},
   "outputs": [
    {
     "name": "stderr",
     "output_type": "stream",
     "text": [
      "Widget Javascript not detected.  It may not be installed or enabled properly.\n"
     ]
    },
    {
     "data": {
      "application/vnd.jupyter.widget-view+json": {
       "model_id": "a66cf509dd304a1ba2d02d868874ba34"
      }
     },
     "metadata": {},
     "output_type": "display_data"
    },
    {
     "name": "stdout",
     "output_type": "stream",
     "text": [
      "['THAT', '485140\\n']\n",
      "['THAT WE', '13748\\n']\n",
      "['THAT WE TRUST', '2\\n']\n",
      "['TRUST', '5670\\n']\n",
      "['WE TRUST', '152\\n']\n"
     ]
    }
   ],
   "source": [
    "file = '../../rsc/13_14_counts.txt'\n",
    "first_read = open(file ,'r')\n",
    "\n",
    "num_lines = sum(1 for line in open(file,'r'))\n",
    "count = 0\n",
    "\n",
    "for x in tqdm(first_read, total=num_lines):\n",
    "    \n",
    "    line = x.split('\\t')\n",
    "    ngram = line[0].split(' ')\n",
    "    tuple_size = len(ngram)\n",
    "\n",
    "    if line[0] == 'THAT WE TRUST':\n",
    "        print(line)\n",
    "\n",
    "    if line[0] == 'THAT WE':\n",
    "        print(line)\n",
    "\n",
    "    if line[0] == 'WE TRUST':\n",
    "        print(line)\n",
    "        \n",
    "    if line[0] == 'THAT':\n",
    "        print(line)\n",
    "\n",
    "    if line[0] == 'TRUST':\n",
    "        print(line)    "
   ]
  },
  {
   "cell_type": "markdown",
   "metadata": {},
   "source": [
    "# load counts to dictionary"
   ]
  },
  {
   "cell_type": "code",
   "execution_count": 3,
   "metadata": {},
   "outputs": [
    {
     "data": {
      "application/vnd.jupyter.widget-view+json": {
       "model_id": "1647fae571374adea94c51947b10447a"
      }
     },
     "metadata": {},
     "output_type": "display_data"
    },
    {
     "name": "stdout",
     "output_type": "stream",
     "text": [
      "\n"
     ]
    }
   ],
   "source": [
    "file = '../../rsc/13_14_counts.txt'\n",
    "first_read = open(file ,'r')\n",
    "\n",
    "num_lines = sum(1 for line in open(file,'r'))\n",
    "\n",
    "ngram_dict = {}\n",
    "for x in tqdm(first_read, total=num_lines, position=0, leave=True):\n",
    "    line = x.split('\\t')\n",
    "    r = int(line[-1])\n",
    "    ngram_dict[line[0]] = r\n"
   ]
  },
  {
   "cell_type": "code",
   "execution_count": 4,
   "metadata": {},
   "outputs": [
    {
     "data": {
      "application/vnd.jupyter.widget-view+json": {
       "model_id": "04bbd738ca4c4a72b3e14ed1f2bf26cc"
      }
     },
     "metadata": {},
     "output_type": "display_data"
    },
    {
     "name": "stdout",
     "output_type": "stream",
     "text": [
      "\n"
     ]
    }
   ],
   "source": [
    "file = '../../rsc/13_14_counts.txt'\n",
    "first_read = open(file ,'r')\n",
    "\n",
    "num_lines = sum(1 for line in open(file,'r'))\n",
    "count = 0\n",
    "\n",
    "bigram_over_prefix = 0\n",
    "trigrams = 0\n",
    "\n",
    "for x in tqdm(first_read, total=num_lines):\n",
    "    \n",
    "    line = x.split('\\t')\n",
    "    ngram = line[0].split(' ')\n",
    "    tuple_size = len(ngram)\n",
    "    r = int(line[1])\n",
    "    \n",
    "    if tuple_size == 3 :\n",
    "\n",
    "        trigrams += 1\n",
    "        prefix = ngram_dict[ngram[0] + ' ' + ngram[1]] \n",
    "        bigram = ngram_dict[ngram[1] + ' ' + ngram[2]]\n",
    "        unigram = ngram_dict[ngram[2]]\n",
    "        preprefix = ngram_dict[ngram[0]] \n",
    "               \n",
    "        if bigram > prefix:\n",
    "            bigram_over_prefix += 1\n",
    "        \n",
    "        #if prefix < 5 and preprefix > 100000 and bigram > 10000:\n",
    "            #print(ngram)\n",
    "            #print(r)\n",
    "            \n",
    "        #if bigram < 5 and unigram > 10000 and prefix > 100 and preprefix >10000:\n",
    "            #print(ngram)\n"
   ]
  },
  {
   "cell_type": "code",
   "execution_count": 5,
   "metadata": {},
   "outputs": [
    {
     "name": "stdout",
     "output_type": "stream",
     "text": [
      "0.474326471993575\n"
     ]
    }
   ],
   "source": [
    "print(bigram_over_prefix/trigrams)"
   ]
  },
  {
   "cell_type": "markdown",
   "metadata": {},
   "source": [
    "# pull counts for certain ngrams"
   ]
  },
  {
   "cell_type": "code",
   "execution_count": 18,
   "metadata": {},
   "outputs": [
    {
     "data": {
      "application/vnd.jupyter.widget-view+json": {
       "model_id": "bd6f05e8eaf4490f94c545968d18d811"
      }
     },
     "metadata": {},
     "output_type": "display_data"
    },
    {
     "name": "stdout",
     "output_type": "stream",
     "text": [
      "['FOR', '518703\\n']\n",
      "['LOT', '17432\\n']\n",
      "['OF', '1233800\\n']\n",
      "['RECORDS', '2554\\n']\n",
      "['TOP', '31686\\n']\n",
      "\n"
     ]
    }
   ],
   "source": [
    "file = '../../rsc/13_14_counts.txt'\n",
    "first_read = open(file ,'r')\n",
    "\n",
    "num_lines = sum(1 for line in open(file,'r'))\n",
    "count = 0\n",
    "\n",
    "for x in tqdm(first_read, total=num_lines):\n",
    "    \n",
    "    line = x.split('\\t')\n",
    "    ngram = line[0].split(' ')\n",
    "    tuple_size = len(ngram)\n",
    "    r = int(line[1])\n",
    "    \n",
    "                \n",
    "    if tuple_size == 1 :\n",
    "        if ngram[0] == 'OF':\n",
    "            print(line)\n",
    "        if ngram[0] == 'TOP':\n",
    "            print(line)\n",
    "        if ngram[0] == 'FOR':\n",
    "            print(line)\n",
    "        if ngram[0] == 'RECORDS':\n",
    "            print(line)\n",
    "        if ngram[0] == 'LOT':\n",
    "            print(line)\n",
    "    '''\n",
    "    \n",
    "    if tuple_size == 3 :\n",
    "        if ngram[1] == 'RESULTS' and ngram[2] == 'SHOW':\n",
    "            print(line)\n",
    "    \n",
    "    if line[0] == 'OUR RESULT SHOWS':\n",
    "            print(line)\n",
    "        if line[0] == 'THE RESULT SHOWS':\n",
    "            print(line)\n",
    "\n",
    "\n",
    "    if tuple_size == 2 :\n",
    "        if ngram[0] == 'FOR' and ngram[1] == 'MONEY':\n",
    "            print(line)\n",
    "            \n",
    "        if ngram[0] == 'FOR' and ngram[1] == 'CASH':\n",
    "            print(line)\n",
    "            \n",
    "        if ngram[0] == 'JOBS' and ngram[1] == 'FOR':\n",
    "            print(line)\n",
    "            \n",
    "    if tuple_size == 1 :\n",
    "        if ngram[0] == 'JOBS':\n",
    "            print(line)\n",
    "        if ngram[0] == 'MONEY':\n",
    "            print(line)\n",
    "        if ngram[0] == 'CASH':\n",
    "            print(line)\n",
    "            \n",
    "            \n",
    "\n",
    "    \n",
    "    if tuple_size == 2 :\n",
    "        if ngram[0] == 'FOR' and ngram[1] == 'TOP' and ngram[2] == 'AM':\n",
    "            print(line)\n",
    "            \n",
    "    if r < 8 and tuple_size == 3 and r!=1:\n",
    "\n",
    "        prefix = ngram_dict[ngram[0] + ' ' + ngram[1]]  #prefix count\n",
    "        bigram = ngram_dict[ngram[1] + ' ' + ngram[2]]  #backoff bigram count\n",
    "        unigram = ngram_dict[ngram[2]]                   #unigram count\n",
    "        preprefix = ngram_dict[ngram[0]]                   #pre-prefix count\n",
    "        \n",
    "        #if r == 5 and bigram > 10000 and bigram < 100000:\n",
    "            #print(ngram)\n",
    "        \n",
    "        #if prefix < 5 and preprefix > 100000 and bigram > 10000:\n",
    "            #print(ngram)\n",
    "            #print(r)\n",
    "            \n",
    "        #if bigram < 5 and unigram > 10000 and prefix > 100 and preprefix >10000:\n",
    "            #print(ngram)\n",
    "    '''"
   ]
  },
  {
   "cell_type": "code",
   "execution_count": null,
   "metadata": {},
   "outputs": [],
   "source": []
  }
 ],
 "metadata": {
  "kernelspec": {
   "display_name": "Python 3",
   "language": "python",
   "name": "python3"
  },
  "language_info": {
   "codemirror_mode": {
    "name": "ipython",
    "version": 3
   },
   "file_extension": ".py",
   "mimetype": "text/x-python",
   "name": "python",
   "nbconvert_exporter": "python",
   "pygments_lexer": "ipython3",
   "version": "3.6.8"
  }
 },
 "nbformat": 4,
 "nbformat_minor": 2
}
