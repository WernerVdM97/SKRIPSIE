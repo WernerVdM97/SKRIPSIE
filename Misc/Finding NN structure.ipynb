{
 "cells": [
  {
   "cell_type": "code",
   "execution_count": 1,
   "metadata": {},
   "outputs": [],
   "source": [
    "import matplotlib.pyplot as plt\n",
    "import torch.nn.functional as F\n",
    "import torch\n",
    "import torchvision\n",
    "from fastai import *\n",
    "from fastai.vision import *\n",
    "import numpy as np\n",
    "\n",
    "\n",
    "#processing tokens\n",
    "\n",
    "import unicodedata \n",
    "import re\n",
    "import inflect \n",
    "\n",
    "#tokenize\n",
    "from nltk import word_tokenize, sent_tokenize\n",
    "\n",
    "#find ngrams\n",
    "from nltk.util import ngrams\n",
    "\n",
    "import time\n",
    "from tqdm import tqdm\n",
    "\n",
    "#nn\n",
    "import torch.nn as nn\n",
    "from torch import optim\n",
    "from sklearn import preprocessing\n",
    "\n",
    "import arpa"
   ]
  },
  {
   "cell_type": "markdown",
   "metadata": {},
   "source": [
    "# CUDA INIT"
   ]
  },
  {
   "cell_type": "code",
   "execution_count": 4,
   "metadata": {},
   "outputs": [
    {
     "name": "stdout",
     "output_type": "stream",
     "text": [
      "GeForce GTX 1060 6GB\n",
      "True\n"
     ]
    }
   ],
   "source": [
    "device = torch.device(\"cuda:0\" if torch.cuda.is_available() else \"cpu\")\n",
    "print(torch.cuda.get_device_name(0))\n",
    "print(torch.cuda.is_available())\n"
   ]
  },
  {
   "cell_type": "code",
   "execution_count": 5,
   "metadata": {},
   "outputs": [
    {
     "name": "stdout",
     "output_type": "stream",
     "text": [
      "tensor([[6.0000e+00, 2.0000e+00, 6.0000e+00, 5.6900e+02],\n",
      "        [5.0000e+00, 3.0000e+00, 5.6690e+03, 7.2983e+04],\n",
      "        [5.0000e+00, 2.0000e+00, 9.7130e+03, 1.7187e+05],\n",
      "        ...,\n",
      "        [2.3000e+01, 2.0000e+00, 3.0000e+00, 4.5200e+02],\n",
      "        [2.3000e+01, 5.0000e+00, 1.4000e+01, 1.7000e+01],\n",
      "        [2.3000e+01, 3.0000e+00, 4.0000e+00, 2.2880e+03]], device='cuda:0')\n",
      "tensor([0.1735, 0.3891, 0.2083,  ..., 0.0453, 0.1708, 0.0846], device='cuda:0')\n"
     ]
    }
   ],
   "source": [
    "#inputs = torch.load('../../pickles/50-50_5input_4793918').transpose(-2,1).float()\n",
    "#outputs = torch.load('../../pickles/50-50_output_4793918').flatten().float()\n",
    "inputs = torch.load('../../pickles/old/input_6903410_file').transpose(-2,1).float()\n",
    "outputs = torch.load('../../pickles/old/output_6903410_file').flatten().float()\n",
    "\n",
    "print(inputs)\n",
    "print(outputs)\n",
    "inputs = 1/inputs"
   ]
  },
  {
   "cell_type": "code",
   "execution_count": null,
   "metadata": {},
   "outputs": [],
   "source": [
    "if device.type == 'cuda':\n",
    "    #print(torch.cuda.get_device_name(0))\n",
    "    print('\\nMemory Usage:')\n",
    "    print('Allocated:', round(torch.cuda.memory_allocated(0)/1024**2,1), 'MB')\n",
    "    print('Cached:   ', round(torch.cuda.memory_cached(0)/1024**2,1), 'MB')"
   ]
  },
  {
   "cell_type": "code",
   "execution_count": 6,
   "metadata": {},
   "outputs": [
    {
     "name": "stdout",
     "output_type": "stream",
     "text": [
      "\n",
      "Memory Usage:\n",
      "Allocated: 132.3 MB\n",
      "Cached:    348.0 MB\n"
     ]
    }
   ],
   "source": [
    "if device.type == 'cuda':\n",
    "    #print(torch.cuda.get_device_name(0))\n",
    "    print('\\nMemory Usage:')\n",
    "    print('Allocated:', round(torch.cuda.memory_allocated(0)/1024**2,1), 'MB')\n",
    "    print('Cached:   ', round(torch.cuda.memory_cached(0)/1024**2,1), 'MB')"
   ]
  },
  {
   "cell_type": "markdown",
   "metadata": {},
   "source": [
    "# NN INIT"
   ]
  },
  {
   "cell_type": "code",
   "execution_count": 89,
   "metadata": {},
   "outputs": [],
   "source": [
    "class Net(nn.Module):\n",
    "    def __init__(self):\n",
    "        super(Net, self).__init__()\n",
    "        self.fc1 = nn.Linear(4, 4)\n",
    "        self.fc2 = nn.Linear(4, 3)\n",
    "        self.fc3 = nn.Linear(3, 1)\n",
    "\n",
    "        \n",
    "    def forward(self, x):\n",
    "        x = torch.sigmoid(self.fc1(x))\n",
    "        x = torch.sigmoid(self.fc2(x)) \n",
    "        x = torch.sigmoid(self.fc3(x)) \n",
    "        return x"
   ]
  },
  {
   "cell_type": "code",
   "execution_count": 90,
   "metadata": {},
   "outputs": [],
   "source": [
    "net = Net().cuda()\n",
    "optimizer = optim.SGD(net.parameters(), lr=0.03, momentum=0.9)\n",
    "\n",
    "criterion = torch.nn.L1Loss()  #mean absolute error\n",
    "#criterion = torch.nn.MSELoss()  #mean square error"
   ]
  },
  {
   "cell_type": "code",
   "execution_count": 91,
   "metadata": {},
   "outputs": [
    {
     "name": "stderr",
     "output_type": "stream",
     "text": [
      "100%|██████████| 6903410/6903410 [10:36<00:00, 10853.49it/s]\n"
     ]
    }
   ],
   "source": [
    "## run the model for 3 epochs\n",
    "#for epoch in range(0,3):\n",
    "for x in tqdm(range(len(inputs)),position=0, leave=True):\n",
    "    if x % 15 == 1:\n",
    "        optimizer.zero_grad() #reset gradients\n",
    "\n",
    "        ## 1. forward propagation\n",
    "        net_out = net((inputs[x:x+1,:]))\n",
    "\n",
    "        ## 2. loss calculation\n",
    "        loss = criterion(net_out, outputs[x].reshape(1,1))\n",
    "        #print(target[x])\n",
    "\n",
    "        ## 3. backward propagation\n",
    "        loss.backward()\n",
    "\n",
    "        ## 4. weight optimization\n",
    "        optimizer.step()"
   ]
  },
  {
   "cell_type": "markdown",
   "metadata": {},
   "source": [
    "# RESULTS"
   ]
  },
  {
   "cell_type": "code",
   "execution_count": 94,
   "metadata": {},
   "outputs": [
    {
     "name": "stderr",
     "output_type": "stream",
     "text": [
      "100%|██████████| 6903410/6903410 [01:59<00:00, 57796.98it/s]\n"
     ]
    }
   ],
   "source": [
    "net_results = np.zeros(int(len(inputs)/15)+1)\n",
    "actual_results = np.zeros(int(len(inputs)/15)+1)\n",
    "\n",
    "'''\n",
    "#difference =np.zeros(len(inputs))\n",
    "net_results = np.zeros(len(inputs))\n",
    "actual_results = np.zeros(len(inputs))\n",
    "'''\n",
    "count = 0\n",
    "\n",
    "for x in tqdm(range(len(inputs)),position=0, leave=True):\n",
    "    if x%15 == 1:\n",
    "        net_results[count] = net(inputs[x:x+1,:])\n",
    "        #ins = torch.tensor([[inputs[x:x+1,0]/inputs[x:x+1,1],inputs[x:x+1,2],inputs[x:x+1,3]]], device = device)\n",
    "        #net_results[count] = net(ins)\n",
    "        actual_results[count] = outputs[x]\n",
    "        #ifference[count] = abs(net_results[count] - actual_results[count])\n",
    "        count += 1\n",
    "\n",
    "net_results.sort()\n",
    "actual_results.sort()\n",
    "#difference.sort()"
   ]
  },
  {
   "cell_type": "markdown",
   "metadata": {},
   "source": [
    "# 4-4-3-1"
   ]
  },
  {
   "cell_type": "code",
   "execution_count": 95,
   "metadata": {
    "scrolled": false
   },
   "outputs": [
    {
     "data": {
      "image/png": "[encoded data removed]",
      "text/plain": [
       "<Figure size 432x288 with 1 Axes>"
      ]
     },
     "metadata": {
      "needs_background": "light"
     },
     "output_type": "display_data"
    }
   ],
   "source": [
    "plt.plot(net_results,'b')\n",
    "plt.plot(actual_results,'orange')\n",
    "plt.show()"
   ]
  },
  {
   "cell_type": "code",
   "execution_count": 96,
   "metadata": {},
   "outputs": [
    {
     "name": "stdout",
     "output_type": "stream",
     "text": [
      "[0.001915 0.001915 0.001915 0.001915 ... 0.743472 0.743472 0.743472 0.743472]\n",
      "[1.989872e-06 1.989872e-06 1.989872e-06 1.989872e-06 ... 8.512390e-01 8.512390e-01 8.512390e-01 8.512390e-01]\n"
     ]
    }
   ],
   "source": [
    "print(net_results)\n",
    "print(actual_results)"
   ]
  },
  {
   "cell_type": "markdown",
   "metadata": {},
   "source": [
    "# 4-4-4-1"
   ]
  },
  {
   "cell_type": "code",
   "execution_count": 88,
   "metadata": {
    "scrolled": false
   },
   "outputs": [
    {
     "data": {
      "image/png": "[encoded data removed]",
      "text/plain": [
       "<Figure size 432x288 with 1 Axes>"
      ]
     },
     "metadata": {
      "needs_background": "light"
     },
     "output_type": "display_data"
    }
   ],
   "source": [
    "plt.plot(net_results,'b')\n",
    "plt.plot(actual_results,'orange')\n",
    "plt.show()"
   ]
  },
  {
   "cell_type": "markdown",
   "metadata": {},
   "source": [
    "# 4-4-1"
   ]
  },
  {
   "cell_type": "code",
   "execution_count": 76,
   "metadata": {
    "scrolled": true
   },
   "outputs": [
    {
     "data": {
      "image/png": "[encoded data removed]",
      "text/plain": [
       "<Figure size 432x288 with 1 Axes>"
      ]
     },
     "metadata": {
      "needs_background": "light"
     },
     "output_type": "display_data"
    }
   ],
   "source": [
    "plt.plot(net_results,'b')\n",
    "plt.plot(actual_results,'orange')\n",
    "plt.show()"
   ]
  },
  {
   "cell_type": "code",
   "execution_count": 77,
   "metadata": {},
   "outputs": [
    {
     "name": "stdout",
     "output_type": "stream",
     "text": [
      "[0.004167 0.004167 0.004167 0.004167 ... 0.826997 0.827256 0.827505 0.827803]\n",
      "[1.989872e-06 1.989872e-06 1.989872e-06 1.989872e-06 ... 8.512390e-01 8.512390e-01 8.512390e-01 8.512390e-01]\n"
     ]
    }
   ],
   "source": [
    "print(net_results)\n",
    "print(actual_results)"
   ]
  },
  {
   "cell_type": "markdown",
   "metadata": {},
   "source": [
    "# 4-1"
   ]
  },
  {
   "cell_type": "code",
   "execution_count": 82,
   "metadata": {
    "scrolled": true
   },
   "outputs": [
    {
     "data": {
      "image/png": "[encoded data removed]",
      "text/plain": [
       "<Figure size 432x288 with 1 Axes>"
      ]
     },
     "metadata": {
      "needs_background": "light"
     },
     "output_type": "display_data"
    }
   ],
   "source": [
    "plt.plot(net_results,'b')\n",
    "plt.plot(actual_results,'orange')\n",
    "plt.show()"
   ]
  },
  {
   "cell_type": "code",
   "execution_count": 83,
   "metadata": {},
   "outputs": [
    {
     "name": "stdout",
     "output_type": "stream",
     "text": [
      "[0.011507 0.011507 0.011507 0.011507 ... 0.586883 0.586883 0.586883 0.586883]\n",
      "[1.989872e-06 1.989872e-06 1.989872e-06 1.989872e-06 ... 8.512390e-01 8.512390e-01 8.512390e-01 8.512390e-01]\n"
     ]
    }
   ],
   "source": [
    "print(net_results)\n",
    "print(actual_results)"
   ]
  },
  {
   "cell_type": "markdown",
   "metadata": {},
   "source": [
    "# 4-3-1 MAE"
   ]
  },
  {
   "cell_type": "code",
   "execution_count": 70,
   "metadata": {
    "scrolled": true
   },
   "outputs": [
    {
     "data": {
      "image/png": "[encoded data removed]",
      "text/plain": [
       "<Figure size 432x288 with 1 Axes>"
      ]
     },
     "metadata": {
      "needs_background": "light"
     },
     "output_type": "display_data"
    }
   ],
   "source": [
    "plt.plot(net_results,'b')\n",
    "plt.plot(actual_results,'orange')\n",
    "plt.show()"
   ]
  },
  {
   "cell_type": "code",
   "execution_count": 71,
   "metadata": {},
   "outputs": [
    {
     "name": "stdout",
     "output_type": "stream",
     "text": [
      "[0.003455 0.003455 0.003455 0.003455 ... 0.781183 0.781183 0.781183 0.781183]\n",
      "[1.989872e-06 1.989872e-06 1.989872e-06 1.989872e-06 ... 8.512390e-01 8.512390e-01 8.512390e-01 8.512390e-01]\n"
     ]
    }
   ],
   "source": [
    "print(net_results)\n",
    "print(actual_results)"
   ]
  },
  {
   "cell_type": "code",
   "execution_count": null,
   "metadata": {},
   "outputs": [],
   "source": []
  }
 ],
 "metadata": {
  "kernelspec": {
   "display_name": "Python 3",
   "language": "python",
   "name": "python3"
  },
  "language_info": {
   "codemirror_mode": {
    "name": "ipython",
    "version": 3
   },
   "file_extension": ".py",
   "mimetype": "text/x-python",
   "name": "python",
   "nbconvert_exporter": "python",
   "pygments_lexer": "ipython3",
   "version": "3.6.8"
  }
 },
 "nbformat": 4,
 "nbformat_minor": 2
}
