{
 "cells": [
  {
   "cell_type": "code",
   "execution_count": 1,
   "metadata": {},
   "outputs": [],
   "source": [
    "import matplotlib.pyplot as plt\n",
    "import torch.nn.functional as F\n",
    "import torch\n",
    "import torchvision\n",
    "from fastai import *\n",
    "from fastai.vision import *\n",
    "import numpy as np\n",
    "\n",
    "\n",
    "#processing tokens\n",
    "import unicodedata \n",
    "import re\n",
    "import inflect \n",
    "\n",
    "#tokenize\n",
    "from nltk import word_tokenize, sent_tokenize\n",
    "\n",
    "#find ngrams\n",
    "from nltk.util import ngrams\n",
    "\n",
    "import time\n",
    "from tqdm import tqdm\n",
    "\n",
    "#nn\n",
    "import torch.nn as nn\n",
    "from torch import optim\n",
    "from sklearn import preprocessing"
   ]
  },
  {
   "cell_type": "code",
   "execution_count": 2,
   "metadata": {},
   "outputs": [
    {
     "name": "stdout",
     "output_type": "stream",
     "text": [
      "GeForce GTX 1060 6GB\n",
      "True\n"
     ]
    }
   ],
   "source": [
    "device = torch.device(\"cuda:0\" if torch.cuda.is_available() else \"cpu\")\n",
    "print(torch.cuda.get_device_name(0))\n",
    "print(torch.cuda.is_available())\n"
   ]
  },
  {
   "cell_type": "markdown",
   "metadata": {},
   "source": [
    "# load inputs from pickle file"
   ]
  },
  {
   "cell_type": "code",
   "execution_count": 3,
   "metadata": {},
   "outputs": [],
   "source": [
    "inputs = torch.load('../../pickles/input_6903410_file').transpose(-2,1).float()\n",
    "outputs = torch.load('../../pickles/output_6903410_file').flatten().float()\n",
    "inputs = 1/inputs"
   ]
  },
  {
   "cell_type": "code",
   "execution_count": 4,
   "metadata": {},
   "outputs": [
    {
     "name": "stdout",
     "output_type": "stream",
     "text": [
      "tensor([[1.6667e-01, 5.0000e-01, 1.5625e-02, 4.0339e-04]], device='cuda:0')\n",
      "tensor(0.1735, device='cuda:0')\n",
      "\n",
      "Memory Usage:\n",
      "Allocated: 132.3 MB\n",
      "Cached:    348.0 MB\n"
     ]
    }
   ],
   "source": [
    "x = 501\n",
    "print(inputs[x:x+1,:])\n",
    "#print(outputs[x].reshape(1,1).size())\n",
    "#print(outputs[x].reshape(1,1))\n",
    "print(outputs[x])\n",
    "\n",
    "if device.type == 'cuda':\n",
    "    #print(torch.cuda.get_device_name(0))\n",
    "    print('\\nMemory Usage:')\n",
    "    print('Allocated:', round(torch.cuda.memory_allocated(0)/1024**2,1), 'MB')\n",
    "    print('Cached:   ', round(torch.cuda.memory_cached(0)/1024**2,1), 'MB')"
   ]
  },
  {
   "cell_type": "markdown",
   "metadata": {},
   "source": [
    "# Neural Net\n"
   ]
  },
  {
   "cell_type": "code",
   "execution_count": 227,
   "metadata": {},
   "outputs": [],
   "source": [
    "class Net(nn.Module):\n",
    "    def __init__(self):\n",
    "        super(Net, self).__init__()\n",
    "        self.fc1 = nn.Linear(4, 4)\n",
    "        #self.fc2 = nn.Linear(4, 4)\n",
    "        self.fc3 = nn.Linear(4, 3)\n",
    "        self.fc4 = nn.Linear(3, 1)\n",
    "\n",
    "        \n",
    "    def forward(self, x):\n",
    "        x = torch.sigmoid(self.fc1(x))\n",
    "        #x = torch.sigmoid(self.fc2(x))\n",
    "        x = torch.sigmoid(self.fc3(x)) \n",
    "        x = torch.sigmoid(self.fc4(x)) \n",
    "        return x"
   ]
  },
  {
   "cell_type": "code",
   "execution_count": 228,
   "metadata": {},
   "outputs": [],
   "source": [
    "net = Net().cuda()\n",
    "optimizer = optim.SGD(net.parameters(), lr=0.01, momentum=0.75)\n",
    "#criterion = torch.nn.SmoothL1Loss()  \n",
    "#criterion = torch.nn.L1Loss()  #mean absolute error\n",
    "criterion = torch.nn.MSELoss()  #mean square error\n",
    "#criterion = torch.nn.NLLLoss   #neg log likelyhood\n"
   ]
  },
  {
   "cell_type": "code",
   "execution_count": 229,
   "metadata": {
    "scrolled": false
   },
   "outputs": [
    {
     "name": "stderr",
     "output_type": "stream",
     "text": [
      "100%|██████████| 6903410/6903410 [15:41<00:00, 7329.31it/s]"
     ]
    },
    {
     "name": "stdout",
     "output_type": "stream",
     "text": [
      "941.8923707008362\n"
     ]
    },
    {
     "name": "stderr",
     "output_type": "stream",
     "text": [
      "\n"
     ]
    }
   ],
   "source": [
    "start = time.time()\n",
    "\n",
    "#for epoch in range(0, 1): ## run the model for 10 epochs\n",
    "\n",
    "for x in tqdm(range(len(inputs)),position=0, leave=True): #x starts at zero\n",
    "\n",
    "    if x%10 ==1:\n",
    "        optimizer.zero_grad()\n",
    "\n",
    "        ## 1. forward propagation\n",
    "        net_out = net((inputs[x:x+1,:]))\n",
    "        #print(train[:,x:(x+1)])\n",
    "\n",
    "        ## 2. loss calculation\n",
    "        loss = criterion(net_out, outputs[x].reshape(1,1))\n",
    "        #print(target[x])\n",
    "\n",
    "        ## 3. backward propagation\n",
    "        loss.backward()\n",
    "\n",
    "        ## 4. weight optimization\n",
    "        optimizer.step()\n",
    "        \n",
    "        #if(x % 10000 == 1):\n",
    "        #    print('Loss: {:.6f}'.format(loss.data))\n",
    "        \n",
    "        \n",
    "end = time.time()\n",
    "print(end-start)"
   ]
  },
  {
   "cell_type": "markdown",
   "metadata": {},
   "source": [
    "# Saving Model"
   ]
  },
  {
   "cell_type": "code",
   "execution_count": 211,
   "metadata": {},
   "outputs": [],
   "source": [
    "torch.save(net.state_dict(), 'NN saves/mse_4431_lr=0.01_m=0.1_without_r=1')"
   ]
  },
  {
   "cell_type": "markdown",
   "metadata": {},
   "source": [
    "# Loading model"
   ]
  },
  {
   "cell_type": "code",
   "execution_count": null,
   "metadata": {},
   "outputs": [],
   "source": [
    "net = Net().cuda()\n",
    "net.load_state_dict(torch.load('NN saves/smoothl1loss_4421_without_r=1'))\n",
    "net.eval()"
   ]
  },
  {
   "cell_type": "markdown",
   "metadata": {},
   "source": [
    "# Fast AI"
   ]
  },
  {
   "cell_type": "code",
   "execution_count": 167,
   "metadata": {},
   "outputs": [],
   "source": [
    "class ArrayDataset(Dataset):\n",
    "    \"Sample numpy array dataset\"\n",
    "    def __init__(self, x, y):\n",
    "        self.x = x\n",
    "        self.y = y   \n",
    "        self.c = 1 # binary label\n",
    "    \n",
    "    def __len__(self):\n",
    "        return len(self.x)\n",
    "    \n",
    "    def __getitem__(self, i):\n",
    "        return self.x[i,:], self.y[i].reshape(1)"
   ]
  },
  {
   "cell_type": "code",
   "execution_count": 168,
   "metadata": {},
   "outputs": [
    {
     "name": "stdout",
     "output_type": "stream",
     "text": [
      "torch.Size([1, 4])\n",
      "torch.Size([])\n"
     ]
    }
   ],
   "source": [
    "fastAI_inputs = inputs[0:1000000,:].to(\"cpu\")\n",
    "fastAI_outputs = outputs[0:1000000].to(\"cpu\")\n",
    "fastAI_inputs2 = inputs[1000000:2000000,:].to(\"cpu\")\n",
    "fastAI_outputs2 = outputs[1000000:2000000].to(\"cpu\")\n",
    "\n",
    "print(fastAI_inputs[1:2,:].size())\n",
    "print(fastAI_outputs[1].size())"
   ]
  },
  {
   "cell_type": "code",
   "execution_count": 169,
   "metadata": {},
   "outputs": [
    {
     "name": "stdout",
     "output_type": "stream",
     "text": [
      "(tensor([[7.5188e-03, 5.0000e-01, 2.1277e-02, 2.2642e-06],\n",
      "        [2.3810e-02, 5.0000e-01, 5.5556e-02, 1.2798e-06]]), tensor([[0.0078],\n",
      "        [0.0248]]))\n"
     ]
    }
   ],
   "source": [
    "train_ds = ArrayDataset(fastAI_inputs,fastAI_outputs)\n",
    "valid_ds = ArrayDataset(fastAI_inputs2,fastAI_outputs2)\n",
    "data = DataBunch.create(train_ds, valid_ds, bs=2)\n",
    "print(data.one_batch())\n"
   ]
  },
  {
   "cell_type": "code",
   "execution_count": 191,
   "metadata": {},
   "outputs": [],
   "source": [
    "criterion = torch.nn.MSELoss()  #mean square error\n",
    "#criterion = torch.nn.L1Loss()  #mean absolute error\n",
    "#criterion = torch.nn.SmoothL1Loss()  \n",
    "#criterion = torch.nn.NLLLoss()   #neg log likelyhood\n",
    "#criterion = torch.nn.CrossEntropyLoss()\n",
    "net2 = Net().cuda()"
   ]
  },
  {
   "cell_type": "code",
   "execution_count": 192,
   "metadata": {},
   "outputs": [],
   "source": [
    "learn = Learner(data, net2, opt_func = torch.optim.SGD, loss_func = criterion)"
   ]
  },
  {
   "cell_type": "code",
   "execution_count": 193,
   "metadata": {},
   "outputs": [
    {
     "data": {
      "text/html": [],
      "text/plain": [
       "<IPython.core.display.HTML object>"
      ]
     },
     "metadata": {},
     "output_type": "display_data"
    },
    {
     "name": "stdout",
     "output_type": "stream",
     "text": [
      "LR Finder is complete, type {learner_name}.recorder.plot() to see the graph.\n"
     ]
    }
   ],
   "source": [
    "learn.lr_find()"
   ]
  },
  {
   "cell_type": "code",
   "execution_count": 194,
   "metadata": {},
   "outputs": [
    {
     "data": {
      "image/png": "[encoded data removed]",
      "text/plain": [
       "<Figure size 432x288 with 1 Axes>"
      ]
     },
     "metadata": {
      "needs_background": "light"
     },
     "output_type": "display_data"
    }
   ],
   "source": [
    "learn.recorder.plot()"
   ]
  },
  {
   "cell_type": "markdown",
   "metadata": {},
   "source": [
    "# Comparing "
   ]
  },
  {
   "cell_type": "code",
   "execution_count": 230,
   "metadata": {},
   "outputs": [
    {
     "name": "stderr",
     "output_type": "stream",
     "text": [
      "100%|██████████| 6903410/6903410 [02:51<00:00, 40329.72it/s]\n"
     ]
    },
    {
     "name": "stdout",
     "output_type": "stream",
     "text": [
      "time: 171.2931411266327\n"
     ]
    }
   ],
   "source": [
    "start = time.time()\n",
    "\n",
    "difference = np.zeros(int(len(inputs)/10))\n",
    "net_results = np.zeros(int(len(inputs)/10))\n",
    "actual_results = np.zeros(int(len(inputs)/10))\n",
    "count = 0\n",
    "\n",
    "for x in tqdm(range(len(inputs)),position=0, leave=True):\n",
    "    if x%10 == 1:\n",
    "        net_results[count] = net(inputs[x:x+1,:])\n",
    "        actual_results[count] = outputs[x]\n",
    "        difference[count] = abs(net_results[count] - actual_results[count])\n",
    "        count += 1\n",
    "\n",
    "net_results.sort()\n",
    "actual_results.sort()\n",
    "difference.sort()\n",
    "\n",
    "end = time.time()\n",
    "print('time: ' + str(end-start))"
   ]
  },
  {
   "cell_type": "code",
   "execution_count": 205,
   "metadata": {},
   "outputs": [
    {
     "name": "stdout",
     "output_type": "stream",
     "text": [
      "[0.011564 0.011564 0.011565 0.011565 ... 0.714345 0.714345 0.714345 0.714345]\n",
      "[1.989872e-06 1.989872e-06 1.989872e-06 1.989872e-06 ... 8.512390e-01 8.512390e-01 8.512390e-01 8.512390e-01]\n"
     ]
    }
   ],
   "source": [
    "print(net_results)\n",
    "print(actual_results)"
   ]
  },
  {
   "cell_type": "code",
   "execution_count": 206,
   "metadata": {},
   "outputs": [
    {
     "data": {
      "image/png": "[encoded data removed]",
      "text/plain": [
       "<Figure size 432x288 with 1 Axes>"
      ]
     },
     "metadata": {
      "needs_background": "light"
     },
     "output_type": "display_data"
    }
   ],
   "source": [
    "plt.plot(net_results,'b')\n",
    "plt.plot(actual_results,'orange')\n",
    "plt.show()"
   ]
  },
  {
   "cell_type": "code",
   "execution_count": 231,
   "metadata": {},
   "outputs": [
    {
     "data": {
      "image/png": "[encoded data removed]",
      "text/plain": [
       "<Figure size 432x288 with 1 Axes>"
      ]
     },
     "metadata": {
      "needs_background": "light"
     },
     "output_type": "display_data"
    }
   ],
   "source": [
    "plt.plot(net_results,'b')\n",
    "plt.plot(actual_results,'orange')\n",
    "plt.show()"
   ]
  },
  {
   "cell_type": "code",
   "execution_count": 224,
   "metadata": {},
   "outputs": [
    {
     "data": {
      "image/png": "[encoded data removed]",
      "text/plain": [
       "<Figure size 432x288 with 1 Axes>"
      ]
     },
     "metadata": {
      "needs_background": "light"
     },
     "output_type": "display_data"
    }
   ],
   "source": [
    "plt.plot(net_results,'b')\n",
    "plt.plot(actual_results,'orange')\n",
    "plt.show()"
   ]
  },
  {
   "cell_type": "code",
   "execution_count": 232,
   "metadata": {},
   "outputs": [
    {
     "data": {
      "image/png": "[encoded data removed]",
      "text/plain": [
       "<Figure size 432x288 with 1 Axes>"
      ]
     },
     "metadata": {
      "needs_background": "light"
     },
     "output_type": "display_data"
    }
   ],
   "source": [
    "plt.plot(difference)\n",
    "plt.show()"
   ]
  },
  {
   "cell_type": "code",
   "execution_count": 233,
   "metadata": {},
   "outputs": [
    {
     "name": "stdout",
     "output_type": "stream",
     "text": [
      "tensor([0.0103], device='cuda:0', grad_fn=<SigmoidBackward>)\n",
      "tensor([0.0152], device='cuda:0', grad_fn=<SigmoidBackward>)\n"
     ]
    }
   ],
   "source": [
    "print(net(torch.tensor([7.5188e-03, 5.0000e-01, 2.1277e-02, 2.2642e-06], device = device)))#0.0078\n",
    "print(net(torch.tensor([2.3810e-02, 5.0000e-01, 5.5556e-02, 1.2798e-06], device = device)))#0.0248"
   ]
  },
  {
   "cell_type": "code",
   "execution_count": null,
   "metadata": {},
   "outputs": [],
   "source": []
  }
 ],
 "metadata": {
  "kernelspec": {
   "display_name": "Python 3",
   "language": "python",
   "name": "python3"
  },
  "language_info": {
   "codemirror_mode": {
    "name": "ipython",
    "version": 3
   },
   "file_extension": ".py",
   "mimetype": "text/x-python",
   "name": "python",
   "nbconvert_exporter": "python",
   "pygments_lexer": "ipython3",
   "version": "3.6.8"
  }
 },
 "nbformat": 4,
 "nbformat_minor": 2
}
