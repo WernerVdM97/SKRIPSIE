{
 "cells": [
  {
   "cell_type": "code",
   "execution_count": 4,
   "metadata": {},
   "outputs": [],
   "source": [
    "import torch\n",
    "import torch.nn as nn\n",
    "import torch.nn.functional as F\n",
    "import matplotlib.pyplot as plt\n",
    "import time\n",
    "\n",
    "from torchvision import transforms\n",
    "from torchvision.datasets import MNIST # example1 data\n",
    "from torch.autograd import Variable\n",
    "\n",
    "from torch.utils.data import DataLoader \n",
    "#batch, shuffle and load data in parrallel\n",
    "from torch.utils.data.sampler import SubsetRandomSampler \n",
    "#partition data into training and validation sets\n",
    "\n",
    "from torch import optim\n",
    "#used with loss function, defines learning rate, momentum..."
   ]
  },
  {
   "cell_type": "markdown",
   "metadata": {},
   "source": [
    "# Fundamentals of Neural Net\n",
    "## First define layers"
   ]
  },
  {
   "cell_type": "code",
   "execution_count": null,
   "metadata": {},
   "outputs": [],
   "source": [
    "# we will construct a nn with 5 input nodes, \n",
    "#1 hidden layer with 3 noeds, and 1 output layer\n",
    "n_input, n_hidden, n_output = 5, 3, 1"
   ]
  },
  {
   "cell_type": "markdown",
   "metadata": {},
   "source": [
    "# parameter initialization\n",
    "weigths and bias parameters for each layer as tensors(matrice)"
   ]
  },
  {
   "cell_type": "code",
   "execution_count": null,
   "metadata": {},
   "outputs": [],
   "source": [
    "# tensors for input and outputs\n",
    "x = torch.randn((1, n_input))\n",
    "y = torch.randn((1, n_output))\n",
    "print(x)\n",
    "print(y)"
   ]
  },
  {
   "cell_type": "code",
   "execution_count": null,
   "metadata": {},
   "outputs": [],
   "source": [
    "# weights (y,x) :\n",
    "w1 = torch.randn(n_input, n_hidden) # weight for hidden layer\n",
    "w2 = torch.randn(n_hidden, n_output) # weight for output layer\n",
    "\n",
    "print(w1)\n",
    "print(w2)"
   ]
  },
  {
   "cell_type": "code",
   "execution_count": null,
   "metadata": {},
   "outputs": [],
   "source": [
    "# bias terms for each layer\n",
    "b1 = torch.randn((1, n_hidden)) # bias for hidden layer\n",
    "b2 = torch.randn((1, n_output)) # bias for output layer\n",
    "print(b1)\n",
    "print(b2)"
   ]
  },
  {
   "cell_type": "markdown",
   "metadata": {},
   "source": [
    "# 4 steps to train neural net:\n",
    "\n",
    "    Forward Propagation\n",
    "    Loss computation\n",
    "    Backpropagation\n",
    "    Updating the parameters\n"
   ]
  },
  {
   "cell_type": "markdown",
   "metadata": {},
   "source": [
    "# Forward Propagation\n",
    "## computing activations for layers\n",
    "\n",
    "    z = weight * input + bias\n",
    "    a = activation_function (z)\n"
   ]
  },
  {
   "cell_type": "code",
   "execution_count": null,
   "metadata": {},
   "outputs": [],
   "source": [
    "# using sigmoid\n",
    "def sigmoid_activation(z):\n",
    "    return 1 / (1 + torch.exp(-z))"
   ]
  },
  {
   "cell_type": "code",
   "execution_count": null,
   "metadata": {},
   "outputs": [],
   "source": [
    "# activation of hidden layer \n",
    "z1 = torch.mm(x, w1) + b1    # x - input, w1 - weight, b1 - bias\n",
    "a1 = sigmoid_activation(z1)"
   ]
  },
  {
   "cell_type": "code",
   "execution_count": null,
   "metadata": {},
   "outputs": [],
   "source": [
    "# activation (output) of final layer \n",
    "z2 = torch.mm(a1, w2) + b2      #activation of prev layer taken as input\n",
    "output = sigmoid_activation(z2)"
   ]
  },
  {
   "cell_type": "markdown",
   "metadata": {},
   "source": [
    "# Loss computation\n",
    "## defining loss function"
   ]
  },
  {
   "cell_type": "code",
   "execution_count": null,
   "metadata": {},
   "outputs": [],
   "source": [
    "# how far output is from deired value\n",
    "loss = y - output"
   ]
  },
  {
   "cell_type": "markdown",
   "metadata": {},
   "source": [
    "# Back Propagation\n",
    "## recompute parameters by using derivative of error term"
   ]
  },
  {
   "cell_type": "code",
   "execution_count": null,
   "metadata": {},
   "outputs": [],
   "source": [
    "## function to calculate the derivative of activation\n",
    "def sigmoid_delta(x):\n",
    "    return x * (1 - x)"
   ]
  },
  {
   "cell_type": "code",
   "execution_count": null,
   "metadata": {},
   "outputs": [],
   "source": [
    "## compute derivative of error terms\n",
    "delta_output = sigmoid_delta(output)\n",
    "delta_hidden = sigmoid_delta(a1)"
   ]
  },
  {
   "cell_type": "code",
   "execution_count": null,
   "metadata": {},
   "outputs": [],
   "source": [
    "## backpass the changes to previous layers \n",
    "d_outp = loss * delta_output\n",
    "loss_h = torch.mm(d_outp, w2.t())\n",
    "d_hidn = loss_h * delta_hidden"
   ]
  },
  {
   "cell_type": "markdown",
   "metadata": {},
   "source": [
    "# Update Parameters\n",
    "## specifying learning rate and assigning new weights and biases"
   ]
  },
  {
   "cell_type": "code",
   "execution_count": null,
   "metadata": {},
   "outputs": [],
   "source": [
    "learning_rate = 0.1"
   ]
  },
  {
   "cell_type": "code",
   "execution_count": null,
   "metadata": {},
   "outputs": [],
   "source": [
    "w2 += torch.mm(a1.t(), d_outp) * learning_rate\n",
    "w1 += torch.mm(x.t(), d_hidn) * learning_rate"
   ]
  },
  {
   "cell_type": "code",
   "execution_count": null,
   "metadata": {},
   "outputs": [],
   "source": [
    "b2 += d_outp.sum() * learning_rate\n",
    "b1 += d_hidn.sum() * learning_rate"
   ]
  },
  {
   "cell_type": "markdown",
   "metadata": {},
   "source": [
    "# Example 1\n",
    "## Defining Neural Net"
   ]
  },
  {
   "cell_type": "code",
   "execution_count": 53,
   "metadata": {},
   "outputs": [],
   "source": [
    "class Net(nn.Module):\n",
    "    def __init__(self):\n",
    "        super(Net, self).__init__()\n",
    "        self.fc1 = nn.Linear(28 * 28, 600)\n",
    "        self.fc2 = nn.Linear(600, 400)\n",
    "        self.fc3 = nn.Linear(400, 200)\n",
    "        self.fc4 = nn.Linear(200, 10)\n",
    "\n",
    "        \n",
    "    def forward(self, x):\n",
    "        x = F.relu(self.fc1(x))\n",
    "        x = F.relu(self.fc2(x))\n",
    "        x = F.relu(self.fc3(x))\n",
    "        x = F.log_softmax(self.fc4(x)) \n",
    "        return x"
   ]
  },
  {
   "cell_type": "code",
   "execution_count": null,
   "metadata": {},
   "outputs": [],
   "source": [
    "F.log_softmax?"
   ]
  },
  {
   "cell_type": "code",
   "execution_count": 54,
   "metadata": {},
   "outputs": [],
   "source": [
    "#create instance\n",
    "net = Net()"
   ]
  },
  {
   "cell_type": "markdown",
   "metadata": {},
   "source": [
    "## loading data"
   ]
  },
  {
   "cell_type": "code",
   "execution_count": 5,
   "metadata": {},
   "outputs": [],
   "source": [
    "batch_size = 200\n",
    "train_loader = torch.utils.data.DataLoader(MNIST('../data', train=True, download=True,transform=transforms.Compose([transforms.ToTensor(),transforms.Normalize((0.1307,), (0.3081,))])),batch_size=batch_size, shuffle=True)\n",
    "test_loader = torch.utils.data.DataLoader(MNIST('../data', train=False, transform=transforms.Compose([transforms.ToTensor(),transforms.Normalize((0.1307,), (0.3081,))])),batch_size=batch_size, shuffle=True)"
   ]
  },
  {
   "cell_type": "markdown",
   "metadata": {},
   "source": [
    "## Specify optimiser and loss function"
   ]
  },
  {
   "cell_type": "code",
   "execution_count": 56,
   "metadata": {},
   "outputs": [],
   "source": [
    "# create a stochastic gradient descent optimizer\n",
    "optimizer = optim.SGD(net.parameters(), lr=0.01, momentum=0.9)\n",
    "# create a loss function\n",
    "criterion = nn.NLLLoss()"
   ]
  },
  {
   "cell_type": "markdown",
   "metadata": {},
   "source": [
    "# Run training"
   ]
  },
  {
   "cell_type": "code",
   "execution_count": 7,
   "metadata": {},
   "outputs": [
    {
     "ename": "TypeError",
     "evalue": "'DataLoader' object does not support indexing",
     "output_type": "error",
     "traceback": [
      "\u001b[0;31m---------------------------------------------------------------------------\u001b[0m",
      "\u001b[0;31mTypeError\u001b[0m                                 Traceback (most recent call last)",
      "\u001b[0;32m<ipython-input-7-f3a6931251e8>\u001b[0m in \u001b[0;36m<module>\u001b[0;34m\u001b[0m\n\u001b[0;32m----> 1\u001b[0;31m \u001b[0mprint\u001b[0m\u001b[0;34m(\u001b[0m\u001b[0mtrain_loader\u001b[0m\u001b[0;34m[\u001b[0m\u001b[0;36m1\u001b[0m\u001b[0;34m]\u001b[0m\u001b[0;34m)\u001b[0m\u001b[0;34m\u001b[0m\u001b[0;34m\u001b[0m\u001b[0m\n\u001b[0m",
      "\u001b[0;31mTypeError\u001b[0m: 'DataLoader' object does not support indexing"
     ]
    }
   ],
   "source": [
    "print(train_loader[1])"
   ]
  },
  {
   "cell_type": "code",
   "execution_count": 58,
   "metadata": {},
   "outputs": [
    {
     "name": "stderr",
     "output_type": "stream",
     "text": [
      "/home/werner/.local/lib/python3.6/site-packages/ipykernel_launcher.py:14: UserWarning: Implicit dimension choice for log_softmax has been deprecated. Change the call to include dim=X as an argument.\n",
      "  \n"
     ]
    },
    {
     "name": "stdout",
     "output_type": "stream",
     "text": [
      "Train Epoch: 1 [0/60000 (0%)]\tLoss: 2.301998\n",
      "Train Epoch: 1 [20000/60000 (33%)]\tLoss: 0.491649\n",
      "Train Epoch: 1 [40000/60000 (67%)]\tLoss: 0.333008\n",
      "Train Epoch: 2 [0/60000 (0%)]\tLoss: 0.203353\n",
      "Train Epoch: 2 [20000/60000 (33%)]\tLoss: 0.215467\n",
      "Train Epoch: 2 [40000/60000 (67%)]\tLoss: 0.172783\n",
      "Train Epoch: 3 [0/60000 (0%)]\tLoss: 0.194003\n",
      "Train Epoch: 3 [20000/60000 (33%)]\tLoss: 0.132691\n",
      "Train Epoch: 3 [40000/60000 (67%)]\tLoss: 0.132637\n",
      "Train Epoch: 4 [0/60000 (0%)]\tLoss: 0.115938\n",
      "Train Epoch: 4 [20000/60000 (33%)]\tLoss: 0.101211\n",
      "Train Epoch: 4 [40000/60000 (67%)]\tLoss: 0.054802\n",
      "Train Epoch: 5 [0/60000 (0%)]\tLoss: 0.046972\n",
      "Train Epoch: 5 [20000/60000 (33%)]\tLoss: 0.063006\n",
      "Train Epoch: 5 [40000/60000 (67%)]\tLoss: 0.069938\n",
      "Train Epoch: 6 [0/60000 (0%)]\tLoss: 0.091267\n",
      "Train Epoch: 6 [20000/60000 (33%)]\tLoss: 0.052344\n",
      "Train Epoch: 6 [40000/60000 (67%)]\tLoss: 0.081144\n",
      "Train Epoch: 7 [0/60000 (0%)]\tLoss: 0.041821\n",
      "Train Epoch: 7 [20000/60000 (33%)]\tLoss: 0.023665\n",
      "Train Epoch: 7 [40000/60000 (67%)]\tLoss: 0.027611\n",
      "Train Epoch: 8 [0/60000 (0%)]\tLoss: 0.027006\n",
      "Train Epoch: 8 [20000/60000 (33%)]\tLoss: 0.026394\n",
      "Train Epoch: 8 [40000/60000 (67%)]\tLoss: 0.032037\n",
      "Train Epoch: 9 [0/60000 (0%)]\tLoss: 0.020314\n",
      "Train Epoch: 9 [20000/60000 (33%)]\tLoss: 0.030580\n",
      "Train Epoch: 9 [40000/60000 (67%)]\tLoss: 0.039971\n",
      "87.45806407928467\n"
     ]
    }
   ],
   "source": [
    "log_interval = 100\n",
    "start = time.time()\n",
    "\n",
    "for epoch in range(1, 10): ## run the model for 10 epochs\n",
    "\n",
    "    for batch_idx, (data, target) in enumerate(train_loader):\n",
    "       \n",
    "        data, target = Variable(data), Variable(target)\n",
    "        \n",
    "        # resize data from (batch_size, 1, 28, 28) to (batch_size, 28*28)\n",
    "        data = data.view(-1, 28*28)\n",
    "        #print(data.size())\n",
    "        optimizer.zero_grad()\n",
    "        \n",
    "        ## 1. forward propagation\n",
    "        net_out = net(data)\n",
    "        \n",
    "        ## 2. loss calculation\n",
    "        loss = criterion(net_out, target)\n",
    "        \n",
    "        ## 3. backward propagation\n",
    "        loss.backward()\n",
    "        \n",
    "        ## 4. weight optimization\n",
    "        optimizer.step()\n",
    "        \n",
    "\n",
    "        if batch_idx % log_interval == 0:\n",
    "            print('Train Epoch: {} [{}/{} ({:.0f}%)]\\tLoss: {:.6f}'.format(\n",
    "                epoch, \n",
    "                batch_idx * len(data), \n",
    "                len(train_loader.dataset),\n",
    "                100. * batch_idx / len(train_loader), \n",
    "                loss.data))\n",
    "            \n",
    "end = time.time()\n",
    "print(end-start)"
   ]
  },
  {
   "cell_type": "code",
   "execution_count": 60,
   "metadata": {},
   "outputs": [
    {
     "name": "stderr",
     "output_type": "stream",
     "text": [
      "/home/werner/.local/lib/python3.6/site-packages/ipykernel_launcher.py:14: UserWarning: Implicit dimension choice for log_softmax has been deprecated. Change the call to include dim=X as an argument.\n",
      "  \n"
     ]
    },
    {
     "name": "stdout",
     "output_type": "stream",
     "text": [
      "\n",
      "Test set: Average loss: 0.0003, Accuracy: 9791/10000 (97%)\n",
      "\n"
     ]
    }
   ],
   "source": [
    "# run a test loop\n",
    "test_loss = 0\n",
    "correct = 0\n",
    "for data, target in test_loader:\n",
    "    data, target = Variable(data), Variable(target)\n",
    "    data = data.view(-1, 28 * 28)\n",
    "    net_out = net(data)\n",
    "    # sum up batch loss\n",
    "    test_loss += criterion(net_out, target).data\n",
    "    pred = net_out.data.max(1)[1]  # get the index of the max log-probability\n",
    "    correct += pred.eq(target.data).sum()\n",
    "\n",
    "test_loss /= len(test_loader.dataset)\n",
    "print('\\nTest set: Average loss: {:.4f}, Accuracy: {}/{} ({:.0f}%)\\n'.format(\n",
    "    test_loss, \n",
    "    correct, \n",
    "    len(test_loader.dataset),\n",
    "    100. * correct / len(test_loader.dataset))\n",
    "     )"
   ]
  },
  {
   "cell_type": "markdown",
   "metadata": {},
   "source": [
    "Prev Test set: Average loss: 0.0004, Accuracy: 9783/10000 (97%)"
   ]
  },
  {
   "cell_type": "markdown",
   "metadata": {},
   "source": [
    "# Cuda implementation"
   ]
  },
  {
   "cell_type": "code",
   "execution_count": 37,
   "metadata": {},
   "outputs": [
    {
     "name": "stdout",
     "output_type": "stream",
     "text": [
      "cuda:0\n"
     ]
    },
    {
     "data": {
      "text/plain": [
       "Net(\n",
       "  (fc1): Linear(in_features=784, out_features=600, bias=True)\n",
       "  (fc2): Linear(in_features=600, out_features=400, bias=True)\n",
       "  (fc3): Linear(in_features=400, out_features=200, bias=True)\n",
       "  (fc4): Linear(in_features=200, out_features=10, bias=True)\n",
       ")"
      ]
     },
     "execution_count": 37,
     "metadata": {},
     "output_type": "execute_result"
    }
   ],
   "source": [
    "device = torch.device(\"cuda:0\" if torch.cuda.is_available() else \"cpu\")\n",
    "\n",
    "# Assuming that we are on a CUDA machine, this should print a CUDA device:\n",
    "print(device)\n",
    "\n",
    "net2 = Net()\n",
    "net2.to(device)"
   ]
  },
  {
   "cell_type": "code",
   "execution_count": 38,
   "metadata": {},
   "outputs": [],
   "source": [
    "optimizer2 = optim.SGD(net2.parameters(), lr=0.01, momentum=0.9)"
   ]
  },
  {
   "cell_type": "code",
   "execution_count": 46,
   "metadata": {},
   "outputs": [
    {
     "name": "stderr",
     "output_type": "stream",
     "text": [
      "/home/werner/.local/lib/python3.6/site-packages/ipykernel_launcher.py:14: UserWarning: Implicit dimension choice for log_softmax has been deprecated. Change the call to include dim=X as an argument.\n",
      "  \n"
     ]
    },
    {
     "name": "stdout",
     "output_type": "stream",
     "text": [
      "Train Epoch: 1 [0/60000 (0%)]\tLoss: 2.297508\n",
      "Train Epoch: 1 [20000/60000 (33%)]\tLoss: 2.299280\n",
      "Train Epoch: 1 [40000/60000 (67%)]\tLoss: 2.300821\n",
      "Train Epoch: 2 [0/60000 (0%)]\tLoss: 2.301765\n",
      "Train Epoch: 2 [20000/60000 (33%)]\tLoss: 2.300425\n",
      "Train Epoch: 2 [40000/60000 (67%)]\tLoss: 2.303541\n",
      "Train Epoch: 3 [0/60000 (0%)]\tLoss: 2.299265\n",
      "Train Epoch: 3 [20000/60000 (33%)]\tLoss: 2.303730\n",
      "Train Epoch: 3 [40000/60000 (67%)]\tLoss: 2.297861\n",
      "Train Epoch: 4 [0/60000 (0%)]\tLoss: 2.294935\n",
      "Train Epoch: 4 [20000/60000 (33%)]\tLoss: 2.303661\n",
      "Train Epoch: 4 [40000/60000 (67%)]\tLoss: 2.298801\n",
      "Train Epoch: 5 [0/60000 (0%)]\tLoss: 2.307049\n",
      "Train Epoch: 5 [20000/60000 (33%)]\tLoss: 2.304901\n",
      "Train Epoch: 5 [40000/60000 (67%)]\tLoss: 2.298889\n",
      "Train Epoch: 6 [0/60000 (0%)]\tLoss: 2.299034\n",
      "Train Epoch: 6 [20000/60000 (33%)]\tLoss: 2.297056\n",
      "Train Epoch: 6 [40000/60000 (67%)]\tLoss: 2.308685\n",
      "Train Epoch: 7 [0/60000 (0%)]\tLoss: 2.298451\n",
      "Train Epoch: 7 [20000/60000 (33%)]\tLoss: 2.301242\n",
      "Train Epoch: 7 [40000/60000 (67%)]\tLoss: 2.300860\n",
      "Train Epoch: 8 [0/60000 (0%)]\tLoss: 2.301281\n",
      "Train Epoch: 8 [20000/60000 (33%)]\tLoss: 2.309001\n",
      "Train Epoch: 8 [40000/60000 (67%)]\tLoss: 2.303692\n",
      "Train Epoch: 9 [0/60000 (0%)]\tLoss: 2.307230\n",
      "Train Epoch: 9 [20000/60000 (33%)]\tLoss: 2.300004\n",
      "Train Epoch: 9 [40000/60000 (67%)]\tLoss: 2.301974\n",
      "69.5446228981018\n"
     ]
    }
   ],
   "source": [
    "log_interval = 100\n",
    "start = time.time()\n",
    "\n",
    "for epoch in range(1, 10): ## run the model for 10 epochs\n",
    "\n",
    "    for batch_idx, (data, target) in enumerate(train_loader):\n",
    "       \n",
    "        data, target = Variable(data), Variable(target)\n",
    "        \n",
    "        #cast to gpu\n",
    "        data = data.to(device)\n",
    "        target = target.to(device)\n",
    "        \n",
    "        # resize data from (batch_size, 1, 28, 28) to (batch_size, 28*28)\n",
    "        data = data.view(-1, 28*28)\n",
    "        #print(data.size())\n",
    "        \n",
    "        #reset gradients\n",
    "        optimizer2.zero_grad()      \n",
    "        \n",
    "        ## 1. forward propagation\n",
    "        net_out = net2(data)\n",
    "\n",
    "        ## 2. loss calculation\n",
    "        loss = criterion(net_out, target)\n",
    "       \n",
    "        ## 3. backward propagation\n",
    "        loss.backward()\n",
    "        \n",
    "        ## 4. weight optimization\n",
    "        optimizer2.step()\n",
    "        \n",
    "\n",
    "        if batch_idx % log_interval == 0:\n",
    "            print('Train Epoch: {} [{}/{} ({:.0f}%)]\\tLoss: {:.6f}'.format(\n",
    "                epoch, \n",
    "                batch_idx * len(data), \n",
    "                len(train_loader.dataset),\n",
    "                100. * batch_idx / len(train_loader), \n",
    "                loss.data))\n",
    "            \n",
    "end = time.time()\n",
    "print(end-start)"
   ]
  },
  {
   "cell_type": "code",
   "execution_count": 21,
   "metadata": {},
   "outputs": [
    {
     "data": {
      "text/plain": [
       "0"
      ]
     },
     "execution_count": 21,
     "metadata": {},
     "output_type": "execute_result"
    }
   ],
   "source": [
    "torch.cuda.current_device()"
   ]
  },
  {
   "cell_type": "code",
   "execution_count": 22,
   "metadata": {},
   "outputs": [
    {
     "data": {
      "text/plain": [
       "<torch.cuda.device at 0x7fe0d8adafd0>"
      ]
     },
     "execution_count": 22,
     "metadata": {},
     "output_type": "execute_result"
    }
   ],
   "source": [
    "torch.cuda.device(0)"
   ]
  },
  {
   "cell_type": "code",
   "execution_count": 23,
   "metadata": {},
   "outputs": [
    {
     "data": {
      "text/plain": [
       "1"
      ]
     },
     "execution_count": 23,
     "metadata": {},
     "output_type": "execute_result"
    }
   ],
   "source": [
    "torch.cuda.device_count()"
   ]
  },
  {
   "cell_type": "code",
   "execution_count": 24,
   "metadata": {},
   "outputs": [
    {
     "data": {
      "text/plain": [
       "'GeForce GTX 1060 6GB'"
      ]
     },
     "execution_count": 24,
     "metadata": {},
     "output_type": "execute_result"
    }
   ],
   "source": [
    "torch.cuda.get_device_name(0)"
   ]
  },
  {
   "cell_type": "code",
   "execution_count": 25,
   "metadata": {},
   "outputs": [
    {
     "data": {
      "text/plain": [
       "True"
      ]
     },
     "execution_count": 25,
     "metadata": {},
     "output_type": "execute_result"
    }
   ],
   "source": [
    "torch.cuda.is_available()"
   ]
  },
  {
   "cell_type": "code",
   "execution_count": 47,
   "metadata": {},
   "outputs": [
    {
     "name": "stdout",
     "output_type": "stream",
     "text": [
      "GeForce GTX 1060 6GB\n",
      "Memory Usage:\n",
      "Allocated: 12.0 MB\n",
      "Cached:    32.0 MB\n"
     ]
    }
   ],
   "source": [
    "if device.type == 'cuda':\n",
    "    print(torch.cuda.get_device_name(0))\n",
    "    print('Memory Usage:')\n",
    "    print('Allocated:', round(torch.cuda.memory_allocated(0)/1024**2,1), 'MB')\n",
    "    print('Cached:   ', round(torch.cuda.memory_cached(0)/1024**2,1), 'MB')"
   ]
  }
 ],
 "metadata": {
  "kernelspec": {
   "display_name": "Python 3",
   "language": "python",
   "name": "python3"
  },
  "language_info": {
   "codemirror_mode": {
    "name": "ipython",
    "version": 3
   },
   "file_extension": ".py",
   "mimetype": "text/x-python",
   "name": "python",
   "nbconvert_exporter": "python",
   "pygments_lexer": "ipython3",
   "version": "3.6.8"
  }
 },
 "nbformat": 4,
 "nbformat_minor": 2
}
