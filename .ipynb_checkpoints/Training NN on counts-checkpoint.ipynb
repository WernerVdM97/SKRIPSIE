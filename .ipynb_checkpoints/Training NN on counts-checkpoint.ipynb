{
 "cells": [
  {
   "cell_type": "code",
<<<<<<< HEAD
   "execution_count": 2,
=======
   "execution_count": 17,
>>>>>>> 15b8be5a9491092180e7f5852c5d7956514c3906
   "metadata": {},
   "outputs": [],
   "source": [
    "import matplotlib.pyplot as plt\n",
    "import torch.nn.functional as F\n",
    "import torch\n",
    "import torchvision\n",
    "from fastai import *\n",
    "from fastai.vision import *\n",
    "import numpy as np\n",
    "\n",
    "\n",
    "#processing tokens\n",
    "import unicodedata \n",
    "import re\n",
    "import inflect \n",
    "\n",
    "#tokenize\n",
    "from nltk import word_tokenize, sent_tokenize\n",
    "\n",
    "#find ngrams\n",
    "from nltk.util import ngrams\n",
    "\n",
    "import time\n",
    "from tqdm import tqdm\n",
    "\n",
    "#nn\n",
    "import torch.nn as nn\n",
    "from torch import optim\n",
    "from sklearn import preprocessing\n",
    "\n",
    "import arpa"
   ]
  },
  {
   "cell_type": "code",
   "execution_count": 18,
   "metadata": {},
   "outputs": [
    {
     "name": "stdout",
     "output_type": "stream",
     "text": [
      "GeForce GTX 1060 6GB\n",
      "True\n"
     ]
    }
   ],
   "source": [
    "device = torch.device(\"cuda:0\" if torch.cuda.is_available() else \"cpu\")\n",
    "print(torch.cuda.get_device_name(0))\n",
    "print(torch.cuda.is_available())\n"
   ]
  },
  {
   "cell_type": "markdown",
   "metadata": {},
   "source": [
    "# load inputs from pickle file"
   ]
  },
  {
   "cell_type": "markdown",
   "metadata": {},
   "source": [
    "### prefix count\n",
    "### ngram count\n",
    "### n-1gram count \n",
    "### unigram count"
   ]
  },
  {
   "cell_type": "code",
   "execution_count": 27,
   "metadata": {},
   "outputs": [
    {
     "name": "stdout",
     "output_type": "stream",
     "text": [
      "tensor([[7.0000e+00, 2.0000e+00, 3.3570e+03, 1.2480e+05],\n",
      "        [6.0000e+00, 2.0000e+00, 5.4990e+03, 1.6983e+06],\n",
      "        [3.0000e+00, 3.0000e+00, 8.7100e+02, 4.6025e+04],\n",
      "        ...,\n",
      "        [4.0000e+00, 3.0000e+00, 1.5363e+04, 3.0418e+06],\n",
      "        [5.0000e+00, 3.0000e+00, 3.2000e+01, 2.2400e+04],\n",
      "        [5.0000e+00, 2.0000e+00, 2.0000e+00, 1.4920e+03]], device='cuda:0')\n",
      "tensor([0.1538, 0.0667, 0.0667,  ..., 0.1429, 0.0118, 0.0118], device='cuda:0')\n"
     ]
    }
   ],
   "source": [
    "inputs = torch.load('../../pickles/50-50_input_4793918').transpose(-2,1).float()\n",
    "outputs = torch.load('../../pickles/50-50_output_4793918').flatten().float()\n",
    "print(inputs)\n",
    "print(outputs)"
   ]
  },
  {
   "cell_type": "code",
   "execution_count": 20,
   "metadata": {},
   "outputs": [
    {
     "name": "stdout",
     "output_type": "stream",
     "text": [
      "\n",
      "Memory Usage:\n",
      "Allocated: 92.3 MB\n",
      "Cached:    244.0 MB\n"
     ]
    }
   ],
   "source": [
    "if device.type == 'cuda':\n",
    "    #print(torch.cuda.get_device_name(0))\n",
    "    print('\\nMemory Usage:')\n",
    "    print('Allocated:', round(torch.cuda.memory_allocated(0)/1024**2,1), 'MB')\n",
    "    print('Cached:   ', round(torch.cuda.memory_cached(0)/1024**2,1), 'MB')"
   ]
  },
  {
   "cell_type": "markdown",
   "metadata": {},
   "source": [
    "# Normalise"
   ]
  },
  {
   "cell_type": "code",
   "execution_count": 21,
   "metadata": {},
   "outputs": [
    {
     "name": "stdout",
     "output_type": "stream",
     "text": [
      "tensor([[1.4286e-01, 5.0000e-01, 2.9789e-04, 8.0126e-06],\n",
      "        [1.6667e-01, 5.0000e-01, 1.8185e-04, 5.8883e-07],\n",
      "        [3.3333e-01, 3.3333e-01, 1.1481e-03, 2.1727e-05],\n",
      "        ...,\n",
      "        [2.5000e-01, 3.3333e-01, 6.5091e-05, 3.2875e-07],\n",
      "        [2.0000e-01, 3.3333e-01, 3.1250e-02, 4.4643e-05],\n",
      "        [2.0000e-01, 5.0000e-01, 5.0000e-01, 6.7024e-04]], device='cuda:0')\n"
     ]
    }
   ],
   "source": [
    "###################normalise by feature##################\n",
    "inputs = 1/inputs\n",
    "\n",
    "###################normalise by totals###################\n",
    "'''\n",
    "prefix_counts = 0\n",
    "ngram_counts = 0\n",
    "n1gram_counts = 0\n",
    "n2gram_counts = 0\n",
    "\n",
    "for x in tqdm(range(len(inputs)),position=0, leave=True):\n",
    "    prefix_counts += inputs[x:x+1,0]\n",
    "    ngram_counts += inputs[x:x+1,1]\n",
    "    n1gram_counts += inputs[x:x+1,2]\n",
    "    n2gram_counts += inputs[x:x+1,3]\n",
    "    \n",
    "for x in tqdm(range(len(inputs)),position=0, leave=True):\n",
    "    inputs[x][0] = inputs[x][0] / prefix_counts\n",
    "    inputs[x][1] = inputs[x][1] / ngram_counts\n",
    "    inputs[x][2] = inputs[x][2] / n1gram_counts \n",
    "    inputs[x][3] = inputs[x][3] / n2gram_counts\n",
    "\n",
    "\n",
    "#########################################################\n",
    "'''\n",
    "print(inputs)"
   ]
  },
  {
   "cell_type": "markdown",
   "metadata": {},
   "source": [
    "# save normalised tensors"
   ]
  },
  {
   "cell_type": "code",
   "execution_count": 11,
   "metadata": {},
   "outputs": [],
   "source": [
    "torch.save(inputs, '../../pickles/input_norm')"
   ]
  },
  {
   "cell_type": "markdown",
   "metadata": {},
   "source": [
    "# Neural Net\n"
   ]
  },
  {
   "cell_type": "code",
   "execution_count": 22,
   "metadata": {},
   "outputs": [],
   "source": [
    "class Net(nn.Module):\n",
    "    def __init__(self):\n",
    "        super(Net, self).__init__()\n",
    "        self.fc1 = nn.Linear(4, 4)\n",
    "        self.fc3 = nn.Linear(4, 3)\n",
    "        self.fc4 = nn.Linear(3, 1)\n",
    "\n",
    "        \n",
    "    def forward(self, x):\n",
    "        x = torch.sigmoid(self.fc1(x))\n",
    "        x = torch.sigmoid(self.fc3(x)) \n",
    "        x = torch.sigmoid(self.fc4(x)) \n",
    "        return x"
   ]
  },
  {
   "cell_type": "markdown",
   "metadata": {},
   "source": [
    "# Training"
   ]
  },
  {
   "cell_type": "code",
   "execution_count": 23,
   "metadata": {},
   "outputs": [],
   "source": [
    "net = Net().cuda()\n",
    "optimizer = optim.SGD(net.parameters(), lr=0.01, momentum=0.9)\n",
    "\n",
    "criterion = torch.nn.L1Loss()  #mean absolute error\n",
    "#criterion = torch.nn.MSELoss()  #mean square error"
   ]
  },
  {
   "cell_type": "code",
   "execution_count": 24,
   "metadata": {},
   "outputs": [
    {
     "name": "stderr",
     "output_type": "stream",
     "text": [
      "100%|██████████| 4793918/4793918 [07:14<00:00, 11021.45it/s]\n"
     ]
    }
   ],
   "source": [
    "## run the model for 3 epochs\n",
    "#for epoch in range(0,3):\n",
    "for x in tqdm(range(len(inputs)),position=0, leave=True):\n",
    "    if x % 15 ==1:\n",
    "        optimizer.zero_grad() #reset gradients\n",
    "\n",
    "        ## 1. forward propagation\n",
    "        net_out = net((inputs[x:x+1,:]))\n",
    "\n",
    "        ## 2. loss calculation\n",
    "        loss = criterion(net_out, outputs[x].reshape(1,1))\n",
    "        #print(target[x])\n",
    "\n",
    "        ## 3. backward propagation\n",
    "        loss.backward()\n",
    "\n",
    "        ## 4. weight optimization\n",
    "        optimizer.step()"
   ]
  },
  {
   "cell_type": "markdown",
   "metadata": {},
   "source": [
    "# Saving Model"
   ]
  },
  {
   "cell_type": "code",
   "execution_count": 54,
   "metadata": {},
   "outputs": [],
   "source": [
    "torch.save(net.state_dict(), 'NN saves/temp_50-50')"
   ]
  },
  {
   "cell_type": "markdown",
   "metadata": {},
   "source": [
    "# Loading model"
   ]
  },
  {
   "cell_type": "code",
   "execution_count": 13,
   "metadata": {},
   "outputs": [
    {
     "data": {
      "text/plain": [
       "Net(\n",
       "  (fc1): Linear(in_features=4, out_features=4, bias=True)\n",
       "  (fc3): Linear(in_features=4, out_features=3, bias=True)\n",
       "  (fc4): Linear(in_features=3, out_features=1, bias=True)\n",
       ")"
      ]
     },
     "execution_count": 13,
     "metadata": {},
     "output_type": "execute_result"
    }
   ],
   "source": [
    "net = Net().cuda()\n",
    "net.load_state_dict(torch.load('NN saves/4431_lr=0.03_MAE'))\n",
    "net.eval()"
   ]
  },
  {
   "cell_type": "markdown",
   "metadata": {},
   "source": [
    "# Comparing: \n",
    "## done on dev set - tbd"
   ]
  },
  {
   "cell_type": "code",
   "execution_count": 26,
   "metadata": {},
   "outputs": [
    {
     "name": "stdout",
     "output_type": "stream",
     "text": [
      "tensor([[1.0229e-05]], device='cuda:0', grad_fn=<SigmoidBackward>)\n",
      "tensor([[1.6667e-01, 5.0000e-01, 1.8185e-04, 5.8883e-07]], device='cuda:0')\n"
     ]
    }
   ],
   "source": [
    "x = 1\n",
    "print(net((inputs[x:x+1,:])))\n",
    "print(inputs[x:x+1,:])"
   ]
  },
  {
   "cell_type": "code",
   "execution_count": 56,
   "metadata": {},
   "outputs": [
    {
     "name": "stderr",
     "output_type": "stream",
     "text": [
      "100%|██████████| 4793918/4793918 [18:53<00:00, 4228.10it/s]\n"
     ]
    }
   ],
   "source": [
    "'''\n",
    "difference = np.zeros(2421639)\n",
    "net_results = np.zeros(2421639)\n",
    "actual_results = np.zeros(2421639)\n",
    "\n",
    "\n",
    "difference = np.zeros(int(len(inputs)/10)+1)\n",
    "net_results = np.zeros(int(len(inputs)/10)+1)\n",
    "actual_results = np.zeros(int(len(inputs)/10)+1)\n",
    "'''\n",
    "difference =np.zeros(len(inputs))\n",
    "net_results = np.zeros(len(inputs))\n",
    "actual_results = np.zeros(len(inputs))\n",
    "\n",
    "count = 0\n",
    "\n",
    "for x in tqdm(range(len(inputs)),position=0, leave=True):\n",
    "    #if x%10 == 1:\n",
    "    net_results[count] = net(inputs[x:x+1,:])\n",
    "    #ins = torch.tensor([[inputs[x:x+1,0]/inputs[x:x+1,1],inputs[x:x+1,2],inputs[x:x+1,3]]], device = device)\n",
    "    #net_results[count] = net(ins)\n",
    "    actual_results[count] = outputs[x]\n",
    "    difference[count] = abs(net_results[count] - actual_results[count])\n",
    "    count += 1\n",
    "\n",
    "net_results.sort()\n",
    "actual_results.sort()\n",
    "difference.sort()"
   ]
  },
  {
   "cell_type": "markdown",
   "metadata": {},
   "source": [
    "# 50-50 NN - full training set\n",
    "## lr=0.01 m=0.9 MAE 3 epochs\n"
   ]
  },
  {
   "cell_type": "code",
   "execution_count": 57,
   "metadata": {
    "scrolled": true
   },
   "outputs": [
    {
     "data": {
      "image/png": "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\n",
      "text/plain": [
       "<Figure size 432x288 with 1 Axes>"
      ]
     },
     "metadata": {
      "needs_background": "light"
     },
     "output_type": "display_data"
    }
   ],
   "source": [
    "plt.plot(net_results,'b')\n",
    "plt.plot(actual_results,'orange')\n",
    "plt.show()"
   ]
  },
  {
   "cell_type": "code",
   "execution_count": 58,
   "metadata": {
    "scrolled": true
   },
   "outputs": [
    {
     "name": "stdout",
     "output_type": "stream",
     "text": [
      "[3.985720e-04 3.985720e-04 3.985758e-04 3.985758e-04 ... 9.999526e-01 9.999526e-01 9.999526e-01 9.999526e-01]\n",
      "[2.60748e-06 2.60748e-06 2.60748e-06 2.60748e-06 ... 1.00000e+00 1.00000e+00 1.00000e+00 1.00000e+00]\n"
     ]
    }
   ],
   "source": [
    "print(net_results)\n",
    "print(actual_results)"
   ]
  },
  {
   "cell_type": "markdown",
   "metadata": {},
   "source": [
    "# 50-50 NN - full training set\n",
    "## lr=0.03 m=0.9 MAE 3 epochs\n"
   ]
  },
  {
   "cell_type": "code",
   "execution_count": 45,
   "metadata": {
    "scrolled": true
   },
   "outputs": [
    {
     "data": {
      "image/png": "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\n",
      "text/plain": [
       "<Figure size 432x288 with 1 Axes>"
      ]
     },
     "metadata": {
      "needs_background": "light"
     },
     "output_type": "display_data"
    }
   ],
   "source": [
    "plt.plot(net_results,'b')\n",
    "plt.plot(actual_results,'orange')\n",
    "plt.show()"
   ]
  },
  {
   "cell_type": "code",
   "execution_count": 46,
   "metadata": {
    "scrolled": false
   },
   "outputs": [
    {
     "name": "stdout",
     "output_type": "stream",
     "text": [
      "[0.004572 0.004573 0.004573 0.004575 ... 0.999989 0.999989 0.999989 0.999989]\n",
      "[2.60748e-06 2.60748e-06 2.60748e-06 2.60748e-06 ... 1.00000e+00 1.00000e+00 1.00000e+00 1.00000e+00]\n"
     ]
    }
   ],
   "source": [
    "print(net_results)\n",
    "print(actual_results)"
   ]
  },
  {
   "cell_type": "markdown",
   "metadata": {},
   "source": [
    "# 50-50 NN - full training set\n",
    "## lr=0.01 m=0.9 MAE"
   ]
  },
  {
   "cell_type": "code",
   "execution_count": 39,
   "metadata": {
    "scrolled": true
   },
   "outputs": [
    {
     "data": {
      "image/png": "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\n",
      "text/plain": [
       "<Figure size 432x288 with 1 Axes>"
      ]
     },
     "metadata": {
      "needs_background": "light"
     },
     "output_type": "display_data"
    }
   ],
   "source": [
    "plt.plot(net_results,'b')\n",
    "plt.plot(actual_results,'orange')\n",
    "plt.show()"
   ]
  },
  {
   "cell_type": "code",
   "execution_count": 40,
   "metadata": {
    "scrolled": true
   },
   "outputs": [
    {
     "name": "stdout",
     "output_type": "stream",
     "text": [
      "[7.537237e-04 7.537460e-04 7.537517e-04 7.537963e-04 ... 8.779174e-01 8.779174e-01 8.779174e-01 8.779174e-01]\n",
      "[2.60748e-06 2.60748e-06 2.60748e-06 2.60748e-06 ... 1.00000e+00 1.00000e+00 1.00000e+00 1.00000e+00]\n"
     ]
    }
   ],
   "source": [
    "print(net_results)\n",
    "print(actual_results)"
   ]
  },
  {
   "cell_type": "markdown",
   "metadata": {},
   "source": [
    "# 50-50 NN - full training set\n",
    "## lr=0.1 m=0.9 MAE"
   ]
  },
  {
   "cell_type": "code",
   "execution_count": 34,
   "metadata": {
    "scrolled": true
   },
   "outputs": [
    {
     "data": {
      "image/png": "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\n",
      "text/plain": [
       "<Figure size 432x288 with 1 Axes>"
      ]
     },
     "metadata": {
      "needs_background": "light"
     },
     "output_type": "display_data"
    }
   ],
   "source": [
    "plt.plot(net_results,'b')\n",
    "plt.plot(actual_results,'orange')\n",
    "plt.show()"
   ]
  },
  {
   "cell_type": "code",
   "execution_count": 35,
   "metadata": {
    "scrolled": false
   },
   "outputs": [
    {
     "name": "stdout",
     "output_type": "stream",
     "text": [
      "[8.426371e-04 8.426756e-04 8.426756e-04 8.428909e-04 ... 9.980141e-01 9.980141e-01 9.980141e-01 9.980141e-01]\n",
      "[2.60748e-06 2.60748e-06 2.60748e-06 2.60748e-06 ... 1.00000e+00 1.00000e+00 1.00000e+00 1.00000e+00]\n"
     ]
    }
   ],
   "source": [
    "print(net_results)\n",
    "print(actual_results)"
   ]
  },
  {
   "cell_type": "markdown",
   "metadata": {},
   "source": [
    "# 50-50 NN - full training set\n",
    "## lr=0.03 m=0.9 MAE"
   ]
  },
  {
   "cell_type": "code",
   "execution_count": 27,
   "metadata": {
    "scrolled": true
   },
   "outputs": [
    {
     "data": {
      "image/png": "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\n",
      "text/plain": [
       "<Figure size 432x288 with 1 Axes>"
      ]
     },
     "metadata": {
      "needs_background": "light"
     },
     "output_type": "display_data"
    }
   ],
   "source": [
    "plt.plot(net_results,'b')\n",
    "plt.plot(actual_results,'orange')\n",
    "plt.show()"
   ]
  },
  {
   "cell_type": "code",
   "execution_count": 28,
   "metadata": {
    "scrolled": false
   },
   "outputs": [
    {
     "name": "stdout",
     "output_type": "stream",
     "text": [
      "[2.704201e-04 2.704335e-04 2.704335e-04 2.705124e-04 ... 9.958605e-01 9.958605e-01 9.958605e-01 9.958605e-01]\n",
      "[2.60748e-06 2.60748e-06 2.60748e-06 2.60748e-06 ... 1.00000e+00 1.00000e+00 1.00000e+00 1.00000e+00]\n"
     ]
    }
   ],
   "source": [
    "print(net_results)\n",
    "print(actual_results)"
   ]
  },
  {
   "cell_type": "markdown",
   "metadata": {},
   "source": [
    "# 50-50 NN\n",
    "## lr=0.01 m=0.9 MSE"
   ]
  },
  {
   "cell_type": "code",
   "execution_count": 15,
   "metadata": {
    "scrolled": true
   },
   "outputs": [
    {
     "data": {
      "image/png": "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\n",
      "text/plain": [
       "<Figure size 432x288 with 1 Axes>"
      ]
     },
     "metadata": {
      "needs_background": "light"
     },
     "output_type": "display_data"
    }
   ],
   "source": [
<<<<<<< HEAD
    "class Net(nn.Module):\n",
    "    def __init__(self):\n",
    "        super(Net, self).__init__()\n",
    "        self.fc1 = nn.Linear(4, 4)\n",
    "        #self.fc2 = nn.Linear(4, 4)\n",
    "        self.fc3 = nn.Linear(4, 3)\n",
    "        self.fc4 = nn.Linear(3, 1)\n",
    "\n",
    "        \n",
    "    def forward(self, x):\n",
    "        x = torch.sigmoid(self.fc1(x))\n",
    "        #x = torch.sigmoid(self.fc2(x))\n",
    "        x = torch.sigmoid(self.fc3(x)) \n",
    "        x = torch.sigmoid(self.fc4(x)) \n",
    "        return x\n",
    "    \n",
    "'''\n",
    "class Net(nn.Module):\n",
    "    def __init__(self):\n",
    "        super(Net, self).__init__()\n",
    "        self.fc1 = nn.Linear(3, 3)\n",
    "        #self.fc2 = nn.Linear(4, 4)\n",
    "        self.fc3 = nn.Linear(3, 3)\n",
    "        self.fc4 = nn.Linear(3, 1)\n",
    "\n",
    "        \n",
    "    def forward(self, x):\n",
    "        x = torch.sigmoid(self.fc1(x))\n",
    "        #x = torch.sigmoid(self.fc2(x))\n",
    "        x = torch.sigmoid(self.fc3(x)) \n",
    "        x = torch.sigmoid(self.fc4(x)) \n",
    "        return x\n",
    "'''"
   ]
  },
  {
   "cell_type": "markdown",
   "metadata": {},
   "source": [
    "# Train"
   ]
  },
  {
   "cell_type": "code",
   "execution_count": 65,
   "metadata": {},
   "outputs": [],
   "source": [
    "net = Net().cuda()\n",
    "optimizer = optim.SGD(net.parameters(), lr=0.03, momentum=0.9)\n",
    "#criterion = torch.nn.SmoothL1Loss()  \n",
    "criterion = torch.nn.L1Loss()  #mean absolute error\n",
    "#criterion = torch.nn.MSELoss()  #mean square error\n"
=======
    "plt.plot(net_results,'b')\n",
    "plt.plot(actual_results,'orange')\n",
    "plt.show()"
>>>>>>> 15b8be5a9491092180e7f5852c5d7956514c3906
   ]
  },
  {
   "cell_type": "code",
<<<<<<< HEAD
   "execution_count": 67,
=======
   "execution_count": 13,
>>>>>>> 15b8be5a9491092180e7f5852c5d7956514c3906
   "metadata": {
    "scrolled": false
   },
   "outputs": [
    {
<<<<<<< HEAD
     "name": "stderr",
     "output_type": "stream",
     "text": [
      "100%|██████████| 8813319/8813319 [3:19:09<00:00, 737.58it/s]  \n",
      "100%|██████████| 8813319/8813319 [3:19:39<00:00, 735.70it/s]  \n",
      "100%|██████████| 8813319/8813319 [3:20:51<00:00, 731.29it/s]  "
     ]
    },
    {
     "name": "stdout",
     "output_type": "stream",
     "text": [
      "35980.39104318619\n"
     ]
    },
    {
     "name": "stderr",
     "output_type": "stream",
     "text": [
      "\n"
=======
     "name": "stdout",
     "output_type": "stream",
     "text": [
      "[0.       0.002496 0.002496 0.002496 ... 0.906822 0.906822 0.906822 0.906822]\n",
      "[0.000000e+00 2.869531e-06 2.869531e-06 2.869531e-06 ... 1.000000e+00 1.000000e+00 1.000000e+00 1.000000e+00]\n"
>>>>>>> 15b8be5a9491092180e7f5852c5d7956514c3906
     ]
    }
   ],
   "source": [
<<<<<<< HEAD
    "start = time.time()\n",
    "\n",
    "## run the model for 7 epochs\n",
    "for epoch in range(0,3):\n",
    "    for x in tqdm(range(len(inputs)),position=0, leave=True): #x starts at zero\n",
    "        #if x % 15 == 1 : #skip over some entries\n",
    "        optimizer.zero_grad()\n",
    "\n",
    "        #ins = torch.tensor([[inputs[x:x+1,0]/inputs[x:x+1,1],inputs[x:x+1,2],inputs[x:x+1,3]]], device = device)\n",
    "\n",
    "        ## 1. forward propagation\n",
    "        net_out = net((inputs[x:x+1,:]))\n",
    "        #net_out = net(ins)\n",
    "        #print(train[:,x:(x+1)])\n",
    "\n",
    "        ## 2. loss calculation\n",
    "        loss = criterion(net_out, outputs[x].reshape(1,1))\n",
    "        #print(target[x])\n",
    "\n",
    "        ## 3. backward propagation\n",
    "        loss.backward()\n",
    "\n",
    "        ## 4. weight optimization\n",
    "        optimizer.step()\n",
    "\n",
    "        #if(x % 10000 == 1):\n",
    "        #    print('Loss: {:.6f}'.format(loss.data))\n",
    "\n",
    "        \n",
    "end = time.time()\n",
    "print(end-start)"
=======
    "print(net_results)\n",
    "print(actual_results)"
>>>>>>> 15b8be5a9491092180e7f5852c5d7956514c3906
   ]
  },
  {
   "cell_type": "markdown",
   "metadata": {},
   "source": [
    "# 50-50 NN\n",
    "## lr=0.03 m=0.9 MSE"
   ]
  },
  {
   "cell_type": "code",
<<<<<<< HEAD
   "execution_count": 73,
   "metadata": {},
   "outputs": [],
   "source": [
    "torch.save(net.state_dict(), 'NN saves/4431_lr=0.03_')"
   ]
  },
  {
   "cell_type": "markdown",
   "metadata": {},
=======
   "execution_count": 18,
   "metadata": {
    "scrolled": true
   },
   "outputs": [
    {
     "data": {
      "image/png": "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\n",
      "text/plain": [
       "<Figure size 432x288 with 1 Axes>"
      ]
     },
     "metadata": {
      "needs_background": "light"
     },
     "output_type": "display_data"
    }
   ],
>>>>>>> 15b8be5a9491092180e7f5852c5d7956514c3906
   "source": [
    "plt.plot(net_results,'b')\n",
    "plt.plot(actual_results,'orange')\n",
    "plt.show()"
   ]
  },
  {
   "cell_type": "code",
   "execution_count": 19,
   "metadata": {
    "scrolled": false
   },
   "outputs": [
    {
     "name": "stdout",
     "output_type": "stream",
     "text": [
      "[0.       0.002692 0.002692 0.002692 ... 0.862208 0.862208 0.862208 0.862208]\n",
      "[0.000000e+00 2.869531e-06 2.869531e-06 2.869531e-06 ... 1.000000e+00 1.000000e+00 1.000000e+00 1.000000e+00]\n"
     ]
    }
   ],
   "source": [
    "print(net_results)\n",
    "print(actual_results)"
   ]
  },
  {
   "cell_type": "markdown",
   "metadata": {},
   "source": [
    "# 4431\n",
    "## lr=0.03 m=0.9 MAE - 3 full epochs"
   ]
  },
  {
   "cell_type": "code",
   "execution_count": 15,
   "metadata": {
    "scrolled": true
   },
   "outputs": [
    {
     "data": {
      "image/png": "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\n",
      "text/plain": [
       "<Figure size 432x288 with 1 Axes>"
      ]
     },
     "metadata": {
      "needs_background": "light"
     },
     "output_type": "display_data"
    }
   ],
   "source": [
    "plt.plot(net_results,'b')\n",
    "plt.plot(actual_results,'orange')\n",
    "plt.show()"
   ]
  },
  {
   "cell_type": "code",
<<<<<<< HEAD
   "execution_count": 70,
   "metadata": {},
=======
   "execution_count": 72,
   "metadata": {
    "scrolled": false
   },
>>>>>>> 15b8be5a9491092180e7f5852c5d7956514c3906
   "outputs": [
    {
     "name": "stdout",
     "output_type": "stream",
     "text": [
<<<<<<< HEAD
      "100%|██████████| 8813319/8813319 [03:33<00:00, 41298.28it/s]\n"
=======
      "[5.062454e-04 7.131235e-04 7.167892e-04 7.186914e-04 ... 7.823949e-01 7.825264e-01 7.825924e-01 7.828616e-01]\n",
      "[1.469640e-06 1.469640e-06 1.469640e-06 1.469640e-06 ... 8.557763e-01 8.557763e-01 8.557763e-01 8.557763e-01]\n"
>>>>>>> 15b8be5a9491092180e7f5852c5d7956514c3906
     ]
    }
   ],
   "source": [
    "print(net_results)\n",
    "print(actual_results)"
   ]
  },
  {
   "cell_type": "markdown",
   "metadata": {},
   "source": [
    "# 4431\n",
    "## lr=0.03 m=0.9 MAE - 3 full epochs"
   ]
  },
  {
   "cell_type": "code",
   "execution_count": 71,
   "metadata": {
    "scrolled": false
   },
   "outputs": [
    {
     "data": {
      "image/png": "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\n",
      "text/plain": [
       "<Figure size 432x288 with 1 Axes>"
      ]
     },
     "metadata": {
      "needs_background": "light"
     },
     "output_type": "display_data"
    }
   ],
   "source": [
    "plt.plot(net_results,'b')\n",
    "plt.plot(actual_results,'orange')\n",
    "plt.show()"
   ]
  },
  {
   "cell_type": "code",
   "execution_count": 72,
   "metadata": {
    "scrolled": false
   },
   "outputs": [
    {
     "name": "stdout",
     "output_type": "stream",
     "text": [
      "[5.062454e-04 7.131235e-04 7.167892e-04 7.186914e-04 ... 7.823949e-01 7.825264e-01 7.825924e-01 7.828616e-01]\n",
      "[1.469640e-06 1.469640e-06 1.469640e-06 1.469640e-06 ... 8.557763e-01 8.557763e-01 8.557763e-01 8.557763e-01]\n"
     ]
    }
   ],
   "source": [
    "print(net_results)\n",
    "print(actual_results)"
   ]
  },
  {
   "cell_type": "markdown",
   "metadata": {},
   "source": [
    "# 4431\n",
    "## lr=0.005 m=0.9 MAE"
   ]
  },
  {
   "cell_type": "code",
   "execution_count": 63,
   "metadata": {
    "scrolled": false
   },
   "outputs": [
    {
     "data": {
      "image/png": "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\n",
      "text/plain": [
       "<Figure size 432x288 with 1 Axes>"
      ]
     },
     "metadata": {
      "needs_background": "light"
     },
     "output_type": "display_data"
    }
   ],
   "source": [
    "plt.plot(net_results,'b')\n",
    "plt.plot(actual_results,'orange')\n",
    "plt.show()"
   ]
  },
  {
   "cell_type": "code",
   "execution_count": 64,
   "metadata": {
    "scrolled": false
   },
   "outputs": [
    {
     "name": "stdout",
     "output_type": "stream",
     "text": [
      "[0.008385 0.008387 0.008387 0.008387 ... 0.71391  0.714112 0.714144 0.714197]\n",
      "[1.469640e-06 1.469640e-06 1.469640e-06 1.469640e-06 ... 8.557763e-01 8.557763e-01 8.557763e-01 8.557763e-01]\n"
     ]
    }
   ],
   "source": [
    "print(net_results)\n",
    "print(actual_results)"
   ]
  },
  {
   "cell_type": "markdown",
   "metadata": {},
   "source": [
    "## lr=0.1 m=0.9 MAE - longer epochs significantly improve output"
   ]
  },
  {
   "cell_type": "code",
   "execution_count": 53,
   "metadata": {
    "scrolled": true
   },
   "outputs": [
    {
     "data": {
      "image/png": "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\n",
      "text/plain": [
       "<Figure size 432x288 with 1 Axes>"
      ]
     },
     "metadata": {
      "needs_background": "light"
     },
     "output_type": "display_data"
    }
   ],
   "source": [
    "plt.plot(net_results,'b')\n",
    "plt.plot(actual_results,'orange')\n",
    "plt.show()"
   ]
  },
  {
   "cell_type": "code",
   "execution_count": 54,
   "metadata": {
    "scrolled": false
   },
   "outputs": [
    {
     "name": "stdout",
     "output_type": "stream",
     "text": [
      "[3.689162e-04 6.072581e-04 6.102683e-04 6.118314e-04 ... 7.207626e-01 7.208312e-01 7.208709e-01 7.209401e-01]\n",
      "[1.469640e-06 1.469640e-06 1.469640e-06 1.469640e-06 ... 8.557763e-01 8.557763e-01 8.557763e-01 8.557763e-01]\n"
     ]
    }
   ],
   "source": [
    "print(net_results)\n",
    "print(actual_results)"
   ]
  },
  {
   "cell_type": "markdown",
   "metadata": {},
   "source": [
    "## lr=0.1 m=0.9 MSE"
   ]
  },
  {
   "cell_type": "code",
   "execution_count": 10,
   "metadata": {
    "scrolled": false
   },
   "outputs": [
    {
     "data": {
      "image/png": "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\n",
      "text/plain": [
       "<Figure size 432x288 with 1 Axes>"
      ]
     },
     "metadata": {
      "needs_background": "light"
     },
     "output_type": "display_data"
    }
   ],
   "source": [
    "plt.plot(net_results,'b')\n",
    "plt.plot(actual_results,'orange')\n",
    "plt.show()"
   ]
  },
  {
   "cell_type": "markdown",
   "metadata": {},
   "source": [
    "## lr=0.05 m=0.5 MSE"
   ]
  },
  {
   "cell_type": "code",
   "execution_count": 86,
   "metadata": {
    "scrolled": true
   },
   "outputs": [
    {
     "data": {
      "image/png": "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\n",
      "text/plain": [
       "<Figure size 432x288 with 1 Axes>"
      ]
     },
     "metadata": {
      "needs_background": "light"
     },
     "output_type": "display_data"
    }
   ],
   "source": [
    "plt.plot(net_results,'b')\n",
    "plt.plot(actual_results,'orange')\n",
    "plt.show()"
   ]
  },
  {
   "cell_type": "markdown",
   "metadata": {},
   "source": [
    "## lr=0.3 m=0.9 MSE"
   ]
  },
  {
   "cell_type": "code",
   "execution_count": 80,
   "metadata": {
    "scrolled": false
   },
   "outputs": [
    {
     "data": {
      "image/png": "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\n",
      "text/plain": [
       "<Figure size 432x288 with 1 Axes>"
      ]
     },
     "metadata": {
      "needs_background": "light"
     },
     "output_type": "display_data"
    }
   ],
   "source": [
    "plt.plot(net_results,'b')\n",
    "plt.plot(actual_results,'orange')\n",
    "plt.show()"
   ]
  },
  {
   "cell_type": "markdown",
   "metadata": {},
   "source": [
    "## lr=0.1 m=0.1 MSE"
   ]
  },
  {
   "cell_type": "code",
   "execution_count": 75,
   "metadata": {
    "scrolled": false
   },
   "outputs": [
    {
     "data": {
      "image/png": "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\n",
      "text/plain": [
       "<Figure size 432x288 with 1 Axes>"
      ]
     },
     "metadata": {
      "needs_background": "light"
     },
     "output_type": "display_data"
    }
   ],
   "source": [
    "plt.plot(net_results,'b')\n",
    "plt.plot(actual_results,'orange')\n",
    "plt.show()"
   ]
  },
  {
   "cell_type": "markdown",
   "metadata": {},
   "source": [
    "## lr=0.03 m=0.9 MSE"
   ]
  },
  {
   "cell_type": "code",
   "execution_count": 49,
   "metadata": {
    "scrolled": false
   },
   "outputs": [
    {
     "data": {
      "image/png": "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\n",
      "text/plain": [
       "<Figure size 432x288 with 1 Axes>"
      ]
     },
     "metadata": {
      "needs_background": "light"
     },
     "output_type": "display_data"
    }
   ],
   "source": [
    "plt.plot(net_results,'b')\n",
    "plt.plot(actual_results,'orange')\n",
    "plt.show()"
   ]
  },
  {
   "cell_type": "markdown",
   "metadata": {},
   "source": [
    "## lr=0.01 m=0.9 MSE"
   ]
  },
  {
   "cell_type": "code",
   "execution_count": 39,
   "metadata": {
    "scrolled": false
   },
   "outputs": [
    {
     "data": {
      "image/png": "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\n",
      "text/plain": [
       "<Figure size 432x288 with 1 Axes>"
      ]
     },
     "metadata": {
      "needs_background": "light"
     },
     "output_type": "display_data"
    }
   ],
   "source": [
    "plt.plot(net_results,'b')\n",
    "plt.plot(actual_results,'orange')\n",
    "plt.show()"
   ]
  },
  {
   "cell_type": "markdown",
   "metadata": {},
   "source": [
    "## lr=0.005 m=0.7 MSE"
   ]
  },
  {
   "cell_type": "code",
   "execution_count": 29,
   "metadata": {
    "scrolled": false
   },
   "outputs": [
    {
     "data": {
      "image/png": "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\n",
      "text/plain": [
       "<Figure size 432x288 with 1 Axes>"
      ]
     },
     "metadata": {
      "needs_background": "light"
     },
     "output_type": "display_data"
    }
   ],
   "source": [
    "plt.plot(net_results,'b')\n",
    "plt.plot(actual_results,'orange')\n",
    "plt.show()"
   ]
  },
  {
   "cell_type": "markdown",
   "metadata": {},
   "source": [
    "## lr=0.003 m=0.9 MSE"
   ]
  },
  {
   "cell_type": "code",
   "execution_count": 24,
   "metadata": {
    "scrolled": false
   },
   "outputs": [
    {
     "data": {
      "image/png": "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\n",
      "text/plain": [
       "<Figure size 432x288 with 1 Axes>"
      ]
     },
     "metadata": {
      "needs_background": "light"
     },
     "output_type": "display_data"
    }
   ],
   "source": [
    "plt.plot(net_results,'b')\n",
    "plt.plot(actual_results,'orange')\n",
    "plt.show()"
   ]
  },
  {
   "cell_type": "markdown",
   "metadata": {},
   "source": [
    "## lr=0.001 m=0.9 MSE"
   ]
  },
  {
   "cell_type": "code",
   "execution_count": 19,
   "metadata": {
    "scrolled": true
   },
   "outputs": [
    {
     "data": {
      "image/png": "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\n",
      "text/plain": [
       "<Figure size 432x288 with 1 Axes>"
      ]
     },
     "metadata": {
      "needs_background": "light"
     },
     "output_type": "display_data"
    }
   ],
   "source": [
    "plt.plot(net_results,'b')\n",
    "plt.plot(actual_results,'orange')\n",
    "plt.show()"
   ]
  },
  {
   "cell_type": "markdown",
   "metadata": {},
   "source": [
    "## lr=0.1 m=0.1 MSE"
   ]
  },
  {
   "cell_type": "markdown",
   "metadata": {},
   "source": [
    "# 3331\n",
    "## 9 epochs"
   ]
  },
  {
   "cell_type": "code",
   "execution_count": 11,
   "metadata": {},
   "outputs": [
    {
     "data": {
      "image/png": "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\n",
      "text/plain": [
       "<Figure size 432x288 with 1 Axes>"
      ]
     },
     "metadata": {
      "needs_background": "light"
     },
     "output_type": "display_data"
    }
   ],
   "source": [
    "plt.plot(net_results,'b')\n",
    "plt.plot(actual_results,'orange')\n",
    "plt.show()"
   ]
  },
  {
   "cell_type": "code",
   "execution_count": 12,
   "metadata": {},
   "outputs": [
    {
     "name": "stdout",
     "output_type": "stream",
     "text": [
      "[0.000752 0.000752 0.000752 0.000752 ... 0.496927 0.496927 0.496927 0.496927]\n",
      "[5.888951e-06 5.888951e-06 5.888951e-06 5.888951e-06 ... 8.428460e-01 8.428460e-01 8.428460e-01 8.428460e-01]\n"
     ]
    }
   ],
   "source": [
    "print(net_results)\n",
    "print(actual_results)"
   ]
  },
  {
   "cell_type": "markdown",
   "metadata": {},
   "source": [
    "## 1 epoch"
   ]
  },
  {
   "cell_type": "code",
   "execution_count": 120,
   "metadata": {},
   "outputs": [
    {
     "data": {
      "image/png": "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\n",
      "text/plain": [
       "<Figure size 432x288 with 1 Axes>"
      ]
     },
     "metadata": {
      "needs_background": "light"
     },
     "output_type": "display_data"
    }
   ],
   "source": [
    "plt.plot(net_results,'b')\n",
    "plt.plot(actual_results,'orange')\n",
    "plt.show()"
   ]
  },
  {
   "cell_type": "code",
   "execution_count": 121,
   "metadata": {},
   "outputs": [
    {
     "name": "stdout",
     "output_type": "stream",
     "text": [
      "[0.002008 0.002009 0.002009 0.002009 ... 0.503047 0.503047 0.503047 0.503047]\n",
      "[5.888951e-06 5.888951e-06 5.888951e-06 5.888951e-06 ... 8.428460e-01 8.428460e-01 8.428460e-01 8.428460e-01]\n"
     ]
    }
   ],
   "source": [
    "print(net_results)\n",
    "print(actual_results)"
   ]
  },
  {
   "cell_type": "markdown",
   "metadata": {},
   "source": [
    "# 4431\n",
    "## lr = 0.001"
   ]
  },
  {
   "cell_type": "markdown",
   "metadata": {},
   "source": [
    "# m = 0.5"
   ]
  },
  {
   "cell_type": "code",
   "execution_count": 231,
   "metadata": {},
   "outputs": [
    {
     "data": {
      "image/png": "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\n",
      "text/plain": [
       "<Figure size 432x288 with 1 Axes>"
      ]
     },
     "metadata": {
      "needs_background": "light"
     },
     "output_type": "display_data"
    }
   ],
   "source": [
    "plt.plot(net_results,'b')\n",
    "plt.plot(actual_results,'orange')\n",
    "plt.show()"
   ]
  },
  {
   "cell_type": "markdown",
   "metadata": {},
   "source": [
    "# m = 0.1"
   ]
  },
  {
   "cell_type": "code",
   "execution_count": 224,
   "metadata": {
    "scrolled": true
   },
   "outputs": [
    {
     "data": {
      "image/png": "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\n",
      "text/plain": [
       "<Figure size 432x288 with 1 Axes>"
      ]
     },
     "metadata": {
      "needs_background": "light"
     },
     "output_type": "display_data"
    }
   ],
   "source": [
    "plt.plot(net_results,'b')\n",
    "plt.plot(actual_results,'orange')\n",
    "plt.show()"
   ]
  },
  {
   "cell_type": "markdown",
   "metadata": {},
   "source": [
    "# m = 0.9"
   ]
  },
  {
   "cell_type": "code",
   "execution_count": 21,
   "metadata": {
    "scrolled": true
   },
   "outputs": [
    {
     "data": {
      "image/png": "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\n",
      "text/plain": [
       "<Figure size 432x288 with 1 Axes>"
      ]
     },
     "metadata": {
      "needs_background": "light"
     },
     "output_type": "display_data"
    }
   ],
   "source": [
    "plt.plot(net_results,'b')\n",
    "plt.plot(actual_results,'orange')\n",
    "plt.show()"
   ]
  },
  {
   "cell_type": "markdown",
   "metadata": {},
   "source": [
    "# lets adjust results to account improve accuracy"
   ]
  },
  {
   "cell_type": "code",
   "execution_count": 42,
   "metadata": {},
   "outputs": [
    {
     "name": "stdout",
     "output_type": "stream",
     "text": [
      "1.469640096729563e-06\n",
      "0.0002562386798672378\n",
      "-0.00025476903977050824\n"
     ]
    }
   ],
   "source": [
    "print(actual_results[0])\n",
    "print(net_results[0])\n",
    "print(actual_results[0] - net_results[0])"
   ]
  },
  {
   "cell_type": "code",
   "execution_count": 44,
   "metadata": {},
   "outputs": [
    {
     "name": "stdout",
     "output_type": "stream",
     "text": [
      "[1.469640e-06 4.867213e-04 4.900129e-04 4.917183e-04 ... 6.784951e-01 6.784960e-01 6.785060e-01 6.787194e-01]\n"
     ]
    }
   ],
   "source": [
    "scaled_results = net_results + (actual_results[0] - net_results[0])\n",
    "print(scaled_results)"
   ]
  },
  {
   "cell_type": "code",
   "execution_count": 30,
   "metadata": {},
   "outputs": [
    {
     "data": {
      "image/png": "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\n",
      "text/plain": [
       "<Figure size 432x288 with 1 Axes>"
      ]
     },
     "metadata": {
      "needs_background": "light"
     },
     "output_type": "display_data"
    }
   ],
   "source": [
    "plt.plot(scaled_results,'b')\n",
    "plt.plot(actual_results,'orange')\n",
    "plt.show()"
   ]
  },
  {
   "cell_type": "code",
   "execution_count": 16,
   "metadata": {},
   "outputs": [
    {
     "data": {
      "image/png": "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\n",
      "text/plain": [
       "<Figure size 432x288 with 1 Axes>"
      ]
     },
     "metadata": {
      "needs_background": "light"
     },
     "output_type": "display_data"
    }
   ],
   "source": [
    "plt.plot(abs(scaled_results-actual_results))\n",
    "#plt.plot(difference)\n",
    "plt.show()"
   ]
  },
  {
   "cell_type": "markdown",
   "metadata": {},
   "source": [
    "# Visualising $P_{MLE}$ vs $P_{LM}$ vs $P_{NN}$\n"
   ]
  },
  {
   "cell_type": "code",
<<<<<<< HEAD
   "execution_count": 75,
=======
   "execution_count": 59,
>>>>>>> 15b8be5a9491092180e7f5852c5d7956514c3906
   "metadata": {},
   "outputs": [
    {
     "name": "stderr",
     "output_type": "stream",
     "text": [
<<<<<<< HEAD
      "100%|██████████| 8813319/8813319 [00:58<00:00, 151458.36it/s]\n"
=======
      "100%|██████████| 4793918/4793918 [04:38<00:00, 17224.38it/s]\n"
>>>>>>> 15b8be5a9491092180e7f5852c5d7956514c3906
     ]
    }
   ],
   "source": [
    "#difference = np.zeros(int(len(inputs)/10)+1)\n",
    "#MLE = np.zeros(int(len(inputs)/10)+1)\n",
    "#PLM = np.zeros(int(len(inputs)/10)+1)\n",
    "count = 0\n",
    "\n",
    "#difference = np.zeros(len(inputs))\n",
    "MLE = np.zeros(len(inputs))\n",
    "PLM = np.zeros(len(inputs))\n",
    "for x in tqdm(range(len(inputs)),position=0, leave=True):\n",
    "    #if x%10 == 1:\n",
    "    MLE[count] = inputs[x,0]/inputs[x,1]\n",
    "    PLM[count] = outputs[x]\n",
    "    #difference[count] = abs(MLE[count] - PLM[count])\n",
    "    count += 1\n",
    "\n",
    "MLE.sort()\n",
    "PLM.sort()\n",
    "difference.sort()\n",
    "#print(MLE)\n",
    "#print(PLM)"
   ]
  },
  {
   "cell_type": "code",
   "execution_count": 25,
   "metadata": {},
   "outputs": [
    {
     "data": {
      "image/png": "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\n",
      "text/plain": [
       "<Figure size 432x288 with 1 Axes>"
      ]
     },
     "metadata": {
      "needs_background": "light"
     },
     "output_type": "display_data"
    }
   ],
   "source": [
    "plt.plot(MLE , 'r')\n",
    "plt.plot(PLM, 'g')\n",
    "plt.plot(net_results, 'b')\n",
    "#plt.plot(scaled_results, 'blue')\n",
    "plt.show()"
   ]
  },
  {
   "cell_type": "code",
<<<<<<< HEAD
   "execution_count": 1,
=======
   "execution_count": null,
   "metadata": {},
   "outputs": [],
   "source": [
    "# MAE"
   ]
  },
  {
   "cell_type": "code",
   "execution_count": 28,
   "metadata": {
    "scrolled": false
   },
   "outputs": [
    {
     "data": {
      "image/png": "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\n",
      "text/plain": [
       "<Figure size 432x288 with 1 Axes>"
      ]
     },
     "metadata": {
      "needs_background": "light"
     },
     "output_type": "display_data"
    }
   ],
   "source": [
    "plt.plot(MLE[:3000000] , 'r')\n",
    "plt.plot(PLM[:3000000], 'orange')\n",
    "plt.plot(net_results[:3000000], 'b')\n",
    "#plt.plot(scaled_results[:500000], 'blue')\n",
    "\n",
    "plt.show()"
   ]
  },
  {
   "cell_type": "code",
   "execution_count": null,
   "metadata": {},
   "outputs": [],
   "source": [
    "# MSE"
   ]
  },
  {
   "cell_type": "code",
   "execution_count": 63,
>>>>>>> 15b8be5a9491092180e7f5852c5d7956514c3906
   "metadata": {
    "scrolled": false
   },
   "outputs": [
    {
<<<<<<< HEAD
     "ename": "NameError",
     "evalue": "name 'plt' is not defined",
     "output_type": "error",
     "traceback": [
      "\u001b[0;31m---------------------------------------------------------------------------\u001b[0m",
      "\u001b[0;31mNameError\u001b[0m                                 Traceback (most recent call last)",
      "\u001b[0;32m<ipython-input-1-d77ca1e3224e>\u001b[0m in \u001b[0;36m<module>\u001b[0;34m\u001b[0m\n\u001b[0;32m----> 1\u001b[0;31m \u001b[0mplt\u001b[0m\u001b[0;34m.\u001b[0m\u001b[0mplot\u001b[0m\u001b[0;34m(\u001b[0m\u001b[0mMLE\u001b[0m\u001b[0;34m[\u001b[0m\u001b[0;34m:\u001b[0m\u001b[0;36m300000\u001b[0m\u001b[0;34m]\u001b[0m \u001b[0;34m,\u001b[0m \u001b[0;34m'r'\u001b[0m\u001b[0;34m)\u001b[0m\u001b[0;34m\u001b[0m\u001b[0;34m\u001b[0m\u001b[0m\n\u001b[0m\u001b[1;32m      2\u001b[0m \u001b[0mplt\u001b[0m\u001b[0;34m.\u001b[0m\u001b[0mplot\u001b[0m\u001b[0;34m(\u001b[0m\u001b[0mPLM\u001b[0m\u001b[0;34m[\u001b[0m\u001b[0;34m:\u001b[0m\u001b[0;36m300000\u001b[0m\u001b[0;34m]\u001b[0m\u001b[0;34m,\u001b[0m \u001b[0;34m'g'\u001b[0m\u001b[0;34m)\u001b[0m\u001b[0;34m\u001b[0m\u001b[0;34m\u001b[0m\u001b[0m\n\u001b[1;32m      3\u001b[0m \u001b[0mplt\u001b[0m\u001b[0;34m.\u001b[0m\u001b[0mplot\u001b[0m\u001b[0;34m(\u001b[0m\u001b[0mnet_results\u001b[0m\u001b[0;34m[\u001b[0m\u001b[0;34m:\u001b[0m\u001b[0;36m300000\u001b[0m\u001b[0;34m]\u001b[0m\u001b[0;34m,\u001b[0m \u001b[0;34m'orange'\u001b[0m\u001b[0;34m)\u001b[0m\u001b[0;34m\u001b[0m\u001b[0;34m\u001b[0m\u001b[0m\n\u001b[1;32m      4\u001b[0m \u001b[0mplt\u001b[0m\u001b[0;34m.\u001b[0m\u001b[0mplot\u001b[0m\u001b[0;34m(\u001b[0m\u001b[0mscaled_results\u001b[0m\u001b[0;34m[\u001b[0m\u001b[0;34m:\u001b[0m\u001b[0;36m300000\u001b[0m\u001b[0;34m]\u001b[0m\u001b[0;34m,\u001b[0m \u001b[0;34m'blue'\u001b[0m\u001b[0;34m)\u001b[0m\u001b[0;34m\u001b[0m\u001b[0;34m\u001b[0m\u001b[0m\n\u001b[1;32m      5\u001b[0m \u001b[0mplt\u001b[0m\u001b[0;34m.\u001b[0m\u001b[0mshow\u001b[0m\u001b[0;34m(\u001b[0m\u001b[0;34m)\u001b[0m\u001b[0;34m\u001b[0m\u001b[0;34m\u001b[0m\u001b[0m\n",
      "\u001b[0;31mNameError\u001b[0m: name 'plt' is not defined"
     ]
    }
   ],
   "source": [
    "plt.plot(MLE[:300000] , 'r')\n",
    "plt.plot(PLM[:300000], 'g')\n",
    "plt.plot(net_results[:300000], 'orange')\n",
    "plt.plot(scaled_results[:300000], 'blue')\n",
=======
     "data": {
      "image/png": "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\n",
      "text/plain": [
       "<Figure size 432x288 with 1 Axes>"
      ]
     },
     "metadata": {
      "needs_background": "light"
     },
     "output_type": "display_data"
    }
   ],
   "source": [
    "plt.plot(MLE[3000000:5000000] , 'r')\n",
    "#plt.plot(PLM[:3000000], 'orange')\n",
    "plt.plot(net_results[3000000:5000000], 'b')\n",
    "#plt.plot(scaled_results[:500000], 'blue')\n",
    "\n",
>>>>>>> 15b8be5a9491092180e7f5852c5d7956514c3906
    "plt.show()"
   ]
  },
  {
   "cell_type": "code",
   "execution_count": 46,
   "metadata": {},
   "outputs": [
    {
     "name": "stdout",
     "output_type": "stream",
     "text": [
      "1.469640096729563e-06\n",
      "1.469640096729563e-06\n"
     ]
    }
   ],
   "source": [
    "print(PLM[0])\n",
    "print(scaled_results[0])"
   ]
  },
  {
   "cell_type": "code",
   "execution_count": null,
   "metadata": {},
   "outputs": [],
   "source": []
  }
 ],
 "metadata": {
  "kernelspec": {
   "display_name": "Python 3",
   "language": "python",
   "name": "python3"
  },
  "language_info": {
   "codemirror_mode": {
    "name": "ipython",
    "version": 3
   },
   "file_extension": ".py",
   "mimetype": "text/x-python",
   "name": "python",
   "nbconvert_exporter": "python",
   "pygments_lexer": "ipython3",
   "version": "3.6.8"
  }
 },
 "nbformat": 4,
 "nbformat_minor": 2
}
