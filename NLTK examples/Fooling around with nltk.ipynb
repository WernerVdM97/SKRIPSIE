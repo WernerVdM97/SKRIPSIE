{
 "cells": [
  {
   "cell_type": "code",
   "execution_count": 2,
   "metadata": {},
   "outputs": [],
   "source": [
    "import nltk\n",
    "import collections\n",
    "import unicodedata \n",
    "import matplotlib.pyplot as plt\n",
    "\n",
    "import re\n",
    "import inflect \n",
    "#This is a simple library for accomplishing \n",
    "#the natural language related tasks of generating plurals, \n",
    "#singular nouns, ordinals, and indefinite articles, and \n",
    "#(of most interest to us) converting numbers to words \n",
    "\n",
    "from nltk.corpus import stopwords\n",
    "from nltk import word_tokenize, sent_tokenize\n",
    "from nltk.util import ngrams\n",
    "\n",
    "import time"
   ]
  },
  {
   "cell_type": "code",
   "execution_count": 3,
   "metadata": {},
   "outputs": [],
   "source": [
    "file = open(\"../corpus/bible.txt\").read()"
   ]
  },
  {
   "cell_type": "code",
   "execution_count": 4,
   "metadata": {},
   "outputs": [
    {
     "name": "stdout",
     "output_type": "stream",
     "text": [
      "4.460659027099609\n"
     ]
    }
   ],
   "source": [
    "start = time.time()\n",
    "pre_tokens = sent_tokenize(file)\n",
    "post_token = []\n",
    "\n",
    "# now loop over each sentence and tokenize it separately\n",
    "for sentence in pre_tokens:\n",
    "    post_token.append(word_tokenize(sentence))\n",
    "\n",
    "end = time.time()\n",
    "print(end-start)"
   ]
  },
  {
   "cell_type": "code",
   "execution_count": 5,
   "metadata": {},
   "outputs": [
    {
     "name": "stdout",
     "output_type": "stream",
     "text": [
      "29743\n"
     ]
    }
   ],
   "source": [
    "print(len(post_token))"
   ]
  },
  {
   "cell_type": "code",
   "execution_count": 6,
   "metadata": {},
   "outputs": [
    {
     "name": "stdout",
     "output_type": "stream",
     "text": [
      "1.1853995323181152\n"
     ]
    }
   ],
   "source": [
    "#normalise tokens manually\n",
    "'''\n",
    "removing non ascii\n",
    "to lowercase\n",
    "remove punctuation\n",
    "replace numbers\n",
    "remove stopwords\n",
    "'''\n",
    "\n",
    "def remove_non_ascii(words):\n",
    "    \"\"\"Remove non-ASCII characters from list of tokenized words\"\"\"\n",
    "    new_words = []\n",
    "    for word in words:\n",
    "        new_word = unicodedata.normalize('NFKD', word).encode('ascii', 'ignore').decode('utf-8', 'ignore')\n",
    "        new_words.append(new_word)\n",
    "    return new_words\n",
    "\n",
    "def to_lowercase(words):\n",
    "    \"\"\"Convert all characters to lowercase from list of tokenized words\"\"\"\n",
    "    new_words = []\n",
    "    for word in words:\n",
    "        new_word = word.lower()\n",
    "        new_words.append(new_word)\n",
    "    return new_words\n",
    "\n",
    "def remove_punctuation(words):\n",
    "    \"\"\"Remove punctuation from list of tokenized words\"\"\"\n",
    "    new_words = []\n",
    "    for word in words:\n",
    "        new_word = re.sub(r'[^\\w\\s]', '', word)\n",
    "        if new_word != '':\n",
    "            new_words.append(new_word)\n",
    "    return new_words\n",
    "\n",
    "def replace_numbers(words):\n",
    "    \"\"\"Replace all interger occurrences in list of tokenized words with textual representation\"\"\"\n",
    "    p = inflect.engine()\n",
    "    new_words = []\n",
    "    for word in words:\n",
    "        if word.isdigit():\n",
    "            new_word = p.number_to_words(word)\n",
    "            new_words.append(new_word)\n",
    "        else:\n",
    "            new_words.append(word)\n",
    "    return new_words\n",
    "\n",
    "def remove_stopwords(words):\n",
    "    \"\"\"Remove stop words from list of tokenized words\"\"\"\n",
    "    new_words = []\n",
    "    for word in words:\n",
    "        if word not in stopwords.words('english'):\n",
    "            new_words.append(word)\n",
    "    return new_words\n",
    "\n",
    "def stem_words(words):\n",
    "    \"\"\"Stem words in list of tokenized words\"\"\"\n",
    "    stemmer = LancasterStemmer()\n",
    "    stems = []\n",
    "    for word in words:\n",
    "        stem = stemmer.stem(word)\n",
    "        stems.append(stem)\n",
    "    return stems\n",
    "\n",
    "def lemmatize_verbs(words):\n",
    "    \"\"\"Lemmatize verbs in list of tokenized words\"\"\"\n",
    "    lemmatizer = WordNetLemmatizer()\n",
    "    lemmas = []\n",
    "    for word in words:\n",
    "        lemma = lemmatizer.lemmatize(word, pos='v')\n",
    "        lemmas.append(lemma)\n",
    "    return lemmas\n",
    "\n",
    "def normalize(words):\n",
    "    words = remove_non_ascii(words)\n",
    "    words = to_lowercase(words)\n",
    "    words = remove_punctuation(words)\n",
    "    words = replace_numbers(words)\n",
    "    #words = remove_stopwords(words)\n",
    "    return words\n",
    "\n",
    "start = time.time()\n",
    "data = []\n",
    "\n",
    "for x in range(len(post_token)):\n",
    "    data.append(normalize(post_token[x]))\n",
    "\n",
    "end = time.time()\n",
    "\n",
    "print(end-start)"
   ]
  },
  {
   "cell_type": "code",
   "execution_count": 7,
   "metadata": {},
   "outputs": [
    {
     "name": "stdout",
     "output_type": "stream",
     "text": [
      "[['in', 'the', 'beginning', 'god', 'created', 'the', 'heaven', 'and', 'the', 'earth'], ['and', 'the', 'earth', 'was', 'without', 'form', 'and', 'void', 'and', 'darkness', 'was', 'upon', 'the', 'face', 'of', 'the', 'deep'], ['and', 'the', 'spirit', 'of', 'god', 'moved', 'upon', 'the', 'face', 'of', 'the', 'waters']]\n"
     ]
    }
   ],
   "source": [
    "print(data[:3])"
   ]
  },
  {
   "cell_type": "markdown",
   "metadata": {},
   "source": [
    "# outdated: applicable if data is tokenized entirely, not per sentence\n"
   ]
  },
  {
   "cell_type": "code",
   "execution_count": 140,
   "metadata": {},
   "outputs": [
    {
     "ename": "TypeError",
     "evalue": "unhashable type: 'list'",
     "output_type": "error",
     "traceback": [
      "\u001b[0;31m---------------------------------------------------------------------------\u001b[0m",
      "\u001b[0;31mTypeError\u001b[0m                                 Traceback (most recent call last)",
      "\u001b[0;32m<ipython-input-140-561ce2fe07b2>\u001b[0m in \u001b[0;36m<module>\u001b[0;34m\u001b[0m\n\u001b[1;32m      1\u001b[0m \u001b[0mbigrams\u001b[0m \u001b[0;34m=\u001b[0m \u001b[0mngrams\u001b[0m\u001b[0;34m(\u001b[0m\u001b[0mdata\u001b[0m\u001b[0;34m,\u001b[0m\u001b[0;36m2\u001b[0m\u001b[0;34m)\u001b[0m\u001b[0;34m\u001b[0m\u001b[0;34m\u001b[0m\u001b[0m\n\u001b[1;32m      2\u001b[0m \u001b[0;34m\u001b[0m\u001b[0m\n\u001b[0;32m----> 3\u001b[0;31m \u001b[0mbiF\u001b[0m\u001b[0;34m=\u001b[0m\u001b[0mnltk\u001b[0m\u001b[0;34m.\u001b[0m\u001b[0mConditionalFreqDist\u001b[0m\u001b[0;34m(\u001b[0m\u001b[0mbigrams\u001b[0m\u001b[0;34m)\u001b[0m\u001b[0;34m\u001b[0m\u001b[0;34m\u001b[0m\u001b[0m\n\u001b[0m\u001b[1;32m      4\u001b[0m \u001b[0;34m\u001b[0m\u001b[0m\n\u001b[1;32m      5\u001b[0m \u001b[0mbiF\u001b[0m\u001b[0;34m.\u001b[0m\u001b[0mconditions\u001b[0m\u001b[0;34m(\u001b[0m\u001b[0;34m)\u001b[0m\u001b[0;34m\u001b[0m\u001b[0;34m\u001b[0m\u001b[0m\n",
      "\u001b[0;32m~/.local/lib/python3.6/site-packages/nltk/probability.py\u001b[0m in \u001b[0;36m__init__\u001b[0;34m(self, cond_samples)\u001b[0m\n\u001b[1;32m   1864\u001b[0m         \u001b[0;32mif\u001b[0m \u001b[0mcond_samples\u001b[0m\u001b[0;34m:\u001b[0m\u001b[0;34m\u001b[0m\u001b[0;34m\u001b[0m\u001b[0m\n\u001b[1;32m   1865\u001b[0m             \u001b[0;32mfor\u001b[0m \u001b[0;34m(\u001b[0m\u001b[0mcond\u001b[0m\u001b[0;34m,\u001b[0m \u001b[0msample\u001b[0m\u001b[0;34m)\u001b[0m \u001b[0;32min\u001b[0m \u001b[0mcond_samples\u001b[0m\u001b[0;34m:\u001b[0m\u001b[0;34m\u001b[0m\u001b[0;34m\u001b[0m\u001b[0m\n\u001b[0;32m-> 1866\u001b[0;31m                 \u001b[0mself\u001b[0m\u001b[0;34m[\u001b[0m\u001b[0mcond\u001b[0m\u001b[0;34m]\u001b[0m\u001b[0;34m[\u001b[0m\u001b[0msample\u001b[0m\u001b[0;34m]\u001b[0m \u001b[0;34m+=\u001b[0m \u001b[0;36m1\u001b[0m\u001b[0;34m\u001b[0m\u001b[0;34m\u001b[0m\u001b[0m\n\u001b[0m\u001b[1;32m   1867\u001b[0m \u001b[0;34m\u001b[0m\u001b[0m\n\u001b[1;32m   1868\u001b[0m     \u001b[0;32mdef\u001b[0m \u001b[0m__reduce__\u001b[0m\u001b[0;34m(\u001b[0m\u001b[0mself\u001b[0m\u001b[0;34m)\u001b[0m\u001b[0;34m:\u001b[0m\u001b[0;34m\u001b[0m\u001b[0;34m\u001b[0m\u001b[0m\n",
      "\u001b[0;31mTypeError\u001b[0m: unhashable type: 'list'"
     ]
    }
   ],
   "source": [
    "bigrams = ngrams(data,2)\n",
    "\n",
    "biF=nltk.ConditionalFreqDist(bigrams)\n",
    "\n",
    "biF.conditions()\n",
    "biF.keys()\n",
    "print(biF['my'].most_common(10))\n",
    "\n",
    "biP = nltk.ConditionalProbDist(biF , nltk.MLEProbDist)\n",
    "print(biP['my'].prob('people')) #prob for people given previous word is my"
   ]
  },
  {
   "cell_type": "code",
   "execution_count": 141,
   "metadata": {},
   "outputs": [
    {
     "ename": "TypeError",
     "evalue": "unhashable type: 'list'",
     "output_type": "error",
     "traceback": [
      "\u001b[0;31m---------------------------------------------------------------------------\u001b[0m",
      "\u001b[0;31mTypeError\u001b[0m                                 Traceback (most recent call last)",
      "\u001b[0;32m<ipython-input-141-d7c1f40c298b>\u001b[0m in \u001b[0;36m<module>\u001b[0;34m\u001b[0m\n\u001b[1;32m      1\u001b[0m \u001b[0mtrigrams\u001b[0m \u001b[0;34m=\u001b[0m \u001b[0mngrams\u001b[0m\u001b[0;34m(\u001b[0m\u001b[0mdata\u001b[0m\u001b[0;34m,\u001b[0m\u001b[0;36m3\u001b[0m\u001b[0;34m)\u001b[0m\u001b[0;34m\u001b[0m\u001b[0;34m\u001b[0m\u001b[0m\n\u001b[1;32m      2\u001b[0m \u001b[0;34m\u001b[0m\u001b[0m\n\u001b[0;32m----> 3\u001b[0;31m \u001b[0mtriF\u001b[0m \u001b[0;34m=\u001b[0m \u001b[0mnltk\u001b[0m\u001b[0;34m.\u001b[0m\u001b[0mFreqDist\u001b[0m\u001b[0;34m(\u001b[0m\u001b[0mtrigrams\u001b[0m\u001b[0;34m)\u001b[0m\u001b[0;34m\u001b[0m\u001b[0;34m\u001b[0m\u001b[0m\n\u001b[0m\u001b[1;32m      4\u001b[0m \u001b[0;34m\u001b[0m\u001b[0m\n\u001b[1;32m      5\u001b[0m \u001b[0mtriF\u001b[0m\u001b[0;34m.\u001b[0m\u001b[0mplot\u001b[0m\u001b[0;34m(\u001b[0m\u001b[0;36m10\u001b[0m\u001b[0;34m)\u001b[0m\u001b[0;34m\u001b[0m\u001b[0;34m\u001b[0m\u001b[0m\n",
      "\u001b[0;32m~/.local/lib/python3.6/site-packages/nltk/probability.py\u001b[0m in \u001b[0;36m__init__\u001b[0;34m(self, samples)\u001b[0m\n\u001b[1;32m    106\u001b[0m         \u001b[0;34m:\u001b[0m\u001b[0mtype\u001b[0m \u001b[0msamples\u001b[0m\u001b[0;34m:\u001b[0m \u001b[0mSequence\u001b[0m\u001b[0;34m\u001b[0m\u001b[0;34m\u001b[0m\u001b[0m\n\u001b[1;32m    107\u001b[0m         \"\"\"\n\u001b[0;32m--> 108\u001b[0;31m         \u001b[0mCounter\u001b[0m\u001b[0;34m.\u001b[0m\u001b[0m__init__\u001b[0m\u001b[0;34m(\u001b[0m\u001b[0mself\u001b[0m\u001b[0;34m,\u001b[0m \u001b[0msamples\u001b[0m\u001b[0;34m)\u001b[0m\u001b[0;34m\u001b[0m\u001b[0;34m\u001b[0m\u001b[0m\n\u001b[0m\u001b[1;32m    109\u001b[0m \u001b[0;34m\u001b[0m\u001b[0m\n\u001b[1;32m    110\u001b[0m         \u001b[0;31m# Cached number of samples in this FreqDist\u001b[0m\u001b[0;34m\u001b[0m\u001b[0;34m\u001b[0m\u001b[0;34m\u001b[0m\u001b[0m\n",
      "\u001b[0;32m/usr/lib/python3.6/collections/__init__.py\u001b[0m in \u001b[0;36m__init__\u001b[0;34m(*args, **kwds)\u001b[0m\n\u001b[1;32m    533\u001b[0m             \u001b[0;32mraise\u001b[0m \u001b[0mTypeError\u001b[0m\u001b[0;34m(\u001b[0m\u001b[0;34m'expected at most 1 arguments, got %d'\u001b[0m \u001b[0;34m%\u001b[0m \u001b[0mlen\u001b[0m\u001b[0;34m(\u001b[0m\u001b[0margs\u001b[0m\u001b[0;34m)\u001b[0m\u001b[0;34m)\u001b[0m\u001b[0;34m\u001b[0m\u001b[0;34m\u001b[0m\u001b[0m\n\u001b[1;32m    534\u001b[0m         \u001b[0msuper\u001b[0m\u001b[0;34m(\u001b[0m\u001b[0mCounter\u001b[0m\u001b[0;34m,\u001b[0m \u001b[0mself\u001b[0m\u001b[0;34m)\u001b[0m\u001b[0;34m.\u001b[0m\u001b[0m__init__\u001b[0m\u001b[0;34m(\u001b[0m\u001b[0;34m)\u001b[0m\u001b[0;34m\u001b[0m\u001b[0;34m\u001b[0m\u001b[0m\n\u001b[0;32m--> 535\u001b[0;31m         \u001b[0mself\u001b[0m\u001b[0;34m.\u001b[0m\u001b[0mupdate\u001b[0m\u001b[0;34m(\u001b[0m\u001b[0;34m*\u001b[0m\u001b[0margs\u001b[0m\u001b[0;34m,\u001b[0m \u001b[0;34m**\u001b[0m\u001b[0mkwds\u001b[0m\u001b[0;34m)\u001b[0m\u001b[0;34m\u001b[0m\u001b[0;34m\u001b[0m\u001b[0m\n\u001b[0m\u001b[1;32m    536\u001b[0m \u001b[0;34m\u001b[0m\u001b[0m\n\u001b[1;32m    537\u001b[0m     \u001b[0;32mdef\u001b[0m \u001b[0m__missing__\u001b[0m\u001b[0;34m(\u001b[0m\u001b[0mself\u001b[0m\u001b[0;34m,\u001b[0m \u001b[0mkey\u001b[0m\u001b[0;34m)\u001b[0m\u001b[0;34m:\u001b[0m\u001b[0;34m\u001b[0m\u001b[0;34m\u001b[0m\u001b[0m\n",
      "\u001b[0;32m~/.local/lib/python3.6/site-packages/nltk/probability.py\u001b[0m in \u001b[0;36mupdate\u001b[0;34m(self, *args, **kwargs)\u001b[0m\n\u001b[1;32m    144\u001b[0m         \"\"\"\n\u001b[1;32m    145\u001b[0m         \u001b[0mself\u001b[0m\u001b[0;34m.\u001b[0m\u001b[0m_N\u001b[0m \u001b[0;34m=\u001b[0m \u001b[0;32mNone\u001b[0m\u001b[0;34m\u001b[0m\u001b[0;34m\u001b[0m\u001b[0m\n\u001b[0;32m--> 146\u001b[0;31m         \u001b[0msuper\u001b[0m\u001b[0;34m(\u001b[0m\u001b[0mFreqDist\u001b[0m\u001b[0;34m,\u001b[0m \u001b[0mself\u001b[0m\u001b[0;34m)\u001b[0m\u001b[0;34m.\u001b[0m\u001b[0mupdate\u001b[0m\u001b[0;34m(\u001b[0m\u001b[0;34m*\u001b[0m\u001b[0margs\u001b[0m\u001b[0;34m,\u001b[0m \u001b[0;34m**\u001b[0m\u001b[0mkwargs\u001b[0m\u001b[0;34m)\u001b[0m\u001b[0;34m\u001b[0m\u001b[0;34m\u001b[0m\u001b[0m\n\u001b[0m\u001b[1;32m    147\u001b[0m \u001b[0;34m\u001b[0m\u001b[0m\n\u001b[1;32m    148\u001b[0m     \u001b[0;32mdef\u001b[0m \u001b[0msetdefault\u001b[0m\u001b[0;34m(\u001b[0m\u001b[0mself\u001b[0m\u001b[0;34m,\u001b[0m \u001b[0mkey\u001b[0m\u001b[0;34m,\u001b[0m \u001b[0mval\u001b[0m\u001b[0;34m)\u001b[0m\u001b[0;34m:\u001b[0m\u001b[0;34m\u001b[0m\u001b[0;34m\u001b[0m\u001b[0m\n",
      "\u001b[0;32m/usr/lib/python3.6/collections/__init__.py\u001b[0m in \u001b[0;36mupdate\u001b[0;34m(*args, **kwds)\u001b[0m\n\u001b[1;32m    620\u001b[0m                     \u001b[0msuper\u001b[0m\u001b[0;34m(\u001b[0m\u001b[0mCounter\u001b[0m\u001b[0;34m,\u001b[0m \u001b[0mself\u001b[0m\u001b[0;34m)\u001b[0m\u001b[0;34m.\u001b[0m\u001b[0mupdate\u001b[0m\u001b[0;34m(\u001b[0m\u001b[0miterable\u001b[0m\u001b[0;34m)\u001b[0m \u001b[0;31m# fast path when counter is empty\u001b[0m\u001b[0;34m\u001b[0m\u001b[0;34m\u001b[0m\u001b[0m\n\u001b[1;32m    621\u001b[0m             \u001b[0;32melse\u001b[0m\u001b[0;34m:\u001b[0m\u001b[0;34m\u001b[0m\u001b[0;34m\u001b[0m\u001b[0m\n\u001b[0;32m--> 622\u001b[0;31m                 \u001b[0m_count_elements\u001b[0m\u001b[0;34m(\u001b[0m\u001b[0mself\u001b[0m\u001b[0;34m,\u001b[0m \u001b[0miterable\u001b[0m\u001b[0;34m)\u001b[0m\u001b[0;34m\u001b[0m\u001b[0;34m\u001b[0m\u001b[0m\n\u001b[0m\u001b[1;32m    623\u001b[0m         \u001b[0;32mif\u001b[0m \u001b[0mkwds\u001b[0m\u001b[0;34m:\u001b[0m\u001b[0;34m\u001b[0m\u001b[0;34m\u001b[0m\u001b[0m\n\u001b[1;32m    624\u001b[0m             \u001b[0mself\u001b[0m\u001b[0;34m.\u001b[0m\u001b[0mupdate\u001b[0m\u001b[0;34m(\u001b[0m\u001b[0mkwds\u001b[0m\u001b[0;34m)\u001b[0m\u001b[0;34m\u001b[0m\u001b[0;34m\u001b[0m\u001b[0m\n",
      "\u001b[0;31mTypeError\u001b[0m: unhashable type: 'list'"
     ]
    }
   ],
   "source": [
    "trigrams = ngrams(data,3)\n",
    "\n",
    "triF = nltk.FreqDist(trigrams)\n",
    "\n",
    "triF.plot(10)"
   ]
  },
  {
   "cell_type": "code",
   "execution_count": null,
   "metadata": {},
   "outputs": [],
   "source": [
    "print(triF.freq(('of','the','lord'))) #relative frequency estimate"
   ]
  },
  {
   "cell_type": "markdown",
   "metadata": {},
   "source": [
    "smoothing is required for values where answer above is equal to zero"
   ]
  },
  {
   "cell_type": "code",
   "execution_count": null,
   "metadata": {},
   "outputs": [],
   "source": [
    "print(triF.N()) #total trigrams in training set"
   ]
  },
  {
   "cell_type": "markdown",
   "metadata": {},
   "source": [
    "# NLTK LM intro, important to note that lm required data to be tokenized per sentence\n",
    "3 main steps: Building vocab, training(counting ngrams), output prob"
   ]
  },
  {
   "cell_type": "code",
   "execution_count": null,
   "metadata": {},
   "outputs": [],
   "source": [
    "#tips\n",
    ">>> import nltk\n",
    ">>> obs = 'the rain in spain falls mainly in the plains'.split()\n",
    ">>> lm = nltk.NgramModel(2, obs, estimator=nltk.MLEProbDist)\n",
    ">>> lm.prob('rain', 'the') #wrong\n",
    "0.0\n",
    ">>> lm.prob('rain', ['the']) #right\n",
    "0.5\n",
    ">>> lm.prob('spain', 'rain in') #wrong\n",
    "0.0\n",
    ">>> lm.prob('spain', ['rain in']) #wrong\n",
    "'''long exception'''\n",
    ">>> lm.prob('spain', ['rain', 'in']) #right\n",
    "1.0"
   ]
  },
  {
   "cell_type": "code",
   "execution_count": 12,
   "metadata": {},
   "outputs": [
    {
     "name": "stdout",
     "output_type": "stream",
     "text": [
      "Help on package nltk.lm in nltk:\n",
      "\n",
      "NAME\n",
      "    nltk.lm\n",
      "\n",
      "DESCRIPTION\n",
      "    NLTK Language Modeling Module.\n",
      "    ------------------------------\n",
      "    \n",
      "    Currently this module covers only ngram language models, but it should be easy\n",
      "    to extend to neural models.\n",
      "    \n",
      "    \n",
      "    Preparing Data\n",
      "    ==============\n",
      "    \n",
      "    Before we train our ngram models it is necessary to make sure the data we put in\n",
      "    them is in the right format.\n",
      "    Let's say we have a text that is a list of sentences, where each sentence is\n",
      "    a list of strings. For simplicity we just consider a text consisting of\n",
      "    characters instead of words.\n",
      "    \n",
      "        >>> text = [['a', 'b', 'c'], ['a', 'c', 'd', 'c', 'e', 'f']]\n",
      "    \n",
      "    If we want to train a bigram model, we need to turn this text into bigrams.\n",
      "    Here's what the first sentence of our text would look like if we use a function\n",
      "    from NLTK for this.\n",
      "    \n",
      "        >>> from nltk.util import bigrams\n",
      "        >>> list(bigrams(text[0]))\n",
      "        [('a', 'b'), ('b', 'c')]\n",
      "    \n",
      "    Notice how \"b\" occurs both as the first and second member of different bigrams\n",
      "    but \"a\" and \"c\" don't? Wouldn't it be nice to somehow indicate how often sentences\n",
      "    start with \"a\" and end with \"c\"?\n",
      "    A standard way to deal with this is to add special \"padding\" symbols to the\n",
      "    sentence before splitting it into ngrams.\n",
      "    Fortunately, NLTK also has a function for that, let's see what it does to the\n",
      "    first sentence.\n",
      "    \n",
      "        >>> from nltk.util import pad_sequence\n",
      "        >>> list(pad_sequence(text[0],\n",
      "        ... pad_left=True,\n",
      "        ... left_pad_symbol=\"<s>\",\n",
      "        ... pad_right=True,\n",
      "        ... right_pad_symbol=\"</s>\",\n",
      "        ... n=2))\n",
      "        ['<s>', 'a', 'b', 'c', '</s>']\n",
      "    \n",
      "    Note the `n` argument, that tells the function we need padding for bigrams.\n",
      "    Now, passing all these parameters every time is tedious and in most cases they\n",
      "    can be safely assumed as defaults anyway.\n",
      "    Thus our module provides a convenience function that has all these arguments\n",
      "    already set while the other arguments remain the same as for `pad_sequence`.\n",
      "    \n",
      "        >>> from nltk.lm.preprocessing import pad_both_ends\n",
      "        >>> list(pad_both_ends(text[0], n=2))\n",
      "        ['<s>', 'a', 'b', 'c', '</s>']\n",
      "    \n",
      "    Combining the two parts discussed so far we get the following preparation steps\n",
      "    for one sentence.\n",
      "    \n",
      "        >>> list(bigrams(pad_both_ends(text[0], n=2)))\n",
      "        [('<s>', 'a'), ('a', 'b'), ('b', 'c'), ('c', '</s>')]\n",
      "    \n",
      "    To make our model more robust we could also train it on unigrams (single words)\n",
      "    as well as bigrams, its main source of information.\n",
      "    NLTK once again helpfully provides a function called `everygrams`.\n",
      "    While not the most efficient, it is conceptually simple.\n",
      "    \n",
      "    \n",
      "        >>> from nltk.util import everygrams\n",
      "        >>> padded_bigrams = list(pad_both_ends(text[0], n=2))\n",
      "        >>> list(everygrams(padded_bigrams, max_len=2))\n",
      "        [('<s>',),\n",
      "         ('a',),\n",
      "         ('b',),\n",
      "         ('c',),\n",
      "         ('</s>',),\n",
      "         ('<s>', 'a'),\n",
      "         ('a', 'b'),\n",
      "         ('b', 'c'),\n",
      "         ('c', '</s>')]\n",
      "    \n",
      "    We are almost ready to start counting ngrams, just one more step left.\n",
      "    During training and evaluation our model will rely on a vocabulary that\n",
      "    defines which words are \"known\" to the model.\n",
      "    To create this vocabulary we need to pad our sentences (just like for counting\n",
      "    ngrams) and then combine the sentences into one flat stream of words.\n",
      "    \n",
      "        >>> from nltk.lm.preprocessing import flatten\n",
      "        >>> list(flatten(pad_both_ends(sent, n=2) for sent in text))\n",
      "        ['<s>', 'a', 'b', 'c', '</s>', '<s>', 'a', 'c', 'd', 'c', 'e', 'f', '</s>']\n",
      "    \n",
      "    In most cases we want to use the same text as the source for both vocabulary\n",
      "    and ngram counts.\n",
      "    Now that we understand what this means for our preprocessing, we can simply import\n",
      "    a function that does everything for us.\n",
      "    \n",
      "        >>> from nltk.lm.preprocessing import padded_everygram_pipeline\n",
      "        >>> train, vocab = padded_everygram_pipeline(2, text)\n",
      "    \n",
      "    So as to avoid re-creating the text in memory, both `train` and `vocab` are lazy\n",
      "    iterators. They are evaluated on demand at training time.\n",
      "    \n",
      "    \n",
      "    Training\n",
      "    ========\n",
      "    Having prepared our data we are ready to start training a model.\n",
      "    As a simple example, let us train a Maximum Likelihood Estimator (MLE).\n",
      "    We only need to specify the highest ngram order to instantiate it.\n",
      "    \n",
      "        >>> from nltk.lm import MLE\n",
      "        >>> lm = MLE(2)\n",
      "    \n",
      "    This automatically creates an empty vocabulary...\n",
      "    \n",
      "        >>> len(lm.vocab)\n",
      "        0\n",
      "    \n",
      "    ... which gets filled as we fit the model.\n",
      "    \n",
      "        >>> lm.fit(train, vocab)\n",
      "        >>> print(lm.vocab)\n",
      "        <Vocabulary with cutoff=1 unk_label='<UNK>' and 9 items>\n",
      "        >>> len(lm.vocab)\n",
      "        9\n",
      "    \n",
      "    The vocabulary helps us handle words that have not occurred during training.\n",
      "    \n",
      "        >>> lm.vocab.lookup(text[0])\n",
      "        ('a', 'b', 'c')\n",
      "        >>> lm.vocab.lookup([\"aliens\", \"from\", \"Mars\"])\n",
      "        ('<UNK>', '<UNK>', '<UNK>')\n",
      "    \n",
      "    Moreover, in some cases we want to ignore words that we did see during training\n",
      "    but that didn't occur frequently enough, to provide us useful information.\n",
      "    You can tell the vocabulary to ignore such words.\n",
      "    To find out how that works, check out the docs for the `Vocabulary` class.\n",
      "    \n",
      "    \n",
      "    Using a Trained Model\n",
      "    =====================\n",
      "    When it comes to ngram models the training boils down to counting up the ngrams\n",
      "    from the training corpus.\n",
      "    \n",
      "        >>> print(lm.counts)\n",
      "        <NgramCounter with 2 ngram orders and 24 ngrams>\n",
      "    \n",
      "    This provides a convenient interface to access counts for unigrams...\n",
      "    \n",
      "        >>> lm.counts['a']\n",
      "        2\n",
      "    \n",
      "    ...and bigrams (in this case \"a b\")\n",
      "    \n",
      "        >>> lm.counts[['a']]['b']\n",
      "        1\n",
      "    \n",
      "    And so on. However, the real purpose of training a language model is to have it\n",
      "    score how probable words are in certain contexts.\n",
      "    This being MLE, the model returns the item's relative frequency as its score.\n",
      "    \n",
      "        >>> lm.score(\"a\")\n",
      "        0.15384615384615385\n",
      "    \n",
      "    Items that are not seen during training are mapped to the vocabulary's\n",
      "    \"unknown label\" token. This is \"<UNK>\" by default.\n",
      "    \n",
      "        >>> lm.score(\"<UNK>\") == lm.score(\"aliens\")\n",
      "        True\n",
      "    \n",
      "    Here's how you get the score for a word given some preceding context.\n",
      "    For example we want to know what is the chance that \"b\" is preceded by \"a\".\n",
      "    \n",
      "        >>> lm.score(\"b\", [\"a\"])\n",
      "        0.5\n",
      "    \n",
      "    To avoid underflow when working with many small score values it makes sense to\n",
      "    take their logarithm.\n",
      "    For convenience this can be done with the `logscore` method.\n",
      "    \n",
      "        >>> lm.logscore(\"a\")\n",
      "        -2.700439718141092\n",
      "    \n",
      "    Building on this method, we can also evaluate our model's cross-entropy and\n",
      "    perplexity with respect to sequences of ngrams.\n",
      "    \n",
      "        >>> test = [('a', 'b'), ('c', 'd')]\n",
      "        >>> lm.entropy(test)\n",
      "        1.292481250360578\n",
      "        >>> lm.perplexity(test)\n",
      "        2.449489742783178\n",
      "    \n",
      "    It is advisable to preprocess your test text exactly the same way as you did\n",
      "    the training text.\n",
      "    \n",
      "    One cool feature of ngram models is that they can be used to generate text.\n",
      "    \n",
      "        >>> lm.generate(1, random_seed=3)\n",
      "        '<s>'\n",
      "        >>> lm.generate(5, random_seed=3)\n",
      "        ['<s>', 'a', 'b', 'c', 'd']\n",
      "    \n",
      "    Provide `random_seed` if you want to consistently reproduce the same text all\n",
      "    other things being equal. Here we are using it to test the examples.\n",
      "    \n",
      "    You can also condition your generation on some preceding text with the `context`\n",
      "    argument.\n",
      "    \n",
      "        >>> lm.generate(5, text_seed=['c'], random_seed=3)\n",
      "        ['</s>', 'c', 'd', 'c', 'd']\n",
      "    \n",
      "    Note that an ngram model is restricted in how much preceding context it can\n",
      "    take into account. For example, a trigram model can only condition its output\n",
      "    on 2 preceding words. If you pass in a 4-word context, the first two words\n",
      "    will be ignored.\n",
      "\n",
      "PACKAGE CONTENTS\n",
      "    api\n",
      "    counter\n",
      "    models\n",
      "    preprocessing\n",
      "    smoothing\n",
      "    util\n",
      "    vocabulary\n",
      "\n",
      "CLASSES\n",
      "    builtins.object\n",
      "        nltk.lm.counter.NgramCounter\n",
      "        nltk.lm.vocabulary.Vocabulary\n",
      "    nltk.lm.api.LanguageModel(builtins.object)\n",
      "        nltk.lm.models.Lidstone\n",
      "            nltk.lm.models.Laplace\n",
      "        nltk.lm.models.MLE\n",
      "    nltk.lm.models.InterpolatedLanguageModel(nltk.lm.api.LanguageModel)\n",
      "        nltk.lm.models.KneserNeyInterpolated\n",
      "        nltk.lm.models.WittenBellInterpolated\n",
      "    \n",
      "    class KneserNeyInterpolated(InterpolatedLanguageModel)\n",
      "     |  Interpolated version of Kneser-Ney smoothing.\n",
      "     |  \n",
      "     |  Method resolution order:\n",
      "     |      KneserNeyInterpolated\n",
      "     |      InterpolatedLanguageModel\n",
      "     |      nltk.lm.api.LanguageModel\n",
      "     |      builtins.object\n",
      "     |  \n",
      "     |  Methods defined here:\n",
      "     |  \n",
      "     |  __init__(self, order, discount=0.1, **kwargs)\n",
      "     |      Creates new LanguageModel.\n",
      "     |      \n",
      "     |      :param vocabulary: If provided, this vocabulary will be used instead\n",
      "     |      of creating a new one when training.\n",
      "     |      :type vocabulary: `nltk.lm.Vocabulary` or None\n",
      "     |      :param counter: If provided, use this object to count ngrams.\n",
      "     |      :type vocabulary: `nltk.lm.NgramCounter` or None\n",
      "     |      :param ngrams_fn: If given, defines how sentences in training text are turned to ngram\n",
      "     |                        sequences.\n",
      "     |      :type ngrams_fn: function or None\n",
      "     |      :param pad_fn: If given, defines how senteces in training text are padded.\n",
      "     |      :type pad_fn: function or None\n",
      "     |  \n",
      "     |  ----------------------------------------------------------------------\n",
      "     |  Data and other attributes defined here:\n",
      "     |  \n",
      "     |  __abstractmethods__ = frozenset()\n",
      "     |  \n",
      "     |  ----------------------------------------------------------------------\n",
      "     |  Methods inherited from InterpolatedLanguageModel:\n",
      "     |  \n",
      "     |  unmasked_score(self, word, context=None)\n",
      "     |      Score a word given some optional context.\n",
      "     |      \n",
      "     |      Concrete models are expected to provide an implementation.\n",
      "     |      Note that this method does not mask its arguments with the OOV label.\n",
      "     |      Use the `score` method for that.\n",
      "     |      \n",
      "     |      :param str word: Word for which we want the score\n",
      "     |      :param tuple(str) context: Context the word is in.\n",
      "     |      If `None`, compute unigram score.\n",
      "     |      :param context: tuple(str) or None\n",
      "     |      :rtype: float\n",
      "     |  \n",
      "     |  ----------------------------------------------------------------------\n",
      "     |  Methods inherited from nltk.lm.api.LanguageModel:\n",
      "     |  \n",
      "     |  context_counts(self, context)\n",
      "     |      Helper method for retrieving counts for a given context.\n",
      "     |      \n",
      "     |      Assumes context has been checked and oov words in it masked.\n",
      "     |      :type context: tuple(str) or None\n",
      "     |  \n",
      "     |  entropy(self, text_ngrams)\n",
      "     |      Calculate cross-entropy of model for given evaluation text.\n",
      "     |      \n",
      "     |      :param Iterable(tuple(str)) text_ngrams: A sequence of ngram tuples.\n",
      "     |      :rtype: float\n",
      "     |  \n",
      "     |  fit(self, text, vocabulary_text=None)\n",
      "     |      Trains the model on a text.\n",
      "     |      \n",
      "     |      :param text: Training text as a sequence of sentences.\n",
      "     |  \n",
      "     |  generate(self, num_words=1, text_seed=None, random_seed=None)\n",
      "     |      Generate words from the model.\n",
      "     |      \n",
      "     |      :param int num_words: How many words to generate. By default 1.\n",
      "     |      :param text_seed: Generation can be conditioned on preceding context.\n",
      "     |      :param random_seed: A random seed or an instance of `random.Random`. If provided,\n",
      "     |      makes the random sampling part of generation reproducible.\n",
      "     |      :return: One (str) word or a list of words generated from model.\n",
      "     |      \n",
      "     |      Examples:\n",
      "     |      \n",
      "     |      >>> from nltk.lm import MLE\n",
      "     |      >>> lm = MLE(2)\n",
      "     |      >>> lm.fit([[(\"a\", \"b\"), (\"b\", \"c\")]], vocabulary_text=['a', 'b', 'c'])\n",
      "     |      >>> lm.fit([[(\"a\",), (\"b\",), (\"c\",)]])\n",
      "     |      >>> lm.generate(random_seed=3)\n",
      "     |      'a'\n",
      "     |      >>> lm.generate(text_seed=['a'])\n",
      "     |      'b'\n",
      "     |  \n",
      "     |  logscore(self, word, context=None)\n",
      "     |      Evaluate the log score of this word in this context.\n",
      "     |      \n",
      "     |      The arguments are the same as for `score` and `unmasked_score`.\n",
      "     |  \n",
      "     |  perplexity(self, text_ngrams)\n",
      "     |      Calculates the perplexity of the given text.\n",
      "     |      \n",
      "     |      This is simply 2 ** cross-entropy for the text, so the arguments are the same.\n",
      "     |  \n",
      "     |  score(self, word, context=None)\n",
      "     |      Masks out of vocab (OOV) words and computes their model score.\n",
      "     |      \n",
      "     |      For model-specific logic of calculating scores, see the `unmasked_score`\n",
      "     |      method.\n",
      "     |  \n",
      "     |  ----------------------------------------------------------------------\n",
      "     |  Data descriptors inherited from nltk.lm.api.LanguageModel:\n",
      "     |  \n",
      "     |  __dict__\n",
      "     |      dictionary for instance variables (if defined)\n",
      "     |  \n",
      "     |  __weakref__\n",
      "     |      list of weak references to the object (if defined)\n",
      "    \n",
      "    class Laplace(Lidstone)\n",
      "     |  Implements Laplace (add one) smoothing.\n",
      "     |  \n",
      "     |  Initialization identical to BaseNgramModel because gamma is always 1.\n",
      "     |  \n",
      "     |  Method resolution order:\n",
      "     |      Laplace\n",
      "     |      Lidstone\n",
      "     |      nltk.lm.api.LanguageModel\n",
      "     |      builtins.object\n",
      "     |  \n",
      "     |  Methods defined here:\n",
      "     |  \n",
      "     |  __init__(self, *args, **kwargs)\n",
      "     |      Creates new LanguageModel.\n",
      "     |      \n",
      "     |      :param vocabulary: If provided, this vocabulary will be used instead\n",
      "     |      of creating a new one when training.\n",
      "     |      :type vocabulary: `nltk.lm.Vocabulary` or None\n",
      "     |      :param counter: If provided, use this object to count ngrams.\n",
      "     |      :type vocabulary: `nltk.lm.NgramCounter` or None\n",
      "     |      :param ngrams_fn: If given, defines how sentences in training text are turned to ngram\n",
      "     |                        sequences.\n",
      "     |      :type ngrams_fn: function or None\n",
      "     |      :param pad_fn: If given, defines how senteces in training text are padded.\n",
      "     |      :type pad_fn: function or None\n",
      "     |  \n",
      "     |  __unicode__ = __str__(self, /)\n",
      "     |  \n",
      "     |  unicode_repr = __repr__(self, /)\n",
      "     |  \n",
      "     |  ----------------------------------------------------------------------\n",
      "     |  Data and other attributes defined here:\n",
      "     |  \n",
      "     |  __abstractmethods__ = frozenset()\n",
      "     |  \n",
      "     |  ----------------------------------------------------------------------\n",
      "     |  Methods inherited from Lidstone:\n",
      "     |  \n",
      "     |  unmasked_score(self, word, context=None)\n",
      "     |      Add-one smoothing: Lidstone or Laplace.\n",
      "     |      \n",
      "     |      To see what kind, look at `gamma` attribute on the class.\n",
      "     |  \n",
      "     |  ----------------------------------------------------------------------\n",
      "     |  Methods inherited from nltk.lm.api.LanguageModel:\n",
      "     |  \n",
      "     |  context_counts(self, context)\n",
      "     |      Helper method for retrieving counts for a given context.\n",
      "     |      \n",
      "     |      Assumes context has been checked and oov words in it masked.\n",
      "     |      :type context: tuple(str) or None\n",
      "     |  \n",
      "     |  entropy(self, text_ngrams)\n",
      "     |      Calculate cross-entropy of model for given evaluation text.\n",
      "     |      \n",
      "     |      :param Iterable(tuple(str)) text_ngrams: A sequence of ngram tuples.\n",
      "     |      :rtype: float\n",
      "     |  \n",
      "     |  fit(self, text, vocabulary_text=None)\n",
      "     |      Trains the model on a text.\n",
      "     |      \n",
      "     |      :param text: Training text as a sequence of sentences.\n",
      "     |  \n",
      "     |  generate(self, num_words=1, text_seed=None, random_seed=None)\n",
      "     |      Generate words from the model.\n",
      "     |      \n",
      "     |      :param int num_words: How many words to generate. By default 1.\n",
      "     |      :param text_seed: Generation can be conditioned on preceding context.\n",
      "     |      :param random_seed: A random seed or an instance of `random.Random`. If provided,\n",
      "     |      makes the random sampling part of generation reproducible.\n",
      "     |      :return: One (str) word or a list of words generated from model.\n",
      "     |      \n",
      "     |      Examples:\n",
      "     |      \n",
      "     |      >>> from nltk.lm import MLE\n",
      "     |      >>> lm = MLE(2)\n",
      "     |      >>> lm.fit([[(\"a\", \"b\"), (\"b\", \"c\")]], vocabulary_text=['a', 'b', 'c'])\n",
      "     |      >>> lm.fit([[(\"a\",), (\"b\",), (\"c\",)]])\n",
      "     |      >>> lm.generate(random_seed=3)\n",
      "     |      'a'\n",
      "     |      >>> lm.generate(text_seed=['a'])\n",
      "     |      'b'\n",
      "     |  \n",
      "     |  logscore(self, word, context=None)\n",
      "     |      Evaluate the log score of this word in this context.\n",
      "     |      \n",
      "     |      The arguments are the same as for `score` and `unmasked_score`.\n",
      "     |  \n",
      "     |  perplexity(self, text_ngrams)\n",
      "     |      Calculates the perplexity of the given text.\n",
      "     |      \n",
      "     |      This is simply 2 ** cross-entropy for the text, so the arguments are the same.\n",
      "     |  \n",
      "     |  score(self, word, context=None)\n",
      "     |      Masks out of vocab (OOV) words and computes their model score.\n",
      "     |      \n",
      "     |      For model-specific logic of calculating scores, see the `unmasked_score`\n",
      "     |      method.\n",
      "     |  \n",
      "     |  ----------------------------------------------------------------------\n",
      "     |  Data descriptors inherited from nltk.lm.api.LanguageModel:\n",
      "     |  \n",
      "     |  __dict__\n",
      "     |      dictionary for instance variables (if defined)\n",
      "     |  \n",
      "     |  __weakref__\n",
      "     |      list of weak references to the object (if defined)\n",
      "    \n",
      "    class Lidstone(nltk.lm.api.LanguageModel)\n",
      "     |  Provides Lidstone-smoothed scores.\n",
      "     |  \n",
      "     |  In addition to initialization arguments from BaseNgramModel also requires\n",
      "     |  a number by which to increase the counts, gamma.\n",
      "     |  \n",
      "     |  Method resolution order:\n",
      "     |      Lidstone\n",
      "     |      nltk.lm.api.LanguageModel\n",
      "     |      builtins.object\n",
      "     |  \n",
      "     |  Methods defined here:\n",
      "     |  \n",
      "     |  __init__(self, gamma, *args, **kwargs)\n",
      "     |      Creates new LanguageModel.\n",
      "     |      \n",
      "     |      :param vocabulary: If provided, this vocabulary will be used instead\n",
      "     |      of creating a new one when training.\n",
      "     |      :type vocabulary: `nltk.lm.Vocabulary` or None\n",
      "     |      :param counter: If provided, use this object to count ngrams.\n",
      "     |      :type vocabulary: `nltk.lm.NgramCounter` or None\n",
      "     |      :param ngrams_fn: If given, defines how sentences in training text are turned to ngram\n",
      "     |                        sequences.\n",
      "     |      :type ngrams_fn: function or None\n",
      "     |      :param pad_fn: If given, defines how senteces in training text are padded.\n",
      "     |      :type pad_fn: function or None\n",
      "     |  \n",
      "     |  __unicode__ = __str__(self, /)\n",
      "     |  \n",
      "     |  unicode_repr = __repr__(self, /)\n",
      "     |  \n",
      "     |  unmasked_score(self, word, context=None)\n",
      "     |      Add-one smoothing: Lidstone or Laplace.\n",
      "     |      \n",
      "     |      To see what kind, look at `gamma` attribute on the class.\n",
      "     |  \n",
      "     |  ----------------------------------------------------------------------\n",
      "     |  Data and other attributes defined here:\n",
      "     |  \n",
      "     |  __abstractmethods__ = frozenset()\n",
      "     |  \n",
      "     |  ----------------------------------------------------------------------\n",
      "     |  Methods inherited from nltk.lm.api.LanguageModel:\n",
      "     |  \n",
      "     |  context_counts(self, context)\n",
      "     |      Helper method for retrieving counts for a given context.\n",
      "     |      \n",
      "     |      Assumes context has been checked and oov words in it masked.\n",
      "     |      :type context: tuple(str) or None\n",
      "     |  \n",
      "     |  entropy(self, text_ngrams)\n",
      "     |      Calculate cross-entropy of model for given evaluation text.\n",
      "     |      \n",
      "     |      :param Iterable(tuple(str)) text_ngrams: A sequence of ngram tuples.\n",
      "     |      :rtype: float\n",
      "     |  \n",
      "     |  fit(self, text, vocabulary_text=None)\n",
      "     |      Trains the model on a text.\n",
      "     |      \n",
      "     |      :param text: Training text as a sequence of sentences.\n",
      "     |  \n",
      "     |  generate(self, num_words=1, text_seed=None, random_seed=None)\n",
      "     |      Generate words from the model.\n",
      "     |      \n",
      "     |      :param int num_words: How many words to generate. By default 1.\n",
      "     |      :param text_seed: Generation can be conditioned on preceding context.\n",
      "     |      :param random_seed: A random seed or an instance of `random.Random`. If provided,\n",
      "     |      makes the random sampling part of generation reproducible.\n",
      "     |      :return: One (str) word or a list of words generated from model.\n",
      "     |      \n",
      "     |      Examples:\n",
      "     |      \n",
      "     |      >>> from nltk.lm import MLE\n",
      "     |      >>> lm = MLE(2)\n",
      "     |      >>> lm.fit([[(\"a\", \"b\"), (\"b\", \"c\")]], vocabulary_text=['a', 'b', 'c'])\n",
      "     |      >>> lm.fit([[(\"a\",), (\"b\",), (\"c\",)]])\n",
      "     |      >>> lm.generate(random_seed=3)\n",
      "     |      'a'\n",
      "     |      >>> lm.generate(text_seed=['a'])\n",
      "     |      'b'\n",
      "     |  \n",
      "     |  logscore(self, word, context=None)\n",
      "     |      Evaluate the log score of this word in this context.\n",
      "     |      \n",
      "     |      The arguments are the same as for `score` and `unmasked_score`.\n",
      "     |  \n",
      "     |  perplexity(self, text_ngrams)\n",
      "     |      Calculates the perplexity of the given text.\n",
      "     |      \n",
      "     |      This is simply 2 ** cross-entropy for the text, so the arguments are the same.\n",
      "     |  \n",
      "     |  score(self, word, context=None)\n",
      "     |      Masks out of vocab (OOV) words and computes their model score.\n",
      "     |      \n",
      "     |      For model-specific logic of calculating scores, see the `unmasked_score`\n",
      "     |      method.\n",
      "     |  \n",
      "     |  ----------------------------------------------------------------------\n",
      "     |  Data descriptors inherited from nltk.lm.api.LanguageModel:\n",
      "     |  \n",
      "     |  __dict__\n",
      "     |      dictionary for instance variables (if defined)\n",
      "     |  \n",
      "     |  __weakref__\n",
      "     |      list of weak references to the object (if defined)\n",
      "    \n",
      "    class MLE(nltk.lm.api.LanguageModel)\n",
      "     |  Class for providing MLE ngram model scores.\n",
      "     |  \n",
      "     |  Inherits initialization from BaseNgramModel.\n",
      "     |  \n",
      "     |  Method resolution order:\n",
      "     |      MLE\n",
      "     |      nltk.lm.api.LanguageModel\n",
      "     |      builtins.object\n",
      "     |  \n",
      "     |  Methods defined here:\n",
      "     |  \n",
      "     |  __unicode__ = __str__(self, /)\n",
      "     |  \n",
      "     |  unicode_repr = __repr__(self, /)\n",
      "     |  \n",
      "     |  unmasked_score(self, word, context=None)\n",
      "     |      Returns the MLE score for a word given a context.\n",
      "     |      \n",
      "     |      Args:\n",
      "     |      - word is expcected to be a string\n",
      "     |      - context is expected to be something reasonably convertible to a tuple\n",
      "     |  \n",
      "     |  ----------------------------------------------------------------------\n",
      "     |  Data and other attributes defined here:\n",
      "     |  \n",
      "     |  __abstractmethods__ = frozenset()\n",
      "     |  \n",
      "     |  ----------------------------------------------------------------------\n",
      "     |  Methods inherited from nltk.lm.api.LanguageModel:\n",
      "     |  \n",
      "     |  __init__(self, order, vocabulary=None, counter=None)\n",
      "     |      Creates new LanguageModel.\n",
      "     |      \n",
      "     |      :param vocabulary: If provided, this vocabulary will be used instead\n",
      "     |      of creating a new one when training.\n",
      "     |      :type vocabulary: `nltk.lm.Vocabulary` or None\n",
      "     |      :param counter: If provided, use this object to count ngrams.\n",
      "     |      :type vocabulary: `nltk.lm.NgramCounter` or None\n",
      "     |      :param ngrams_fn: If given, defines how sentences in training text are turned to ngram\n",
      "     |                        sequences.\n",
      "     |      :type ngrams_fn: function or None\n",
      "     |      :param pad_fn: If given, defines how senteces in training text are padded.\n",
      "     |      :type pad_fn: function or None\n",
      "     |  \n",
      "     |  context_counts(self, context)\n",
      "     |      Helper method for retrieving counts for a given context.\n",
      "     |      \n",
      "     |      Assumes context has been checked and oov words in it masked.\n",
      "     |      :type context: tuple(str) or None\n",
      "     |  \n",
      "     |  entropy(self, text_ngrams)\n",
      "     |      Calculate cross-entropy of model for given evaluation text.\n",
      "     |      \n",
      "     |      :param Iterable(tuple(str)) text_ngrams: A sequence of ngram tuples.\n",
      "     |      :rtype: float\n",
      "     |  \n",
      "     |  fit(self, text, vocabulary_text=None)\n",
      "     |      Trains the model on a text.\n",
      "     |      \n",
      "     |      :param text: Training text as a sequence of sentences.\n",
      "     |  \n",
      "     |  generate(self, num_words=1, text_seed=None, random_seed=None)\n",
      "     |      Generate words from the model.\n",
      "     |      \n",
      "     |      :param int num_words: How many words to generate. By default 1.\n",
      "     |      :param text_seed: Generation can be conditioned on preceding context.\n",
      "     |      :param random_seed: A random seed or an instance of `random.Random`. If provided,\n",
      "     |      makes the random sampling part of generation reproducible.\n",
      "     |      :return: One (str) word or a list of words generated from model.\n",
      "     |      \n",
      "     |      Examples:\n",
      "     |      \n",
      "     |      >>> from nltk.lm import MLE\n",
      "     |      >>> lm = MLE(2)\n",
      "     |      >>> lm.fit([[(\"a\", \"b\"), (\"b\", \"c\")]], vocabulary_text=['a', 'b', 'c'])\n",
      "     |      >>> lm.fit([[(\"a\",), (\"b\",), (\"c\",)]])\n",
      "     |      >>> lm.generate(random_seed=3)\n",
      "     |      'a'\n",
      "     |      >>> lm.generate(text_seed=['a'])\n",
      "     |      'b'\n",
      "     |  \n",
      "     |  logscore(self, word, context=None)\n",
      "     |      Evaluate the log score of this word in this context.\n",
      "     |      \n",
      "     |      The arguments are the same as for `score` and `unmasked_score`.\n",
      "     |  \n",
      "     |  perplexity(self, text_ngrams)\n",
      "     |      Calculates the perplexity of the given text.\n",
      "     |      \n",
      "     |      This is simply 2 ** cross-entropy for the text, so the arguments are the same.\n",
      "     |  \n",
      "     |  score(self, word, context=None)\n",
      "     |      Masks out of vocab (OOV) words and computes their model score.\n",
      "     |      \n",
      "     |      For model-specific logic of calculating scores, see the `unmasked_score`\n",
      "     |      method.\n",
      "     |  \n",
      "     |  ----------------------------------------------------------------------\n",
      "     |  Data descriptors inherited from nltk.lm.api.LanguageModel:\n",
      "     |  \n",
      "     |  __dict__\n",
      "     |      dictionary for instance variables (if defined)\n",
      "     |  \n",
      "     |  __weakref__\n",
      "     |      list of weak references to the object (if defined)\n",
      "    \n",
      "    class NgramCounter(builtins.object)\n",
      "     |  Class for counting ngrams.\n",
      "     |  \n",
      "     |  Will count any ngram sequence you give it ;)\n",
      "     |  \n",
      "     |  First we need to make sure we are feeding the counter sentences of ngrams.\n",
      "     |  \n",
      "     |  >>> text = [[\"a\", \"b\", \"c\", \"d\"], [\"a\", \"c\", \"d\", \"c\"]]\n",
      "     |  >>> from nltk.util import ngrams\n",
      "     |  >>> text_bigrams = [ngrams(sent, 2) for sent in text]\n",
      "     |  >>> text_unigrams = [ngrams(sent, 1) for sent in text]\n",
      "     |  \n",
      "     |  The counting itself is very simple.\n",
      "     |  \n",
      "     |  >>> from nltk.lm import NgramCounter\n",
      "     |  >>> ngram_counts = NgramCounter(text_bigrams + text_unigrams)\n",
      "     |  \n",
      "     |  You can conveniently access ngram counts using standard python dictionary notation.\n",
      "     |  String keys will give you unigram counts.\n",
      "     |  \n",
      "     |  >>> ngram_counts['a']\n",
      "     |  2\n",
      "     |  >>> ngram_counts['aliens']\n",
      "     |  0\n",
      "     |  \n",
      "     |  If you want to access counts for higher order ngrams, use a list or a tuple.\n",
      "     |  These are treated as \"context\" keys, so what you get is a frequency distribution\n",
      "     |  over all continuations after the given context.\n",
      "     |  \n",
      "     |  >>> sorted(ngram_counts[['a']].items())\n",
      "     |  [('b', 1), ('c', 1)]\n",
      "     |  >>> sorted(ngram_counts[('a',)].items())\n",
      "     |  [('b', 1), ('c', 1)]\n",
      "     |  \n",
      "     |  This is equivalent to specifying explicitly the order of the ngram (in this case\n",
      "     |  2 for bigram) and indexing on the context.\n",
      "     |  >>> ngram_counts[2][('a',)] is ngram_counts[['a']]\n",
      "     |  True\n",
      "     |  \n",
      "     |  Note that the keys in `ConditionalFreqDist` cannot be lists, only tuples!\n",
      "     |  It is generally advisable to use the less verbose and more flexible square\n",
      "     |  bracket notation.\n",
      "     |  \n",
      "     |  To get the count of the full ngram \"a b\", do this:\n",
      "     |  \n",
      "     |  >>> ngram_counts[['a']]['b']\n",
      "     |  1\n",
      "     |  \n",
      "     |  Specifying the ngram order as a number can be useful for accessing all ngrams\n",
      "     |  in that order.\n",
      "     |  \n",
      "     |  >>> ngram_counts[2]\n",
      "     |  <ConditionalFreqDist with 4 conditions>\n",
      "     |  \n",
      "     |  The keys of this `ConditionalFreqDist` are the contexts we discussed earlier.\n",
      "     |  Unigrams can also be accessed with a human-friendly alias.\n",
      "     |  \n",
      "     |  >>> ngram_counts.unigrams is ngram_counts[1]\n",
      "     |  True\n",
      "     |  \n",
      "     |  Similarly to `collections.Counter`, you can update counts after initialization.\n",
      "     |  \n",
      "     |  >>> ngram_counts['e']\n",
      "     |  0\n",
      "     |  >>> ngram_counts.update([ngrams([\"d\", \"e\", \"f\"], 1)])\n",
      "     |  >>> ngram_counts['e']\n",
      "     |  1\n",
      "     |  \n",
      "     |  Methods defined here:\n",
      "     |  \n",
      "     |  N(self)\n",
      "     |      Returns grand total number of ngrams stored.\n",
      "     |      \n",
      "     |      This includes ngrams from all orders, so some duplication is expected.\n",
      "     |      :rtype: int\n",
      "     |      \n",
      "     |      >>> from nltk.lm import NgramCounter\n",
      "     |      >>> counts = NgramCounter([[(\"a\", \"b\"), (\"c\",), (\"d\", \"e\")]])\n",
      "     |      >>> counts.N()\n",
      "     |      3\n",
      "     |  \n",
      "     |  __contains__(self, item)\n",
      "     |  \n",
      "     |  __getitem__(self, item)\n",
      "     |      User-friendly access to ngram counts.\n",
      "     |  \n",
      "     |  __init__(self, ngram_text=None)\n",
      "     |      Creates a new NgramCounter.\n",
      "     |      \n",
      "     |      If `ngram_text` is specified, counts ngrams from it, otherwise waits for\n",
      "     |      `update` method to be called explicitly.\n",
      "     |      \n",
      "     |      :param ngram_text: Optional text containing senteces of ngrams, as for `update` method.\n",
      "     |      :type ngram_text: Iterable(Iterable(tuple(str))) or None\n",
      "     |  \n",
      "     |  __len__(self)\n",
      "     |  \n",
      "     |  __str__(self)\n",
      "     |      Return str(self).\n",
      "     |  \n",
      "     |  __unicode__ = __str__(self)\n",
      "     |  \n",
      "     |  unicode_repr = __repr__(self, /)\n",
      "     |  \n",
      "     |  update(self, ngram_text)\n",
      "     |      Updates ngram counts from `ngram_text`.\n",
      "     |      \n",
      "     |      Expects `ngram_text` to be a sequence of sentences (sequences).\n",
      "     |      Each sentence consists of ngrams as tuples of strings.\n",
      "     |      \n",
      "     |      :param Iterable(Iterable(tuple(str))) ngram_text: Text containing senteces of ngrams.\n",
      "     |      :raises TypeError: if the ngrams are not tuples.\n",
      "     |  \n",
      "     |  ----------------------------------------------------------------------\n",
      "     |  Data descriptors defined here:\n",
      "     |  \n",
      "     |  __dict__\n",
      "     |      dictionary for instance variables (if defined)\n",
      "     |  \n",
      "     |  __weakref__\n",
      "     |      list of weak references to the object (if defined)\n",
      "    \n",
      "    class Vocabulary(builtins.object)\n",
      "     |  Stores language model vocabulary.\n",
      "     |  \n",
      "     |  Satisfies two common language modeling requirements for a vocabulary:\n",
      "     |  - When checking membership and calculating its size, filters items\n",
      "     |    by comparing their counts to a cutoff value.\n",
      "     |  - Adds a special \"unknown\" token which unseen words are mapped to.\n",
      "     |  \n",
      "     |  >>> words = ['a', 'c', '-', 'd', 'c', 'a', 'b', 'r', 'a', 'c', 'd']\n",
      "     |  >>> from nltk.lm import Vocabulary\n",
      "     |  >>> vocab = Vocabulary(words, unk_cutoff=2)\n",
      "     |  \n",
      "     |  Tokens with counts greater than or equal to the cutoff value will\n",
      "     |  be considered part of the vocabulary.\n",
      "     |  \n",
      "     |  >>> vocab['c']\n",
      "     |  3\n",
      "     |  >>> 'c' in vocab\n",
      "     |  True\n",
      "     |  >>> vocab['d']\n",
      "     |  2\n",
      "     |  >>> 'd' in vocab\n",
      "     |  True\n",
      "     |  \n",
      "     |  Tokens with frequency counts less than the cutoff value will be considered not\n",
      "     |  part of the vocabulary even though their entries in the count dictionary are\n",
      "     |  preserved.\n",
      "     |  \n",
      "     |  >>> vocab['b']\n",
      "     |  1\n",
      "     |  >>> 'b' in vocab\n",
      "     |  False\n",
      "     |  >>> vocab['aliens']\n",
      "     |  0\n",
      "     |  >>> 'aliens' in vocab\n",
      "     |  False\n",
      "     |  \n",
      "     |  Keeping the count entries for seen words allows us to change the cutoff value\n",
      "     |  without having to recalculate the counts.\n",
      "     |  \n",
      "     |  >>> vocab2 = Vocabulary(vocab.counts, unk_cutoff=1)\n",
      "     |  >>> \"b\" in vocab2\n",
      "     |  True\n",
      "     |  \n",
      "     |  The cutoff value influences not only membership checking but also the result of\n",
      "     |  getting the size of the vocabulary using the built-in `len`.\n",
      "     |  Note that while the number of keys in the vocabulary's counter stays the same,\n",
      "     |  the items in the vocabulary differ depending on the cutoff.\n",
      "     |  We use `sorted` to demonstrate because it keeps the order consistent.\n",
      "     |  \n",
      "     |  >>> sorted(vocab2.counts)\n",
      "     |  ['-', 'a', 'b', 'c', 'd', 'r']\n",
      "     |  >>> sorted(vocab2)\n",
      "     |  ['-', '<UNK>', 'a', 'b', 'c', 'd', 'r']\n",
      "     |  >>> sorted(vocab.counts)\n",
      "     |  ['-', 'a', 'b', 'c', 'd', 'r']\n",
      "     |  >>> sorted(vocab)\n",
      "     |  ['<UNK>', 'a', 'c', 'd']\n",
      "     |  \n",
      "     |  In addition to items it gets populated with, the vocabulary stores a special\n",
      "     |  token that stands in for so-called \"unknown\" items. By default it's \"<UNK>\".\n",
      "     |  \n",
      "     |  >>> \"<UNK>\" in vocab\n",
      "     |  True\n",
      "     |  \n",
      "     |  We can look up words in a vocabulary using its `lookup` method.\n",
      "     |  \"Unseen\" words (with counts less than cutoff) are looked up as the unknown label.\n",
      "     |  If given one word (a string) as an input, this method will return a string.\n",
      "     |  \n",
      "     |  >>> vocab.lookup(\"a\")\n",
      "     |  'a'\n",
      "     |  >>> vocab.lookup(\"aliens\")\n",
      "     |  '<UNK>'\n",
      "     |  \n",
      "     |  If given a sequence, it will return an tuple of the looked up words.\n",
      "     |  \n",
      "     |  >>> vocab.lookup([\"p\", 'a', 'r', 'd', 'b', 'c'])\n",
      "     |  ('<UNK>', 'a', '<UNK>', 'd', '<UNK>', 'c')\n",
      "     |  \n",
      "     |  It's possible to update the counts after the vocabulary has been created.\n",
      "     |  The interface follows that of `collections.Counter`.\n",
      "     |  \n",
      "     |  >>> vocab['b']\n",
      "     |  1\n",
      "     |  >>> vocab.update([\"b\", \"b\", \"c\"])\n",
      "     |  >>> vocab['b']\n",
      "     |  3\n",
      "     |  \n",
      "     |  Methods defined here:\n",
      "     |  \n",
      "     |  __contains__(self, item)\n",
      "     |      Only consider items with counts GE to cutoff as being in the\n",
      "     |      vocabulary.\n",
      "     |  \n",
      "     |  __eq__(self, other)\n",
      "     |      Return self==value.\n",
      "     |  \n",
      "     |  __getitem__(self, item)\n",
      "     |  \n",
      "     |  __init__(self, counts=None, unk_cutoff=1, unk_label='<UNK>')\n",
      "     |      Create a new Vocabulary.\n",
      "     |      \n",
      "     |      :param counts: Optional iterable or `collections.Counter` instance to\n",
      "     |                     pre-seed the Vocabulary. In case it is iterable, counts\n",
      "     |                     are calculated.\n",
      "     |      :param int unk_cutoff: Words that occur less frequently than this value\n",
      "     |                             are not considered part of the vocabulary.\n",
      "     |      :param unk_label: Label for marking words not part of vocabulary.\n",
      "     |  \n",
      "     |  __iter__(self)\n",
      "     |      Building on membership check define how to iterate over\n",
      "     |      vocabulary.\n",
      "     |  \n",
      "     |  __len__(self)\n",
      "     |      Computing size of vocabulary reflects the cutoff.\n",
      "     |  \n",
      "     |  __str__(self)\n",
      "     |      Return str(self).\n",
      "     |  \n",
      "     |  __unicode__ = __str__(self)\n",
      "     |  \n",
      "     |  lookup(self, words)\n",
      "     |      Look up one or more words in the vocabulary.\n",
      "     |      \n",
      "     |      If passed one word as a string will return that word or `self.unk_label`.\n",
      "     |      Otherwise will assume it was passed a sequence of words, will try to look\n",
      "     |      each of them up and return an iterator over the looked up words.\n",
      "     |      \n",
      "     |      :param words: Word(s) to look up.\n",
      "     |      :type words: Iterable(str) or str\n",
      "     |      :rtype: generator(str) or str\n",
      "     |      :raises: TypeError for types other than strings or iterables\n",
      "     |      \n",
      "     |      >>> from nltk.lm import Vocabulary\n",
      "     |      >>> vocab = Vocabulary([\"a\", \"b\", \"c\", \"a\", \"b\"], unk_cutoff=2)\n",
      "     |      >>> vocab.lookup(\"a\")\n",
      "     |      'a'\n",
      "     |      >>> vocab.lookup(\"aliens\")\n",
      "     |      '<UNK>'\n",
      "     |      >>> vocab.lookup([\"a\", \"b\", \"c\", [\"x\", \"b\"]])\n",
      "     |      ('a', 'b', '<UNK>', ('<UNK>', 'b'))\n",
      "     |  \n",
      "     |  unicode_repr = __repr__(self, /)\n",
      "     |  \n",
      "     |  update(self, *counter_args, **counter_kwargs)\n",
      "     |      Update vocabulary counts.\n",
      "     |      \n",
      "     |      Wraps `collections.Counter.update` method.\n",
      "     |  \n",
      "     |  ----------------------------------------------------------------------\n",
      "     |  Data descriptors defined here:\n",
      "     |  \n",
      "     |  __dict__\n",
      "     |      dictionary for instance variables (if defined)\n",
      "     |  \n",
      "     |  __weakref__\n",
      "     |      list of weak references to the object (if defined)\n",
      "     |  \n",
      "     |  cutoff\n",
      "     |      Cutoff value.\n",
      "     |      \n",
      "     |      Items with count below this value are not considered part of vocabulary.\n",
      "     |  \n",
      "     |  ----------------------------------------------------------------------\n",
      "     |  Data and other attributes defined here:\n",
      "     |  \n",
      "     |  __hash__ = None\n",
      "    \n",
      "    class WittenBellInterpolated(InterpolatedLanguageModel)\n",
      "     |  Interpolated version of Witten-Bell smoothing.\n",
      "     |  \n",
      "     |  Method resolution order:\n",
      "     |      WittenBellInterpolated\n",
      "     |      InterpolatedLanguageModel\n",
      "     |      nltk.lm.api.LanguageModel\n",
      "     |      builtins.object\n",
      "     |  \n",
      "     |  Methods defined here:\n",
      "     |  \n",
      "     |  __init__(self, order, **kwargs)\n",
      "     |      Creates new LanguageModel.\n",
      "     |      \n",
      "     |      :param vocabulary: If provided, this vocabulary will be used instead\n",
      "     |      of creating a new one when training.\n",
      "     |      :type vocabulary: `nltk.lm.Vocabulary` or None\n",
      "     |      :param counter: If provided, use this object to count ngrams.\n",
      "     |      :type vocabulary: `nltk.lm.NgramCounter` or None\n",
      "     |      :param ngrams_fn: If given, defines how sentences in training text are turned to ngram\n",
      "     |                        sequences.\n",
      "     |      :type ngrams_fn: function or None\n",
      "     |      :param pad_fn: If given, defines how senteces in training text are padded.\n",
      "     |      :type pad_fn: function or None\n",
      "     |  \n",
      "     |  ----------------------------------------------------------------------\n",
      "     |  Data and other attributes defined here:\n",
      "     |  \n",
      "     |  __abstractmethods__ = frozenset()\n",
      "     |  \n",
      "     |  ----------------------------------------------------------------------\n",
      "     |  Methods inherited from InterpolatedLanguageModel:\n",
      "     |  \n",
      "     |  unmasked_score(self, word, context=None)\n",
      "     |      Score a word given some optional context.\n",
      "     |      \n",
      "     |      Concrete models are expected to provide an implementation.\n",
      "     |      Note that this method does not mask its arguments with the OOV label.\n",
      "     |      Use the `score` method for that.\n",
      "     |      \n",
      "     |      :param str word: Word for which we want the score\n",
      "     |      :param tuple(str) context: Context the word is in.\n",
      "     |      If `None`, compute unigram score.\n",
      "     |      :param context: tuple(str) or None\n",
      "     |      :rtype: float\n",
      "     |  \n",
      "     |  ----------------------------------------------------------------------\n",
      "     |  Methods inherited from nltk.lm.api.LanguageModel:\n",
      "     |  \n",
      "     |  context_counts(self, context)\n",
      "     |      Helper method for retrieving counts for a given context.\n",
      "     |      \n",
      "     |      Assumes context has been checked and oov words in it masked.\n",
      "     |      :type context: tuple(str) or None\n",
      "     |  \n",
      "     |  entropy(self, text_ngrams)\n",
      "     |      Calculate cross-entropy of model for given evaluation text.\n",
      "     |      \n",
      "     |      :param Iterable(tuple(str)) text_ngrams: A sequence of ngram tuples.\n",
      "     |      :rtype: float\n",
      "     |  \n",
      "     |  fit(self, text, vocabulary_text=None)\n",
      "     |      Trains the model on a text.\n",
      "     |      \n",
      "     |      :param text: Training text as a sequence of sentences.\n",
      "     |  \n",
      "     |  generate(self, num_words=1, text_seed=None, random_seed=None)\n",
      "     |      Generate words from the model.\n",
      "     |      \n",
      "     |      :param int num_words: How many words to generate. By default 1.\n",
      "     |      :param text_seed: Generation can be conditioned on preceding context.\n",
      "     |      :param random_seed: A random seed or an instance of `random.Random`. If provided,\n",
      "     |      makes the random sampling part of generation reproducible.\n",
      "     |      :return: One (str) word or a list of words generated from model.\n",
      "     |      \n",
      "     |      Examples:\n",
      "     |      \n",
      "     |      >>> from nltk.lm import MLE\n",
      "     |      >>> lm = MLE(2)\n",
      "     |      >>> lm.fit([[(\"a\", \"b\"), (\"b\", \"c\")]], vocabulary_text=['a', 'b', 'c'])\n",
      "     |      >>> lm.fit([[(\"a\",), (\"b\",), (\"c\",)]])\n",
      "     |      >>> lm.generate(random_seed=3)\n",
      "     |      'a'\n",
      "     |      >>> lm.generate(text_seed=['a'])\n",
      "     |      'b'\n",
      "     |  \n",
      "     |  logscore(self, word, context=None)\n",
      "     |      Evaluate the log score of this word in this context.\n",
      "     |      \n",
      "     |      The arguments are the same as for `score` and `unmasked_score`.\n",
      "     |  \n",
      "     |  perplexity(self, text_ngrams)\n",
      "     |      Calculates the perplexity of the given text.\n",
      "     |      \n",
      "     |      This is simply 2 ** cross-entropy for the text, so the arguments are the same.\n",
      "     |  \n",
      "     |  score(self, word, context=None)\n",
      "     |      Masks out of vocab (OOV) words and computes their model score.\n",
      "     |      \n",
      "     |      For model-specific logic of calculating scores, see the `unmasked_score`\n",
      "     |      method.\n",
      "     |  \n",
      "     |  ----------------------------------------------------------------------\n",
      "     |  Data descriptors inherited from nltk.lm.api.LanguageModel:\n",
      "     |  \n",
      "     |  __dict__\n",
      "     |      dictionary for instance variables (if defined)\n",
      "     |  \n",
      "     |  __weakref__\n",
      "     |      list of weak references to the object (if defined)\n",
      "\n",
      "DATA\n",
      "    __all__ = ['Vocabulary', 'NgramCounter', 'MLE', 'Lidstone', 'Laplace',...\n",
      "\n",
      "FILE\n",
      "    /home/werner/.local/lib/python3.6/site-packages/nltk/lm/__init__.py\n",
      "\n",
      "\n"
     ]
    }
   ],
   "source": [
    "from nltk import lm\n",
    "help(lm)"
   ]
  },
  {
   "cell_type": "code",
   "execution_count": 14,
   "metadata": {},
   "outputs": [
    {
     "name": "stdout",
     "output_type": "stream",
     "text": [
      "[['a', 'b', 'c']]\n",
      "[('a', 'b'), ('b', 'c')]\n"
     ]
    }
   ],
   "source": [
    "#from nltk.model import build_vocabulary <----- outdated, package replaced\n",
    "\n",
    "text = [['a', 'b', 'c'], ['a', 'c', 'd', 'c', 'e', 'f']]\n",
    "print(text[:1])\n",
    "print(list(ngrams(text[0],2)))"
   ]
  },
  {
   "cell_type": "code",
   "execution_count": 15,
   "metadata": {},
   "outputs": [],
   "source": [
    "from nltk.lm.preprocessing import padded_everygram_pipeline\n",
    "#building vocab\n",
    "train, vocab = padded_everygram_pipeline(2, text)"
   ]
  },
  {
   "cell_type": "code",
   "execution_count": 16,
   "metadata": {},
   "outputs": [
    {
     "name": "stdout",
     "output_type": "stream",
     "text": [
      "<Vocabulary with cutoff=1 unk_label='<UNK>' and 9 items>\n"
     ]
    }
   ],
   "source": [
    "from nltk.lm import MLE\n",
    "#training\n",
    "lm = MLE(2) #highest ngram in paramater. Instantiation creates empty vocab\n",
    "lm.fit(train, vocab)\n",
    "print(lm.vocab)"
   ]
  },
  {
   "cell_type": "code",
   "execution_count": 17,
   "metadata": {},
   "outputs": [
    {
     "name": "stdout",
     "output_type": "stream",
     "text": [
      "<NgramCounter with 2 ngram orders and 24 ngrams>\n",
      "2\n",
      "0.15384615384615385\n",
      "-2.700439718141092\n",
      "1\n",
      "0.5\n",
      "-1.0\n"
     ]
    }
   ],
   "source": [
    "#using model\n",
    "print(lm.counts)\n",
    "\n",
    "#counting unigrams with a and displaying its score\n",
    "print(lm.counts['a'])\n",
    "print(lm.score('a'))\n",
    "print(lm.logscore('a'))\n",
    "#counting bigrams with a b\n",
    "print(lm.counts[['a']]['b'])\n",
    "\n",
    "#chance for b given previous word was a\n",
    "print(lm.score('b', ['a']))\n",
    "#or using log domain\n",
    "print(lm.logscore('b',['a']))\n",
    "\n"
   ]
  },
  {
   "cell_type": "markdown",
   "metadata": {},
   "source": [
    "## This being MLE, the model returns the item’s relative frequency as its score."
   ]
  },
  {
   "cell_type": "code",
   "execution_count": null,
   "metadata": {},
   "outputs": [],
   "source": [
    "#perplexity and entropy\n",
    ">>> test = [('a', 'b'), ('c', 'd')]\n",
    ">>> lm.entropy(test)\n",
    "1.292481250360578\n",
    ">>> lm.perplexity(test)\n",
    "2.449489742783178"
   ]
  },
  {
   "cell_type": "code",
   "execution_count": 18,
   "metadata": {},
   "outputs": [
    {
     "data": {
      "text/plain": [
       "['b', 'c', '</s>', 'e', 'f', '</s>', 'e', 'f']"
      ]
     },
     "execution_count": 18,
     "metadata": {},
     "output_type": "execute_result"
    }
   ],
   "source": [
    "#generating random sentences\n",
    "lm.generate(8, random_seed=9)"
   ]
  },
  {
   "cell_type": "markdown",
   "metadata": {},
   "source": [
    "# apply this on larger corpus still bigrams do"
   ]
  },
  {
   "cell_type": "code",
   "execution_count": 19,
   "metadata": {},
   "outputs": [],
   "source": [
    "from nltk import lm\n",
    "from nltk.lm.preprocessing import padded_everygram_pipeline\n",
    "from nltk.lm import MLE"
   ]
  },
  {
   "cell_type": "code",
   "execution_count": 40,
   "metadata": {},
   "outputs": [],
   "source": [
    "tempData = [['awe','hierdie','is','my','toets','data'],['ek','hoop','dit', 'werk'],['as','dit','nie','werk','nie'],['is','ek','fucked'],['so','kom','ons','hoop','vir','die','beste']]"
   ]
  },
  {
   "cell_type": "code",
   "execution_count": 48,
   "metadata": {},
   "outputs": [
    {
     "name": "stdout",
     "output_type": "stream",
     "text": [
      "[['awe', 'hierdie', 'is', 'my', 'toets', 'data'], ['ek', 'hoop', 'dit', 'werk'], ['as', 'dit', 'nie', 'werk', 'nie'], ['is', 'ek', 'fucked'], ['so', 'kom', 'ons', 'hoop', 'vir', 'die', 'beste'], ['hos', 'kom', 'ons', 'kyk']]\n"
     ]
    }
   ],
   "source": [
    "tempData.append(['hos','kom','ons','kyk'])\n",
    "print(tempData)"
   ]
  },
  {
   "cell_type": "code",
   "execution_count": 94,
   "metadata": {},
   "outputs": [
    {
     "name": "stdout",
     "output_type": "stream",
     "text": [
      "['In the beginning God created the heaven and the earth.', 'And the earth was without form, and void; and darkness was upon the face of the deep.', 'And the Spirit of God moved upon the face of the waters.']\n"
     ]
    }
   ],
   "source": [
    "print(pre_tokens[:3])"
   ]
  },
  {
   "cell_type": "code",
   "execution_count": 95,
   "metadata": {},
   "outputs": [
    {
     "name": "stdout",
     "output_type": "stream",
     "text": [
      "[['In', 'the', 'beginning', 'God', 'created', 'the', 'heaven', 'and', 'the', 'earth', '.'], ['And', 'the', 'earth', 'was', 'without', 'form', ',', 'and', 'void', ';', 'and', 'darkness', 'was', 'upon', 'the', 'face', 'of', 'the', 'deep', '.'], ['And', 'the', 'Spirit', 'of', 'God', 'moved', 'upon', 'the', 'face', 'of', 'the', 'waters', '.']]\n"
     ]
    }
   ],
   "source": [
    "print(post_token[:3])"
   ]
  },
  {
   "cell_type": "code",
   "execution_count": 143,
   "metadata": {},
   "outputs": [
    {
     "name": "stdout",
     "output_type": "stream",
     "text": [
      "[['in', 'the', 'beginning', 'god', 'created', 'the', 'heaven', 'and', 'the', 'earth'], ['and', 'the', 'earth', 'was', 'without', 'form', 'and', 'void', 'and', 'darkness', 'was', 'upon', 'the', 'face', 'of', 'the', 'deep'], ['and', 'the', 'spirit', 'of', 'god', 'moved', 'upon', 'the', 'face', 'of', 'the', 'waters']]\n"
     ]
    }
   ],
   "source": [
    "print(data[:3])"
   ]
  },
  {
   "cell_type": "code",
   "execution_count": 136,
   "metadata": {},
   "outputs": [
    {
     "name": "stdout",
     "output_type": "stream",
     "text": [
      "[('in', 'the'), ('the', 'beginning'), ('beginning', 'god'), ('god', 'created'), ('created', 'the'), ('the', 'heaven'), ('heaven', 'and'), ('and', 'the'), ('the', 'earth')]\n"
     ]
    }
   ],
   "source": [
    "print(list(ngrams(data[0],2)))"
   ]
  },
  {
   "cell_type": "code",
   "execution_count": 20,
   "metadata": {},
   "outputs": [],
   "source": [
    "train2, vocab2 = padded_everygram_pipeline(2,data)"
   ]
  },
  {
   "cell_type": "code",
   "execution_count": 21,
   "metadata": {},
   "outputs": [
    {
     "name": "stdout",
     "output_type": "stream",
     "text": [
      "7.936531066894531\n"
     ]
    }
   ],
   "source": [
    "#training\n",
    "start = time.time()\n",
    "lm2 = MLE(2) #highest ngram in paramater. Instantiation creates empty vocab\n",
    "lm2.fit(train2, vocab2)\n",
    "end = time.time()\n",
    "\n",
    "print(end-start)"
   ]
  },
  {
   "cell_type": "code",
   "execution_count": 22,
   "metadata": {},
   "outputs": [
    {
     "data": {
      "text/plain": [
       "['children',\n",
       " 'of',\n",
       " 'juda',\n",
       " 'were',\n",
       " 'of',\n",
       " 'babylon',\n",
       " '</s>',\n",
       " 'then',\n",
       " 'he',\n",
       " 'had']"
      ]
     },
     "execution_count": 22,
     "metadata": {},
     "output_type": "execute_result"
    }
   ],
   "source": [
    "lm2.generate(10, random_seed=3)"
   ]
  },
  {
   "cell_type": "code",
   "execution_count": 23,
   "metadata": {},
   "outputs": [
    {
     "name": "stdout",
     "output_type": "stream",
     "text": [
      "<Vocabulary with cutoff=1 unk_label='<UNK>' and 12564 items>\n"
     ]
    }
   ],
   "source": [
    "print(lm2.vocab)"
   ]
  },
  {
   "cell_type": "markdown",
   "metadata": {},
   "source": [
    "# lets try trigrams"
   ]
  },
  {
   "cell_type": "code",
   "execution_count": 24,
   "metadata": {},
   "outputs": [],
   "source": [
    "train3, vocab3 = padded_everygram_pipeline(3,data)"
   ]
  },
  {
   "cell_type": "code",
   "execution_count": 25,
   "metadata": {},
   "outputs": [
    {
     "name": "stdout",
     "output_type": "stream",
     "text": [
      "15.3253014087677\n"
     ]
    }
   ],
   "source": [
    "#training\n",
    "start = time.time()\n",
    "lm3 = MLE(3) #highest ngram in paramater. Instantiation creates empty vocab\n",
    "lm3.fit(train3, vocab3)\n",
    "end = time.time()\n",
    "\n",
    "print(end-start)"
   ]
  },
  {
   "cell_type": "code",
   "execution_count": 26,
   "metadata": {},
   "outputs": [
    {
     "data": {
      "text/plain": [
       "['where', 'we', 'abode', 'in', 'the', 'second', 'time', 'and', 'that', 'they']"
      ]
     },
     "execution_count": 26,
     "metadata": {},
     "output_type": "execute_result"
    }
   ],
   "source": [
    "lm3.generate(10, random_seed=2)"
   ]
  },
  {
   "cell_type": "code",
   "execution_count": 27,
   "metadata": {},
   "outputs": [
    {
     "name": "stdout",
     "output_type": "stream",
     "text": [
      "<Vocabulary with cutoff=1 unk_label='<UNK>' and 12564 items>\n",
      "<NgramCounter with 3 ngram orders and 2642466 ngrams>\n"
     ]
    }
   ],
   "source": [
    "print(lm3.vocab)\n",
    "print(lm3.counts)"
   ]
  },
  {
   "cell_type": "markdown",
   "metadata": {},
   "source": [
    "# finding distributions, however recalculates ngrams\n"
   ]
  },
  {
   "cell_type": "code",
   "execution_count": 28,
   "metadata": {},
   "outputs": [],
   "source": [
    "from nltk.util import everygrams\n",
    "from nltk.lm import NgramCounter"
   ]
  },
  {
   "cell_type": "code",
   "execution_count": 29,
   "metadata": {},
   "outputs": [
    {
     "name": "stdout",
     "output_type": "stream",
     "text": [
      "2.342249870300293\n"
     ]
    },
    {
     "data": {
      "image/png": "[encoded data removed]",
      "text/plain": [
       "<Figure size 432x288 with 1 Axes>"
      ]
     },
     "metadata": {
      "needs_background": "light"
     },
     "output_type": "display_data"
    },
    {
     "data": {
      "text/plain": [
       "<matplotlib.axes._subplots.AxesSubplot at 0x7fb41c209c18>"
      ]
     },
     "execution_count": 29,
     "metadata": {},
     "output_type": "execute_result"
    }
   ],
   "source": [
    "start = time.time()\n",
    "tempdata = [item for sublist in data for item in sublist] #flatten list\n",
    "all_ngrams = everygrams(tempdata,max_len=3)\n",
    "fd = nltk.FreqDist(all_ngrams)\n",
    "end = time.time()\n",
    "\n",
    "print(end-start)\n",
    "fd.plot(10)"
   ]
  },
  {
   "cell_type": "code",
   "execution_count": 30,
   "metadata": {},
   "outputs": [
    {
     "name": "stdout",
     "output_type": "stream",
     "text": [
      "4.240858793258667\n"
     ]
    }
   ],
   "source": [
    "start = time.time()\n",
    "\n",
    "text_bigrams = [ngrams(sent, 2) for sent in data]\n",
    "text_unigrams = [ngrams(sent, 1) for sent in data]\n",
    "text_trigrams = [ngrams(sent,3) for sent in data]\n",
    "\n",
    "ngram_counts = NgramCounter(text_bigrams + text_unigrams + text_trigrams)\n",
    "end = time.time()\n",
    "\n",
    "print(end-start)"
   ]
  },
  {
   "cell_type": "code",
   "execution_count": 31,
   "metadata": {},
   "outputs": [
    {
     "name": "stdout",
     "output_type": "stream",
     "text": [
      "<NgramCounter with 3 ngram orders and 2285676 ngrams>\n",
      "0.06503057479858398\n"
     ]
    }
   ],
   "source": [
    "start = time.time()\n",
    "print(ngram_counts)\n",
    "end = time.time()\n",
    "print(end-start)"
   ]
  },
  {
   "cell_type": "code",
   "execution_count": null,
   "metadata": {},
   "outputs": [],
   "source": [
    "for ngram in \n",
    "ConFD = ConditionalFreqDist()"
   ]
  },
  {
   "cell_type": "code",
   "execution_count": 43,
   "metadata": {},
   "outputs": [
    {
     "data": {
      "image/png": "[encoded data removed]",
      "text/plain": [
       "<Figure size 432x288 with 1 Axes>"
      ]
     },
     "metadata": {
      "needs_background": "light"
     },
     "output_type": "display_data"
    },
    {
     "data": {
      "text/plain": [
       "<matplotlib.axes._subplots.AxesSubplot at 0x7fb410fd5b70>"
      ]
     },
     "execution_count": 43,
     "metadata": {},
     "output_type": "execute_result"
    }
   ],
   "source": [
    "trigramDist = nltk.FreqDist(ngrams(tempdata,3))\n",
    "trigramDist.plot(10)"
   ]
  },
  {
   "cell_type": "code",
   "execution_count": 112,
   "metadata": {},
   "outputs": [
    {
     "name": "stdout",
     "output_type": "stream",
     "text": [
      "329932\n"
     ]
    }
   ],
   "source": [
    "print(trigramDist.r_Nr()[1]) #number of elemtents that apperar n times"
   ]
  },
  {
   "cell_type": "code",
   "execution_count": 62,
   "metadata": {},
   "outputs": [
    {
     "name": "stdout",
     "output_type": "stream",
     "text": [
      "1774.9999999999998\n"
     ]
    }
   ],
   "source": [
    "print(trigramDist.freq(('of','the','lord'))*trigramDist.N())"
   ]
  },
  {
   "cell_type": "code",
   "execution_count": 64,
   "metadata": {},
   "outputs": [
    {
     "name": "stdout",
     "output_type": "stream",
     "text": [
      "1\n"
     ]
    }
   ],
   "source": [
    "print(trigramDist.r_Nr()[1775]) "
   ]
  },
  {
   "cell_type": "code",
   "execution_count": 67,
   "metadata": {},
   "outputs": [
    {
     "name": "stdout",
     "output_type": "stream",
     "text": [
      "329932\n"
     ]
    }
   ],
   "source": [
    "print(len(trigramDist.hapaxes())) #hapaxes() return number of times an ngrams appears once"
   ]
  },
  {
   "cell_type": "code",
   "execution_count": 70,
   "metadata": {},
   "outputs": [
    {
     "data": {
      "image/png": "[encoded data removed]",
      "text/plain": [
       "<Figure size 432x288 with 1 Axes>"
      ]
     },
     "metadata": {
      "needs_background": "light"
     },
     "output_type": "display_data"
    },
    {
     "data": {
      "text/plain": [
       "<matplotlib.axes._subplots.AxesSubplot at 0x7fb40d9cb5c0>"
      ]
     },
     "execution_count": 70,
     "metadata": {},
     "output_type": "execute_result"
    }
   ],
   "source": [
    "fd.plot(50)"
   ]
  },
  {
   "cell_type": "markdown",
   "metadata": {},
   "source": [
    "# Good turing intro"
   ]
  },
  {
   "cell_type": "markdown",
   "metadata": {},
   "source": [
    "For unseen ngrams:\n",
    "$$ C_0\\cdot q_0 = \\frac{C_1}{N_\\sum} $$\n",
    "\n",
    "where $ C_0\\cdot q_0 $ is the probability of occurence of any unseen n-gram. $C_1$ is the number of n-grams occuring one time in training set"
   ]
  },
  {
   "cell_type": "code",
   "execution_count": 83,
   "metadata": {},
   "outputs": [],
   "source": [
    "from nltk.probability import SimpleGoodTuringProbDist as GT\n",
    "smoothedFD = GT(fd)"
   ]
  },
  {
   "cell_type": "code",
   "execution_count": 92,
   "metadata": {},
   "outputs": [
    {
     "data": {
      "text/plain": [
       "('the',)"
      ]
     },
     "execution_count": 92,
     "metadata": {},
     "output_type": "execute_result"
    }
   ],
   "source": [
    "smoothedFD.max()"
   ]
  },
  {
   "cell_type": "code",
   "execution_count": 97,
   "metadata": {},
   "outputs": [
    {
     "data": {
      "text/plain": [
       "180637.69184230312"
      ]
     },
     "execution_count": 97,
     "metadata": {},
     "output_type": "execute_result"
    }
   ],
   "source": [
    "smoothedFD.smoothedNr(1) #return samples that appear n times"
   ]
  },
  {
   "cell_type": "code",
   "execution_count": 106,
   "metadata": {},
   "outputs": [
    {
     "name": "stdout",
     "output_type": "stream",
     "text": [
      "0.00040677520743009026\n",
      "0.00040545353472227374\n",
      "0.0\n",
      "0.1806317732704053\n"
     ]
    }
   ],
   "source": [
    "print(fd.freq(('unto','them')))\n",
    "print(smoothedFD.prob(('unto','them')))\n",
    "\n",
    "print(fd.freq(('lol')))  #prob of ngram\n",
    "print(smoothedFD.prob(('lol')))#smoothed prob of ngram"
   ]
  },
  {
   "cell_type": "code",
   "execution_count": 113,
   "metadata": {},
   "outputs": [
    {
     "name": "stdout",
     "output_type": "stream",
     "text": [
      "('the',)\n",
      "0.026858200054607803\n"
     ]
    }
   ],
   "source": [
    "print(smoothedFD.max())\n",
    "print(smoothedFD.prob(('the',)))"
   ]
  },
  {
   "cell_type": "code",
   "execution_count": 116,
   "metadata": {},
   "outputs": [
    {
     "name": "stdout",
     "output_type": "stream",
     "text": [
      "0.1806317732704053\n"
     ]
    }
   ],
   "source": [
    "print(fd.r_Nr()[1]/fd.N()) #prob of unseen ngram according to good turing"
   ]
  },
  {
   "cell_type": "code",
   "execution_count": null,
   "metadata": {},
   "outputs": [],
   "source": []
  }
 ],
 "metadata": {
  "kernelspec": {
   "display_name": "Python 3",
   "language": "python",
   "name": "python3"
  },
  "language_info": {
   "codemirror_mode": {
    "name": "ipython",
    "version": 3
   },
   "file_extension": ".py",
   "mimetype": "text/x-python",
   "name": "python",
   "nbconvert_exporter": "python",
   "pygments_lexer": "ipython3",
   "version": "3.6.8"
  }
 },
 "nbformat": 4,
 "nbformat_minor": 2
}
