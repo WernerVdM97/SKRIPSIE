{
 "cells": [
  {
   "cell_type": "code",
   "execution_count": 1,
   "metadata": {},
   "outputs": [],
   "source": [
    "%matplotlib inline\n",
    "\n",
    "import matplotlib.pyplot as plt\n",
    "import time\n",
    "import numpy as np\n",
    "'''\n",
    "import sys\n",
    "sys.path.append('Classes')\n",
    "from arpy import *\n",
    "'''\n",
    "import arpa"
   ]
  },
  {
   "cell_type": "code",
   "execution_count": null,
   "metadata": {},
   "outputs": [],
   "source": []
  },
  {
   "cell_type": "markdown",
   "metadata": {},
   "source": [
    "# processing ngram counts"
   ]
  },
  {
   "cell_type": "code",
   "execution_count": 102,
   "metadata": {},
   "outputs": [
    {
     "name": "stdout",
     "output_type": "stream",
     "text": [
      "[1.03350547e+08 1.83562150e+07 6.96580800e+06 3.71583200e+06\n",
      " 2.29900700e+06 1.58638800e+06 1.16322500e+06 8.93217000e+05]\n",
      "175.30552291870117\n"
     ]
    }
   ],
   "source": [
    "start = time.time()\n",
    "file = open('../../2000-2014_ngram_counts.txt','r')\n",
    "\n",
    "counts = np.zeros(8)\n",
    "\n",
    "for x in file:\n",
    "    line = x.split('\\t')\n",
    "    r = line[1].split('\\n')\n",
    "    if (int(r[0]) < 9):\n",
    "        counts[int(r[0])-1] += 1\n",
    "        \n",
    "print('amount of ngrams occuring r times:')\n",
    "print(counts)\n",
    "end = time.time()\n",
    "print('time:' + str(end-start))"
   ]
  },
  {
   "cell_type": "code",
   "execution_count": 124,
   "metadata": {},
   "outputs": [
    {
     "data": {
      "text/plain": [
       "[<matplotlib.lines.Line2D at 0x7fc6e27fb940>]"
      ]
     },
     "execution_count": 124,
     "metadata": {},
     "output_type": "execute_result"
    },
    {
     "data": {
      "image/png": "[encoded data removed]",
      "text/plain": [
       "<Figure size 432x288 with 1 Axes>"
      ]
     },
     "metadata": {
      "needs_background": "light"
     },
     "output_type": "display_data"
    }
   ],
   "source": [
    "plt.plot(counts[1:10])"
   ]
  },
  {
   "cell_type": "code",
   "execution_count": 118,
   "metadata": {},
   "outputs": [
    {
     "name": "stdout",
     "output_type": "stream",
     "text": [
      "[4.69470811e+08 4.46265002e+08 4.23059193e+08]\n",
      "145598918\n",
      "218.38853883743286\n"
     ]
    }
   ],
   "source": [
    "start = time.time()\n",
    "file = open('../../2000-2014_ngram_counts.txt','r')\n",
    "\n",
    "totals = np.zeros(3)\n",
    "ngrams = 0\n",
    "\n",
    "for x in file:\n",
    "    line = x.split('\\t')\n",
    "    tuple_size = len(line[0].split(' '))\n",
    "\n",
    "    r = line[1].split('\\n')\n",
    "    totals[tuple_size-1] = totals[tuple_size-1] + int(r[0])\n",
    "\n",
    "    ngrams += 1\n",
    "\n",
    "print('sum of ngrams counts:')\n",
    "print(totals)\n",
    "print('total unique ngrams:')\n",
    "print(ngrams)\n",
    "end = time.time()\n",
    "print('time: ' + str(end-start))"
   ]
  },
  {
   "cell_type": "markdown",
   "metadata": {},
   "source": [
    "# .."
   ]
  },
  {
   "cell_type": "code",
   "execution_count": 105,
   "metadata": {},
   "outputs": [
    {
     "name": "stdout",
     "output_type": "stream",
     "text": [
      "59700335\n",
      "31.814959049224854\n"
     ]
    }
   ],
   "source": [
    "start = time.time()\n",
    "file = open('../../GTBO_LM.lm','r')\n",
    "#file = open('../../lm','r')\n",
    "\n",
    "\n",
    "total = 0\n",
    "ngrams = 0\n",
    "\n",
    "for x in range(5):\n",
    "    file.readline()\n",
    "\n",
    "for x in file:\n",
    "    line = x.split('\\t')\n",
    "    if line[0] != '\\n':\n",
    "        if line[0] != '':\n",
    "            if line[0][0] != '\\\\':\n",
    "                #log = float(line[0])\n",
    "                #total = total + 10**log\n",
    "                #print('\\ntotal: ' + str(total))\n",
    "                #print(10**log)\n",
    "                ngrams+=1\n",
    "    \n",
    "print(ngrams)\n",
    "end = time.time()\n",
    "print('time: ' + str(end-start))"
   ]
  },
  {
   "cell_type": "code",
   "execution_count": 125,
   "metadata": {},
   "outputs": [
    {
     "name": "stdout",
     "output_type": "stream",
     "text": [
      "[52. 49. 46.]\n",
      "127\n",
      "0.45856308937072754\n"
     ]
    }
   ],
   "source": [
    "start = time.time()\n",
    "file = open('../../count.txt','r')\n",
    "\n",
    "totals = np.zeros(3)\n",
    "ngrams = 0\n",
    "\n",
    "for x in file:\n",
    "    line = x.split('\\t')\n",
    "    tuple_size = len(line[0].split(' '))\n",
    "    r = line[-1].split('\\n')\n",
    "    totals[tuple_size-1] = totals[tuple_size-1] + int(r[0])\n",
    "    ngrams += 1\n",
    "    \n",
    "print(totals)\n",
    "print(ngrams)\n",
    "end = time.time()\n",
    "print('time: ' + str(end-start))"
   ]
  },
  {
   "cell_type": "code",
   "execution_count": 2,
   "metadata": {},
   "outputs": [],
   "source": [
    "lm = arpa.loadf('../../round1/practiseLM.arpa')\n",
    "#ABOUT CERTAIN AREAS"
   ]
  },
  {
   "cell_type": "markdown",
   "metadata": {},
   "source": [
    "# Pgt calculated by srilm"
   ]
  },
  {
   "cell_type": "code",
   "execution_count": 69,
   "metadata": {},
   "outputs": [
    {
     "name": "stdout",
     "output_type": "stream",
     "text": [
      "Pgt(0.021572823983417012)\n"
     ]
    }
   ],
   "source": [
    "print('Pgt(' + str(lm[0].p(\"ABOUT CERTAIN AREAS\")) + ')')"
   ]
  },
  {
   "cell_type": "markdown",
   "metadata": {},
   "source": [
    "### get discount factors from srilm output"
   ]
  },
  {
   "cell_type": "code",
   "execution_count": 72,
   "metadata": {},
   "outputs": [
    {
     "name": "stdout",
     "output_type": "stream",
     "text": [
      "discount factor for r = 1, 2, 3, 4, 5, 6, 7\n",
      "[0.258874 0.469898 0.646616 0.697835 0.804042 0.833773 0.844708]\n"
     ]
    }
   ],
   "source": [
    "gtdc = open('../../round1/practise_gt_dc.txt','r')\n",
    "dc = np.zeros(7)\n",
    "\n",
    "gtdc.readline()\n",
    "gtdc.readline()\n",
    "\n",
    "for x in range(7):\n",
    "    line = gtdc.readline()\n",
    "    line = line.split(' ')[2].split('\\n')[0]\n",
    "    dc[x] = float(line)\n",
    "    \n",
    "print('discount factor for r = 1, 2, 3, 4, 5, 6, 7')\n",
    "print(dc)"
   ]
  },
  {
   "cell_type": "markdown",
   "metadata": {},
   "source": [
    "# Prf - calculated by hand"
   ]
  },
  {
   "cell_type": "code",
   "execution_count": 67,
   "metadata": {},
   "outputs": [
    {
     "name": "stdout",
     "output_type": "stream",
     "text": [
      "trigram count: 1\n",
      "bigram count: 12\n",
      "Prf(0.08333333333333333)\n",
      "time: 8.368329524993896\n",
      "Pgt(0.021572833333333333)\n"
     ]
    }
   ],
   "source": [
    "start = time.time()\n",
    "file = open('../../round1/2000counts.txt','r')\n",
    "\n",
    "trigram = 0\n",
    "bigrams = 0\n",
    "\n",
    "for x in file:\n",
    "    #line = file.readline()\n",
    "    #line = line.split('\\t')\n",
    "    line = x.split('\\t')\n",
    "    tuple_size = len(line[0].split(' '))\n",
    "    \n",
    "    ngram = line[0]\n",
    "    r = line[-1].split('\\n')[0]\n",
    "\n",
    "    if ngram == 'ABOUT CERTAIN AREAS':\n",
    "        trigram = r\n",
    "    if ngram == 'ABOUT CERTAIN':\n",
    "        bigram = r\n",
    "        \n",
    "    '''\n",
    "    print(ngram)\n",
    "    print('tuple size: ' + str(tuple_size))\n",
    "    print('count: ' + str(r))\n",
    "    '''\n",
    "\n",
    "print('trigram count: '+ trigram)\n",
    "print('bigram count: ' + bigram)\n",
    "prf = float(trigram)/float(bigram)\n",
    "print('Prf(' + str(prf) +')')\n",
    "\n",
    "end = time.time()\n",
    "print('time: ' + str(end-start))\n",
    "\n",
    "print('Pgt(' + str(prf*dc[int(trigram)-1]) + ')')"
   ]
  },
  {
   "cell_type": "markdown",
   "metadata": {},
   "source": [
    "# NB! Pgt = discountfactor(r) * Prf"
   ]
  },
  {
   "cell_type": "markdown",
   "metadata": {},
   "source": [
    "# Find ngrams with r > 7"
   ]
  },
  {
   "cell_type": "code",
   "execution_count": 48,
   "metadata": {},
   "outputs": [
    {
     "name": "stdout",
     "output_type": "stream",
     "text": [
      "' S. ZERO\n",
      "'THIRTY ONE POINT\n",
      "'ZERO ZERO J.\n",
      ",EIGHT H. I\n",
      ",FIVE H. I\n",
      ",FOUR H. I\n",
      ",NINE H. I\n",
      ",ONE H. I\n",
      ",SEVEN H. I\n",
      ",SIX H. I\n",
      ",THREE H. I\n",
      ",TWO H. I\n",
      ".BUSINESSDAY .CO .ZA\n",
      ".CO .ZA </s>\n",
      ".CO .ZA A\n",
      ".CO .ZA AND\n",
      "time: 0.002287626266479492\n"
     ]
    }
   ],
   "source": [
    "start = time.time()\n",
    "file = open('../../round1/2000counts.txt','r')\n",
    "\n",
    "trigram = 0\n",
    "bigrams = 0\n",
    "\n",
    "for x in range(1000):\n",
    "    line = file.readline()\n",
    "    line = line.split('\\t')\n",
    "    #line = x.split('\\t')\n",
    "    tuple_size = len(line[0].split(' '))\n",
    "    \n",
    "    ngram = line[0]\n",
    "    r = line[-1].split('\\n')[0]\n",
    "\n",
    "    if tuple_size == 3 and int(r) > 7:\n",
    "        print(ngram)\n",
    "        \n",
    "        \n",
    "    '''\n",
    "    print(ngram)\n",
    "    print('tuple size: ' + str(tuple_size))\n",
    "    print('count: ' + str(r))\n",
    "    '''\n",
    "\n",
    "end = time.time()\n",
    "print('time: ' + str(end-start))"
   ]
  },
  {
   "cell_type": "markdown",
   "metadata": {},
   "source": [
    "# AS seen below, for r > Pgt = Prf"
   ]
  },
  {
   "cell_type": "code",
   "execution_count": 68,
   "metadata": {},
   "outputs": [
    {
     "name": "stdout",
     "output_type": "stream",
     "text": [
      "Pgt(0.45475637925835855)\n"
     ]
    }
   ],
   "source": [
    "print('Pgt(' + str(lm[0].p(\".CO .ZA </s>\"))+ ')')"
   ]
  },
  {
   "cell_type": "code",
   "execution_count": 73,
   "metadata": {},
   "outputs": [
    {
     "name": "stdout",
     "output_type": "stream",
     "text": [
      "trigram count: 196\n",
      "bigram count: 431\n",
      "Prf(0.4547563805104408)\n",
      "time: 8.28202486038208\n"
     ]
    }
   ],
   "source": [
    "start = time.time()\n",
    "file = open('../../round1/2000counts.txt','r')\n",
    "\n",
    "trigram = 0\n",
    "bigrams = 0\n",
    "\n",
    "for x in file:\n",
    "    #line = file.readline()\n",
    "    #line = line.split('\\t')\n",
    "    line = x.split('\\t')\n",
    "    tuple_size = len(line[0].split(' '))\n",
    "    \n",
    "    ngram = line[0]\n",
    "    r = line[-1].split('\\n')[0]\n",
    "\n",
    "    if ngram == '.CO .ZA </s>':\n",
    "        trigram = r\n",
    "    if ngram == '.CO .ZA':\n",
    "        bigram = r\n",
    "        \n",
    "    '''\n",
    "    print(ngram)\n",
    "    print('tuple size: ' + str(tuple_size))\n",
    "    print('count: ' + str(r))\n",
    "    '''\n",
    "\n",
    "print('trigram count: '+ trigram)\n",
    "print('bigram count: ' + bigram)\n",
    "prf = float(trigram)/float(bigram)\n",
    "print('Prf(' + str(prf) +')')\n",
    "\n",
    "end = time.time()\n",
    "print('time: ' + str(end-start))"
   ]
  },
  {
   "cell_type": "code",
   "execution_count": null,
   "metadata": {},
   "outputs": [],
   "source": []
  }
 ],
 "metadata": {
  "kernelspec": {
   "display_name": "Python 3",
   "language": "python",
   "name": "python3"
  },
  "language_info": {
   "codemirror_mode": {
    "name": "ipython",
    "version": 3
   },
   "file_extension": ".py",
   "mimetype": "text/x-python",
   "name": "python",
   "nbconvert_exporter": "python",
   "pygments_lexer": "ipython3",
   "version": "3.6.8"
  }
 },
 "nbformat": 4,
 "nbformat_minor": 2
}
