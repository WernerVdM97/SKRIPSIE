{
 "cells": [
  {
   "cell_type": "code",
   "execution_count": 41,
   "metadata": {},
   "outputs": [],
   "source": [
    "import nltk\n",
    "import matplotlib.pyplot as plt\n",
    "import torch.nn.functional as F\n",
    "import numpy as np\n",
    "import torch\n",
    "from fastai import *\n",
    "from fastai.vision import *\n",
    "\n",
    "\n",
    "#processing tokens\n",
    "import unicodedata \n",
    "import re\n",
    "import inflect \n",
    "\n",
    "#tokenize\n",
    "from nltk import word_tokenize, sent_tokenize\n",
    "\n",
    "#find ngrams\n",
    "from nltk.util import ngrams\n",
    "\n",
    "import time"
   ]
  },
  {
   "cell_type": "code",
   "execution_count": 42,
   "metadata": {},
   "outputs": [],
   "source": [
    "file = open(\"../corpus/bible.txt\").read()"
   ]
  },
  {
   "cell_type": "code",
   "execution_count": 43,
   "metadata": {},
   "outputs": [
    {
     "name": "stdout",
     "output_type": "stream",
     "text": [
      "8.070694208145142\n"
     ]
    }
   ],
   "source": [
    "start = time.time()\n",
    "sentences = sent_tokenize(file)\n",
    "tokenised_sentences = []\n",
    "tokens = word_tokenize(file)\n",
    "\n",
    "# now loop over each sentence and tokenize it separately\n",
    "for sentence in sentences:\n",
    "    tokenised_sentences.append(word_tokenize(sentence))\n",
    "\n",
    "end = time.time()\n",
    "print(end-start)"
   ]
  },
  {
   "cell_type": "code",
   "execution_count": null,
   "metadata": {},
   "outputs": [],
   "source": []
  },
  {
   "cell_type": "code",
   "execution_count": 118,
   "metadata": {},
   "outputs": [
    {
     "name": "stdout",
     "output_type": "stream",
     "text": [
      "1.1777458190917969\n"
     ]
    }
   ],
   "source": [
    "#normalise tokens manually\n",
    "\n",
    "def remove_non_ascii(words):\n",
    "    \"\"\"Remove non-ASCII characters from list of tokenized words\"\"\"\n",
    "    new_words = []\n",
    "    for word in words:\n",
    "        new_word = unicodedata.normalize('NFKD', word).encode('ascii', 'ignore').decode('utf-8', 'ignore')\n",
    "        new_words.append(new_word)\n",
    "    return new_words\n",
    "\n",
    "def to_lowercase(words):\n",
    "    \"\"\"Convert all characters to lowercase from list of tokenized words\"\"\"\n",
    "    new_words = []\n",
    "    for word in words:\n",
    "        new_word = word.lower()\n",
    "        new_words.append(new_word)\n",
    "    return new_words\n",
    "\n",
    "def remove_punctuation(words):\n",
    "    \"\"\"Remove punctuation from list of tokenized words\"\"\"\n",
    "    new_words = []\n",
    "    for word in words:\n",
    "        new_word = re.sub(r'[^\\w\\s]', '', word)\n",
    "        if new_word != '':\n",
    "            new_words.append(new_word)\n",
    "        if word == '.':\n",
    "            new_words.append('</s>')\n",
    "            new_words.append('<s>')\n",
    "    return new_words\n",
    "\n",
    "def replace_numbers(words):\n",
    "    \"\"\"Replace all interger occurrences in list of tokenized words with textual representation\"\"\"\n",
    "    p = inflect.engine()\n",
    "    new_words = []\n",
    "    for word in words:\n",
    "        if word.isdigit():\n",
    "            new_word = p.number_to_words(word)\n",
    "            new_words.append(new_word)\n",
    "        else:\n",
    "            new_words.append(word)\n",
    "    return new_words\n",
    "\n",
    "def remove_stopwords(words):\n",
    "    \"\"\"Remove stop words from list of tokenized words\"\"\"\n",
    "    new_words = []\n",
    "    for word in words:\n",
    "        if word not in stopwords.words('english'):\n",
    "            new_words.append(word)\n",
    "    return new_words\n",
    "\n",
    "\n",
    "def normalize(words):\n",
    "    words = remove_non_ascii(words)\n",
    "    words = to_lowercase(words)\n",
    "    words = remove_punctuation(words)\n",
    "    words = replace_numbers(words)\n",
    "    #words = remove_stopwords(words)\n",
    "    return words\n",
    "\n",
    "start = time.time()\n",
    "    \n",
    "data_tokens = normalize(tokens)\n",
    "data_tokens.insert(0,'<s>')\n",
    "data_tokens.pop(-1)\n",
    "\n",
    "end = time.time()\n",
    "\n",
    "print(end-start)"
   ]
  },
  {
   "cell_type": "code",
   "execution_count": 165,
   "metadata": {},
   "outputs": [],
   "source": [
    "trigrams = ngrams(data_tokens, 3)\n",
    "tg_list = list(trigrams)"
   ]
  },
  {
   "cell_type": "code",
   "execution_count": 166,
   "metadata": {},
   "outputs": [
    {
     "name": "stdout",
     "output_type": "stream",
     "text": [
      "[('the', 'earth', '</s>'), ('earth', '</s>', '<s>'), ('</s>', '<s>', 'and'), ('<s>', 'and', 'the')]\n",
      "('earth', '</s>', '<s>')\n",
      "('</s>', '<s>', 'and')\n"
     ]
    }
   ],
   "source": [
    "print(tg_list[9:13])\n",
    "print(tg_list[10])\n",
    "print(tg_list[11])"
   ]
  },
  {
   "cell_type": "markdown",
   "metadata": {},
   "source": [
    "# remove < /s > followed by < s >"
   ]
  },
  {
   "cell_type": "code",
   "execution_count": 167,
   "metadata": {},
   "outputs": [],
   "source": [
    "x = 0\n",
    "while x < len(tg_list):\n",
    "    for y in range(len(tg_list[x])-1):\n",
    "        if tg_list[x][y] == '</s>' and tg_list[x][y+1] == '<s>':\n",
    "            tg_list.pop(x)\n",
    "            x = x - 1   \n",
    "    x=x+1"
   ]
  },
  {
   "cell_type": "code",
   "execution_count": 168,
   "metadata": {},
   "outputs": [
    {
     "name": "stdout",
     "output_type": "stream",
     "text": [
      "[('the', 'earth', '</s>'), ('<s>', 'and', 'the'), ('and', 'the', 'earth'), ('the', 'earth', 'was')]\n",
      "('<s>', 'and', 'the')\n",
      "('and', 'the', 'earth')\n"
     ]
    }
   ],
   "source": [
    "print(tg_list[9:13])\n",
    "print(tg_list[10])\n",
    "print(tg_list[11])"
   ]
  },
  {
   "cell_type": "code",
   "execution_count": 148,
   "metadata": {},
   "outputs": [
    {
     "name": "stdout",
     "output_type": "stream",
     "text": [
      "('</s>', '<s>', 'and')\n"
     ]
    }
   ],
   "source": [
    "#tg_list.pop(10)\n",
    "print(tg_list[11])"
   ]
  },
  {
   "cell_type": "code",
   "execution_count": 142,
   "metadata": {},
   "outputs": [],
   "source": [
    "if tg_list[10][1] == '</s>' and tg_list[10][2] == '<s>':\n",
    "    #tg_list.pop(x)\n",
    "    print('yes')"
   ]
  },
  {
   "cell_type": "code",
   "execution_count": 110,
   "metadata": {},
   "outputs": [],
   "source": [
    "fd = nltk.FreqDist(tg_list)"
   ]
  },
  {
   "cell_type": "code",
   "execution_count": 111,
   "metadata": {},
   "outputs": [
    {
     "data": {
      "image/png": "[encoded data removed]",
      "text/plain": [
       "<Figure size 432x288 with 1 Axes>"
      ]
     },
     "metadata": {
      "needs_background": "light"
     },
     "output_type": "display_data"
    },
    {
     "data": {
      "text/plain": [
       "[(('</s>', '<s>', 'and'), 10369),\n",
       " (('<s>', 'and', 'the'), 1905),\n",
       " (('of', 'the', 'lord'), 1775),\n",
       " (('the', 'son', 'of'), 1451),\n",
       " (('</s>', '<s>', 'for'), 1422),\n",
       " (('the', 'children', 'of'), 1351),\n",
       " (('<s>', 'and', 'he'), 1323),\n",
       " (('</s>', '<s>', 'but'), 1184),\n",
       " (('</s>', '<s>', 'then'), 1155),\n",
       " (('</s>', '<s>', 'the'), 1147)]"
      ]
     },
     "execution_count": 111,
     "metadata": {},
     "output_type": "execute_result"
    }
   ],
   "source": [
    "fd.plot(10)\n",
    "fd.most_common(10)"
   ]
  },
  {
   "cell_type": "code",
   "execution_count": 12,
   "metadata": {},
   "outputs": [
    {
     "name": "stdout",
     "output_type": "stream",
     "text": [
      "0\n",
      "329932\n",
      "48880\n",
      "16864\n",
      "8304\n",
      "4908\n",
      "3064\n",
      "2110\n",
      "1633\n",
      "1187\n",
      "791591\n"
     ]
    }
   ],
   "source": [
    "for x in range(10):\n",
    "    print(fd.r_Nr()[x])\n",
    "\n",
    "#total\n",
    "print(fd.N())"
   ]
  },
  {
   "cell_type": "markdown",
   "metadata": {},
   "source": [
    "# WRONG"
   ]
  },
  {
   "cell_type": "code",
   "execution_count": null,
   "metadata": {},
   "outputs": [],
   "source": [
    "from sklearn.preprocessing import OneHotEncoder\n",
    "import itertools\n",
    "\n",
    "start = time.time()\n",
    "\n",
    "#set() - no duplicates\n",
    "#{} - dictionray, maps individual tokens to key\n",
    "word_to_id = {token: idx for idx, token in enumerate(set(data_tokens))}\n",
    "\n",
    "print(tg_list[0])\n",
    "\n",
    "# convert token lists to token-id lists, e.g. [[1, 2], [2, 2]] here\n",
    "data_tokens_ids = [[word_to_id[token] for token in trigram] for trigram in tg_list]\n",
    "\n",
    "print(data_tokens_ids[0])\n",
    "#converting back to words\n",
    "for token_id in data_tokens_ids[0]:\n",
    "    print(list(word_to_id)[token_id])\n",
    "\n",
    "vec = OneHotEncoder(categories='auto')\n",
    "X = vec.fit_transform(data_tokens_ids)\n",
    "tg_OneHot = X.toarray()\n",
    "\n",
    "print (tg_OneHot)\n",
    "end = time.time()\n",
    "print(end-start)"
   ]
  },
  {
   "cell_type": "code",
   "execution_count": null,
   "metadata": {},
   "outputs": [],
   "source": [
    "tg_counts = [fd.freq(trigram)*fd.N() for trigram in tg_list]\n",
    "tg_prob = [fd.freq(trigram) for trigram in tg_list]\n",
    "\n",
    "#print(tg_counts)\n",
    "\n",
    "print(tg_list[0])\n",
    "#print(tg_OneHot[0])\n",
    "print(tg_counts[0])\n",
    "print(tg_prob[0])"
   ]
  },
  {
   "cell_type": "markdown",
   "metadata": {},
   "source": [
    "# RATHER"
   ]
  },
  {
   "cell_type": "code",
   "execution_count": null,
   "metadata": {},
   "outputs": [],
   "source": [
    "start = time.time()\n",
    "\n",
    "#{} - dictionary, maps individual tokens to key\n",
    "id_to_ngram = {idx: ngram for idx, ngram in enumerate(tg_list)}\n",
    "ngram_to_id = {ngram: idx for idx, ngram in enumerate(tg_list)}\n",
    "\n",
    "no_tg = fd.N()\n",
    "\n",
    "frequencies = [fd.freq(id_to_ngram[x]) for x in range(no_tg)]\n",
    "ngram_freq = np.identity(no_tg)*frequencies\n",
    "\n",
    "print(ngram_freq)\n",
    "\n",
    "end = time.time()\n",
    "print(end-start)"
   ]
  },
  {
   "cell_type": "markdown",
   "metadata": {},
   "source": [
    "# Neural Net\n",
    "\n"
   ]
  },
  {
   "cell_type": "code",
   "execution_count": 3,
   "metadata": {},
   "outputs": [],
   "source": [
    "import torch.nn as nn\n",
    "from torch import optim\n",
    "from sklearn import preprocessing"
   ]
  },
  {
   "cell_type": "code",
   "execution_count": 4,
   "metadata": {},
   "outputs": [],
   "source": [
    "class Net(nn.Module):\n",
    "    def __init__(self):\n",
    "        super(Net, self).__init__()\n",
    "        self.fc1 = nn.Linear(2, 3)\n",
    "        self.fc3 = nn.Linear(3, 1)\n",
    "\n",
    "        \n",
    "    def forward(self, x):\n",
    "        x = F.relu(self.fc1(x))\n",
    "        x = F.sigmoid(self.fc3(x)) \n",
    "        return x"
   ]
  },
  {
   "cell_type": "markdown",
   "metadata": {},
   "source": [
    "# Creating Fast Ai Dataset"
   ]
  },
  {
   "cell_type": "code",
   "execution_count": 16,
   "metadata": {},
   "outputs": [],
   "source": [
    "class ArrayDataset(Dataset):\n",
    "    \"Sample numpy array dataset\"\n",
    "    def __init__(self, x, total): #[1 , 3] dimension\n",
    "        self.x = x\n",
    "        self.y = torch.zeros(len(x),dtype = torch.float)\n",
    "        for i in range(len(x)):\n",
    "            #self.y[i] = (x[i][2]*x[i][1])\n",
    "            self.y[i] = (x[i][0]*x[i][1])\n",
    "                        \n",
    "        self.c = 1 # binary label\n",
    "    \n",
    "    def __len__(self):\n",
    "        return len(self.x)\n",
    "    \n",
    "    def __getitem__(self, i):\n",
    "        return self.x[i], self.y[i]\n"
   ]
  },
  {
   "cell_type": "markdown",
   "metadata": {},
   "source": [
    "# data"
   ]
  },
  {
   "cell_type": "code",
   "execution_count": 17,
   "metadata": {},
   "outputs": [
    {
     "name": "stdout",
     "output_type": "stream",
     "text": [
      "tensor([[0.1482, 0.2000],\n",
      "        [0.3450, 0.3000],\n",
      "        [0.4924, 0.4000],\n",
      "        [0.5910, 0.5000],\n",
      "        [0.6243, 0.6000],\n",
      "        [0.6886, 0.7000],\n",
      "        [0.7739, 0.8000],\n",
      "        [0.7269, 0.9000],\n",
      "        [0.7725, 1.0000],\n",
      "        [0.8571, 1.1000]])\n",
      "tensor([0.0296, 0.1035, 0.1970, 0.2955, 0.3746, 0.4820, 0.6191, 0.6542, 0.7725,\n",
      "        0.9429])\n"
     ]
    }
   ],
   "source": [
    "inputs = torch.zeros(10,2, dtype = torch.float)\n",
    "total = fd.N()\n",
    "target = torch.zeros(len(inputs))\n",
    "\n",
    "for x in range(10): #x starts at zero\n",
    "    '''\n",
    "    r = x+1               #count\n",
    "    Cr = fd.r_Nr()[x+1]   #number of ngrams appearing r times\n",
    "    Cr2 = fd.r_Nr()[x+2]  #number of ngrams appearing r + 1 times\n",
    "    C = Cr2/Cr            #ratio of Cr+1/Cr\n",
    "    \n",
    "    inputs[x][0] = r/10\n",
    "    inputs[x][1] = C\n",
    "    inputs[x][2] = (r+1)/total\n",
    "    \n",
    "    target[i] = (train[i][2])*(train[i][1])\n",
    "    '''\n",
    "    \n",
    "    r = x+1               #count\n",
    "    Cr = fd.r_Nr()[x+1]   #number of ngrams appearing r times\n",
    "    Cr2 = fd.r_Nr()[x+2]  #number of ngrams appearing r + 1 times\n",
    "    C = Cr2/Cr           #ratio of Cr+1/Cr\n",
    "    \n",
    "    inputs[x][0] = C        #ratio\n",
    "    inputs[x][1] = (r+1)/10 #count\n",
    "    \n",
    "    target[x] = (inputs[x][0])*(inputs[x][1])\n",
    "    \n",
    "print(inputs)\n",
    "print(target)    "
   ]
  },
  {
   "cell_type": "markdown",
   "metadata": {},
   "source": [
    "# For FastAI"
   ]
  },
  {
   "cell_type": "code",
   "execution_count": 18,
   "metadata": {},
   "outputs": [
    {
     "name": "stdout",
     "output_type": "stream",
     "text": [
      "tensor([[0.1482, 0.2000],\n",
      "        [0.3450, 0.3000],\n",
      "        [0.4924, 0.4000],\n",
      "        [0.5910, 0.5000],\n",
      "        [0.6243, 0.6000],\n",
      "        [0.6886, 0.7000],\n",
      "        [0.7739, 0.8000],\n",
      "        [0.7269, 0.9000],\n",
      "        [0.7725, 1.0000],\n",
      "        [0.8571, 1.1000]])\n",
      "tensor([[0.1243, 0.1974],\n",
      "        [0.2895, 0.2962],\n",
      "        [0.4131, 0.3949],\n",
      "        [0.4959, 0.4936],\n",
      "        [0.5238, 0.5923],\n",
      "        [0.5778, 0.6910],\n",
      "        [0.6493, 0.7897],\n",
      "        [0.6098, 0.8885],\n",
      "        [0.6481, 0.9872],\n",
      "        [0.7191, 1.0859]])\n"
     ]
    }
   ],
   "source": [
    "train = inputs\n",
    "rand = torch.ones(2, dtype = torch.float).uniform_(0.7,1)\n",
    "valid = (inputs*rand)\n",
    "train = train.float()\n",
    "\n",
    "print(train)\n",
    "print(valid)"
   ]
  },
  {
   "cell_type": "code",
   "execution_count": 19,
   "metadata": {},
   "outputs": [
    {
     "name": "stdout",
     "output_type": "stream",
     "text": [
      "(tensor([[0.3450, 0.3000],\n",
      "        [0.7739, 0.8000]]), tensor([0.1035, 0.6191]))\n",
      "791591\n"
     ]
    }
   ],
   "source": [
    "train_ds, valid_ds = ArrayDataset(train,total), ArrayDataset(valid,total)\n",
    "data = DataBunch.create(train_ds, valid_ds, bs=2)\n",
    "print(data.one_batch())\n",
    "\n",
    "print(total)"
   ]
  },
  {
   "cell_type": "markdown",
   "metadata": {},
   "source": [
    "# Manual Training"
   ]
  },
  {
   "cell_type": "code",
   "execution_count": 304,
   "metadata": {},
   "outputs": [],
   "source": [
    "net = Net()\n",
    "optimizer = optim.SGD(net.parameters(), lr=0.03, momentum=0.1)\n",
    "#criterion = torch.nn.SmoothL1Loss()\n",
    "criterion = torch.nn.L1Loss()"
   ]
  },
  {
   "cell_type": "code",
   "execution_count": 305,
   "metadata": {},
   "outputs": [
    {
     "name": "stdout",
     "output_type": "stream",
     "text": [
      "Train Epoch: 1 \tLoss: 0.454285\n",
      "Train Epoch: 101 \tLoss: 0.092396\n",
      "Train Epoch: 201 \tLoss: 0.087956\n",
      "Train Epoch: 301 \tLoss: 0.108106\n",
      "Train Epoch: 401 \tLoss: 0.089450\n",
      "Train Epoch: 501 \tLoss: 0.100716\n",
      "Train Epoch: 601 \tLoss: 0.091644\n",
      "Train Epoch: 701 \tLoss: 0.091004\n",
      "Train Epoch: 801 \tLoss: 0.102009\n",
      "Train Epoch: 901 \tLoss: 0.083409\n",
      "3.7685515880584717\n"
     ]
    }
   ],
   "source": [
    "start = time.time()\n",
    "\n",
    "for epoch in range(1, 1000): ## run the model for 10 epochs\n",
    "\n",
    "    for x in range(len(train)): #x starts at zero\n",
    "           \n",
    "        #print(inputs)\n",
    "        #print(inputs.dtype)\n",
    "\n",
    "        optimizer.zero_grad()\n",
    "        \n",
    "        ## 1. forward propagation\n",
    "        net_out = net(train[x])\n",
    "        #print(train[x])\n",
    "        \n",
    "        ## 2. loss calculation\n",
    "        loss = criterion(net_out, target[x])\n",
    "        #print(target[x])\n",
    "        \n",
    "        ## 3. backward propagation\n",
    "        loss.backward()\n",
    "        \n",
    "        ## 4. weight optimization\n",
    "        optimizer.step()\n",
    "        \n",
    "    if(epoch % 100 == 1):\n",
    "        print('Train Epoch: {} \\tLoss: {:.6f}'.format(\n",
    "            epoch, \n",
    "            loss.data))\n",
    "\n",
    "end = time.time()\n",
    "print(end-start)"
   ]
  },
  {
   "cell_type": "markdown",
   "metadata": {},
   "source": [
    "# Fast AI equivalent\n",
    "\n",
    "helps visualise learning curve"
   ]
  },
  {
   "cell_type": "code",
   "execution_count": 300,
   "metadata": {},
   "outputs": [],
   "source": [
    "#criterion = torch.nn.MSELoss()\n",
    "criterion = torch.nn.L1Loss()\n",
    "#criterion = torch.nn.SmoothL1Loss()\n",
    "net2 = Net().cuda()"
   ]
  },
  {
   "cell_type": "code",
   "execution_count": 301,
   "metadata": {},
   "outputs": [],
   "source": [
    "learn = Learner(data, net2, opt_func = torch.optim.SGD, loss_func = criterion)"
   ]
  },
  {
   "cell_type": "code",
   "execution_count": 302,
   "metadata": {},
   "outputs": [
    {
     "data": {
      "text/html": [],
      "text/plain": [
       "<IPython.core.display.HTML object>"
      ]
     },
     "metadata": {},
     "output_type": "display_data"
    },
    {
     "name": "stdout",
     "output_type": "stream",
     "text": [
      "LR Finder is complete, type {learner_name}.recorder.plot() to see the graph.\n"
     ]
    }
   ],
   "source": [
    "learn.lr_find()"
   ]
  },
  {
   "cell_type": "code",
   "execution_count": 303,
   "metadata": {},
   "outputs": [
    {
     "data": {
      "image/png": "[encoded data removed]",
      "text/plain": [
       "<Figure size 432x288 with 1 Axes>"
      ]
     },
     "metadata": {
      "needs_background": "light"
     },
     "output_type": "display_data"
    }
   ],
   "source": [
    "learn.recorder.plot()"
   ]
  },
  {
   "cell_type": "code",
   "execution_count": 176,
   "metadata": {},
   "outputs": [
    {
     "data": {
      "text/html": [
       "<table border=\"1\" class=\"dataframe\">\n",
       "  <thead>\n",
       "    <tr style=\"text-align: left;\">\n",
       "      <th>epoch</th>\n",
       "      <th>train_loss</th>\n",
       "      <th>valid_loss</th>\n",
       "      <th>time</th>\n",
       "    </tr>\n",
       "  </thead>\n",
       "  <tbody>\n",
       "    <tr>\n",
       "      <td>0</td>\n",
       "      <td>0.264493</td>\n",
       "      <td>0.136706</td>\n",
       "      <td>00:00</td>\n",
       "    </tr>\n",
       "  </tbody>\n",
       "</table>"
      ],
      "text/plain": [
       "<IPython.core.display.HTML object>"
      ]
     },
     "metadata": {},
     "output_type": "display_data"
    }
   ],
   "source": [
    "learn.fit_one_cycle(10)"
   ]
  },
  {
   "cell_type": "code",
   "execution_count": 177,
   "metadata": {},
   "outputs": [
    {
     "data": {
      "image/png": "[encoded data removed]",
      "text/plain": [
       "<Figure size 864x288 with 2 Axes>"
      ]
     },
     "metadata": {
      "needs_background": "light"
     },
     "output_type": "display_data"
    }
   ],
   "source": [
    "learn.recorder.plot_lr(show_moms=True)"
   ]
  },
  {
   "cell_type": "markdown",
   "metadata": {},
   "source": [
    "# Saving model"
   ]
  },
  {
   "cell_type": "code",
   "execution_count": 310,
   "metadata": {},
   "outputs": [],
   "source": [
    "torch.save(net.state_dict(), 'save/29_07')"
   ]
  },
  {
   "cell_type": "markdown",
   "metadata": {},
   "source": [
    "# Loading model"
   ]
  },
  {
   "cell_type": "code",
   "execution_count": 5,
   "metadata": {},
   "outputs": [
    {
     "data": {
      "text/plain": [
       "Net(\n",
       "  (fc1): Linear(in_features=2, out_features=3, bias=True)\n",
       "  (fc3): Linear(in_features=3, out_features=1, bias=True)\n",
       ")"
      ]
     },
     "execution_count": 5,
     "metadata": {},
     "output_type": "execute_result"
    }
   ],
   "source": [
    "net = Net()\n",
    "net.load_state_dict(torch.load('save/28_07'))\n",
    "net.eval()"
   ]
  },
  {
   "cell_type": "markdown",
   "metadata": {},
   "source": [
    "# Result"
   ]
  },
  {
   "cell_type": "markdown",
   "metadata": {},
   "source": [
    "## manual training"
   ]
  },
  {
   "cell_type": "code",
   "execution_count": 6,
   "metadata": {},
   "outputs": [
    {
     "name": "stdout",
     "output_type": "stream",
     "text": [
      "tensor([0.1106], grad_fn=<SigmoidBackward>)\n"
     ]
    },
    {
     "name": "stderr",
     "output_type": "stream",
     "text": [
      "/home/werner/.local/lib/python3.6/site-packages/torch/nn/functional.py:1386: UserWarning: nn.functional.sigmoid is deprecated. Use torch.sigmoid instead.\n",
      "  warnings.warn(\"nn.functional.sigmoid is deprecated. Use torch.sigmoid instead.\")\n"
     ]
    }
   ],
   "source": [
    "print(net(torch.Tensor([1, 0]))) #ratio, count"
   ]
  },
  {
   "cell_type": "code",
   "execution_count": 18,
   "metadata": {},
   "outputs": [
    {
     "name": "stdout",
     "output_type": "stream",
     "text": [
      "tensor([2.5699e-08, 2.7336e-08, 2.9076e-08, 3.0924e-08, 3.3303e-08, 3.6536e-08,\n",
      "        4.0072e-08, 4.3937e-08, 4.8161e-08, 5.2774e-08, 5.7807e-08, 6.3295e-08,\n",
      "        6.9275e-08, 7.5783e-08, 8.2861e-08, 9.0549e-08, 9.8890e-08, 1.0793e-07,\n",
      "        1.1771e-07, 1.2828e-07], grad_fn=<CopySlices>)\n"
     ]
    }
   ],
   "source": [
    "x = torch.Tensor(20,2)\n",
    "y = torch.Tensor(20)\n",
    "\n",
    "for i in range (20):\n",
    "    x[i] = torch.Tensor([(i/20), 0])\n",
    "    y[i] = net(x[i])/total\n",
    "    \n",
    "print(y)"
   ]
  },
  {
   "cell_type": "code",
   "execution_count": 19,
   "metadata": {},
   "outputs": [
    {
     "data": {
      "image/png": "[encoded data removed]",
      "text/plain": [
       "<Figure size 432x288 with 1 Axes>"
      ]
     },
     "metadata": {
      "needs_background": "light"
     },
     "output_type": "display_data"
    }
   ],
   "source": [
    "plt.plot(y)\n",
    "plt.title(\"ngrams prob as count is increased\")\n",
    "plt.show()"
   ]
  },
  {
   "cell_type": "markdown",
   "metadata": {},
   "source": [
    "given total of 1000 ngrams and occurence for this ngram to be 10"
   ]
  },
  {
   "cell_type": "code",
   "execution_count": 40,
   "metadata": {},
   "outputs": [],
   "source": [
    "x = torch.Tensor(20,2)\n",
    "y = torch.Tensor(20)\n",
    "\n",
    "for i in range (20):\n",
    "    x[i] = torch.Tensor([0,(i/20)])\n",
    "    y[i] = net(x[i])"
   ]
  },
  {
   "cell_type": "code",
   "execution_count": 41,
   "metadata": {},
   "outputs": [
    {
     "data": {
      "image/png": "[encoded data removed]",
      "text/plain": [
       "<Figure size 432x288 with 1 Axes>"
      ]
     },
     "metadata": {
      "needs_background": "light"
     },
     "output_type": "display_data"
    }
   ],
   "source": [
    "plt.plot(y)\n",
    "plt.title(\"ngrams prob as occurence is increased\")\n",
    "plt.show()"
   ]
  },
  {
   "cell_type": "markdown",
   "metadata": {},
   "source": [
    "given total of 1000 ngrams and count of ngram be 50"
   ]
  },
  {
   "cell_type": "markdown",
   "metadata": {},
   "source": [
    "# Good Turing NLTK library\n"
   ]
  },
  {
   "cell_type": "code",
   "execution_count": 45,
   "metadata": {},
   "outputs": [],
   "source": [
    "from nltk.probability import SimpleGoodTuringProbDist as GT\n",
    "gtfd = GT(fd)"
   ]
  },
  {
   "cell_type": "code",
   "execution_count": 46,
   "metadata": {},
   "outputs": [
    {
     "name": "stdout",
     "output_type": "stream",
     "text": [
      "0\n",
      "329932\n",
      "48880\n",
      "16864\n",
      "8304\n",
      "791591\n"
     ]
    }
   ],
   "source": [
    "#counts for x freq\n",
    "print(fd.r_Nr()[0])\n",
    "print(fd.r_Nr()[1])\n",
    "print(fd.r_Nr()[2])\n",
    "print(fd.r_Nr()[3])\n",
    "print(fd.r_Nr()[4])\n",
    "#total\n",
    "print(fd.N())"
   ]
  },
  {
   "cell_type": "code",
   "execution_count": 47,
   "metadata": {},
   "outputs": [
    {
     "name": "stdout",
     "output_type": "stream",
     "text": [
      "0.4167960474537987\n"
     ]
    }
   ],
   "source": [
    "print(fd.r_Nr()[1]/fd.N()) #prob of unseen ngram according to good turing"
   ]
  },
  {
   "cell_type": "code",
   "execution_count": 49,
   "metadata": {
    "scrolled": true
   },
   "outputs": [
    {
     "name": "stdout",
     "output_type": "stream",
     "text": [
      "0.0022423195817031774\n",
      "0.002247129762164356\n"
     ]
    }
   ],
   "source": [
    "print(fd.freq(('of', 'the', 'lord')))\n",
    "print(gtfd.prob(('of', 'the', 'lord')))"
   ]
  },
  {
   "cell_type": "code",
   "execution_count": 84,
   "metadata": {},
   "outputs": [
    {
     "name": "stdout",
     "output_type": "stream",
     "text": [
      "tensor([1.9305e-07], grad_fn=<DivBackward0>)\n"
     ]
    }
   ],
   "source": [
    "print(net(torch.Tensor([1, 0.1]))/fd.N()) #ratio, count"
   ]
  },
  {
   "cell_type": "code",
   "execution_count": 85,
   "metadata": {},
   "outputs": [
    {
     "name": "stdout",
     "output_type": "stream",
     "text": [
      "1.2632786375792549e-06\n",
      "3.7542445852511763e-07\n"
     ]
    }
   ],
   "source": [
    "#print(len(gtfd.samples()))\n",
    "#print(list(gtfd.freqdist())[424144])\n",
    "\n",
    "print(fd.freq(('even', 'so', 'come')))\n",
    "print(gtfd.prob(('even', 'so', 'come')))"
   ]
  },
  {
   "cell_type": "code",
   "execution_count": null,
   "metadata": {},
   "outputs": [],
   "source": []
  },
  {
   "cell_type": "code",
   "execution_count": null,
   "metadata": {},
   "outputs": [],
   "source": []
  }
 ],
 "metadata": {
  "kernelspec": {
   "display_name": "Python 3",
   "language": "python",
   "name": "python3"
  },
  "language_info": {
   "codemirror_mode": {
    "name": "ipython",
    "version": 3
   },
   "file_extension": ".py",
   "mimetype": "text/x-python",
   "name": "python",
   "nbconvert_exporter": "python",
   "pygments_lexer": "ipython3",
   "version": "3.6.8"
  }
 },
 "nbformat": 4,
 "nbformat_minor": 2
}
