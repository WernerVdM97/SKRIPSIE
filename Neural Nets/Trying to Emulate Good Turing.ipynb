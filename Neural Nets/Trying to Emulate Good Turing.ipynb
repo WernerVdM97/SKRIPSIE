{
 "cells": [
  {
   "cell_type": "code",
   "execution_count": 2,
   "metadata": {},
   "outputs": [],
   "source": [
    "import nltk\n",
    "import matplotlib.pyplot as plt\n",
    "import torch.nn.functional as F\n",
    "import numpy as np\n",
    "import torch\n",
    "from fastai import *\n",
    "from fastai.vision import *\n",
    "\n",
    "\n",
    "#processing tokens\n",
    "import unicodedata \n",
    "import re\n",
    "import inflect \n",
    "\n",
    "#tokenize\n",
    "from nltk import word_tokenize, sent_tokenize\n",
    "\n",
    "#find ngrams\n",
    "from nltk.util import ngrams\n",
    "\n",
    "import time"
   ]
  },
  {
   "cell_type": "code",
   "execution_count": 51,
   "metadata": {},
   "outputs": [],
   "source": [
    "file = open(\"../corpus/bible.txt\").read()"
   ]
  },
  {
   "cell_type": "code",
   "execution_count": 52,
   "metadata": {},
   "outputs": [
    {
     "name": "stdout",
     "output_type": "stream",
     "text": [
      "8.037765264511108\n"
     ]
    }
   ],
   "source": [
    "start = time.time()\n",
    "sentences = sent_tokenize(file)\n",
    "tokenised_sentences = []\n",
    "tokens = word_tokenize(file)\n",
    "\n",
    "# now loop over each sentence and tokenize it separately\n",
    "for sentence in sentences:\n",
    "    tokenised_sentences.append(word_tokenize(sentence))\n",
    "\n",
    "end = time.time()\n",
    "print(end-start)"
   ]
  },
  {
   "cell_type": "code",
   "execution_count": 53,
   "metadata": {},
   "outputs": [
    {
     "name": "stdout",
     "output_type": "stream",
     "text": [
      "2.326866865158081\n"
     ]
    }
   ],
   "source": [
    "#normalise tokens manually\n",
    "\n",
    "def remove_non_ascii(words):\n",
    "    \"\"\"Remove non-ASCII characters from list of tokenized words\"\"\"\n",
    "    new_words = []\n",
    "    for word in words:\n",
    "        new_word = unicodedata.normalize('NFKD', word).encode('ascii', 'ignore').decode('utf-8', 'ignore')\n",
    "        new_words.append(new_word)\n",
    "    return new_words\n",
    "\n",
    "def to_lowercase(words):\n",
    "    \"\"\"Convert all characters to lowercase from list of tokenized words\"\"\"\n",
    "    new_words = []\n",
    "    for word in words:\n",
    "        new_word = word.lower()\n",
    "        new_words.append(new_word)\n",
    "    return new_words\n",
    "\n",
    "def remove_punctuation(words):\n",
    "    \"\"\"Remove punctuation from list of tokenized words\"\"\"\n",
    "    new_words = []\n",
    "    for word in words:\n",
    "        new_word = re.sub(r'[^\\w\\s]', '', word)\n",
    "        if new_word != '':\n",
    "            new_words.append(new_word)\n",
    "    return new_words\n",
    "\n",
    "def replace_numbers(words):\n",
    "    \"\"\"Replace all interger occurrences in list of tokenized words with textual representation\"\"\"\n",
    "    p = inflect.engine()\n",
    "    new_words = []\n",
    "    for word in words:\n",
    "        if word.isdigit():\n",
    "            new_word = p.number_to_words(word)\n",
    "            new_words.append(new_word)\n",
    "        else:\n",
    "            new_words.append(word)\n",
    "    return new_words\n",
    "\n",
    "def remove_stopwords(words):\n",
    "    \"\"\"Remove stop words from list of tokenized words\"\"\"\n",
    "    new_words = []\n",
    "    for word in words:\n",
    "        if word not in stopwords.words('english'):\n",
    "            new_words.append(word)\n",
    "    return new_words\n",
    "\n",
    "\n",
    "def normalize(words):\n",
    "    words = remove_non_ascii(words)\n",
    "    words = to_lowercase(words)\n",
    "    words = remove_punctuation(words)\n",
    "    words = replace_numbers(words)\n",
    "    #words = remove_stopwords(words)\n",
    "    return words\n",
    "\n",
    "start = time.time()\n",
    "data_sen = []\n",
    "\n",
    "for x in range(len(tokenised_sentences)):\n",
    "    data_sen.append(normalize(tokenised_sentences[x]))\n",
    "\n",
    "data_tokens = normalize(tokens)\n",
    "    \n",
    "end = time.time()\n",
    "\n",
    "print(end-start)"
   ]
  },
  {
   "cell_type": "code",
   "execution_count": 54,
   "metadata": {},
   "outputs": [
    {
     "name": "stdout",
     "output_type": "stream",
     "text": [
      "[['in', 'the', 'beginning', 'god', 'created', 'the', 'heaven', 'and', 'the', 'earth'], ['and', 'the', 'earth', 'was', 'without', 'form', 'and', 'void', 'and', 'darkness', 'was', 'upon', 'the', 'face', 'of', 'the', 'deep'], ['and', 'the', 'spirit', 'of', 'god', 'moved', 'upon', 'the', 'face', 'of', 'the', 'waters'], ['and', 'god', 'said', 'let', 'there', 'be', 'light', 'and', 'there', 'was', 'light'], ['and', 'god', 'saw', 'the', 'light', 'that', 'it', 'was', 'good', 'and', 'god', 'divided', 'the', 'light', 'from', 'the', 'darkness']]\n",
      "['in', 'the', 'beginning', 'god', 'created', 'the', 'heaven', 'and', 'the', 'earth']\n"
     ]
    }
   ],
   "source": [
    "print(data_sen[:5])\n",
    "print(data_tokens[:10])"
   ]
  },
  {
   "cell_type": "code",
   "execution_count": 55,
   "metadata": {},
   "outputs": [],
   "source": [
    "trigrams = ngrams(data_tokens, 3)\n",
    "tg_list = list(trigrams)"
   ]
  },
  {
   "cell_type": "code",
   "execution_count": 56,
   "metadata": {},
   "outputs": [
    {
     "name": "stdout",
     "output_type": "stream",
     "text": [
      "[]\n"
     ]
    }
   ],
   "source": [
    "print(list(trigrams)[:10])"
   ]
  },
  {
   "cell_type": "code",
   "execution_count": 57,
   "metadata": {},
   "outputs": [
    {
     "name": "stdout",
     "output_type": "stream",
     "text": [
      "('in', 'the', 'beginning')\n"
     ]
    }
   ],
   "source": [
    "print(tg_list[0])"
   ]
  },
  {
   "cell_type": "code",
   "execution_count": 58,
   "metadata": {},
   "outputs": [],
   "source": [
    "fd = nltk.FreqDist(tg_list)"
   ]
  },
  {
   "cell_type": "code",
   "execution_count": 59,
   "metadata": {},
   "outputs": [
    {
     "data": {
      "image/png": "[encoded data removed]",
      "text/plain": [
       "<Figure size 432x288 with 1 Axes>"
      ]
     },
     "metadata": {
      "needs_background": "light"
     },
     "output_type": "display_data"
    },
    {
     "data": {
      "text/plain": [
       "[(('of', 'the', 'lord'), 1775),\n",
       " (('the', 'son', 'of'), 1451),\n",
       " (('the', 'children', 'of'), 1351),\n",
       " (('the', 'house', 'of'), 883),\n",
       " (('saith', 'the', 'lord'), 854),\n",
       " (('the', 'lord', 'and'), 816),\n",
       " (('out', 'of', 'the'), 805),\n",
       " (('and', 'i', 'will'), 672),\n",
       " (('children', 'of', 'israel'), 647),\n",
       " (('the', 'land', 'of'), 615)]"
      ]
     },
     "execution_count": 59,
     "metadata": {},
     "output_type": "execute_result"
    }
   ],
   "source": [
    "fd.plot(10)\n",
    "fd.most_common(10)"
   ]
  },
  {
   "cell_type": "code",
   "execution_count": 75,
   "metadata": {},
   "outputs": [
    {
     "name": "stdout",
     "output_type": "stream",
     "text": [
      "0\n",
      "329932\n",
      "48880\n",
      "16864\n",
      "8304\n",
      "4908\n",
      "3064\n",
      "2110\n",
      "1633\n",
      "1187\n",
      "917\n",
      "786\n",
      "641\n",
      "545\n",
      "441\n",
      "325\n",
      "294\n",
      "237\n",
      "249\n",
      "173\n",
      "791591\n"
     ]
    }
   ],
   "source": [
    "for x in range(20):\n",
    "    print(fd.r_Nr()[x])\n",
    "\n",
    "#total\n",
    "print(fd.N())"
   ]
  },
  {
   "cell_type": "markdown",
   "metadata": {},
   "source": [
    "# WRONG"
   ]
  },
  {
   "cell_type": "code",
   "execution_count": 13,
   "metadata": {},
   "outputs": [
    {
     "name": "stdout",
     "output_type": "stream",
     "text": [
      "('how', 'thor', 'got')\n",
      "[19, 140, 30]\n",
      "how\n",
      "thor\n",
      "got\n",
      "[[0. 0. 0. 0. ... 0. 0. 0. 0.]\n",
      " [0. 0. 0. 0. ... 0. 0. 0. 0.]\n",
      " [0. 0. 0. 0. ... 0. 0. 0. 0.]\n",
      " [0. 0. 0. 0. ... 0. 0. 0. 0.]\n",
      " ...\n",
      " [0. 0. 0. 0. ... 0. 0. 0. 0.]\n",
      " [0. 0. 0. 0. ... 0. 0. 0. 0.]\n",
      " [0. 0. 0. 0. ... 0. 0. 0. 0.]\n",
      " [0. 0. 0. 0. ... 0. 0. 0. 0.]]\n",
      "0.007988452911376953\n"
     ]
    }
   ],
   "source": [
    "from sklearn.preprocessing import OneHotEncoder\n",
    "import itertools\n",
    "\n",
    "start = time.time()\n",
    "\n",
    "#set() - no duplicates\n",
    "#{} - dictionray, maps individual tokens to key\n",
    "word_to_id = {token: idx for idx, token in enumerate(set(data_tokens))}\n",
    "\n",
    "print(tg_list[0])\n",
    "\n",
    "# convert token lists to token-id lists, e.g. [[1, 2], [2, 2]] here\n",
    "data_tokens_ids = [[word_to_id[token] for token in trigram] for trigram in tg_list]\n",
    "\n",
    "print(data_tokens_ids[0])\n",
    "#converting back to words\n",
    "for token_id in data_tokens_ids[0]:\n",
    "    print(list(word_to_id)[token_id])\n",
    "\n",
    "vec = OneHotEncoder(categories='auto')\n",
    "X = vec.fit_transform(data_tokens_ids)\n",
    "tg_OneHot = X.toarray()\n",
    "\n",
    "print (tg_OneHot)\n",
    "end = time.time()\n",
    "print(end-start)"
   ]
  },
  {
   "cell_type": "code",
   "execution_count": 14,
   "metadata": {},
   "outputs": [
    {
     "name": "stdout",
     "output_type": "stream",
     "text": [
      "('how', 'thor', 'got')\n",
      "1.0\n",
      "0.0008410428931875525\n"
     ]
    }
   ],
   "source": [
    "tg_counts = [fd.freq(trigram)*fd.N() for trigram in tg_list]\n",
    "tg_prob = [fd.freq(trigram) for trigram in tg_list]\n",
    "\n",
    "#print(tg_counts)\n",
    "\n",
    "print(tg_list[0])\n",
    "#print(tg_OneHot[0])\n",
    "print(tg_counts[0])\n",
    "print(tg_prob[0])"
   ]
  },
  {
   "cell_type": "markdown",
   "metadata": {},
   "source": [
    "# RATHER"
   ]
  },
  {
   "cell_type": "code",
   "execution_count": 15,
   "metadata": {},
   "outputs": [
    {
     "name": "stdout",
     "output_type": "stream",
     "text": [
      "[[0.000841 0.       0.       0.       ... 0.       0.       0.       0.      ]\n",
      " [0.       0.000841 0.       0.       ... 0.       0.       0.       0.      ]\n",
      " [0.       0.       0.000841 0.       ... 0.       0.       0.       0.      ]\n",
      " [0.       0.       0.       0.000841 ... 0.       0.       0.       0.      ]\n",
      " ...\n",
      " [0.       0.       0.       0.       ... 0.000841 0.       0.       0.      ]\n",
      " [0.       0.       0.       0.       ... 0.       0.000841 0.       0.      ]\n",
      " [0.       0.       0.       0.       ... 0.       0.       0.000841 0.      ]\n",
      " [0.       0.       0.       0.       ... 0.       0.       0.       0.000841]]\n",
      "0.0078012943267822266\n"
     ]
    }
   ],
   "source": [
    "start = time.time()\n",
    "\n",
    "#{} - dictionary, maps individual tokens to key\n",
    "id_to_ngram = {idx: ngram for idx, ngram in enumerate(tg_list)}\n",
    "ngram_to_id = {ngram: idx for idx, ngram in enumerate(tg_list)}\n",
    "\n",
    "no_tg = fd.N()\n",
    "\n",
    "frequencies = [fd.freq(id_to_ngram[x]) for x in range(no_tg)]\n",
    "ngram_freq = np.identity(no_tg)*frequencies\n",
    "\n",
    "print(ngram_freq)\n",
    "\n",
    "end = time.time()\n",
    "print(end-start)"
   ]
  },
  {
   "cell_type": "markdown",
   "metadata": {},
   "source": [
    "# Neural Net\n",
    "\n"
   ]
  },
  {
   "cell_type": "code",
   "execution_count": 65,
   "metadata": {},
   "outputs": [],
   "source": [
    "import torch.nn as nn\n",
    "from torch import optim\n",
    "from sklearn import preprocessing\n",
    "# inputs - total ngrams - different ngram count - ngram occurence"
   ]
  },
  {
   "cell_type": "code",
   "execution_count": 301,
   "metadata": {},
   "outputs": [],
   "source": [
    "class Net(nn.Module):\n",
    "    def __init__(self):\n",
    "        super(Net, self).__init__()\n",
    "        self.fc1 = nn.Linear(2, 2)\n",
    "        self.fc2 = nn.Linear(2, 2)\n",
    "        self.fc3 = nn.Linear(2, 1)\n",
    "\n",
    "        \n",
    "    def forward(self, x):\n",
    "        x = F.relu(self.fc1(x))\n",
    "        x = F.sigmoid(self.fc2(x))\n",
    "        x = F.sigmoid(self.fc3(x)) \n",
    "        return x"
   ]
  },
  {
   "cell_type": "markdown",
   "metadata": {},
   "source": [
    "# Creating Fast Ai Dataset"
   ]
  },
  {
   "cell_type": "code",
   "execution_count": 302,
   "metadata": {},
   "outputs": [],
   "source": [
    "# old : total ngrams - different ngram count - ngram occurence\n",
    "# new : Cr - # of ngrams that appear r times ; Cr+1 ; r - times ngram occurs\n",
    "# target : count/total\n",
    "\n",
    "class ArrayDataset(Dataset):\n",
    "    \"Sample numpy array dataset\"\n",
    "    def __init__(self, x, total): #[1 , 3] dimension\n",
    "        self.x = x\n",
    "        self.y = torch.zeros(len(x),dtype = torch.float)\n",
    "        for i in range(len(x)):\n",
    "            self.y[i] = (x[i][0]/total)\n",
    "\n",
    "            \n",
    "        self.c = 1 # binary label\n",
    "    \n",
    "    def __len__(self):\n",
    "        return len(self.x)\n",
    "    \n",
    "    def __getitem__(self, i):\n",
    "        return self.x[i], self.y[i]\n"
   ]
  },
  {
   "cell_type": "markdown",
   "metadata": {},
   "source": [
    "# data"
   ]
  },
  {
   "cell_type": "code",
   "execution_count": 303,
   "metadata": {},
   "outputs": [
    {
     "name": "stdout",
     "output_type": "stream",
     "text": [
      "tensor(1.2633e-06)\n",
      "tensor(2.5266e-06)\n",
      "tensor(3.7898e-06)\n",
      "tensor(5.0531e-06)\n",
      "tensor(6.3164e-06)\n",
      "tensor(7.5797e-06)\n",
      "tensor(8.8430e-06)\n",
      "tensor(1.0106e-05)\n",
      "tensor(1.1370e-05)\n",
      "tensor(1.2633e-05)\n",
      "tensor([[ 1.0000,  0.1482],\n",
      "        [ 2.0000,  0.3450],\n",
      "        [ 3.0000,  0.4924],\n",
      "        [ 4.0000,  0.5910],\n",
      "        [ 5.0000,  0.6243],\n",
      "        [ 6.0000,  0.6886],\n",
      "        [ 7.0000,  0.7739],\n",
      "        [ 8.0000,  0.7269],\n",
      "        [ 9.0000,  0.7725],\n",
      "        [10.0000,  0.8571]])\n"
     ]
    }
   ],
   "source": [
    "inputs = torch.zeros(10,2, dtype = torch.float)\n",
    "total = fd.N()\n",
    "\n",
    "for x in range(10): #x starts at zero\n",
    "    \n",
    "    r = x+1               #count\n",
    "    Cr = fd.r_Nr()[x+1]   #number of ngrams appearing r times\n",
    "    Cr2 = fd.r_Nr()[x+2]  #number of ngrams appearing r + 1 times\n",
    "    C = Cr2/Cr\n",
    "    \n",
    "    inputs[x][0] = r\n",
    "    inputs[x][1] = C\n",
    "    \n",
    "    print(inputs[x][0]/total)\n",
    "\n",
    "print(inputs)"
   ]
  },
  {
   "cell_type": "markdown",
   "metadata": {},
   "source": [
    "# Normalize/Whiten"
   ]
  },
  {
   "cell_type": "code",
   "execution_count": 256,
   "metadata": {},
   "outputs": [
    {
     "name": "stdout",
     "output_type": "stream",
     "text": [
      "tensor([[0.9892, 0.1466],\n",
      "        [0.9854, 0.1700],\n",
      "        [0.9868, 0.1620],\n",
      "        [0.9893, 0.1462],\n",
      "        [0.9923, 0.1239],\n",
      "        [0.9935, 0.1140],\n",
      "        [0.9939, 0.1099],\n",
      "        [0.9959, 0.0905],\n",
      "        [0.9963, 0.0855],\n",
      "        [0.9963, 0.0854]], dtype=torch.float64)\n"
     ]
    }
   ],
   "source": [
    "inputs = preprocessing.normalize(inputs)\n",
    "inputs = torch.from_numpy(inputs)\n",
    "print(inputs)"
   ]
  },
  {
   "cell_type": "code",
   "execution_count": 304,
   "metadata": {},
   "outputs": [
    {
     "name": "stdout",
     "output_type": "stream",
     "text": [
      "tensor([[ 1.0000,  0.1482],\n",
      "        [ 2.0000,  0.3450],\n",
      "        [ 3.0000,  0.4924],\n",
      "        [ 4.0000,  0.5910],\n",
      "        [ 5.0000,  0.6243],\n",
      "        [ 6.0000,  0.6886],\n",
      "        [ 7.0000,  0.7739],\n",
      "        [ 8.0000,  0.7269],\n",
      "        [ 9.0000,  0.7725],\n",
      "        [10.0000,  0.8571]])\n",
      "tensor([[0.8744, 0.1235],\n",
      "        [1.7488, 0.2876],\n",
      "        [2.6232, 0.4104],\n",
      "        [3.4976, 0.4926],\n",
      "        [4.3719, 0.5203],\n",
      "        [5.2463, 0.5740],\n",
      "        [6.1207, 0.6451],\n",
      "        [6.9951, 0.6059],\n",
      "        [7.8695, 0.6439],\n",
      "        [8.7439, 0.7144]])\n"
     ]
    }
   ],
   "source": [
    "train = inputs\n",
    "rand = torch.ones(2, dtype = torch.float).uniform_(0.7,1)\n",
    "valid = (inputs*rand)\n",
    "train = train.float()\n",
    "\n",
    "print(train)\n",
    "print(valid)"
   ]
  },
  {
   "cell_type": "code",
   "execution_count": 307,
   "metadata": {},
   "outputs": [
    {
     "name": "stdout",
     "output_type": "stream",
     "text": [
      "(tensor([[9.0000, 0.7725],\n",
      "        [3.0000, 0.4924]]), tensor([1.1370e-05, 3.7898e-06]))\n",
      "791591\n"
     ]
    }
   ],
   "source": [
    "train_ds, valid_ds = ArrayDataset(train,total), ArrayDataset(valid,total)\n",
    "data = DataBunch.create(train_ds, valid_ds, bs=2)\n",
    "print(data.one_batch())\n",
    "print(total)"
   ]
  },
  {
   "cell_type": "code",
   "execution_count": 308,
   "metadata": {},
   "outputs": [
    {
     "name": "stdout",
     "output_type": "stream",
     "text": [
      "tensor([1.2633e-06, 2.5266e-06, 3.7898e-06, 5.0531e-06, 6.3164e-06, 7.5797e-06,\n",
      "        8.8430e-06, 1.0106e-05, 1.1370e-05, 1.2633e-05])\n"
     ]
    }
   ],
   "source": [
    "target = torch.zeros(len(train))\n",
    "\n",
    "for i in range(len(train)):\n",
    "    target[i] = (train[i][0]/total)\n",
    "\n",
    "print(target)    "
   ]
  },
  {
   "cell_type": "markdown",
   "metadata": {},
   "source": [
    "# Manual Training"
   ]
  },
  {
   "cell_type": "code",
   "execution_count": 311,
   "metadata": {},
   "outputs": [],
   "source": [
    "net = Net()\n",
    "optimizer = optim.SGD(net.parameters(), lr=0.03, momentum=0.1)\n",
    "#criterion = torch.nn.SmoothL1Loss()\n",
    "criterion = torch.nn.L1Loss()"
   ]
  },
  {
   "cell_type": "code",
   "execution_count": 312,
   "metadata": {},
   "outputs": [
    {
     "name": "stdout",
     "output_type": "stream",
     "text": [
      "Train Epoch: 1 \tLoss: 0.377381\n",
      "Train Epoch: 1001 \tLoss: 0.001661\n",
      "Train Epoch: 2001 \tLoss: 0.000758\n",
      "Train Epoch: 3001 \tLoss: 0.000479\n",
      "Train Epoch: 4001 \tLoss: 0.000345\n",
      "Train Epoch: 5001 \tLoss: 0.000267\n",
      "Train Epoch: 6001 \tLoss: 0.000217\n",
      "Train Epoch: 7001 \tLoss: 0.000181\n",
      "Train Epoch: 8001 \tLoss: 0.000155\n",
      "Train Epoch: 9001 \tLoss: 0.000135\n",
      "44.07498860359192\n"
     ]
    }
   ],
   "source": [
    "start = time.time()\n",
    "\n",
    "for epoch in range(1, 10000): ## run the model for 10 epochs\n",
    "\n",
    "    for x in range(len(train)): #x starts at zero\n",
    "           \n",
    "        #print(inputs)\n",
    "        #print(inputs.dtype)\n",
    "\n",
    "        optimizer.zero_grad()\n",
    "        \n",
    "        ## 1. forward propagation\n",
    "        net_out = net(train[x])\n",
    "        #print(train[x])\n",
    "        \n",
    "        ## 2. loss calculation\n",
    "        loss = criterion(net_out, target[x])\n",
    "        #print(target[x])\n",
    "        \n",
    "        ## 3. backward propagation\n",
    "        loss.backward()\n",
    "        \n",
    "        ## 4. weight optimization\n",
    "        optimizer.step()\n",
    "        \n",
    "    if(epoch % 1000 == 1):\n",
    "        print('Train Epoch: {} \\tLoss: {:.6f}'.format(\n",
    "            epoch, \n",
    "            loss.data))\n",
    "\n",
    "end = time.time()\n",
    "print(end-start)"
   ]
  },
  {
   "cell_type": "markdown",
   "metadata": {},
   "source": [
    "# Build Learner\n",
    "\n",
    "fast.ai Learner() expects an object with a list of models. We create a shell object to return this type.\n",
    "\n"
   ]
  },
  {
   "cell_type": "code",
   "execution_count": 313,
   "metadata": {},
   "outputs": [],
   "source": [
    "criterion = torch.nn.SmoothL1Loss()\n",
    "\n",
    "net2 = Net().cuda()"
   ]
  },
  {
   "cell_type": "code",
   "execution_count": 314,
   "metadata": {},
   "outputs": [],
   "source": [
    "learn = Learner(data, net2, opt_func = torch.optim.SGD, loss_func = criterion)"
   ]
  },
  {
   "cell_type": "code",
   "execution_count": 315,
   "metadata": {},
   "outputs": [
    {
     "data": {
      "text/html": [],
      "text/plain": [
       "<IPython.core.display.HTML object>"
      ]
     },
     "metadata": {},
     "output_type": "display_data"
    },
    {
     "name": "stdout",
     "output_type": "stream",
     "text": [
      "LR Finder is complete, type {learner_name}.recorder.plot() to see the graph.\n"
     ]
    }
   ],
   "source": [
    "learn.lr_find()"
   ]
  },
  {
   "cell_type": "code",
   "execution_count": 316,
   "metadata": {},
   "outputs": [
    {
     "data": {
      "image/png": "[encoded data removed]",
      "text/plain": [
       "<Figure size 432x288 with 1 Axes>"
      ]
     },
     "metadata": {
      "needs_background": "light"
     },
     "output_type": "display_data"
    }
   ],
   "source": [
    "learn.recorder.plot()"
   ]
  },
  {
   "cell_type": "code",
   "execution_count": 29,
   "metadata": {},
   "outputs": [
    {
     "data": {
      "text/html": [
       "<table border=\"1\" class=\"dataframe\">\n",
       "  <thead>\n",
       "    <tr style=\"text-align: left;\">\n",
       "      <th>epoch</th>\n",
       "      <th>train_loss</th>\n",
       "      <th>valid_loss</th>\n",
       "      <th>time</th>\n",
       "    </tr>\n",
       "  </thead>\n",
       "  <tbody>\n",
       "    <tr>\n",
       "      <td>0</td>\n",
       "      <td>0.105700</td>\n",
       "      <td>0.112277</td>\n",
       "      <td>00:00</td>\n",
       "    </tr>\n",
       "    <tr>\n",
       "      <td>1</td>\n",
       "      <td>0.105817</td>\n",
       "      <td>0.112205</td>\n",
       "      <td>00:00</td>\n",
       "    </tr>\n",
       "    <tr>\n",
       "      <td>2</td>\n",
       "      <td>0.105877</td>\n",
       "      <td>0.112031</td>\n",
       "      <td>00:00</td>\n",
       "    </tr>\n",
       "    <tr>\n",
       "      <td>3</td>\n",
       "      <td>0.105753</td>\n",
       "      <td>0.111756</td>\n",
       "      <td>00:00</td>\n",
       "    </tr>\n",
       "    <tr>\n",
       "      <td>4</td>\n",
       "      <td>0.105701</td>\n",
       "      <td>0.111514</td>\n",
       "      <td>00:00</td>\n",
       "    </tr>\n",
       "    <tr>\n",
       "      <td>5</td>\n",
       "      <td>0.105600</td>\n",
       "      <td>0.111264</td>\n",
       "      <td>00:00</td>\n",
       "    </tr>\n",
       "    <tr>\n",
       "      <td>6</td>\n",
       "      <td>0.105438</td>\n",
       "      <td>0.111066</td>\n",
       "      <td>00:00</td>\n",
       "    </tr>\n",
       "    <tr>\n",
       "      <td>7</td>\n",
       "      <td>0.105320</td>\n",
       "      <td>0.110934</td>\n",
       "      <td>00:00</td>\n",
       "    </tr>\n",
       "    <tr>\n",
       "      <td>8</td>\n",
       "      <td>0.105230</td>\n",
       "      <td>0.110877</td>\n",
       "      <td>00:00</td>\n",
       "    </tr>\n",
       "    <tr>\n",
       "      <td>9</td>\n",
       "      <td>0.105141</td>\n",
       "      <td>0.110861</td>\n",
       "      <td>00:00</td>\n",
       "    </tr>\n",
       "  </tbody>\n",
       "</table>"
      ],
      "text/plain": [
       "<IPython.core.display.HTML object>"
      ]
     },
     "metadata": {},
     "output_type": "display_data"
    }
   ],
   "source": [
    "learn.fit_one_cycle(10)"
   ]
  },
  {
   "cell_type": "code",
   "execution_count": 30,
   "metadata": {},
   "outputs": [
    {
     "data": {
      "image/png": "[encoded data removed]",
      "text/plain": [
       "<Figure size 864x288 with 2 Axes>"
      ]
     },
     "metadata": {
      "needs_background": "light"
     },
     "output_type": "display_data"
    }
   ],
   "source": [
    "learn.recorder.plot_lr(show_moms=True)"
   ]
  },
  {
   "cell_type": "markdown",
   "metadata": {},
   "source": [
    "# Saving model"
   ]
  },
  {
   "cell_type": "code",
   "execution_count": 181,
   "metadata": {},
   "outputs": [],
   "source": [
    "torch.save(net.state_dict(), 'save/temp_net')"
   ]
  },
  {
   "cell_type": "markdown",
   "metadata": {},
   "source": [
    "# Loading model"
   ]
  },
  {
   "cell_type": "code",
   "execution_count": 39,
   "metadata": {},
   "outputs": [
    {
     "data": {
      "text/plain": [
       "Net(\n",
       "  (fc1): Linear(in_features=3, out_features=3, bias=True)\n",
       "  (fc2): Linear(in_features=3, out_features=1, bias=True)\n",
       ")"
      ]
     },
     "execution_count": 39,
     "metadata": {},
     "output_type": "execute_result"
    }
   ],
   "source": [
    "model = Net()\n",
    "model.load_state_dict(torch.load('save/net'))\n",
    "model.eval()"
   ]
  },
  {
   "cell_type": "markdown",
   "metadata": {},
   "source": [
    "# Result"
   ]
  },
  {
   "cell_type": "markdown",
   "metadata": {},
   "source": [
    "## manual training"
   ]
  },
  {
   "cell_type": "code",
   "execution_count": 322,
   "metadata": {},
   "outputs": [
    {
     "name": "stdout",
     "output_type": "stream",
     "text": [
      "tensor([0.0001], grad_fn=<SigmoidBackward>)\n"
     ]
    }
   ],
   "source": [
    "print(net(torch.Tensor([1, 0.006])))"
   ]
  },
  {
   "cell_type": "code",
   "execution_count": 194,
   "metadata": {},
   "outputs": [],
   "source": [
    "x = torch.Tensor(500,3)\n",
    "y = torch.Tensor(500)\n",
    "\n",
    "for i in range (500):\n",
    "    x[i] = torch.Tensor([1, i/1000, 0.01])\n",
    "    y[i] = net(x[i])"
   ]
  },
  {
   "cell_type": "code",
   "execution_count": 195,
   "metadata": {},
   "outputs": [
    {
     "data": {
      "image/png": "[encoded data removed]",
      "text/plain": [
       "<Figure size 432x288 with 1 Axes>"
      ]
     },
     "metadata": {
      "needs_background": "light"
     },
     "output_type": "display_data"
    }
   ],
   "source": [
    "plt.plot(y)\n",
    "plt.title(\"ngrams prob as count is increased\")\n",
    "plt.show()"
   ]
  },
  {
   "cell_type": "markdown",
   "metadata": {},
   "source": [
    "given total of 1000 ngrams and occurence for this ngram to be 10"
   ]
  },
  {
   "cell_type": "code",
   "execution_count": 192,
   "metadata": {},
   "outputs": [],
   "source": [
    "x = torch.Tensor(10,3)\n",
    "y = torch.Tensor(10)\n",
    "\n",
    "for i in range (10):\n",
    "    x[i] = torch.Tensor([1, 0.05, i/1000])\n",
    "    y[i] = net(x[i])"
   ]
  },
  {
   "cell_type": "code",
   "execution_count": 193,
   "metadata": {},
   "outputs": [
    {
     "data": {
      "image/png": "[encoded data removed]",
      "text/plain": [
       "<Figure size 432x288 with 1 Axes>"
      ]
     },
     "metadata": {
      "needs_background": "light"
     },
     "output_type": "display_data"
    }
   ],
   "source": [
    "plt.plot(y)\n",
    "plt.title(\"ngrams prob as occurence is increased\")\n",
    "plt.show()"
   ]
  },
  {
   "cell_type": "markdown",
   "metadata": {},
   "source": [
    "given total of 1000 ngrams and count of ngram be 50"
   ]
  },
  {
   "cell_type": "markdown",
   "metadata": {},
   "source": [
    "# Good Turing NLTK library\n"
   ]
  },
  {
   "cell_type": "code",
   "execution_count": 158,
   "metadata": {},
   "outputs": [],
   "source": [
    "from nltk.probability import SimpleGoodTuringProbDist as GT\n",
    "gtfd = GT(fd)"
   ]
  },
  {
   "cell_type": "code",
   "execution_count": 159,
   "metadata": {},
   "outputs": [
    {
     "name": "stdout",
     "output_type": "stream",
     "text": [
      "0\n",
      "329932\n",
      "48880\n",
      "16864\n",
      "8304\n",
      "791591\n"
     ]
    }
   ],
   "source": [
    "#counts for x freq\n",
    "print(fd.r_Nr()[0])\n",
    "print(fd.r_Nr()[1])\n",
    "print(fd.r_Nr()[2])\n",
    "print(fd.r_Nr()[3])\n",
    "print(fd.r_Nr()[4])\n",
    "#total\n",
    "print(fd.N())"
   ]
  },
  {
   "cell_type": "code",
   "execution_count": 160,
   "metadata": {},
   "outputs": [
    {
     "name": "stdout",
     "output_type": "stream",
     "text": [
      "0.4167960474537987\n"
     ]
    }
   ],
   "source": [
    "print(fd.r_Nr()[1]/fd.N()) #prob of unseen ngram according to good turing"
   ]
  },
  {
   "cell_type": "code",
   "execution_count": 161,
   "metadata": {},
   "outputs": [
    {
     "data": {
      "text/plain": [
       "('of', 'the', 'lord')"
      ]
     },
     "execution_count": 161,
     "metadata": {},
     "output_type": "execute_result"
    }
   ],
   "source": [
    "gtfd.max()"
   ]
  },
  {
   "cell_type": "code",
   "execution_count": 162,
   "metadata": {},
   "outputs": [
    {
     "name": "stdout",
     "output_type": "stream",
     "text": [
      "0.0022423195817031774\n",
      "0.002247129762164356\n"
     ]
    }
   ],
   "source": [
    "print(fd.freq(('of', 'the', 'lord')))\n",
    "print(gtfd.prob(('of', 'the', 'lord')))"
   ]
  },
  {
   "cell_type": "code",
   "execution_count": 50,
   "metadata": {},
   "outputs": [
    {
     "name": "stdout",
     "output_type": "stream",
     "text": [
      "tensor([0.1434], grad_fn=<SigmoidBackward>)\n"
     ]
    }
   ],
   "source": [
    "print(model(torch.Tensor([1, 0.059, 0.003])))"
   ]
  },
  {
   "cell_type": "code",
   "execution_count": null,
   "metadata": {},
   "outputs": [],
   "source": []
  }
 ],
 "metadata": {
  "kernelspec": {
   "display_name": "Python 3",
   "language": "python",
   "name": "python3"
  },
  "language_info": {
   "codemirror_mode": {
    "name": "ipython",
    "version": 3
   },
   "file_extension": ".py",
   "mimetype": "text/x-python",
   "name": "python",
   "nbconvert_exporter": "python",
   "pygments_lexer": "ipython3",
   "version": "3.6.8"
  }
 },
 "nbformat": 4,
 "nbformat_minor": 2
}
