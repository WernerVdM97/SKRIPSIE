{
 "cells": [
  {
   "cell_type": "code",
   "execution_count": 1,
   "metadata": {},
   "outputs": [],
   "source": [
    "import nltk\n",
    "import matplotlib.pyplot as plt\n",
    "import torch.nn.functional as F\n",
    "import numpy as np\n",
    "import torch\n",
    "from fastai import *\n",
    "from fastai.vision import *\n",
    "\n",
    "\n",
    "#processing tokens\n",
    "import unicodedata \n",
    "import re\n",
    "import inflect \n",
    "\n",
    "#tokenize\n",
    "from nltk import word_tokenize, sent_tokenize\n",
    "\n",
    "#find ngrams\n",
    "from nltk.util import ngrams\n",
    "\n",
    "import time"
   ]
  },
  {
   "cell_type": "code",
   "execution_count": 2,
   "metadata": {},
   "outputs": [],
   "source": [
    "file = open(\"data.txt\").read()"
   ]
  },
  {
   "cell_type": "code",
   "execution_count": 3,
   "metadata": {},
   "outputs": [
    {
     "name": "stdout",
     "output_type": "stream",
     "text": [
      "0.028067350387573242\n"
     ]
    }
   ],
   "source": [
    "start = time.time()\n",
    "sentences = sent_tokenize(file)\n",
    "tokenised_sentences = []\n",
    "tokens = word_tokenize(file)\n",
    "\n",
    "# now loop over each sentence and tokenize it separately\n",
    "for sentence in sentences:\n",
    "    tokenised_sentences.append(word_tokenize(sentence))\n",
    "\n",
    "end = time.time()\n",
    "print(end-start)"
   ]
  },
  {
   "cell_type": "code",
   "execution_count": 4,
   "metadata": {},
   "outputs": [
    {
     "name": "stdout",
     "output_type": "stream",
     "text": [
      "0.0039577484130859375\n"
     ]
    }
   ],
   "source": [
    "#normalise tokens manually\n",
    "\n",
    "def remove_non_ascii(words):\n",
    "    \"\"\"Remove non-ASCII characters from list of tokenized words\"\"\"\n",
    "    new_words = []\n",
    "    for word in words:\n",
    "        new_word = unicodedata.normalize('NFKD', word).encode('ascii', 'ignore').decode('utf-8', 'ignore')\n",
    "        new_words.append(new_word)\n",
    "    return new_words\n",
    "\n",
    "def to_lowercase(words):\n",
    "    \"\"\"Convert all characters to lowercase from list of tokenized words\"\"\"\n",
    "    new_words = []\n",
    "    for word in words:\n",
    "        new_word = word.lower()\n",
    "        new_words.append(new_word)\n",
    "    return new_words\n",
    "\n",
    "def remove_punctuation(words):\n",
    "    \"\"\"Remove punctuation from list of tokenized words\"\"\"\n",
    "    new_words = []\n",
    "    for word in words:\n",
    "        new_word = re.sub(r'[^\\w\\s]', '', word)\n",
    "        if new_word != '':\n",
    "            new_words.append(new_word)\n",
    "    return new_words\n",
    "\n",
    "def replace_numbers(words):\n",
    "    \"\"\"Replace all interger occurrences in list of tokenized words with textual representation\"\"\"\n",
    "    p = inflect.engine()\n",
    "    new_words = []\n",
    "    for word in words:\n",
    "        if word.isdigit():\n",
    "            new_word = p.number_to_words(word)\n",
    "            new_words.append(new_word)\n",
    "        else:\n",
    "            new_words.append(word)\n",
    "    return new_words\n",
    "\n",
    "def remove_stopwords(words):\n",
    "    \"\"\"Remove stop words from list of tokenized words\"\"\"\n",
    "    new_words = []\n",
    "    for word in words:\n",
    "        if word not in stopwords.words('english'):\n",
    "            new_words.append(word)\n",
    "    return new_words\n",
    "\n",
    "\n",
    "def normalize(words):\n",
    "    words = remove_non_ascii(words)\n",
    "    words = to_lowercase(words)\n",
    "    words = remove_punctuation(words)\n",
    "    words = replace_numbers(words)\n",
    "    #words = remove_stopwords(words)\n",
    "    return words\n",
    "\n",
    "start = time.time()\n",
    "data_sen = []\n",
    "\n",
    "for x in range(len(tokenised_sentences)):\n",
    "    data_sen.append(normalize(tokenised_sentences[x]))\n",
    "\n",
    "data_tokens = normalize(tokens)\n",
    "    \n",
    "end = time.time()\n",
    "\n",
    "print(end-start)"
   ]
  },
  {
   "cell_type": "code",
   "execution_count": 5,
   "metadata": {},
   "outputs": [
    {
     "name": "stdout",
     "output_type": "stream",
     "text": [
      "[['how', 'thor', 'got', 'the', 'hammer'], ['sif', 'was', 'thor', 's', 'wife'], ['sif', 'had', 'long', 'golden', 'hair'], ['thor', 'was', 'very', 'proud', 'of', 'sif', 's', 'golden', 'hair'], ['thor', 'was', 'always', 'going', 'on', 'long', 'journeys']]\n",
      "['how', 'thor', 'got', 'the', 'hammer', 'sif', 'was', 'thor', 's', 'wife']\n"
     ]
    }
   ],
   "source": [
    "print(data_sen[:5])\n",
    "print(data_tokens[:10])"
   ]
  },
  {
   "cell_type": "code",
   "execution_count": 6,
   "metadata": {},
   "outputs": [],
   "source": [
    "trigrams = ngrams(data_tokens, 3)\n",
    "tg_list = list(trigrams)"
   ]
  },
  {
   "cell_type": "code",
   "execution_count": 7,
   "metadata": {},
   "outputs": [
    {
     "name": "stdout",
     "output_type": "stream",
     "text": [
      "[]\n"
     ]
    }
   ],
   "source": [
    "print(list(trigrams)[:10])"
   ]
  },
  {
   "cell_type": "code",
   "execution_count": 8,
   "metadata": {},
   "outputs": [
    {
     "name": "stdout",
     "output_type": "stream",
     "text": [
      "('how', 'thor', 'got')\n"
     ]
    }
   ],
   "source": [
    "print(tg_list[0])"
   ]
  },
  {
   "cell_type": "code",
   "execution_count": 9,
   "metadata": {},
   "outputs": [],
   "source": [
    "fd = nltk.FreqDist(tg_list)"
   ]
  },
  {
   "cell_type": "code",
   "execution_count": 10,
   "metadata": {},
   "outputs": [
    {
     "data": {
      "image/png": "[encoded data removed]",
      "text/plain": [
       "<Figure size 432x288 with 1 Axes>"
      ]
     },
     "metadata": {
      "needs_background": "light"
     },
     "output_type": "display_data"
    },
    {
     "data": {
      "text/plain": [
       "[(('the', 'fire', 'he'), 4),\n",
       " (('grow', 'like', 'real'), 3),\n",
       " (('like', 'real', 'hair'), 3),\n",
       " (('he', 'said', 'to'), 3),\n",
       " (('into', 'the', 'fire'), 3),\n",
       " (('he', 'gave', 'the'), 3),\n",
       " (('as', 'hard', 'as'), 3),\n",
       " (('sindre', 'went', 'out'), 3),\n",
       " (('and', 'bit', 'him'), 3),\n",
       " (('so', 'hard', 'that'), 3)]"
      ]
     },
     "execution_count": 10,
     "metadata": {},
     "output_type": "execute_result"
    }
   ],
   "source": [
    "fd.plot(10)\n",
    "fd.most_common(10)"
   ]
  },
  {
   "cell_type": "code",
   "execution_count": 11,
   "metadata": {},
   "outputs": [
    {
     "name": "stdout",
     "output_type": "stream",
     "text": [
      "0\n",
      "1025\n",
      "59\n",
      "14\n",
      "1\n",
      "1189\n"
     ]
    }
   ],
   "source": [
    "print(fd.r_Nr()[0])\n",
    "print(fd.r_Nr()[1])\n",
    "print(fd.r_Nr()[2])\n",
    "print(fd.r_Nr()[3])\n",
    "print(fd.r_Nr()[4])\n",
    "#total\n",
    "print(fd.N())"
   ]
  },
  {
   "cell_type": "markdown",
   "metadata": {},
   "source": [
    "# WRONG"
   ]
  },
  {
   "cell_type": "code",
   "execution_count": 12,
   "metadata": {},
   "outputs": [
    {
     "name": "stdout",
     "output_type": "stream",
     "text": [
      "('how', 'thor', 'got')\n",
      "[76, 190, 136]\n",
      "how\n",
      "thor\n",
      "got\n",
      "[[0. 0. 0. 0. ... 0. 0. 0. 0.]\n",
      " [0. 0. 0. 0. ... 0. 0. 0. 0.]\n",
      " [0. 0. 0. 0. ... 0. 0. 0. 0.]\n",
      " [0. 0. 0. 0. ... 0. 0. 0. 0.]\n",
      " ...\n",
      " [0. 0. 0. 0. ... 0. 0. 0. 0.]\n",
      " [0. 0. 0. 0. ... 0. 0. 0. 0.]\n",
      " [0. 0. 0. 0. ... 0. 0. 0. 0.]\n",
      " [0. 0. 0. 0. ... 0. 0. 0. 0.]]\n",
      "0.008758544921875\n"
     ]
    }
   ],
   "source": [
    "from sklearn.preprocessing import OneHotEncoder\n",
    "import itertools\n",
    "\n",
    "start = time.time()\n",
    "\n",
    "#set() - no duplicates\n",
    "#{} - dictionray, maps individual tokens to key\n",
    "word_to_id = {token: idx for idx, token in enumerate(set(data_tokens))}\n",
    "\n",
    "print(tg_list[0])\n",
    "\n",
    "# convert token lists to token-id lists, e.g. [[1, 2], [2, 2]] here\n",
    "data_tokens_ids = [[word_to_id[token] for token in trigram] for trigram in tg_list]\n",
    "\n",
    "print(data_tokens_ids[0])\n",
    "#converting back to words\n",
    "for token_id in data_tokens_ids[0]:\n",
    "    print(list(word_to_id)[token_id])\n",
    "\n",
    "vec = OneHotEncoder(categories='auto')\n",
    "X = vec.fit_transform(data_tokens_ids)\n",
    "tg_OneHot = X.toarray()\n",
    "\n",
    "print (tg_OneHot)\n",
    "end = time.time()\n",
    "print(end-start)"
   ]
  },
  {
   "cell_type": "code",
   "execution_count": 13,
   "metadata": {},
   "outputs": [
    {
     "name": "stdout",
     "output_type": "stream",
     "text": [
      "('how', 'thor', 'got')\n",
      "1.0\n",
      "0.0008410428931875525\n"
     ]
    }
   ],
   "source": [
    "tg_counts = [fd.freq(trigram)*fd.N() for trigram in tg_list]\n",
    "tg_prob = [fd.freq(trigram) for trigram in tg_list]\n",
    "\n",
    "#print(tg_counts)\n",
    "\n",
    "print(tg_list[0])\n",
    "#print(tg_OneHot[0])\n",
    "print(tg_counts[0])\n",
    "print(tg_prob[0])"
   ]
  },
  {
   "cell_type": "markdown",
   "metadata": {},
   "source": [
    "# RATHER"
   ]
  },
  {
   "cell_type": "code",
   "execution_count": 14,
   "metadata": {},
   "outputs": [
    {
     "name": "stdout",
     "output_type": "stream",
     "text": [
      "[[0.000841 0.       0.       0.       ... 0.       0.       0.       0.      ]\n",
      " [0.       0.000841 0.       0.       ... 0.       0.       0.       0.      ]\n",
      " [0.       0.       0.000841 0.       ... 0.       0.       0.       0.      ]\n",
      " [0.       0.       0.       0.000841 ... 0.       0.       0.       0.      ]\n",
      " ...\n",
      " [0.       0.       0.       0.       ... 0.000841 0.       0.       0.      ]\n",
      " [0.       0.       0.       0.       ... 0.       0.000841 0.       0.      ]\n",
      " [0.       0.       0.       0.       ... 0.       0.       0.000841 0.      ]\n",
      " [0.       0.       0.       0.       ... 0.       0.       0.       0.000841]]\n",
      "0.008357763290405273\n"
     ]
    }
   ],
   "source": [
    "start = time.time()\n",
    "\n",
    "#{} - dictionary, maps individual tokens to key\n",
    "id_to_ngram = {idx: ngram for idx, ngram in enumerate(tg_list)}\n",
    "ngram_to_id = {ngram: idx for idx, ngram in enumerate(tg_list)}\n",
    "\n",
    "no_tg = fd.N()\n",
    "\n",
    "frequencies = [fd.freq(id_to_ngram[x]) for x in range(no_tg)]\n",
    "ngram_freq = np.identity(no_tg)*frequencies\n",
    "\n",
    "print(ngram_freq)\n",
    "\n",
    "end = time.time()\n",
    "print(end-start)"
   ]
  },
  {
   "cell_type": "markdown",
   "metadata": {},
   "source": [
    "# Neural Net\n",
    "\n"
   ]
  },
  {
   "cell_type": "code",
   "execution_count": 15,
   "metadata": {},
   "outputs": [],
   "source": [
    "import torch.nn as nn\n",
    "from torch import optim\n",
    "from sklearn import preprocessing\n",
    "# inputs - total ngrams - different ngram count - ngram occurence"
   ]
  },
  {
   "cell_type": "code",
   "execution_count": 16,
   "metadata": {},
   "outputs": [],
   "source": [
    "class Net(nn.Module):\n",
    "    def __init__(self):\n",
    "        super(Net, self).__init__()\n",
    "        self.fc1 = nn.Linear(3, 3)\n",
    "        self.fc2 = nn.Linear(3, 1)\n",
    "\n",
    "        \n",
    "    def forward(self, x):\n",
    "        x = F.relu(self.fc1(x))\n",
    "        x = F.sigmoid(self.fc2(x)) \n",
    "        return x"
   ]
  },
  {
   "cell_type": "markdown",
   "metadata": {},
   "source": [
    "# Creating Fast Ai Dataset"
   ]
  },
  {
   "cell_type": "code",
   "execution_count": 17,
   "metadata": {},
   "outputs": [],
   "source": [
    "# tensor x : total ngrams - different ngram count - ngram occurence\n",
    "# target : count/total\n",
    "\n",
    "class ArrayDataset(Dataset):\n",
    "    \"Sample numpy array dataset\"\n",
    "    def __init__(self, x): #[1 , 3] dimension\n",
    "        self.x = x\n",
    "        self.y = torch.zeros(len(x),dtype = torch.float)\n",
    "        for i in range(len(x)):\n",
    "            self.y[i] = (x[i][1]/x[i][0])\n",
    "\n",
    "            \n",
    "        self.c = 1 # binary label\n",
    "    \n",
    "    def __len__(self):\n",
    "        return len(self.x)\n",
    "    \n",
    "    def __getitem__(self, i):\n",
    "        return self.x[i], self.y[i]\n",
    "    "
   ]
  },
  {
   "cell_type": "markdown",
   "metadata": {},
   "source": [
    "# data"
   ]
  },
  {
   "cell_type": "code",
   "execution_count": 18,
   "metadata": {},
   "outputs": [
    {
     "name": "stdout",
     "output_type": "stream",
     "text": [
      "tensor(0.8621)\n",
      "tensor(0.0496)\n",
      "tensor(0.0118)\n",
      "tensor(0.0008)\n",
      "tensor([[1.1890e+03, 1.0250e+03, 1.0000e+00],\n",
      "        [1.1890e+03, 5.9000e+01, 2.0000e+00],\n",
      "        [1.1890e+03, 1.4000e+01, 3.0000e+00],\n",
      "        [1.1890e+03, 1.0000e+00, 4.0000e+00]])\n"
     ]
    }
   ],
   "source": [
    "inputs = torch.zeros(4,3, dtype = torch.float)\n",
    "\n",
    "for x in range(4): #x starts at zero\n",
    "\n",
    "    total = fd.N()\n",
    "    count = fd.r_Nr()[x+1]\n",
    "    occurence = x+1  \n",
    "    \n",
    "    inputs[x][0] = total\n",
    "    inputs[x][1] = count\n",
    "    inputs[x][2] = occurence\n",
    "    \n",
    "    print(inputs[x][1]/inputs[x][0])\n",
    "\n",
    "print(inputs)"
   ]
  },
  {
   "cell_type": "markdown",
   "metadata": {},
   "source": [
    "# Normalize"
   ]
  },
  {
   "cell_type": "code",
   "execution_count": 19,
   "metadata": {},
   "outputs": [
    {
     "name": "stdout",
     "output_type": "stream",
     "text": [
      "tensor([[7.5741e-01, 6.5294e-01, 6.3701e-04],\n",
      "        [9.9877e-01, 4.9560e-02, 1.6800e-03],\n",
      "        [9.9993e-01, 1.1774e-02, 2.5229e-03],\n",
      "        [9.9999e-01, 8.4104e-04, 3.3642e-03]], dtype=torch.float64)\n"
     ]
    }
   ],
   "source": [
    "inputs = preprocessing.normalize(inputs)\n",
    "inputs = torch.from_numpy(inputs)\n",
    "print(inputs)"
   ]
  },
  {
   "cell_type": "code",
   "execution_count": 20,
   "metadata": {},
   "outputs": [
    {
     "name": "stdout",
     "output_type": "stream",
     "text": [
      "tensor([[7.5741e-01, 6.5294e-01, 6.3701e-04],\n",
      "        [9.9877e-01, 4.9560e-02, 1.6800e-03],\n",
      "        [9.9993e-01, 1.1774e-02, 2.5229e-03],\n",
      "        [9.9999e-01, 8.4104e-04, 3.3642e-03]])\n",
      "tensor([[6.9534e-01, 6.4755e-01, 6.7786e-04],\n",
      "        [9.1692e-01, 4.9151e-02, 1.7878e-03],\n",
      "        [9.1798e-01, 1.1677e-02, 2.6847e-03],\n",
      "        [9.1804e-01, 8.3409e-04, 3.5799e-03]])\n"
     ]
    }
   ],
   "source": [
    "train = inputs\n",
    "\n",
    "rand = torch.ones(3, dtype = torch.double).uniform_(0.9,1.1)\n",
    "valid = (inputs*rand).float()\n",
    "train = train.float()\n",
    "\n",
    "print(train)\n",
    "print(valid)"
   ]
  },
  {
   "cell_type": "code",
   "execution_count": 21,
   "metadata": {},
   "outputs": [
    {
     "data": {
      "text/plain": [
       "(tensor([[0.9988, 0.0496, 0.0017],\n",
       "         [0.9999, 0.0118, 0.0025]]), tensor([0.0496, 0.0118]))"
      ]
     },
     "execution_count": 21,
     "metadata": {},
     "output_type": "execute_result"
    }
   ],
   "source": [
    "train_ds, valid_ds = ArrayDataset(train), ArrayDataset(valid)\n",
    "data = DataBunch.create(train_ds, valid_ds, bs=2)\n",
    "data.one_batch()"
   ]
  },
  {
   "cell_type": "code",
   "execution_count": 22,
   "metadata": {},
   "outputs": [
    {
     "name": "stdout",
     "output_type": "stream",
     "text": [
      "tensor([8.6207e-01, 4.9622e-02, 1.1775e-02, 8.4104e-04])\n"
     ]
    }
   ],
   "source": [
    "target = torch.zeros(len(train))\n",
    "\n",
    "for i in range(len(train)):\n",
    "    target[i] = (train[i][1]/train[i][0])\n",
    "\n",
    "print(target)    "
   ]
  },
  {
   "cell_type": "markdown",
   "metadata": {},
   "source": [
    "# Manual Training"
   ]
  },
  {
   "cell_type": "code",
   "execution_count": 83,
   "metadata": {},
   "outputs": [],
   "source": [
    "net = Net()\n",
    "optimizer = optim.SGD(net.parameters(), lr=0.03, momentum=0.1)\n",
    "criterion = torch.nn.SmoothL1Loss()"
   ]
  },
  {
   "cell_type": "code",
   "execution_count": 103,
   "metadata": {},
   "outputs": [
    {
     "name": "stdout",
     "output_type": "stream",
     "text": [
      "Train Epoch: 1 \tLoss: 0.123875\n",
      "Train Epoch: 1 \tLoss: 0.033438\n",
      "Train Epoch: 1 \tLoss: 0.042931\n",
      "Train Epoch: 1 \tLoss: 0.046046\n",
      "Train Epoch: 101 \tLoss: 0.122189\n",
      "Train Epoch: 101 \tLoss: 0.025925\n",
      "Train Epoch: 101 \tLoss: 0.033924\n",
      "Train Epoch: 101 \tLoss: 0.036546\n",
      "Train Epoch: 201 \tLoss: 0.101177\n",
      "Train Epoch: 201 \tLoss: 0.022653\n",
      "Train Epoch: 201 \tLoss: 0.029481\n",
      "Train Epoch: 201 \tLoss: 0.031553\n",
      "Train Epoch: 301 \tLoss: 0.068859\n",
      "Train Epoch: 301 \tLoss: 0.020284\n",
      "Train Epoch: 301 \tLoss: 0.025874\n",
      "Train Epoch: 301 \tLoss: 0.027581\n",
      "Train Epoch: 401 \tLoss: 0.040333\n",
      "Train Epoch: 401 \tLoss: 0.016765\n",
      "Train Epoch: 401 \tLoss: 0.021068\n",
      "Train Epoch: 401 \tLoss: 0.023323\n",
      "Train Epoch: 501 \tLoss: 0.021618\n",
      "Train Epoch: 501 \tLoss: 0.013592\n",
      "Train Epoch: 501 \tLoss: 0.016952\n",
      "Train Epoch: 501 \tLoss: 0.018996\n",
      "Train Epoch: 601 \tLoss: 0.012092\n",
      "Train Epoch: 601 \tLoss: 0.010706\n",
      "Train Epoch: 601 \tLoss: 0.013411\n",
      "Train Epoch: 601 \tLoss: 0.015233\n",
      "Train Epoch: 701 \tLoss: 0.007283\n",
      "Train Epoch: 701 \tLoss: 0.008377\n",
      "Train Epoch: 701 \tLoss: 0.010681\n",
      "Train Epoch: 701 \tLoss: 0.012324\n",
      "Train Epoch: 801 \tLoss: 0.004721\n",
      "Train Epoch: 801 \tLoss: 0.006574\n",
      "Train Epoch: 801 \tLoss: 0.008664\n",
      "Train Epoch: 801 \tLoss: 0.010153\n",
      "Train Epoch: 901 \tLoss: 0.003324\n",
      "Train Epoch: 901 \tLoss: 0.005083\n",
      "Train Epoch: 901 \tLoss: 0.007186\n",
      "Train Epoch: 901 \tLoss: 0.008550\n",
      "1.3920416831970215\n"
     ]
    }
   ],
   "source": [
    "start = time.time()\n",
    "\n",
    "for epoch in range(1, 1000): ## run the model for 10 epochs\n",
    "\n",
    "    for x in range(len(train)): #x starts at zero\n",
    "           \n",
    "        #print(inputs)\n",
    "        #print(inputs.dtype)\n",
    "\n",
    "        optimizer.zero_grad()\n",
    "        \n",
    "        ## 1. forward propagation\n",
    "        net_out = net(train[x])\n",
    "        #print(train[x])\n",
    "        \n",
    "        ## 2. loss calculation\n",
    "        loss = criterion(net_out, target[x])\n",
    "        #print(target[x])\n",
    "        \n",
    "        ## 3. backward propagation\n",
    "        loss.backward()\n",
    "        \n",
    "        ## 4. weight optimization\n",
    "        optimizer.step()\n",
    "        \n",
    "        if(epoch % 100 == 1):\n",
    "            print('Train Epoch: {} \\tLoss: {:.6f}'.format(\n",
    "                epoch, \n",
    "                loss.data))\n",
    "\n",
    "end = time.time()\n",
    "print(end-start)"
   ]
  },
  {
   "cell_type": "markdown",
   "metadata": {},
   "source": [
    "# Build Learner\n",
    "\n",
    "fast.ai Learner() expects an object with a list of models. We create a shell object to return this type.\n",
    "\n"
   ]
  },
  {
   "cell_type": "code",
   "execution_count": 25,
   "metadata": {},
   "outputs": [],
   "source": [
    "criterion = torch.nn.SmoothL1Loss()\n",
    "\n",
    "net2 = Net().cuda()"
   ]
  },
  {
   "cell_type": "code",
   "execution_count": 26,
   "metadata": {},
   "outputs": [],
   "source": [
    "learn = Learner(data, net2, opt_func = torch.optim.SGD, loss_func = criterion)"
   ]
  },
  {
   "cell_type": "code",
   "execution_count": 72,
   "metadata": {},
   "outputs": [
    {
     "data": {
      "text/html": [],
      "text/plain": [
       "<IPython.core.display.HTML object>"
      ]
     },
     "metadata": {},
     "output_type": "display_data"
    },
    {
     "name": "stdout",
     "output_type": "stream",
     "text": [
      "LR Finder is complete, type {learner_name}.recorder.plot() to see the graph.\n"
     ]
    }
   ],
   "source": [
    "learn.lr_find()"
   ]
  },
  {
   "cell_type": "code",
   "execution_count": 73,
   "metadata": {},
   "outputs": [
    {
     "data": {
      "image/png": "[encoded data removed]",
      "text/plain": [
       "<Figure size 432x288 with 1 Axes>"
      ]
     },
     "metadata": {
      "needs_background": "light"
     },
     "output_type": "display_data"
    }
   ],
   "source": [
    "learn.recorder.plot()"
   ]
  },
  {
   "cell_type": "code",
   "execution_count": 29,
   "metadata": {},
   "outputs": [
    {
     "data": {
      "text/html": [
       "<table border=\"1\" class=\"dataframe\">\n",
       "  <thead>\n",
       "    <tr style=\"text-align: left;\">\n",
       "      <th>epoch</th>\n",
       "      <th>train_loss</th>\n",
       "      <th>valid_loss</th>\n",
       "      <th>time</th>\n",
       "    </tr>\n",
       "  </thead>\n",
       "  <tbody>\n",
       "    <tr>\n",
       "      <td>0</td>\n",
       "      <td>0.105700</td>\n",
       "      <td>0.112277</td>\n",
       "      <td>00:00</td>\n",
       "    </tr>\n",
       "    <tr>\n",
       "      <td>1</td>\n",
       "      <td>0.105817</td>\n",
       "      <td>0.112205</td>\n",
       "      <td>00:00</td>\n",
       "    </tr>\n",
       "    <tr>\n",
       "      <td>2</td>\n",
       "      <td>0.105877</td>\n",
       "      <td>0.112031</td>\n",
       "      <td>00:00</td>\n",
       "    </tr>\n",
       "    <tr>\n",
       "      <td>3</td>\n",
       "      <td>0.105753</td>\n",
       "      <td>0.111756</td>\n",
       "      <td>00:00</td>\n",
       "    </tr>\n",
       "    <tr>\n",
       "      <td>4</td>\n",
       "      <td>0.105701</td>\n",
       "      <td>0.111514</td>\n",
       "      <td>00:00</td>\n",
       "    </tr>\n",
       "    <tr>\n",
       "      <td>5</td>\n",
       "      <td>0.105600</td>\n",
       "      <td>0.111264</td>\n",
       "      <td>00:00</td>\n",
       "    </tr>\n",
       "    <tr>\n",
       "      <td>6</td>\n",
       "      <td>0.105438</td>\n",
       "      <td>0.111066</td>\n",
       "      <td>00:00</td>\n",
       "    </tr>\n",
       "    <tr>\n",
       "      <td>7</td>\n",
       "      <td>0.105320</td>\n",
       "      <td>0.110934</td>\n",
       "      <td>00:00</td>\n",
       "    </tr>\n",
       "    <tr>\n",
       "      <td>8</td>\n",
       "      <td>0.105230</td>\n",
       "      <td>0.110877</td>\n",
       "      <td>00:00</td>\n",
       "    </tr>\n",
       "    <tr>\n",
       "      <td>9</td>\n",
       "      <td>0.105141</td>\n",
       "      <td>0.110861</td>\n",
       "      <td>00:00</td>\n",
       "    </tr>\n",
       "  </tbody>\n",
       "</table>"
      ],
      "text/plain": [
       "<IPython.core.display.HTML object>"
      ]
     },
     "metadata": {},
     "output_type": "display_data"
    }
   ],
   "source": [
    "learn.fit_one_cycle(10)"
   ]
  },
  {
   "cell_type": "code",
   "execution_count": 30,
   "metadata": {},
   "outputs": [
    {
     "data": {
      "image/png": "[encoded data removed]",
      "text/plain": [
       "<Figure size 864x288 with 2 Axes>"
      ]
     },
     "metadata": {
      "needs_background": "light"
     },
     "output_type": "display_data"
    }
   ],
   "source": [
    "learn.recorder.plot_lr(show_moms=True)"
   ]
  },
  {
   "cell_type": "markdown",
   "metadata": {},
   "source": [
    "# Saving model"
   ]
  },
  {
   "cell_type": "code",
   "execution_count": 181,
   "metadata": {},
   "outputs": [],
   "source": [
    "torch.save(net.state_dict(), 'save/net')"
   ]
  },
  {
   "cell_type": "markdown",
   "metadata": {},
   "source": [
    "# Loading model"
   ]
  },
  {
   "cell_type": "code",
   "execution_count": 182,
   "metadata": {},
   "outputs": [
    {
     "data": {
      "text/plain": [
       "Net(\n",
       "  (fc1): Linear(in_features=3, out_features=3, bias=True)\n",
       "  (fc2): Linear(in_features=3, out_features=1, bias=True)\n",
       ")"
      ]
     },
     "execution_count": 182,
     "metadata": {},
     "output_type": "execute_result"
    }
   ],
   "source": [
    "model = Net()\n",
    "model.load_state_dict(torch.load('save/net'))\n",
    "model.eval()"
   ]
  },
  {
   "cell_type": "markdown",
   "metadata": {},
   "source": [
    "# Result"
   ]
  },
  {
   "cell_type": "markdown",
   "metadata": {},
   "source": [
    "## manual traingin"
   ]
  },
  {
   "cell_type": "code",
   "execution_count": 180,
   "metadata": {},
   "outputs": [
    {
     "name": "stdout",
     "output_type": "stream",
     "text": [
      "tensor([0.1384], grad_fn=<SigmoidBackward>)\n"
     ]
    }
   ],
   "source": [
    "print(model(torch.Tensor([1, 0.05, 0.001])))"
   ]
  },
  {
   "cell_type": "code",
   "execution_count": 183,
   "metadata": {},
   "outputs": [],
   "source": [
    "x = torch.Tensor(500,3)\n",
    "y = torch.Tensor(500)\n",
    "\n",
    "for i in range (500):\n",
    "    x[i] = torch.Tensor([1, i/1000, 0.01])\n",
    "    y[i] = model(x[i])"
   ]
  },
  {
   "cell_type": "code",
   "execution_count": 184,
   "metadata": {},
   "outputs": [
    {
     "data": {
      "image/png": "[encoded data removed]",
      "text/plain": [
       "<Figure size 432x288 with 1 Axes>"
      ]
     },
     "metadata": {
      "needs_background": "light"
     },
     "output_type": "display_data"
    }
   ],
   "source": [
    "plt.plot(y)\n",
    "plt.title(\"ngrams prob as count is increased\")\n",
    "plt.show()"
   ]
  },
  {
   "cell_type": "markdown",
   "metadata": {},
   "source": [
    "given total of 1000 ngrams and occurence for this ngram to be 10"
   ]
  },
  {
   "cell_type": "code",
   "execution_count": 185,
   "metadata": {},
   "outputs": [],
   "source": [
    "x = torch.Tensor(10,3)\n",
    "y = torch.Tensor(10)\n",
    "\n",
    "for i in range (10):\n",
    "    x[i] = torch.Tensor([1, 0.05, i/1000])\n",
    "    y[i] = model(x[i])"
   ]
  },
  {
   "cell_type": "code",
   "execution_count": 161,
   "metadata": {},
   "outputs": [
    {
     "data": {
      "image/png": "[encoded data removed]",
      "text/plain": [
       "<Figure size 432x288 with 1 Axes>"
      ]
     },
     "metadata": {
      "needs_background": "light"
     },
     "output_type": "display_data"
    }
   ],
   "source": [
    "plt.plot(y)\n",
    "plt.title(\"ngrams prob as occurence is increased\")\n",
    "plt.show()"
   ]
  },
  {
   "cell_type": "markdown",
   "metadata": {},
   "source": [
    "given total of 1000 ngrams and count of ngram be 50"
   ]
  },
  {
   "cell_type": "code",
   "execution_count": null,
   "metadata": {},
   "outputs": [],
   "source": []
  }
 ],
 "metadata": {
  "kernelspec": {
   "display_name": "Python 3",
   "language": "python",
   "name": "python3"
  },
  "language_info": {
   "codemirror_mode": {
    "name": "ipython",
    "version": 3
   },
   "file_extension": ".py",
   "mimetype": "text/x-python",
   "name": "python",
   "nbconvert_exporter": "python",
   "pygments_lexer": "ipython3",
   "version": "3.6.8"
  }
 },
 "nbformat": 4,
 "nbformat_minor": 2
}
