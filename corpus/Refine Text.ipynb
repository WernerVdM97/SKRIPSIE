{
 "cells": [
  {
   "cell_type": "markdown",
   "metadata": {},
   "source": [
    "# processing of text file"
   ]
  },
  {
   "cell_type": "code",
   "execution_count": 11,
   "metadata": {},
   "outputs": [],
   "source": [
    "%matplotlib inline\n",
    "\n",
    "import matplotlib.pyplot as plt\n",
    "from nltk.probability import SimpleGoodTuringProbDist as GT\n",
    "import numpy as np\n",
    "import sys\n",
    "sys.path.append('../Classes')\n",
    "from GDNN import *\n",
    "from fileReader import *"
   ]
  },
  {
   "cell_type": "code",
   "execution_count": 53,
   "metadata": {},
   "outputs": [],
   "source": [
    "file = open('../corpus/test.txt').read()\n",
    "words = word_tokenize(file)"
   ]
  },
  {
   "cell_type": "code",
   "execution_count": 56,
   "metadata": {},
   "outputs": [],
   "source": [
    "file = open('../corpus/hos3.txt').read()\n",
    "words = word_tokenize(file)\n"
   ]
  },
  {
   "cell_type": "code",
   "execution_count": 48,
   "metadata": {},
   "outputs": [
    {
     "name": "stdout",
     "output_type": "stream",
     "text": [
      "['Either', 'you', \"'re\", 'flat', 'or', 'I', 'am', '.Yes', ',', 'you', 'did', '.', 'And', 'I', \"'m\", 'going', 'to', 'hit', 'you', '.', 'See', 'here', '.', 'If', 'you', 'soak', 'me', 'in', 'the', 'eye', 'again', 'I', \"'m\", 'gon', 'na', 'quit', 'you', '.', 'me', 'together', 'once', 'more', '.', 'do', \"n't\", 'do', 'it', '.']\n"
     ]
    }
   ],
   "source": [
    "print(words[:10])"
   ]
  },
  {
   "cell_type": "code",
   "execution_count": 55,
   "metadata": {},
   "outputs": [
    {
     "name": "stdout",
     "output_type": "stream",
     "text": [
      "['Either', \"you're\", 'flat', 'or', 'I', 'am', '.Yes', ',', 'you', 'did', '.', 'And', \"I'm\", 'going', 'to', 'hit', 'you', '.', 'See', 'here', '.', 'If', 'you', 'soak', 'me', 'in', 'the', 'eye', 'again', \"I'm\", 'gon', 'na', 'quit', 'you', '.', 'me', 'together', 'once', 'more', '.', \"don't\", 'do', 'it', '.']\n"
     ]
    }
   ],
   "source": [
    "print(words[:10])"
   ]
  },
  {
   "cell_type": "markdown",
   "metadata": {},
   "source": [
    "# remove @@11xxx"
   ]
  },
  {
   "cell_type": "code",
   "execution_count": 25,
   "metadata": {},
   "outputs": [
    {
     "name": "stdout",
     "output_type": "stream",
     "text": [
      "116.34225726127625\n"
     ]
    }
   ],
   "source": [
    "start = time.time()\n",
    "x = 0\n",
    "\n",
    "while x < len(words):\n",
    "    \n",
    "    if words[x] == '@' and words[x+1] == '@' and words[x+2][0] == '1':\n",
    "\n",
    "        #print(words[x]+words[x+1]+words[x+2])\n",
    "        words.pop(x)\n",
    "        words.pop(x)\n",
    "        words.pop(x)\n",
    "        #x = x-1\n",
    "        \n",
    "    x= x + 1\n",
    "    \n",
    "end = time.time()\n",
    "print(end-start)"
   ]
  },
  {
   "cell_type": "markdown",
   "metadata": {},
   "source": [
    "# remove @ @ @ @ @ @"
   ]
  },
  {
   "cell_type": "code",
   "execution_count": 25,
   "metadata": {},
   "outputs": [
    {
     "name": "stdout",
     "output_type": "stream",
     "text": [
      "116.34225726127625\n"
     ]
    }
   ],
   "source": [
    "start = time.time()\n",
    "x = 0\n",
    "\n",
    "while x < len(words):\n",
    "    \n",
    "    if words[x] == '@':\n",
    "\n",
    "        #print(words[x]+words[x+1]+words[x+2])\n",
    "        words.pop(x)\n",
    "\n",
    "        x = x-1\n",
    "        \n",
    "    x= x + 1\n",
    "    \n",
    "end = time.time()\n",
    "print(end-start)"
   ]
  },
  {
   "cell_type": "markdown",
   "metadata": {},
   "source": [
    "# group contractions into one word"
   ]
  },
  {
   "cell_type": "code",
   "execution_count": 57,
   "metadata": {},
   "outputs": [
    {
     "name": "stdout",
     "output_type": "stream",
     "text": [
      "269.09463596343994\n"
     ]
    }
   ],
   "source": [
    "start = time.time()\n",
    "x = 0\n",
    "\n",
    "while x < len(words):\n",
    "    \n",
    "    if words[x][0] == '\\'':\n",
    "        new_word = ''\n",
    "        new_word = words[x-1] + words[x]\n",
    "        words.pop(x-1)\n",
    "        words.pop(x-1)\n",
    "        words.insert(x-1,new_word)\n",
    "\n",
    "        \n",
    "    if len(words[x]) > 1:\n",
    "        if words[x][1] =='\\'':\n",
    "            new_word = words[x-1] + words[x]\n",
    "            words.pop(x-1)\n",
    "            words.pop(x-1)\n",
    "            words.insert(x-1,new_word)\n",
    "        \n",
    "    x= x + 1\n",
    "    \n",
    "end = time.time()\n",
    "print(end-start)"
   ]
  },
  {
   "cell_type": "markdown",
   "metadata": {},
   "source": [
    "# write file"
   ]
  },
  {
   "cell_type": "code",
   "execution_count": 58,
   "metadata": {},
   "outputs": [
    {
     "name": "stdout",
     "output_type": "stream",
     "text": [
      "31.21990203857422\n"
     ]
    }
   ],
   "source": [
    "start = time.time()\n",
    "\n",
    "x=0\n",
    "newfile = open('hos4.txt','w+')\n",
    "newfile.close()\n",
    "\n",
    "for x in range(len(words)):\n",
    "    newfile = open('hos4.txt','a')\n",
    "    newfile.write(words[x])\n",
    "    if words[x] =='.':\n",
    "        newfile.write('\\n')\n",
    "    else:\n",
    "        newfile.write(' ')\n",
    "    newfile.close()\n",
    "\n",
    "end = time.time()\n",
    "print(end-start)"
   ]
  },
  {
   "cell_type": "code",
   "execution_count": null,
   "metadata": {},
   "outputs": [],
   "source": [
    "print(words[:20])\n"
   ]
  },
  {
   "cell_type": "code",
   "execution_count": null,
   "metadata": {},
   "outputs": [],
   "source": []
  }
 ],
 "metadata": {
  "kernelspec": {
   "display_name": "Python 3",
   "language": "python",
   "name": "python3"
  },
  "language_info": {
   "codemirror_mode": {
    "name": "ipython",
    "version": 3
   },
   "file_extension": ".py",
   "mimetype": "text/x-python",
   "name": "python",
   "nbconvert_exporter": "python",
   "pygments_lexer": "ipython3",
   "version": "3.6.8"
  }
 },
 "nbformat": 4,
 "nbformat_minor": 2
}
