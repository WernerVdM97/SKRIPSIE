{
 "cells": [
  {
   "cell_type": "code",
   "execution_count": 2,
   "metadata": {},
   "outputs": [],
   "source": [
    "from tqdm import tqdm"
   ]
  },
  {
   "cell_type": "markdown",
   "metadata": {},
   "source": [
    "# Rewrite file and remove r < 100 unigrams"
   ]
  },
  {
   "cell_type": "code",
   "execution_count": 12,
   "metadata": {},
   "outputs": [
    {
     "name": "stderr",
     "output_type": "stream",
     "text": [
      "100%|██████████| 991094/991094 [00:00<00:00, 1341407.54it/s]\n"
     ]
    }
   ],
   "source": [
    "#start = time.time()\n",
    "file = '../../counts/all_unigrams.txt'\n",
    "#file = '../../temp/small_counts.txt'\n",
    "first_read = open(file ,'r')\n",
    "write_file = open('../../counts/unigrams_r>=100.txt','w+')\n",
    "\n",
    "num_lines = sum(1 for line in open(file,'r'))\n",
    "#print(num_lines)\n",
    "vocab_count =0\n",
    "\n",
    "ngram_dict = {}\n",
    "for x in tqdm(first_read, total=num_lines, position=0, leave=True):\n",
    "    line = x.split('\\t')\n",
    "    r = int(line[1])\n",
    "    if r >= 100:\n",
    "        write_file.write(line[0]+'\\n')\n",
    "        vocab_count+=1\n",
    "\n",
    "write_file.close()"
   ]
  },
  {
   "cell_type": "code",
   "execution_count": 11,
   "metadata": {},
   "outputs": [
    {
     "name": "stdout",
     "output_type": "stream",
     "text": [
      "60110\n"
     ]
    }
   ],
   "source": [
    "# doneee, final vocab size:\n",
    "print(vocab_count)"
   ]
  },
  {
   "cell_type": "markdown",
   "metadata": {},
   "source": [
    "# Count words in Text Corpus"
   ]
  },
  {
   "cell_type": "code",
   "execution_count": 6,
   "metadata": {},
   "outputs": [
    {
     "name": "stdout",
     "output_type": "stream",
     "text": [
      "counted:2011\n",
      "counted:2012\n",
      "counted:2013\n",
      "counted:2014\n",
      "counted:2015\n",
      "counted:2016\n",
      "total count:156007262\n",
      "train count:125106793\n",
      "dev count:28474087\n",
      "test count:2426382\n"
     ]
    }
   ],
   "source": [
    "train_count = 0\n",
    "dev_count = 0\n",
    "test_count = 0\n",
    "\n",
    "for x in range(2011,2017):\n",
    "    file = '../../Corpus/' + str(x) + '.txt'\n",
    "    read = open(file,'r')\n",
    "    for y in read:\n",
    "        line = y.split(' ')\n",
    "        if x < 2015:\n",
    "            train_count += len(line)-2\n",
    "        elif x == 2015:\n",
    "            dev_count += len(line)-2\n",
    "        elif x == 2016:\n",
    "            test_count += len(line)-2\n",
    "    print('counted:' + str(x))\n",
    "\n",
    "\n",
    "print(\"total count:\" + str(train_count+ dev_count+test_count))\n",
    "print(\"train count:\" + str(train_count))\n",
    "print(\"dev count:\" + str(dev_count))\n",
    "print(\"test count:\" + str(test_count))\n",
    "\n"
   ]
  },
  {
   "cell_type": "code",
   "execution_count": null,
   "metadata": {},
   "outputs": [],
   "source": []
  }
 ],
 "metadata": {
  "kernelspec": {
   "display_name": "Python 3",
   "language": "python",
   "name": "python3"
  },
  "language_info": {
   "codemirror_mode": {
    "name": "ipython",
    "version": 3
   },
   "file_extension": ".py",
   "mimetype": "text/x-python",
   "name": "python",
   "nbconvert_exporter": "python",
   "pygments_lexer": "ipython3",
   "version": "3.6.8"
  }
 },
 "nbformat": 4,
 "nbformat_minor": 2
}
