{
 "cells": [
  {
   "cell_type": "code",
   "execution_count": 1,
   "metadata": {},
   "outputs": [],
   "source": [
    "import matplotlib.pyplot as plt\n",
    "import torch.nn.functional as F\n",
    "import torch\n",
    "import torchvision\n",
    "from fastai import *\n",
    "from fastai.vision import *\n",
    "import numpy as np\n",
    "\n",
    "\n",
    "#processing tokens\n",
    "\n",
    "import unicodedata \n",
    "import re\n",
    "import inflect \n",
    "\n",
    "#tokenize\n",
    "from nltk import word_tokenize, sent_tokenize\n",
    "\n",
    "#find ngrams\n",
    "from nltk.util import ngrams\n",
    "\n",
    "import time\n",
    "from tqdm import tqdm\n",
    "\n",
    "#nn\n",
    "import torch.nn as nn\n",
    "from torch import optim\n",
    "from sklearn import preprocessing\n",
    "\n",
    "import arpa"
   ]
  },
  {
   "cell_type": "code",
   "execution_count": 2,
   "metadata": {},
   "outputs": [
    {
     "name": "stdout",
     "output_type": "stream",
     "text": [
      "GeForce GTX 1060 6GB\n",
      "True\n"
     ]
    }
   ],
   "source": [
    "device = torch.device(\"cuda:0\" if torch.cuda.is_available() else \"cpu\")\n",
    "print(torch.cuda.get_device_name(0))\n",
    "print(torch.cuda.is_available())\n"
   ]
  },
  {
   "cell_type": "markdown",
   "metadata": {},
   "source": [
    "# load inputs from pickle file"
   ]
  },
  {
   "cell_type": "markdown",
   "metadata": {},
   "source": [
    "### prefix count\n",
    "### ngram count - removed\n",
    "### n-1gram count \n",
    "### unigram count\n",
    "### pre-pre fix count"
   ]
  },
  {
   "cell_type": "code",
   "execution_count": 17,
   "metadata": {},
   "outputs": [
    {
     "name": "stdout",
     "output_type": "stream",
     "text": [
      "tensor([[1.4286e-01, 5.0000e-01, 2.9789e-04, 8.0126e-06, 2.0121e-03],\n",
      "        [1.6667e-01, 5.0000e-01, 1.8185e-04, 5.8883e-07, 2.0121e-03],\n",
      "        [3.3333e-01, 3.3333e-01, 1.1481e-03, 2.1727e-05, 2.0121e-03],\n",
      "        ...,\n",
      "        [2.5000e-01, 3.3333e-01, 6.5091e-05, 3.2875e-07, 9.1324e-04],\n",
      "        [2.0000e-01, 3.3333e-01, 3.1250e-02, 4.4643e-05, 5.5556e-02],\n",
      "        [2.0000e-01, 5.0000e-01, 5.0000e-01, 6.7024e-04, 2.0000e-01]],\n",
      "       device='cuda:0')\n",
      "tensor([1.0000, 0.1667, 1.0000,  ..., 0.6000, 1.0000, 0.1429], device='cuda:0')\n",
      "torch.Size([4793918, 5])\n"
     ]
    }
   ],
   "source": [
    "#inputs = torch.load('../../pickles/50-50_5input_4793918').transpose(-2,1).float()\n",
    "#outputs = torch.load('../../pickles/50-50_output_4793918').flatten().float()\n",
    "inputs = torch.load('../../../pickles/50-50_5input_4793918').transpose(-2,1).float()\n",
    "outputs = torch.load('../../../pickles/50-50_output_4793918').flatten().float()\n",
    "\n",
    "inputs = 1/inputs\n",
    "print(inputs)\n",
    "print(outputs)\n",
    "print(inputs.size())"
   ]
  },
  {
   "cell_type": "code",
   "execution_count": 29,
   "metadata": {},
   "outputs": [
    {
     "name": "stdout",
     "output_type": "stream",
     "text": [
      "tensor([[0.1429],\n",
      "        [0.1667],\n",
      "        [0.3333],\n",
      "        ...,\n",
      "        [0.2500],\n",
      "        [0.2000],\n",
      "        [0.2000]], device='cuda:0')\n",
      "+\n",
      "tensor([[2.9789e-04, 8.0126e-06, 2.0121e-03],\n",
      "        [1.8185e-04, 5.8883e-07, 2.0121e-03],\n",
      "        [1.1481e-03, 2.1727e-05, 2.0121e-03],\n",
      "        ...,\n",
      "        [6.5091e-05, 3.2875e-07, 9.1324e-04],\n",
      "        [3.1250e-02, 4.4643e-05, 5.5556e-02],\n",
      "        [5.0000e-01, 6.7024e-04, 2.0000e-01]], device='cuda:0')\n",
      "=\n",
      "tensor([[1.4286e-01, 2.9789e-04, 8.0126e-06, 2.0121e-03],\n",
      "        [1.6667e-01, 1.8185e-04, 5.8883e-07, 2.0121e-03],\n",
      "        [3.3333e-01, 1.1481e-03, 2.1727e-05, 2.0121e-03],\n",
      "        ...,\n",
      "        [2.5000e-01, 6.5091e-05, 3.2875e-07, 9.1324e-04],\n",
      "        [2.0000e-01, 3.1250e-02, 4.4643e-05, 5.5556e-02],\n",
      "        [2.0000e-01, 5.0000e-01, 6.7024e-04, 2.0000e-01]], device='cuda:0')\n"
     ]
    }
   ],
   "source": [
    "print(inputs[:,0:1])\n",
    "print('+')\n",
    "print(inputs[:,2:5])\n",
    "\n",
    "new_inputs = torch.zeros(4793918, 4, device = device)\n",
    "print('=')\n",
    "\n",
    "new_inputs[:,0:1] = inputs[:,0:1]\n",
    "new_inputs[:,1:4] = inputs[:,2:5]\n",
    "\n",
    "print(new_inputs)"
   ]
  },
  {
   "cell_type": "code",
   "execution_count": 6,
   "metadata": {},
   "outputs": [
    {
     "name": "stdout",
     "output_type": "stream",
     "text": [
      "\n",
      "Memory Usage:\n",
      "Allocated: 110.3 MB\n",
      "Cached:    298.0 MB\n"
     ]
    }
   ],
   "source": [
    "if device.type == 'cuda':\n",
    "    #print(torch.cuda.get_device_name(0))\n",
    "    print('\\nMemory Usage:')\n",
    "    print('Allocated:', round(torch.cuda.memory_allocated(0)/1024**2,1), 'MB')\n",
    "    print('Cached:   ', round(torch.cuda.memory_cached(0)/1024**2,1), 'MB')"
   ]
  },
  {
   "cell_type": "markdown",
   "metadata": {},
   "source": [
    "# Neural Net\n"
   ]
  },
  {
   "cell_type": "code",
   "execution_count": 30,
   "metadata": {},
   "outputs": [],
   "source": [
    "class Net(nn.Module):\n",
    "    def __init__(self):\n",
    "        super(Net, self).__init__()\n",
    "        self.fc1 = nn.Linear(4, 4)\n",
    "        self.fc2 = nn.Linear(4, 4)\n",
    "        self.fc3 = nn.Linear(4, 1)\n",
    "\n",
    "        \n",
    "    def forward(self, x):\n",
    "        x = torch.sigmoid(self.fc1(x))\n",
    "        x = torch.sigmoid(self.fc2(x)) \n",
    "        x = torch.sigmoid(self.fc3(x)) \n",
    "        return x"
   ]
  },
  {
   "cell_type": "markdown",
   "metadata": {},
   "source": [
    "# Training"
   ]
  },
  {
   "cell_type": "code",
   "execution_count": 42,
   "metadata": {},
   "outputs": [],
   "source": [
    "net = Net().cuda()\n",
    "optimizer = optim.SGD(net.parameters(), lr=0.03, momentum=0.9)\n",
    "\n",
    "criterion = torch.nn.L1Loss()  #mean absolute error\n",
    "#criterion = torch.nn.MSELoss()  #mean square error"
   ]
  },
  {
   "cell_type": "code",
   "execution_count": 38,
   "metadata": {},
   "outputs": [
    {
     "name": "stderr",
     "output_type": "stream",
     "text": [
      "100%|██████████| 4793918/4793918 [10:35<00:00, 7538.27it/s]\n"
     ]
    }
   ],
   "source": [
    "## run the model for 3 epochs\n",
    "#for epoch in range(0,3):\n",
    "for x in tqdm(range(len(new_inputs)),position=0, leave=True):\n",
    "    if x % 10 == 1:\n",
    "        optimizer.zero_grad() #reset gradients\n",
    "\n",
    "        ## 1. forward propagation\n",
    "        net_out = net((new_inputs[x:x+1,:]))\n",
    "\n",
    "        ## 2. loss calculation\n",
    "        loss = criterion(net_out, outputs[x].reshape(1,1))\n",
    "        #print(target[x])\n",
    "\n",
    "        ## 3. backward propagation\n",
    "        loss.backward()\n",
    "\n",
    "        ## 4. weight optimization\n",
    "        optimizer.step()"
   ]
  },
  {
   "cell_type": "markdown",
   "metadata": {},
   "source": [
    "# Saving Model"
   ]
  },
  {
   "cell_type": "code",
   "execution_count": 44,
   "metadata": {},
   "outputs": [],
   "source": [
    "torch.save(net.state_dict(), '../NN saves/temp')"
   ]
  },
  {
   "cell_type": "markdown",
   "metadata": {},
   "source": [
    "# Loading model"
   ]
  },
  {
   "cell_type": "code",
   "execution_count": 6,
   "metadata": {},
   "outputs": [
    {
     "data": {
      "text/plain": [
       "Net(\n",
       "  (fc1): Linear(in_features=5, out_features=5, bias=True)\n",
       "  (fc2): Linear(in_features=5, out_features=5, bias=True)\n",
       "  (fc3): Linear(in_features=5, out_features=1, bias=True)\n",
       ")"
      ]
     },
     "execution_count": 6,
     "metadata": {},
     "output_type": "execute_result"
    }
   ],
   "source": [
    "net = Net().cuda()\n",
    "net.load_state_dict(torch.load('NN saves/50-50_5inputs'))\n",
    "net.eval()"
   ]
  },
  {
   "cell_type": "code",
   "execution_count": 39,
   "metadata": {},
   "outputs": [
    {
     "name": "stderr",
     "output_type": "stream",
     "text": [
      "100%|██████████| 4793918/4793918 [00:59<00:00, 80347.73it/s]\n"
     ]
    }
   ],
   "source": [
    "\n",
    "net_results = np.zeros(int(len(new_inputs)/20)+1)\n",
    "actual_results = np.zeros(int(len(new_inputs)/20)+1)\n",
    "\n",
    "'''\n",
    "net_results = np.zeros(len(inputs))\n",
    "actual_results = np.zeros(len(inputs))\n",
    "'''\n",
    "count = 0\n",
    "\n",
    "for x in tqdm(range(len(new_inputs)),position=0, leave=True):\n",
    "    if x%20 == 1:\n",
    "        net_results[count] = net(new_inputs[x:x+1,:])\n",
    "        actual_results[count] = outputs[x]\n",
    "        count += 1\n",
    "\n",
    "net_results.sort()\n",
    "actual_results.sort()"
   ]
  },
  {
   "cell_type": "markdown",
   "metadata": {},
   "source": [
    "# lr=0.03 m=0.9 MAE"
   ]
  },
  {
   "cell_type": "code",
   "execution_count": 35,
   "metadata": {
    "scrolled": true
   },
   "outputs": [
    {
     "data": {
      "image/png": "[encoded data removed]",
      "text/plain": [
       "<Figure size 432x288 with 1 Axes>"
      ]
     },
     "metadata": {
      "needs_background": "light"
     },
     "output_type": "display_data"
    }
   ],
   "source": [
    "plt.plot(net_results,'b')\n",
    "plt.plot(actual_results,'orange')\n",
    "plt.show()"
   ]
  },
  {
   "cell_type": "code",
   "execution_count": 36,
   "metadata": {
    "scrolled": true
   },
   "outputs": [
    {
     "name": "stdout",
     "output_type": "stream",
     "text": [
      "[2.493010e-04 2.493421e-04 2.494032e-04 2.494565e-04 ... 9.971218e-01 9.971218e-01 9.971218e-01 9.971218e-01]\n",
      "[2.60748e-06 2.60748e-06 2.60748e-06 2.60748e-06 ... 1.00000e+00 1.00000e+00 1.00000e+00 1.00000e+00]\n"
     ]
    }
   ],
   "source": [
    "print(net_results)\n",
    "print(actual_results)"
   ]
  },
  {
   "cell_type": "markdown",
   "metadata": {},
   "source": [
    "# lr=0.03 m=0.9 MSE"
   ]
  },
  {
   "cell_type": "code",
   "execution_count": 40,
   "metadata": {
    "scrolled": true
   },
   "outputs": [
    {
     "data": {
      "image/png": "[encoded data removed]",
      "text/plain": [
       "<Figure size 432x288 with 1 Axes>"
      ]
     },
     "metadata": {
      "needs_background": "light"
     },
     "output_type": "display_data"
    }
   ],
   "source": [
    "plt.plot(net_results,'b')\n",
    "plt.plot(actual_results,'orange')\n",
    "plt.show()"
   ]
  },
  {
   "cell_type": "code",
   "execution_count": 41,
   "metadata": {
    "scrolled": true
   },
   "outputs": [
    {
     "name": "stdout",
     "output_type": "stream",
     "text": [
      "[0.002268 0.002268 0.002268 0.002268 ... 0.835297 0.835298 0.835307 0.837021]\n",
      "[2.60748e-06 2.60748e-06 2.60748e-06 2.60748e-06 ... 1.00000e+00 1.00000e+00 1.00000e+00 1.00000e+00]\n"
     ]
    }
   ],
   "source": [
    "print(net_results)\n",
    "print(actual_results)"
   ]
  },
  {
   "cell_type": "markdown",
   "metadata": {},
   "source": [
    "# lr=0.01 m=0.9 MAE"
   ]
  },
  {
   "cell_type": "code",
   "execution_count": 16,
   "metadata": {
    "scrolled": true
   },
   "outputs": [
    {
     "data": {
      "image/png": "[encoded data removed]",
      "text/plain": [
       "<Figure size 432x288 with 1 Axes>"
      ]
     },
     "metadata": {
      "needs_background": "light"
     },
     "output_type": "display_data"
    }
   ],
   "source": [
    "plt.plot(net_results,'b')\n",
    "plt.plot(actual_results,'orange')\n",
    "plt.show()"
   ]
  },
  {
   "cell_type": "code",
   "execution_count": 27,
   "metadata": {
    "scrolled": true
   },
   "outputs": [
    {
     "name": "stdout",
     "output_type": "stream",
     "text": [
      "[4.443272e-04 4.443272e-04 4.443340e-04 4.443340e-04 ... 9.999745e-01 9.999745e-01 9.999745e-01 9.999745e-01]\n",
      "[2.60748e-06 2.60748e-06 2.60748e-06 2.60748e-06 ... 1.00000e+00 1.00000e+00 1.00000e+00 1.00000e+00]\n"
     ]
    }
   ],
   "source": [
    "print(net_results)\n",
    "print(actual_results)"
   ]
  },
  {
   "cell_type": "markdown",
   "metadata": {},
   "source": [
    "# Visualising $P_{MLE}$ vs $P_{LM}$ vs $P_{NN}$\n"
   ]
  },
  {
   "cell_type": "code",
   "execution_count": 14,
   "metadata": {},
   "outputs": [
    {
     "name": "stderr",
     "output_type": "stream",
     "text": [
      "100%|██████████| 4793918/4793918 [04:40<00:00, 17090.44it/s]\n"
     ]
    }
   ],
   "source": [
    "#difference = np.zeros(int(len(inputs)/10)+1)\n",
    "#MLE = np.zeros(int(len(inputs)/10)+1)\n",
    "#PLM = np.zeros(int(len(inputs)/10)+1)\n",
    "count = 0\n",
    "\n",
    "#difference = np.zeros(len(inputs))\n",
    "MLE = np.zeros(len(inputs))\n",
    "PLM = np.zeros(len(inputs))\n",
    "for x in tqdm(range(len(inputs)),position=0, leave=True):\n",
    "    #if x%10 == 1:\n",
    "    MLE[count] = inputs[x,0]/inputs[x,1]\n",
    "    PLM[count] = outputs[x]\n",
    "    #difference[count] = abs(MLE[count] - PLM[count])\n",
    "    count += 1\n",
    "\n",
    "MLE.sort()\n",
    "PLM.sort()\n",
    "#difference.sort()\n",
    "#print(MLE)\n",
    "#print(PLM)"
   ]
  },
  {
   "cell_type": "code",
   "execution_count": 25,
   "metadata": {},
   "outputs": [
    {
     "data": {
      "image/png": "[encoded data removed]",
      "text/plain": [
       "<Figure size 432x288 with 1 Axes>"
      ]
     },
     "metadata": {
      "needs_background": "light"
     },
     "output_type": "display_data"
    }
   ],
   "source": [
    "plt.plot(MLE , 'r')\n",
    "plt.plot(PLM, 'g')\n",
    "plt.plot(net_results, 'b')\n",
    "#plt.plot(scaled_results, 'blue')\n",
    "plt.show()"
   ]
  },
  {
   "cell_type": "code",
   "execution_count": null,
   "metadata": {},
   "outputs": [],
   "source": [
    "# MAE"
   ]
  },
  {
   "cell_type": "code",
   "execution_count": 28,
   "metadata": {
    "scrolled": false
   },
   "outputs": [
    {
     "data": {
      "image/png": "[encoded data removed]",
      "text/plain": [
       "<Figure size 432x288 with 1 Axes>"
      ]
     },
     "metadata": {
      "needs_background": "light"
     },
     "output_type": "display_data"
    }
   ],
   "source": [
    "plt.plot(MLE[:3000000] , 'r')\n",
    "plt.plot(PLM[:3000000], 'orange')\n",
    "plt.plot(net_results[:3000000], 'b')\n",
    "#plt.plot(scaled_results[:500000], 'blue')\n",
    "\n",
    "plt.show()"
   ]
  },
  {
   "cell_type": "code",
   "execution_count": null,
   "metadata": {},
   "outputs": [],
   "source": [
    "# MSE"
   ]
  },
  {
   "cell_type": "code",
   "execution_count": 15,
   "metadata": {
    "scrolled": false
   },
   "outputs": [
    {
     "data": {
      "image/png": "[encoded data removed]",
      "text/plain": [
       "<Figure size 432x288 with 1 Axes>"
      ]
     },
     "metadata": {
      "needs_background": "light"
     },
     "output_type": "display_data"
    }
   ],
   "source": [
    "plt.plot(MLE[3000000:5000000] , 'r')\n",
    "#plt.plot(PLM[:3000000], 'orange')\n",
    "plt.plot(net_results[3000000:5000000], 'b')\n",
    "#plt.plot(scaled_results[:500000], 'blue')\n",
    "\n",
    "plt.show()"
   ]
  },
  {
   "cell_type": "code",
   "execution_count": 22,
   "metadata": {
    "scrolled": false
   },
   "outputs": [
    {
     "data": {
      "image/png": "[encoded data removed]",
      "text/plain": [
       "<Figure size 432x288 with 1 Axes>"
      ]
     },
     "metadata": {
      "needs_background": "light"
     },
     "output_type": "display_data"
    }
   ],
   "source": [
    "plt.plot(MLE[3000000:5000000] , 'r')\n",
    "#plt.plot(PLM[:3000000], 'orange')\n",
    "plt.plot(net_results[3000000:5000000], 'b')\n",
    "#plt.plot(scaled_results[:500000], 'blue')\n",
    "\n",
    "plt.show()"
   ]
  },
  {
   "cell_type": "code",
   "execution_count": 46,
   "metadata": {},
   "outputs": [
    {
     "name": "stdout",
     "output_type": "stream",
     "text": [
      "1.469640096729563e-06\n",
      "1.469640096729563e-06\n"
     ]
    }
   ],
   "source": [
    "print(PLM[0])\n",
    "print(scaled_results[0])"
   ]
  },
  {
   "cell_type": "code",
   "execution_count": null,
   "metadata": {},
   "outputs": [],
   "source": []
  }
 ],
 "metadata": {
  "kernelspec": {
   "display_name": "Python 3",
   "language": "python",
   "name": "python3"
  },
  "language_info": {
   "codemirror_mode": {
    "name": "ipython",
    "version": 3
   },
   "file_extension": ".py",
   "mimetype": "text/x-python",
   "name": "python",
   "nbconvert_exporter": "python",
   "pygments_lexer": "ipython3",
   "version": "3.6.8"
  }
 },
 "nbformat": 4,
 "nbformat_minor": 2
}
