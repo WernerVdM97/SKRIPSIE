{
 "cells": [
  {
   "cell_type": "code",
   "execution_count": 1,
   "metadata": {},
   "outputs": [],
   "source": [
    "import pylab as pl\n",
    "import numpy as np\n",
    "import scipy as sci\n",
    "from scipy import signal\n",
    "import IPython.display\n",
    "import os\n",
    "import pandas as pd\n",
    "from tqdm import tqdm\n",
    "import librosa\n",
    "import librosa.display\n",
    "import matplotlib.pyplot as plt\n",
    "import glob"
   ]
  },
  {
   "cell_type": "code",
   "execution_count": 2,
   "metadata": {},
   "outputs": [],
   "source": [
    "def preemphasis(signal,pre_emphasis):\n",
    "    signal =np.append(signal[0], signal[1:] - pre_emphasis * signal[:-1])\n",
    "    return signal"
   ]
  },
  {
   "cell_type": "code",
   "execution_count": 3,
   "metadata": {},
   "outputs": [],
   "source": [
    "def extract_mfcc_dir(dir):\n",
    "    \"\"\"\n",
    "    Extract MFCCs for all audio files in `dir` and return a dictionary.\n",
    "\n",
    "    Each dictionary key will be the filename of the associated audio file\n",
    "    without the extension. Deltas and double deltas are also extracted.\n",
    "    \"\"\"\n",
    "    import librosa\n",
    "    feat_dict = {}\n",
    "    for wav_fn in tqdm(sorted(glob.glob(os.path.join(dir, \"*.wav\")))):\n",
    "        signal, sample_rate = librosa.core.load(wav_fn, sr=None)\n",
    "        if len(signal) == 0:\n",
    "            continue\n",
    "        ####useless vir jou#########\n",
    "        signal = preemphasis(signal, 0.97)\n",
    "        mfcc = librosa.feature.mfcc(\n",
    "            signal, sr=sample_rate, n_mfcc=13, n_mels=24,  #dct_type=3,\n",
    "            n_fft=int(np.floor(0.025*sample_rate)),\n",
    "            hop_length=int(np.floor(0.01*sample_rate)), fmin=64, fmax=sample_rate/2,\n",
    "            \n",
    "            )\n",
    "        ###########################################\n",
    "        if mfcc.shape[1] < 9:  # need at least 9 frames for deltas\n",
    "            continue\n",
    "        mfcc = mfcc[:,:100]   \n",
    "        mfcc_delta = librosa.feature.delta(mfcc)\n",
    "        mfcc_delta_delta = librosa.feature.delta(mfcc, order=2)\n",
    "        key = os.path.splitext(os.path.split(wav_fn)[-1])[0]\n",
    "        #feat_dict[key] = np.hstack(mfcc)\n",
    "        mfcc =np.hstack(mfcc.T)\n",
    "      \n",
    "        mfcc_delta=np.hstack(mfcc_delta.T)\n",
    "        mfcc_delta_delta=np.hstack(mfcc_delta_delta.T)        \n",
    "        feat_dict[key] = np.concatenate([mfcc,mfcc_delta,mfcc_delta_delta])\n",
    "       \n",
    "  \n",
    "    return feat_dict"
   ]
  },
  {
   "cell_type": "code",
   "execution_count": 4,
   "metadata": {},
   "outputs": [
    {
     "name": "stderr",
     "output_type": "stream",
     "text": [
      "100%|██████████| 873/873 [00:16<00:00, 53.31it/s]\n"
     ]
    }
   ],
   "source": [
    "os.getcwd()\n",
    "os.chdir('/home/wim/Documents/UrbanSound8k/UrbanSound8K/audio/fold1')\n",
    "fold1=extract_mfcc_dir('/home/wim/Documents/UrbanSound8k/UrbanSound8K/audio/fold1')"
   ]
  },
  {
   "cell_type": "code",
   "execution_count": 5,
   "metadata": {},
   "outputs": [],
   "source": [
    "# Fold1 is 907mb groot en dit gedoen in 16 secs"
   ]
  },
  {
   "cell_type": "code",
   "execution_count": null,
   "metadata": {},
   "outputs": [],
   "source": []
  }
 ],
 "metadata": {
  "kernelspec": {
   "display_name": "Python 3",
   "language": "python",
   "name": "python3"
  },
  "language_info": {
   "codemirror_mode": {
    "name": "ipython",
    "version": 3
   },
   "file_extension": ".py",
   "mimetype": "text/x-python",
   "name": "python",
   "nbconvert_exporter": "python",
   "pygments_lexer": "ipython3",
   "version": "3.6.8"
  }
 },
 "nbformat": 4,
 "nbformat_minor": 2
}
